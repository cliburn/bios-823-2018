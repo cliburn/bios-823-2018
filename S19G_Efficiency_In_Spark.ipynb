{
 "cells": [
  {
   "cell_type": "markdown",
   "metadata": {},
   "source": [
    "# Using Spark Efficiently\n",
    "\n",
    "Focus in this lecture is on Spark constructs that can make your programs more efficient. In general, this means minimizing the amount of data transfer across nodes, since this is usually the bottleneck for big data analysis problems.\n",
    "\n",
    "- Shared variables\n",
    "    - Accumulators\n",
    "    - Broadcast variables\n",
    "- DataFrames\n",
    "- Partitioning and the Spark shuffle\n",
    "\n",
    "Spark tuning and optimization is complicated - this tutorial only touches on some of the basic concepts.\n",
    "\n",
    "Don't forget the otehr areas of optimizaiton shown in previous notebooks:\n",
    "\n",
    "- Use DataFrmaes rather than RDDs\n",
    "- Use pyspark.sql.functions rather than a Python UDF\n",
    "- If you use a UDF, see if you can use a vectorized UDF"
   ]
  },
  {
   "cell_type": "code",
   "execution_count": 1,
   "metadata": {},
   "outputs": [
    {
     "name": "stdout",
     "output_type": "stream",
     "text": [
      "Starting Spark application\n"
     ]
    },
    {
     "data": {
      "text/html": [
       "<table>\n",
       "<tr><th>ID</th><th>YARN Application ID</th><th>Kind</th><th>State</th><th>Spark UI</th><th>Driver log</th><th>Current session?</th></tr><tr><td>149</td><td>application_1522938745830_0105</td><td>pyspark</td><td>idle</td><td><a target=\"_blank\" href=\"http://vcm-2168.oit.duke.edu:8088/proxy/application_1522938745830_0105/\">Link</a></td><td><a target=\"_blank\" href=\"http://vcm-3546.oit.duke.edu:8042/node/containerlogs/container_e19_1522938745830_0105_01_000001/user06021\">Link</a></td><td>✔</td></tr></table>"
      ],
      "text/plain": [
       "<IPython.core.display.HTML object>"
      ]
     },
     "metadata": {},
     "output_type": "display_data"
    },
    {
     "name": "stdout",
     "output_type": "stream",
     "text": [
      "SparkSession available as 'spark'.\n"
     ]
    }
   ],
   "source": [
    "%%spark"
   ]
  },
  {
   "cell_type": "code",
   "execution_count": 2,
   "metadata": {},
   "outputs": [],
   "source": [
    "import numpy as np\n",
    "import string"
   ]
  },
  {
   "cell_type": "markdown",
   "metadata": {},
   "source": [
    "Resources\n",
    "----\n",
    "\n",
    "[The Spark Programming Guide](http://spark.apache.org/docs/latest/programming-guide.html)"
   ]
  },
  {
   "cell_type": "markdown",
   "metadata": {},
   "source": [
    "## Shared variables\n",
    "\n",
    "The second abstraction in Spark are shared variabels, consisting of accumulators and broadcast variables. \n",
    "\n",
    "![broadcast](https://jaceklaskowski.gitbooks.io/mastering-apache-spark/content/images/sparkcontext-broadcast-executors.png)\n",
    "\n",
    "Source: https://jaceklaskowski.gitbooks.io/mastering-apache-spark/content/images/sparkcontext-broadcast-executors.png"
   ]
  },
  {
   "cell_type": "markdown",
   "metadata": {},
   "source": [
    "### Accumulators\n",
    "\n",
    "Spark functions such as `map` can use variables defined in the driver program, but they make local copies of the variable that are not passed back to the driver program. Accumulators are *shared variables* that allow the aggregation of results from workers back to the driver program, for example, as an event counter. Suppose we want to count the number of rows of data with missing information. The most efficient way is to use an **accumulator**."
   ]
  },
  {
   "cell_type": "code",
   "execution_count": 3,
   "metadata": {},
   "outputs": [],
   "source": [
    "ulysses = sc.textFile('/data/texts/Ulysses.txt')"
   ]
  },
  {
   "cell_type": "code",
   "execution_count": 4,
   "metadata": {},
   "outputs": [
    {
     "name": "stdout",
     "output_type": "stream",
     "text": [
      "[u'', u'The Project Gutenberg EBook of Ulysses, by James Joyce', u'', u'This eBook is for the use of anyone anywhere at no cost and with almost', u'no restrictions whatsoever. You may copy it, give it away or re-use', u'it under the terms of the Project Gutenberg License included with this', u'eBook or online at www.gutenberg.org', u'', u'', u'Title: Ulysses']"
     ]
    }
   ],
   "source": [
    "ulysses.take(10)"
   ]
  },
  {
   "cell_type": "markdown",
   "metadata": {},
   "source": [
    "#### Event counting\n",
    "\n",
    "Notice that we have some empty lines. We want to count the number of non-empty lines."
   ]
  },
  {
   "cell_type": "code",
   "execution_count": 5,
   "metadata": {},
   "outputs": [],
   "source": [
    "num_lines = sc.accumulator(0)\n",
    "\n",
    "def tokenize(line):\n",
    "    table = dict.fromkeys(map(ord, string.punctuation))\n",
    "    return line.translate(table).lower().strip().split()\n",
    "\n",
    "def tokenize_count(line):\n",
    "    global num_lines\n",
    "    \n",
    "    if line:\n",
    "        num_lines += 1\n",
    "\n",
    "    return tokenize(line)"
   ]
  },
  {
   "cell_type": "code",
   "execution_count": 6,
   "metadata": {},
   "outputs": [],
   "source": [
    "counter = ulysses.flatMap(lambda line: tokenize_count(line)).countByValue()"
   ]
  },
  {
   "cell_type": "code",
   "execution_count": 7,
   "metadata": {},
   "outputs": [
    {
     "name": "stdout",
     "output_type": "stream",
     "text": [
      "20"
     ]
    }
   ],
   "source": [
    "counter['circle']"
   ]
  },
  {
   "cell_type": "code",
   "execution_count": 8,
   "metadata": {},
   "outputs": [
    {
     "name": "stdout",
     "output_type": "stream",
     "text": [
      "25510"
     ]
    }
   ],
   "source": [
    "num_lines.value"
   ]
  },
  {
   "cell_type": "markdown",
   "metadata": {},
   "source": [
    "### Broadcast Variables\n",
    "\n",
    "Sometimes we need to send a large read only variable to all workers. For example, we might want to share a large feature matrix to all workers as a part of a machine learning application. This same variable will be sent separately for each parallel operation unless you use a **broadcast variable**. Also, the default variable passing mechanism is optimized for small variables and can be slow when the variable is large."
   ]
  },
  {
   "cell_type": "code",
   "execution_count": 9,
   "metadata": {},
   "outputs": [],
   "source": [
    "from itertools import count\n",
    "\n",
    "table = dict(zip(string.ascii_letters, count()))"
   ]
  },
  {
   "cell_type": "code",
   "execution_count": 10,
   "metadata": {},
   "outputs": [],
   "source": [
    "def weight_first(line, table):\n",
    "    words = tokenize(line)\n",
    "    return sum(table.get(word[0], 0) for word in words if word.isalpha())\n",
    "\n",
    "def weight_last(line, table):\n",
    "    words = tokenize(line)\n",
    "    return sum(table.get(word[-1], 0) for word in words if word.isalpha())"
   ]
  },
  {
   "cell_type": "markdown",
   "metadata": {},
   "source": [
    "#### The dictionary `table` is sent out twice to worker nodes, one for each call"
   ]
  },
  {
   "cell_type": "code",
   "execution_count": 11,
   "metadata": {},
   "outputs": [
    {
     "name": "stdout",
     "output_type": "stream",
     "text": [
      "2868257"
     ]
    }
   ],
   "source": [
    "ulysses.map(lambda line: weight_first(line, table)).sum()"
   ]
  },
  {
   "cell_type": "code",
   "execution_count": 12,
   "metadata": {},
   "outputs": [
    {
     "name": "stdout",
     "output_type": "stream",
     "text": [
      "2895879"
     ]
    }
   ],
   "source": [
    "ulysses.map(lambda line: weight_last(line, table)).sum()"
   ]
  },
  {
   "cell_type": "markdown",
   "metadata": {},
   "source": [
    "#### Converting to use broadast variables is simple and more efficient\n",
    "\n",
    "- Use SparkContext.broadcast() to create a broadcast variable\n",
    "- Where you would use var, use var.value\n",
    "- The broadcast variable is sent once to each node and can be re-used"
   ]
  },
  {
   "cell_type": "code",
   "execution_count": 13,
   "metadata": {},
   "outputs": [],
   "source": [
    "table_bc = sc.broadcast(table)"
   ]
  },
  {
   "cell_type": "code",
   "execution_count": 14,
   "metadata": {},
   "outputs": [],
   "source": [
    "def weight_first_bc(line, table):\n",
    "    words = tokenize(line)\n",
    "    return sum(table.value.get(word[0], 0) for word in words if word.isalpha())\n",
    "\n",
    "def weight_last_bc(line, table):\n",
    "    words = tokenize(line)\n",
    "    return sum(table.value.get(word[-1], 0) for word in words if word.isalpha())"
   ]
  },
  {
   "cell_type": "markdown",
   "metadata": {},
   "source": [
    "#### table_bc is sent to nodes only once.\n",
    "\n",
    "Although it looks like table_bc is being passed to each function, all that is passed is a path to the table. The worker checks if the path has been cached and uses the cache instead of loading from the path."
   ]
  },
  {
   "cell_type": "code",
   "execution_count": 15,
   "metadata": {},
   "outputs": [
    {
     "name": "stdout",
     "output_type": "stream",
     "text": [
      "2868257"
     ]
    }
   ],
   "source": [
    "ulysses.map(lambda line: weight_first_bc(line, table_bc)).sum()"
   ]
  },
  {
   "cell_type": "code",
   "execution_count": 16,
   "metadata": {},
   "outputs": [
    {
     "name": "stdout",
     "output_type": "stream",
     "text": [
      "2895879"
     ]
    }
   ],
   "source": [
    "ulysses.map(lambda line: weight_last_bc(line, table_bc)).sum()"
   ]
  },
  {
   "cell_type": "markdown",
   "metadata": {},
   "source": [
    "The Spark Shuffle and Partitioning\n",
    "----\n",
    "\n",
    "Some events trigger the redistribution of data across partitions, and involves the (expensive) copying of data across executors and machines. This is known as the **shuffle**. For example, if we do a `reduceByKey` operation on key-value pair RDD, Spark needs to collect all pairs with the same key in the same partition to do the reduction. \n",
    "\n",
    "For key-value RDDs, you have some control over the partitioning of the RDDs. In particular, you can ask Spark to partition a set of keys so that they are guaranteed to appear together on some node. This can minimize a lot of data transfer. For example, suppose you have a large key-value RDD consisting of user_name: comments from a web user community. Every night, you want to update with new user comments with a join operation"
   ]
  },
  {
   "cell_type": "code",
   "execution_count": 17,
   "metadata": {},
   "outputs": [],
   "source": [
    "def fake_data(n, val):\n",
    "    users = list(map(''.join, np.random.choice(list(string.ascii_lowercase), (n,2))))\n",
    "    comments = [val]*n\n",
    "    return tuple(zip(users, comments))"
   ]
  },
  {
   "cell_type": "code",
   "execution_count": 18,
   "metadata": {},
   "outputs": [
    {
     "name": "stdout",
     "output_type": "stream",
     "text": [
      "[('en', 'a'), ('mg', 'a'), ('sn', 'a'), ('ys', 'a'), ('ov', 'a'), ('xp', 'a'), ('hs', 'a'), ('xx', 'a'), ('nb', 'a'), ('te', 'a')]"
     ]
    }
   ],
   "source": [
    "data = fake_data(10000, 'a')\n",
    "list(data)[:10]"
   ]
  },
  {
   "cell_type": "code",
   "execution_count": 19,
   "metadata": {},
   "outputs": [],
   "source": [
    "rdd = sc.parallelize(data).reduceByKey(lambda x, y: x+y)"
   ]
  },
  {
   "cell_type": "code",
   "execution_count": 20,
   "metadata": {},
   "outputs": [
    {
     "name": "stdout",
     "output_type": "stream",
     "text": [
      "[('bj', 'b'), ('jb', 'b'), ('ue', 'b'), ('oy', 'b'), ('pe', 'b'), ('zt', 'b'), ('jn', 'b'), ('mn', 'b'), ('ph', 'b'), ('zo', 'b')]"
     ]
    }
   ],
   "source": [
    "new_data = fake_data(1000,  'b')\n",
    "list(new_data)[:10]"
   ]
  },
  {
   "cell_type": "code",
   "execution_count": 21,
   "metadata": {},
   "outputs": [],
   "source": [
    "rdd_new = sc.parallelize(new_data).reduceByKey(lambda x, y: x+y).cache()"
   ]
  },
  {
   "cell_type": "code",
   "execution_count": 22,
   "metadata": {},
   "outputs": [],
   "source": [
    "rdd_updated = rdd.join(rdd_new)"
   ]
  },
  {
   "cell_type": "code",
   "execution_count": 23,
   "metadata": {},
   "outputs": [
    {
     "name": "stdout",
     "output_type": "stream",
     "text": [
      "[('gs', ('aaaaaaaaaaaaa', 'bbbbb')), ('gg', ('aaaaaaaaaaaaaaa', 'bb')), ('yq', ('aaaaaaaa', 'bb')), ('gc', ('aaaaaaaaaaaaaaaaaa', 'b')), ('go', ('aaaaaaaaaaaaaaa', 'b')), ('gk', ('aaaaaaaaaaaaa', 'b')), ('lf', ('aaaaaaaaaaaaaaaa', 'bb')), ('iq', ('aaaaaaaaaaaaaaaaa', 'bbb')), ('ln', ('aaaaaaaaaaaaaaaaa', 'bb')), ('dr', ('aaaaaaaaaaaaa', 'b'))]"
     ]
    }
   ],
   "source": [
    "rdd_updated.take(10)"
   ]
  },
  {
   "cell_type": "markdown",
   "metadata": {
    "collapsed": true
   },
   "source": [
    "### Using `partitionBy`\n",
    "\n",
    "The `join` operation will hash all the keys of both `rdd` and `rdd_nerw`, sending keys with the same hashes to the same node for the actual join operation. There is a lot of unnecessary data transfer. Since `rdd` is a much larger data set than `rdd_new`, we can instead fix the partitioning of `rdd` and just transfer the keys of `rdd_new`. This is done by `rdd.partitionBy(numPartitions)` where `numPartitions` should be at least twice the number of cores.\n",
    "\n",
    "From the R docs for `partitionBy`\n",
    "```\n",
    "This function operates on RDDs where every element is of the form list(K, V) or c(K, V). For each element of this RDD, the partitioner is used to compute a hash function and the RDD is partitioned using this hash value.\n",
    "```\n",
    "\n",
    "In other words, which parittion a data element is sent to depends on the key value."
   ]
  },
  {
   "cell_type": "code",
   "execution_count": 24,
   "metadata": {},
   "outputs": [
    {
     "name": "stdout",
     "output_type": "stream",
     "text": [
      "[(4, 4), (4, 4)]\n",
      "[(1, 1), (1, 1)]\n",
      "[(2, 2), (2, 2)]\n",
      "[(3, 3)]"
     ]
    }
   ],
   "source": [
    "rdd_A = sc.parallelize([1, 2, 3, 4, 2, 4, 1]).map(lambda x: (x, x))\n",
    "for item in rdd_A.partitionBy(4).glom().collect():\n",
    "    print(item)"
   ]
  },
  {
   "cell_type": "code",
   "execution_count": 25,
   "metadata": {},
   "outputs": [],
   "source": [
    "rdd_B = sc.parallelize([(4,'a'), (1,'b'), (2, 'c'), (3, 'd'), (4,'e'), (1, 'f')])"
   ]
  },
  {
   "cell_type": "code",
   "execution_count": 26,
   "metadata": {},
   "outputs": [
    {
     "name": "stdout",
     "output_type": "stream",
     "text": [
      "[(4, 'a')]\n",
      "[(1, 'b'), (2, 'c')]\n",
      "[(3, 'd')]\n",
      "[(4, 'e'), (1, 'f')]"
     ]
    }
   ],
   "source": [
    "for item in rdd_B.glom().collect():\n",
    "    print(item)"
   ]
  },
  {
   "cell_type": "code",
   "execution_count": 27,
   "metadata": {},
   "outputs": [],
   "source": [
    "rdd_comb = rdd_A.join(rdd_B).glom()"
   ]
  },
  {
   "cell_type": "markdown",
   "metadata": {},
   "source": [
    "**Note**: See how all the items from `rdd_B` have been transferred to the partitions created by `rdd_A`, but the items from `rdd_A` have not moved. If `rdd_A` is much larger than `rdd_B` then this minimizes the amount of data transfer."
   ]
  },
  {
   "cell_type": "code",
   "execution_count": 28,
   "metadata": {},
   "outputs": [
    {
     "name": "stdout",
     "output_type": "stream",
     "text": [
      "[]\n",
      "[(1, (1, 'f')), (1, (1, 'b')), (1, (1, 'f')), (1, (1, 'b'))]\n",
      "[(2, (2, 'c')), (2, (2, 'c'))]\n",
      "[(3, (3, 'd'))]\n",
      "[(4, (4, 'a')), (4, (4, 'e')), (4, (4, 'a')), (4, (4, 'e'))]\n",
      "[]\n",
      "[]\n",
      "[]"
     ]
    }
   ],
   "source": [
    "for item in rdd_comb.collect():\n",
    "    print(item)"
   ]
  },
  {
   "cell_type": "markdown",
   "metadata": {},
   "source": [
    "Applyin to our word counts"
   ]
  },
  {
   "cell_type": "code",
   "execution_count": 29,
   "metadata": {},
   "outputs": [],
   "source": [
    "rdd2 = sc.parallelize(data).reduceByKey(lambda x, y: x+y)\n",
    "rdd2 = rdd2.partitionBy(10).cache()"
   ]
  },
  {
   "cell_type": "code",
   "execution_count": 30,
   "metadata": {},
   "outputs": [],
   "source": [
    "rdd2_updated = rdd2.join(rdd_new)"
   ]
  },
  {
   "cell_type": "code",
   "execution_count": 31,
   "metadata": {},
   "outputs": [
    {
     "name": "stdout",
     "output_type": "stream",
     "text": [
      "[('zn', ('aaaaaaaaa', 'bb')), ('cm', ('aaaaaaaaaaaaa', 'b')), ('vh', ('aaaaaaaaaaaaaaaaaaaa', 'b')), ('eg', ('aaaaaaaaaaaaaaa', 'bbb')), ('xf', ('aaaaaaaaaa', 'b')), ('gy', ('aaaaaa', 'bbbb')), ('aq', ('aaaaaaaaaaaaaaaaa', 'b')), ('ik', ('aaaaaaaaaaaaaaaaaaaaaaa', 'b')), ('vv', ('aaaaaaaaa', 'b')), ('eu', ('aaaaaaaaaa', 'b'))]"
     ]
    }
   ],
   "source": [
    "rdd2_updated.take(10)"
   ]
  },
  {
   "cell_type": "code",
   "execution_count": 32,
   "metadata": {},
   "outputs": [],
   "source": [
    "spark.stop()"
   ]
  }
 ],
 "metadata": {
  "kernelspec": {
   "display_name": "PySpark",
   "language": "",
   "name": "pysparkkernel"
  },
  "language_info": {
   "codemirror_mode": {
    "name": "python",
    "version": 2
   },
   "mimetype": "text/x-python",
   "name": "pyspark",
   "pygments_lexer": "python2"
  }
 },
 "nbformat": 4,
 "nbformat_minor": 1
}
