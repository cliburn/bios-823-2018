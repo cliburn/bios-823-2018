{
 "cells": [
  {
   "cell_type": "markdown",
   "metadata": {},
   "source": [
    "# Text Analysis\n",
    "\n",
    "We will explore exploratory data analysis and supervised learning for free text in this lecture. In the next lecture, we will look at unsupervised learning and topic models.\n",
    "\n",
    "Along the way, we will use the packages\n",
    "\n",
    "- [`sklearn`](http://scikit-learn.org/stable/)\n",
    "- [`wordcloud`](https://github.com/amueller/word_cloud)\n",
    "- [`nltk`](https://www.nltk.org)\n",
    "- [`gensim`](https://radimrehurek.com/gensim/)\n",
    "\n",
    "Other packages useful for text analysis include\n",
    "\n",
    "- [`spaCy`](https://spacy.io)\n",
    "- [`fasttext`](https://fasttext.cc/)\n",
    "\n",
    "and many, many others."
   ]
  },
  {
   "cell_type": "markdown",
   "metadata": {},
   "source": [
    "## Exploratory data analysis"
   ]
  },
  {
   "cell_type": "markdown",
   "metadata": {},
   "source": [
    "### Corpus\n",
    "\n",
    "A corpus is a collection of text documents. There are many ways to create a corpus, and they may come from documents, scraped web pages, Twitter streams, speech translation and so on. The first step in any text analysis application is nearly always to create an application-specific corpus. This is important, because the language patterns in different domains are often very different (e.g. contrast medical records with legal documents with Twitter streams). "
   ]
  },
  {
   "cell_type": "code",
   "execution_count": 1,
   "metadata": {},
   "outputs": [],
   "source": [
    "%matplotlib inline\n",
    "import matplotlib.pyplot as plt\n",
    "import seaborn as sns\n",
    "sns.set_context('notebook', font_scale=1.5)"
   ]
  },
  {
   "cell_type": "code",
   "execution_count": 2,
   "metadata": {},
   "outputs": [],
   "source": [
    "import numpy as np\n",
    "import pandas as pd"
   ]
  },
  {
   "cell_type": "code",
   "execution_count": 3,
   "metadata": {},
   "outputs": [],
   "source": [
    "import nltk\n",
    "from nltk.stem import SnowballStemmer, WordNetLemmatizer\n",
    "from nltk.collocations import QuadgramCollocationFinder, TrigramCollocationFinder\n",
    "from nltk.metrics.association import QuadgramAssocMeasures, TrigramAssocMeasures\n",
    "import string"
   ]
  },
  {
   "cell_type": "markdown",
   "metadata": {},
   "source": [
    "#### Toy corpus\n",
    "\n",
    "We see how a small corpus with two documents is broken down into smaller pieces \n",
    "\n",
    "document $\\to$ paragraph $\\to$ sentences $\\to$ tokens\n",
    "\n",
    "Although this explicit decomposition may not be necessary in all applications, it is still useful to be aware of these units:\n",
    "\n",
    "- A paragraph contains an *idea*\n",
    "- A sentence is a unit of syntax\n",
    "- A token (word or punctuation) is the smallest meaningful unit"
   ]
  },
  {
   "cell_type": "code",
   "execution_count": 4,
   "metadata": {},
   "outputs": [],
   "source": [
    "docs = [\n",
    "    '''Spicy jalapeno bacon ipsum dolor amet aute prosciutto velit corned beef consectetur. Aute kielbasa adipisicing, nostrud drumstick ipsum tail pig capicola burgdoggen corned beef. Dolor proident salami deserunt. Venison capicola pork belly bacon aliquip swine incididunt sint quis cupidatat pork chop et turducken nulla beef. Ground round kielbasa tri-tip consectetur, t-bone pariatur deserunt id ut adipisicing.\n",
    "\n",
    "Strip steak meatball chuck aute, pork loin turkey pork commodo et officia. Rump enim spare ribs, prosciutto chuck deserunt tail. Aute pork lorem sausage. Nostrud dolore kevin proident pork chop do in. Exercitation shoulder dolore kevin ut, sausage ullamco frankfurter ham hock. Ground round fatback ribeye turkey tri-tip capicola.''',\n",
    "    '''Burgdoggen id ham hock ut kielbasa. Eu pork chop anim picanha sed porchetta dolor consequat drumstick shankle proident pork andouille. Et cupim burgdoggen, officia lorem shank ut sed drumstick shankle salami ad ball tip dolore pig. Shankle turkey officia, reprehenderit bacon ipsum ullamco enim tail tongue. Brisket short ribs biltong jerky flank, venison filet mignon tenderloin culpa bacon meatball short loin commodo. Leberkas jowl prosciutto, et kielbasa pancetta chicken. Nisi minim sausage porchetta jowl.\n",
    "\n",
    "Beef ribs pariatur pork chop dolore ex, consequat turducken frankfurter esse filet mignon lorem bacon. Elit dolore porchetta meatball ea, pork loin pork anim non sirloin. Aliquip tenderloin reprehenderit pariatur, leberkas alcatra short loin. Fugiat elit meatloaf, nulla cow in sausage. Doner consequat shankle salami est, boudin deserunt. Drumstick ham lorem reprehenderit.\n",
    "\n",
    "Beef adipisicing nisi rump filet mignon cillum leberkas boudin tail picanha pork loin. Culpa picanha ground round in laborum spare ribs. Burgdoggen leberkas landjaeger adipisicing strip steak velit doner eu ground round meatloaf consectetur deserunt anim ball tip cow. Porchetta ad minim eiusmod labore eu nisi boudin laboris officia jowl deserunt strip steak. Shank aliquip beef ribs tri-tip ipsum flank. Turducken elit meatloaf aliqua corned beef sirloin irure. Tongue cupim ullamco in sint prosciutto.'''\n",
    "]"
   ]
  },
  {
   "cell_type": "markdown",
   "metadata": {},
   "source": [
    "##### Documents"
   ]
  },
  {
   "cell_type": "code",
   "execution_count": 5,
   "metadata": {},
   "outputs": [
    {
     "data": {
      "text/plain": [
       "['Spicy jalapeno bacon ipsum dolor amet aute prosciutto velit corned beef consectetur. Aute kielbasa adipisicing, nostrud drumstick ipsum tail pig capicola burgdoggen corned beef. Dolor proident salami deserunt. Venison capicola pork belly bacon aliquip swine incididunt sint quis cupidatat pork chop et turducken nulla beef. Ground round kielbasa tri-tip consectetur, t-bone pariatur deserunt id ut adipisicing.\\n\\nStrip steak meatball chuck aute, pork loin turkey pork commodo et officia. Rump enim spare ribs, prosciutto chuck deserunt tail. Aute pork lorem sausage. Nostrud dolore kevin proident pork chop do in. Exercitation shoulder dolore kevin ut, sausage ullamco frankfurter ham hock. Ground round fatback ribeye turkey tri-tip capicola.',\n",
       " 'Burgdoggen id ham hock ut kielbasa. Eu pork chop anim picanha sed porchetta dolor consequat drumstick shankle proident pork andouille. Et cupim burgdoggen, officia lorem shank ut sed drumstick shankle salami ad ball tip dolore pig. Shankle turkey officia, reprehenderit bacon ipsum ullamco enim tail tongue. Brisket short ribs biltong jerky flank, venison filet mignon tenderloin culpa bacon meatball short loin commodo. Leberkas jowl prosciutto, et kielbasa pancetta chicken. Nisi minim sausage porchetta jowl.\\n\\nBeef ribs pariatur pork chop dolore ex, consequat turducken frankfurter esse filet mignon lorem bacon. Elit dolore porchetta meatball ea, pork loin pork anim non sirloin. Aliquip tenderloin reprehenderit pariatur, leberkas alcatra short loin. Fugiat elit meatloaf, nulla cow in sausage. Doner consequat shankle salami est, boudin deserunt. Drumstick ham lorem reprehenderit.\\n\\nBeef adipisicing nisi rump filet mignon cillum leberkas boudin tail picanha pork loin. Culpa picanha ground round in laborum spare ribs. Burgdoggen leberkas landjaeger adipisicing strip steak velit doner eu ground round meatloaf consectetur deserunt anim ball tip cow. Porchetta ad minim eiusmod labore eu nisi boudin laboris officia jowl deserunt strip steak. Shank aliquip beef ribs tri-tip ipsum flank. Turducken elit meatloaf aliqua corned beef sirloin irure. Tongue cupim ullamco in sint prosciutto.']"
      ]
     },
     "execution_count": 5,
     "metadata": {},
     "output_type": "execute_result"
    }
   ],
   "source": [
    "docs"
   ]
  },
  {
   "cell_type": "code",
   "execution_count": 6,
   "metadata": {},
   "outputs": [],
   "source": [
    "from itertools import chain"
   ]
  },
  {
   "cell_type": "code",
   "execution_count": 7,
   "metadata": {},
   "outputs": [],
   "source": [
    "def flatten(listOfLists):\n",
    "    return list(chain.from_iterable(listOfLists))"
   ]
  },
  {
   "cell_type": "markdown",
   "metadata": {},
   "source": [
    "#### Paragraphs"
   ]
  },
  {
   "cell_type": "code",
   "execution_count": 8,
   "metadata": {},
   "outputs": [],
   "source": [
    "paras = flatten([doc.split('\\n\\n') for doc in docs])"
   ]
  },
  {
   "cell_type": "code",
   "execution_count": 9,
   "metadata": {},
   "outputs": [
    {
     "data": {
      "text/plain": [
       "['Spicy jalapeno bacon ipsum dolor amet aute prosciutto velit corned beef consectetur. Aute kielbasa adipisicing, nostrud drumstick ipsum tail pig capicola burgdoggen corned beef. Dolor proident salami deserunt. Venison capicola pork belly bacon aliquip swine incididunt sint quis cupidatat pork chop et turducken nulla beef. Ground round kielbasa tri-tip consectetur, t-bone pariatur deserunt id ut adipisicing.',\n",
       " 'Strip steak meatball chuck aute, pork loin turkey pork commodo et officia. Rump enim spare ribs, prosciutto chuck deserunt tail. Aute pork lorem sausage. Nostrud dolore kevin proident pork chop do in. Exercitation shoulder dolore kevin ut, sausage ullamco frankfurter ham hock. Ground round fatback ribeye turkey tri-tip capicola.',\n",
       " 'Burgdoggen id ham hock ut kielbasa. Eu pork chop anim picanha sed porchetta dolor consequat drumstick shankle proident pork andouille. Et cupim burgdoggen, officia lorem shank ut sed drumstick shankle salami ad ball tip dolore pig. Shankle turkey officia, reprehenderit bacon ipsum ullamco enim tail tongue. Brisket short ribs biltong jerky flank, venison filet mignon tenderloin culpa bacon meatball short loin commodo. Leberkas jowl prosciutto, et kielbasa pancetta chicken. Nisi minim sausage porchetta jowl.']"
      ]
     },
     "execution_count": 9,
     "metadata": {},
     "output_type": "execute_result"
    }
   ],
   "source": [
    "paras[:3]"
   ]
  },
  {
   "cell_type": "markdown",
   "metadata": {},
   "source": [
    "##### Sentences"
   ]
  },
  {
   "cell_type": "code",
   "execution_count": 10,
   "metadata": {},
   "outputs": [],
   "source": [
    "sentences = flatten([nltk.tokenize.sent_tokenize(para) for para in paras])"
   ]
  },
  {
   "cell_type": "code",
   "execution_count": 11,
   "metadata": {},
   "outputs": [
    {
     "data": {
      "text/plain": [
       "['Spicy jalapeno bacon ipsum dolor amet aute prosciutto velit corned beef consectetur.',\n",
       " 'Aute kielbasa adipisicing, nostrud drumstick ipsum tail pig capicola burgdoggen corned beef.',\n",
       " 'Dolor proident salami deserunt.',\n",
       " 'Venison capicola pork belly bacon aliquip swine incididunt sint quis cupidatat pork chop et turducken nulla beef.',\n",
       " 'Ground round kielbasa tri-tip consectetur, t-bone pariatur deserunt id ut adipisicing.',\n",
       " 'Strip steak meatball chuck aute, pork loin turkey pork commodo et officia.',\n",
       " 'Rump enim spare ribs, prosciutto chuck deserunt tail.',\n",
       " 'Aute pork lorem sausage.',\n",
       " 'Nostrud dolore kevin proident pork chop do in.',\n",
       " 'Exercitation shoulder dolore kevin ut, sausage ullamco frankfurter ham hock.']"
      ]
     },
     "execution_count": 11,
     "metadata": {},
     "output_type": "execute_result"
    }
   ],
   "source": [
    "sentences[:10]"
   ]
  },
  {
   "cell_type": "code",
   "execution_count": 12,
   "metadata": {},
   "outputs": [],
   "source": [
    "tokens = flatten([nltk.tokenize.word_tokenize(sentence) for sentence in sentences])"
   ]
  },
  {
   "cell_type": "code",
   "execution_count": 13,
   "metadata": {},
   "outputs": [
    {
     "data": {
      "text/plain": [
       "['Spicy',\n",
       " 'jalapeno',\n",
       " 'bacon',\n",
       " 'ipsum',\n",
       " 'dolor',\n",
       " 'amet',\n",
       " 'aute',\n",
       " 'prosciutto',\n",
       " 'velit',\n",
       " 'corned']"
      ]
     },
     "execution_count": 13,
     "metadata": {},
     "output_type": "execute_result"
    }
   ],
   "source": [
    "tokens[:10]"
   ]
  },
  {
   "cell_type": "markdown",
   "metadata": {},
   "source": [
    "### Exploratory analysis of the  `newsgroup` corpus"
   ]
  },
  {
   "cell_type": "code",
   "execution_count": 14,
   "metadata": {},
   "outputs": [],
   "source": [
    "from sklearn.datasets import fetch_20newsgroups"
   ]
  },
  {
   "cell_type": "markdown",
   "metadata": {},
   "source": [
    "For convenience, we will use an existing corpus - the 20 newsgroups dataset that comprises around 18000 newsgroups posts on 20 topics. The 20 topics are\n",
    "\n",
    "```\n",
    "['alt.atheism',\n",
    " 'comp.graphics',\n",
    " 'comp.os.ms-windows.misc',\n",
    " 'comp.sys.ibm.pc.hardware',\n",
    " 'comp.sys.mac.hardware',\n",
    " 'comp.windows.x',\n",
    " 'misc.forsale',\n",
    " 'rec.autos',\n",
    " 'rec.motorcycles',\n",
    " 'rec.sport.baseball',\n",
    " 'rec.sport.hockey',\n",
    " 'sci.crypt',\n",
    " 'sci.electronics',\n",
    " 'sci.med',\n",
    " 'sci.space',\n",
    " 'soc.religion.christian',\n",
    " 'talk.politics.guns',\n",
    " 'talk.politics.mideast',\n",
    " 'talk.politics.misc',\n",
    " 'talk.religion.misc']\n",
    "```"
   ]
  },
  {
   "cell_type": "code",
   "execution_count": 15,
   "metadata": {},
   "outputs": [],
   "source": [
    "newsgroups_train = fetch_20newsgroups(\n",
    "    subset='train',\n",
    "    categories=('rec.sport.baseball', \n",
    "                'rec.sport.hockey',\n",
    "                'sci.med',\n",
    "                'sci.space'),\n",
    "    \n",
    "    remove=('headers', 'footers', 'quotes'))"
   ]
  },
  {
   "cell_type": "code",
   "execution_count": 16,
   "metadata": {},
   "outputs": [
    {
     "data": {
      "text/plain": [
       "dict_keys(['data', 'filenames', 'target_names', 'target', 'DESCR', 'description'])"
      ]
     },
     "execution_count": 16,
     "metadata": {},
     "output_type": "execute_result"
    }
   ],
   "source": [
    "newsgroups_train.keys()"
   ]
  },
  {
   "cell_type": "code",
   "execution_count": 17,
   "metadata": {},
   "outputs": [
    {
     "data": {
      "text/plain": [
       "'the 20 newsgroups by date dataset'"
      ]
     },
     "execution_count": 17,
     "metadata": {},
     "output_type": "execute_result"
    }
   ],
   "source": [
    "newsgroups_train.description"
   ]
  },
  {
   "cell_type": "code",
   "execution_count": 18,
   "metadata": {},
   "outputs": [
    {
     "data": {
      "text/plain": [
       "(2384,)"
      ]
     },
     "execution_count": 18,
     "metadata": {},
     "output_type": "execute_result"
    }
   ],
   "source": [
    "newsgroups_train.filenames.shape"
   ]
  },
  {
   "cell_type": "code",
   "execution_count": 19,
   "metadata": {},
   "outputs": [
    {
     "data": {
      "text/plain": [
       "(2384,)"
      ]
     },
     "execution_count": 19,
     "metadata": {},
     "output_type": "execute_result"
    }
   ],
   "source": [
    "newsgroups_train.target.shape"
   ]
  },
  {
   "cell_type": "code",
   "execution_count": 20,
   "metadata": {},
   "outputs": [
    {
     "data": {
      "text/plain": [
       "['rec.sport.baseball', 'rec.sport.hockey', 'sci.med', 'sci.space']"
      ]
     },
     "execution_count": 20,
     "metadata": {},
     "output_type": "execute_result"
    }
   ],
   "source": [
    "newsgroups_train.target_names"
   ]
  },
  {
   "cell_type": "code",
   "execution_count": 21,
   "metadata": {},
   "outputs": [
    {
     "data": {
      "text/plain": [
       "'\\nA freeze dried Tootsie Roll (tm).  The actual taste sensation was like nothing\\nyou will ever willingly experience.  The amazing thing was that we ate a second\\none, and a third and ....\\n\\nI doubt that they actually flew on missions, as I\\'m certain they did \"bad\\nthings\" to the gastrointestinal tract.  Compared to Space Food Sticks, Tang was\\na gastronomic contribution to mankind.\\n--\\nDillon Pyron                      | The opinions expressed are those of the\\nTI/DSEG Lewisville VAX Support    | sender unless otherwise stated.\\n(214)462-3556 (when I\\'m here)     |\\n(214)492-4656 (when I\\'m home)     |God gave us weather so we wouldn\\'t complain\\npyron@skndiv.dseg.ti.com          |about other things.\\nPADI DM-54909                     |'"
      ]
     },
     "execution_count": 21,
     "metadata": {},
     "output_type": "execute_result"
    }
   ],
   "source": [
    "newsgroups_train.data[0]"
   ]
  },
  {
   "cell_type": "markdown",
   "metadata": {},
   "source": [
    "### Getting word counts"
   ]
  },
  {
   "cell_type": "code",
   "execution_count": 22,
   "metadata": {},
   "outputs": [],
   "source": [
    "from sklearn.feature_extraction.text import (\n",
    "    HashingVectorizer,\n",
    "    TfidfVectorizer, \n",
    "    CountVectorizer, \n",
    ")"
   ]
  },
  {
   "cell_type": "code",
   "execution_count": 23,
   "metadata": {},
   "outputs": [],
   "source": [
    "vectorizer = CountVectorizer()"
   ]
  },
  {
   "cell_type": "code",
   "execution_count": 24,
   "metadata": {},
   "outputs": [],
   "source": [
    "idx = np.nonzero(\n",
    "    newsgroups_train.target == \n",
    "    newsgroups_train.target_names.index('rec.sport.baseball')\n",
    ")[0]\n",
    "baseball_sample = [newsgroups_train.data[i] for i in idx]"
   ]
  },
  {
   "cell_type": "code",
   "execution_count": 25,
   "metadata": {},
   "outputs": [],
   "source": [
    "X = vectorizer.fit_transform(baseball_sample)"
   ]
  },
  {
   "cell_type": "code",
   "execution_count": 26,
   "metadata": {},
   "outputs": [],
   "source": [
    "vocab = vectorizer.get_feature_names()"
   ]
  },
  {
   "cell_type": "code",
   "execution_count": 27,
   "metadata": {},
   "outputs": [],
   "source": [
    "rownames = [':'.join(filename.split('/')[-2:]) \n",
    "            for filename in newsgroups_train.filenames[idx]]\n",
    "df = pd.SparseDataFrame(X, columns=vocab, index=rownames)"
   ]
  },
  {
   "cell_type": "code",
   "execution_count": 28,
   "metadata": {},
   "outputs": [],
   "source": [
    "freqs = df.sum(axis=0).astype('int')"
   ]
  },
  {
   "cell_type": "code",
   "execution_count": 29,
   "metadata": {},
   "outputs": [
    {
     "data": {
      "text/plain": [
       "the     3508\n",
       "to      1481\n",
       "and     1312\n",
       "of      1142\n",
       "in      1114\n",
       "that     882\n",
       "is       842\n",
       "he       738\n",
       "for      580\n",
       "it       543\n",
       "dtype: int64"
      ]
     },
     "execution_count": 29,
     "metadata": {},
     "output_type": "execute_result"
    }
   ],
   "source": [
    "freqs.nlargest(10)"
   ]
  },
  {
   "cell_type": "markdown",
   "metadata": {},
   "source": [
    "### Distribution of word counts"
   ]
  },
  {
   "cell_type": "code",
   "execution_count": 30,
   "metadata": {},
   "outputs": [
    {
     "data": {
      "image/png": "[encoded data removed]",
      "text/plain": [
       "<Figure size 432x288 with 1 Axes>"
      ]
     },
     "metadata": {},
     "output_type": "display_data"
    }
   ],
   "source": [
    "sns.distplot(freqs, kde=False)\n",
    "pass"
   ]
  },
  {
   "cell_type": "markdown",
   "metadata": {},
   "source": [
    "### Zipf's law\n",
    "\n",
    "The number of words that occur with frequency $f$ is a random variable with a power law distribution\n",
    "\n",
    "$$\n",
    "p(f) = \\alpha f^{1-1/s}\n",
    "$$\n",
    "\n",
    "Random variables that follow a power law distribution look linear on a log-log plot."
   ]
  },
  {
   "cell_type": "code",
   "execution_count": 31,
   "metadata": {},
   "outputs": [
    {
     "data": {
      "image/png": "[encoded data removed]",
      "text/plain": [
       "<Figure size 432x288 with 1 Axes>"
      ]
     },
     "metadata": {},
     "output_type": "display_data"
    }
   ],
   "source": [
    "xs = freqs.sort_values(ascending=False).reset_index(drop=True, )\n",
    "plt.loglog(xs.index + 1, xs)\n",
    "plt.xlabel('Log(Rank)')\n",
    "plt.ylabel('Log(Frequency)')\n",
    "plt.title(\"Zipf's law\")\n",
    "pass"
   ]
  },
  {
   "cell_type": "markdown",
   "metadata": {},
   "source": [
    "### Stop words, lemmatization and stemming\n",
    "\n",
    "We can try to reduce the number of tokens using the simple strategies of stop words, stemming and lemmatization."
   ]
  },
  {
   "cell_type": "markdown",
   "metadata": {},
   "source": [
    "#### Stop words\n",
    "\n",
    "The most common words are not very informative, and we may wish to remove them. There are other ways to handle this (e.g. with TF-IDF vectorizers) but we will simply use stop words for this section."
   ]
  },
  {
   "cell_type": "code",
   "execution_count": 32,
   "metadata": {},
   "outputs": [],
   "source": [
    "vectorizer = CountVectorizer(stop_words='english')"
   ]
  },
  {
   "cell_type": "code",
   "execution_count": 33,
   "metadata": {},
   "outputs": [],
   "source": [
    "idx = np.nonzero(\n",
    "    newsgroups_train.target == \n",
    "    newsgroups_train.target_names.index('rec.sport.baseball')\n",
    ")[0]\n",
    "baseball_sample = [newsgroups_train.data[i] for i in idx]"
   ]
  },
  {
   "cell_type": "code",
   "execution_count": 34,
   "metadata": {},
   "outputs": [],
   "source": [
    "X = vectorizer.fit_transform(baseball_sample)"
   ]
  },
  {
   "cell_type": "code",
   "execution_count": 35,
   "metadata": {},
   "outputs": [],
   "source": [
    "vocab = vectorizer.get_feature_names()"
   ]
  },
  {
   "cell_type": "code",
   "execution_count": 36,
   "metadata": {},
   "outputs": [],
   "source": [
    "rownames = [':'.join(filename.split('/')[-2:]) \n",
    "            for filename in newsgroups_train.filenames[idx]]\n",
    "df = pd.SparseDataFrame(X, columns=vocab, index=rownames)"
   ]
  },
  {
   "cell_type": "code",
   "execution_count": 37,
   "metadata": {},
   "outputs": [],
   "source": [
    "freqs = df.sum(axis=0).astype('int')"
   ]
  },
  {
   "cell_type": "markdown",
   "metadata": {},
   "source": [
    "We will also drop numbers."
   ]
  },
  {
   "cell_type": "code",
   "execution_count": 38,
   "metadata": {},
   "outputs": [],
   "source": [
    "freqs = freqs[~freqs.index.str.isnumeric()]"
   ]
  },
  {
   "cell_type": "markdown",
   "metadata": {},
   "source": [
    "Now the most common words are more informative."
   ]
  },
  {
   "cell_type": "code",
   "execution_count": 39,
   "metadata": {},
   "outputs": [
    {
     "data": {
      "text/plain": [
       "year        310\n",
       "game        204\n",
       "good        200\n",
       "team        195\n",
       "think       189\n",
       "don         186\n",
       "just        161\n",
       "like        153\n",
       "games       149\n",
       "better      140\n",
       "baseball    137\n",
       "hit         137\n",
       "runs        137\n",
       "players     135\n",
       "time        131\n",
       "dtype: int64"
      ]
     },
     "execution_count": 39,
     "metadata": {},
     "output_type": "execute_result"
    }
   ],
   "source": [
    "freqs.nlargest(15)"
   ]
  },
  {
   "cell_type": "markdown",
   "metadata": {},
   "source": [
    "#### Stemming\n",
    "\n",
    "Stemming is the attempt to identify the common roots of words using prefix and suffix rules."
   ]
  },
  {
   "cell_type": "code",
   "execution_count": 40,
   "metadata": {},
   "outputs": [],
   "source": [
    "def tokenize(text):\n",
    "    stem = SnowballStemmer('english')\n",
    "    text = text.lower()\n",
    "    \n",
    "    for token in nltk.word_tokenize(text):\n",
    "        if token in string.punctuation:\n",
    "            continue\n",
    "        yield stem.stem(token)"
   ]
  },
  {
   "cell_type": "code",
   "execution_count": 41,
   "metadata": {},
   "outputs": [],
   "source": [
    "text = '''circle circles circular circularity \n",
    "circumference circumscribe circumstantial\n",
    "infer inference inferences inferential'''"
   ]
  },
  {
   "cell_type": "code",
   "execution_count": 42,
   "metadata": {},
   "outputs": [
    {
     "data": {
      "text/plain": [
       "['circl',\n",
       " 'circl',\n",
       " 'circular',\n",
       " 'circular',\n",
       " 'circumfer',\n",
       " 'circumscrib',\n",
       " 'circumstanti',\n",
       " 'infer',\n",
       " 'infer',\n",
       " 'infer',\n",
       " 'inferenti']"
      ]
     },
     "execution_count": 42,
     "metadata": {},
     "output_type": "execute_result"
    }
   ],
   "source": [
    "list(tokenize(text))"
   ]
  },
  {
   "cell_type": "markdown",
   "metadata": {},
   "source": [
    "#### Lemmatization\n",
    "\n",
    "Lemmatization also attempts to identify the common roots of words, but uses dictionary lookup to do so. Lemmatization often gives better results than stemming, but is slower."
   ]
  },
  {
   "cell_type": "code",
   "execution_count": 43,
   "metadata": {},
   "outputs": [],
   "source": [
    "def tokenize(text):\n",
    "    lem = WordNetLemmatizer()\n",
    "    text = text.lower()\n",
    "    \n",
    "    for token in nltk.word_tokenize(text):\n",
    "        if token in string.punctuation:\n",
    "            continue\n",
    "        yield lem.lemmatize(token)"
   ]
  },
  {
   "cell_type": "code",
   "execution_count": 44,
   "metadata": {},
   "outputs": [
    {
     "data": {
      "text/plain": [
       "['circle',\n",
       " 'circle',\n",
       " 'circular',\n",
       " 'circularity',\n",
       " 'circumference',\n",
       " 'circumscribe',\n",
       " 'circumstantial',\n",
       " 'infer',\n",
       " 'inference',\n",
       " 'inference',\n",
       " 'inferential']"
      ]
     },
     "execution_count": 44,
     "metadata": {},
     "output_type": "execute_result"
    }
   ],
   "source": [
    "list(tokenize(text))"
   ]
  },
  {
   "cell_type": "markdown",
   "metadata": {},
   "source": [
    "### Word cloud"
   ]
  },
  {
   "cell_type": "code",
   "execution_count": 45,
   "metadata": {},
   "outputs": [],
   "source": [
    "from wordcloud import WordCloud"
   ]
  },
  {
   "cell_type": "code",
   "execution_count": 46,
   "metadata": {},
   "outputs": [],
   "source": [
    "wordcloud = WordCloud().generate(' '.join(freqs.nlargest(200).index))\n",
    "pass"
   ]
  },
  {
   "cell_type": "code",
   "execution_count": 47,
   "metadata": {},
   "outputs": [
    {
     "data": {
      "image/png": "[encoded data removed]",
      "text/plain": [
       "<Figure size 432x288 with 1 Axes>"
      ]
     },
     "metadata": {},
     "output_type": "display_data"
    }
   ],
   "source": [
    "plt.imshow(wordcloud, interpolation='bilinear')\n",
    "plt.axis(\"off\")\n",
    "pass"
   ]
  },
  {
   "cell_type": "code",
   "execution_count": 48,
   "metadata": {},
   "outputs": [],
   "source": [
    "from imageio import imread"
   ]
  },
  {
   "cell_type": "code",
   "execution_count": 49,
   "metadata": {},
   "outputs": [],
   "source": [
    "rabbit = imread('data/rabbit.png').astype('ubyte')"
   ]
  },
  {
   "cell_type": "code",
   "execution_count": 50,
   "metadata": {},
   "outputs": [],
   "source": [
    "wc = WordCloud(mask=rabbit[:,:,0], \n",
    "               mode='RGBA',\n",
    "               background_color=None)\n",
    "wc.generate(' '.join(freqs.nlargest(200).index))\n",
    "pass"
   ]
  },
  {
   "cell_type": "code",
   "execution_count": 51,
   "metadata": {},
   "outputs": [
    {
     "data": {
      "image/png": "[encoded data removed]",
      "text/plain": [
       "<Figure size 432x288 with 1 Axes>"
      ]
     },
     "metadata": {},
     "output_type": "display_data"
    }
   ],
   "source": [
    "plt.imshow(wc, interpolation='bilinear')\n",
    "plt.axis(\"off\")\n",
    "pass"
   ]
  },
  {
   "cell_type": "markdown",
   "metadata": {},
   "source": [
    "## Supervised Learning\n",
    "\n",
    "A general framework for supervised learning on text is\n",
    "\n",
    "construct corpus $\\to$ vectorization of features $\\to$ classification $\\to$ evaluation (often by cross-validation)\n",
    "\n",
    "For example, we may classify documents into topics, or by sentiment, or as spam/not spam."
   ]
  },
  {
   "cell_type": "markdown",
   "metadata": {},
   "source": [
    "### Vectorization of features\n",
    "\n",
    "There are 3 common methods to vectorize features when the text is treated as a bag of words - word count, one hot encoding and TF-IDF."
   ]
  },
  {
   "cell_type": "code",
   "execution_count": 52,
   "metadata": {},
   "outputs": [],
   "source": [
    "small_sample = \"\"\"Do you like green eggs and ham?\n",
    "I do not like them, Sam-I-am.\n",
    "I do not like green eggs and ham!\n",
    "Would you like them here or there?\n",
    "I would not like them here or there.\n",
    "I would not like them anywhere.\n",
    "I do so like green eggs and ham!\n",
    "Thank you! Thank you,\n",
    "Sam-I-am!\"\"\".splitlines()"
   ]
  },
  {
   "cell_type": "code",
   "execution_count": 53,
   "metadata": {},
   "outputs": [
    {
     "data": {
      "text/plain": [
       "['Do you like green eggs and ham?',\n",
       " 'I do not like them, Sam-I-am.',\n",
       " 'I do not like green eggs and ham!',\n",
       " 'Would you like them here or there?',\n",
       " 'I would not like them here or there.',\n",
       " 'I would not like them anywhere.',\n",
       " 'I do so like green eggs and ham!',\n",
       " 'Thank you! Thank you,',\n",
       " 'Sam-I-am!']"
      ]
     },
     "execution_count": 53,
     "metadata": {},
     "output_type": "execute_result"
    }
   ],
   "source": [
    "small_sample"
   ]
  },
  {
   "cell_type": "markdown",
   "metadata": {},
   "source": [
    "#### Word counts"
   ]
  },
  {
   "cell_type": "code",
   "execution_count": 54,
   "metadata": {},
   "outputs": [],
   "source": [
    "count_vectorizer = CountVectorizer()"
   ]
  },
  {
   "cell_type": "code",
   "execution_count": 55,
   "metadata": {},
   "outputs": [],
   "source": [
    "X = count_vectorizer.fit_transform(small_sample)"
   ]
  },
  {
   "cell_type": "code",
   "execution_count": 56,
   "metadata": {},
   "outputs": [
    {
     "data": {
      "text/html": [
       "<div>\n",
       "<style scoped>\n",
       "    .dataframe tbody tr th:only-of-type {\n",
       "        vertical-align: middle;\n",
       "    }\n",
       "\n",
       "    .dataframe tbody tr th {\n",
       "        vertical-align: top;\n",
       "    }\n",
       "\n",
       "    .dataframe thead th {\n",
       "        text-align: right;\n",
       "    }\n",
       "</style>\n",
       "<table border=\"1\" class=\"dataframe\">\n",
       "  <thead>\n",
       "    <tr style=\"text-align: right;\">\n",
       "      <th></th>\n",
       "      <th>am</th>\n",
       "      <th>and</th>\n",
       "      <th>anywhere</th>\n",
       "      <th>do</th>\n",
       "      <th>eggs</th>\n",
       "      <th>green</th>\n",
       "      <th>ham</th>\n",
       "      <th>here</th>\n",
       "      <th>like</th>\n",
       "      <th>not</th>\n",
       "    </tr>\n",
       "  </thead>\n",
       "  <tbody>\n",
       "    <tr>\n",
       "      <th>0</th>\n",
       "      <td>0.0</td>\n",
       "      <td>1.0</td>\n",
       "      <td>0.0</td>\n",
       "      <td>1.0</td>\n",
       "      <td>1.0</td>\n",
       "      <td>1.0</td>\n",
       "      <td>1.0</td>\n",
       "      <td>0.0</td>\n",
       "      <td>1.0</td>\n",
       "      <td>0.0</td>\n",
       "    </tr>\n",
       "    <tr>\n",
       "      <th>1</th>\n",
       "      <td>1.0</td>\n",
       "      <td>0.0</td>\n",
       "      <td>0.0</td>\n",
       "      <td>1.0</td>\n",
       "      <td>0.0</td>\n",
       "      <td>0.0</td>\n",
       "      <td>0.0</td>\n",
       "      <td>0.0</td>\n",
       "      <td>1.0</td>\n",
       "      <td>1.0</td>\n",
       "    </tr>\n",
       "    <tr>\n",
       "      <th>2</th>\n",
       "      <td>0.0</td>\n",
       "      <td>1.0</td>\n",
       "      <td>0.0</td>\n",
       "      <td>1.0</td>\n",
       "      <td>1.0</td>\n",
       "      <td>1.0</td>\n",
       "      <td>1.0</td>\n",
       "      <td>0.0</td>\n",
       "      <td>1.0</td>\n",
       "      <td>1.0</td>\n",
       "    </tr>\n",
       "    <tr>\n",
       "      <th>3</th>\n",
       "      <td>0.0</td>\n",
       "      <td>0.0</td>\n",
       "      <td>0.0</td>\n",
       "      <td>0.0</td>\n",
       "      <td>0.0</td>\n",
       "      <td>0.0</td>\n",
       "      <td>0.0</td>\n",
       "      <td>1.0</td>\n",
       "      <td>1.0</td>\n",
       "      <td>0.0</td>\n",
       "    </tr>\n",
       "    <tr>\n",
       "      <th>4</th>\n",
       "      <td>0.0</td>\n",
       "      <td>0.0</td>\n",
       "      <td>0.0</td>\n",
       "      <td>0.0</td>\n",
       "      <td>0.0</td>\n",
       "      <td>0.0</td>\n",
       "      <td>0.0</td>\n",
       "      <td>1.0</td>\n",
       "      <td>1.0</td>\n",
       "      <td>1.0</td>\n",
       "    </tr>\n",
       "    <tr>\n",
       "      <th>5</th>\n",
       "      <td>0.0</td>\n",
       "      <td>0.0</td>\n",
       "      <td>1.0</td>\n",
       "      <td>0.0</td>\n",
       "      <td>0.0</td>\n",
       "      <td>0.0</td>\n",
       "      <td>0.0</td>\n",
       "      <td>0.0</td>\n",
       "      <td>1.0</td>\n",
       "      <td>1.0</td>\n",
       "    </tr>\n",
       "    <tr>\n",
       "      <th>6</th>\n",
       "      <td>0.0</td>\n",
       "      <td>1.0</td>\n",
       "      <td>0.0</td>\n",
       "      <td>1.0</td>\n",
       "      <td>1.0</td>\n",
       "      <td>1.0</td>\n",
       "      <td>1.0</td>\n",
       "      <td>0.0</td>\n",
       "      <td>1.0</td>\n",
       "      <td>0.0</td>\n",
       "    </tr>\n",
       "    <tr>\n",
       "      <th>7</th>\n",
       "      <td>0.0</td>\n",
       "      <td>0.0</td>\n",
       "      <td>0.0</td>\n",
       "      <td>0.0</td>\n",
       "      <td>0.0</td>\n",
       "      <td>0.0</td>\n",
       "      <td>0.0</td>\n",
       "      <td>0.0</td>\n",
       "      <td>0.0</td>\n",
       "      <td>0.0</td>\n",
       "    </tr>\n",
       "    <tr>\n",
       "      <th>8</th>\n",
       "      <td>1.0</td>\n",
       "      <td>0.0</td>\n",
       "      <td>0.0</td>\n",
       "      <td>0.0</td>\n",
       "      <td>0.0</td>\n",
       "      <td>0.0</td>\n",
       "      <td>0.0</td>\n",
       "      <td>0.0</td>\n",
       "      <td>0.0</td>\n",
       "      <td>0.0</td>\n",
       "    </tr>\n",
       "  </tbody>\n",
       "</table>\n",
       "</div>"
      ],
      "text/plain": [
       "    am  and  anywhere   do  eggs  green  ham  here  like  not\n",
       "0  0.0  1.0       0.0  1.0   1.0    1.0  1.0   0.0   1.0  0.0\n",
       "1  1.0  0.0       0.0  1.0   0.0    0.0  0.0   0.0   1.0  1.0\n",
       "2  0.0  1.0       0.0  1.0   1.0    1.0  1.0   0.0   1.0  1.0\n",
       "3  0.0  0.0       0.0  0.0   0.0    0.0  0.0   1.0   1.0  0.0\n",
       "4  0.0  0.0       0.0  0.0   0.0    0.0  0.0   1.0   1.0  1.0\n",
       "5  0.0  0.0       1.0  0.0   0.0    0.0  0.0   0.0   1.0  1.0\n",
       "6  0.0  1.0       0.0  1.0   1.0    1.0  1.0   0.0   1.0  0.0\n",
       "7  0.0  0.0       0.0  0.0   0.0    0.0  0.0   0.0   0.0  0.0\n",
       "8  1.0  0.0       0.0  0.0   0.0    0.0  0.0   0.0   0.0  0.0"
      ]
     },
     "execution_count": 56,
     "metadata": {},
     "output_type": "execute_result"
    }
   ],
   "source": [
    "vocab = count_vectorizer.get_feature_names()\n",
    "df = pd.SparseDataFrame(X, columns=vocab)\n",
    "df.fillna(0).iloc[:, :10]"
   ]
  },
  {
   "cell_type": "markdown",
   "metadata": {},
   "source": [
    "#### Hashing\n",
    "\n",
    "If the number of words is too large, we can hash words into a fixed number of buckets to keep the computations tractable. However, we lose the ability to map back to the original tokens."
   ]
  },
  {
   "cell_type": "code",
   "execution_count": 57,
   "metadata": {},
   "outputs": [],
   "source": [
    "hash_vectorizer = HashingVectorizer(n_features=5)"
   ]
  },
  {
   "cell_type": "code",
   "execution_count": 58,
   "metadata": {},
   "outputs": [],
   "source": [
    "X = hash_vectorizer.fit_transform(small_sample)"
   ]
  },
  {
   "cell_type": "code",
   "execution_count": 59,
   "metadata": {},
   "outputs": [
    {
     "data": {
      "text/plain": [
       "array([[-0.60302269,  0.30151134,  0.30151134,  0.30151134,  0.60302269],\n",
       "       [ 0.5       ,  0.5       ,  0.        ,  0.5       , -0.5       ],\n",
       "       [-0.60302269,  0.30151134,  0.30151134,  0.30151134,  0.60302269],\n",
       "       [-0.57735027,  0.        ,  0.57735027,  0.        , -0.57735027],\n",
       "       [-0.57735027,  0.        ,  0.57735027,  0.        , -0.57735027],\n",
       "       [-0.90453403,  0.        ,  0.        ,  0.30151134, -0.30151134],\n",
       "       [-0.60302269,  0.30151134,  0.30151134,  0.30151134,  0.60302269],\n",
       "       [-0.70710678,  0.        ,  0.        ,  0.70710678,  0.        ],\n",
       "       [ 1.        ,  0.        ,  0.        ,  0.        ,  0.        ]])"
      ]
     },
     "execution_count": 59,
     "metadata": {},
     "output_type": "execute_result"
    }
   ],
   "source": [
    "X.toarray()"
   ]
  },
  {
   "cell_type": "markdown",
   "metadata": {},
   "source": [
    "#### One hot encoding\n",
    "\n",
    "One hot encoding simply sets words with non-zero counts to 1."
   ]
  },
  {
   "cell_type": "code",
   "execution_count": 60,
   "metadata": {},
   "outputs": [],
   "source": [
    "one_hot_vectorizer = CountVectorizer(binary=True)"
   ]
  },
  {
   "cell_type": "code",
   "execution_count": 61,
   "metadata": {},
   "outputs": [],
   "source": [
    "X = one_hot_vectorizer.fit_transform(small_sample)"
   ]
  },
  {
   "cell_type": "code",
   "execution_count": 62,
   "metadata": {},
   "outputs": [
    {
     "data": {
      "text/html": [
       "<div>\n",
       "<style scoped>\n",
       "    .dataframe tbody tr th:only-of-type {\n",
       "        vertical-align: middle;\n",
       "    }\n",
       "\n",
       "    .dataframe tbody tr th {\n",
       "        vertical-align: top;\n",
       "    }\n",
       "\n",
       "    .dataframe thead th {\n",
       "        text-align: right;\n",
       "    }\n",
       "</style>\n",
       "<table border=\"1\" class=\"dataframe\">\n",
       "  <thead>\n",
       "    <tr style=\"text-align: right;\">\n",
       "      <th></th>\n",
       "      <th>am</th>\n",
       "      <th>and</th>\n",
       "      <th>anywhere</th>\n",
       "      <th>do</th>\n",
       "      <th>eggs</th>\n",
       "      <th>green</th>\n",
       "      <th>ham</th>\n",
       "      <th>here</th>\n",
       "      <th>like</th>\n",
       "      <th>not</th>\n",
       "    </tr>\n",
       "  </thead>\n",
       "  <tbody>\n",
       "    <tr>\n",
       "      <th>0</th>\n",
       "      <td>0.0</td>\n",
       "      <td>1.0</td>\n",
       "      <td>0.0</td>\n",
       "      <td>1.0</td>\n",
       "      <td>1.0</td>\n",
       "      <td>1.0</td>\n",
       "      <td>1.0</td>\n",
       "      <td>0.0</td>\n",
       "      <td>1.0</td>\n",
       "      <td>0.0</td>\n",
       "    </tr>\n",
       "    <tr>\n",
       "      <th>1</th>\n",
       "      <td>1.0</td>\n",
       "      <td>0.0</td>\n",
       "      <td>0.0</td>\n",
       "      <td>1.0</td>\n",
       "      <td>0.0</td>\n",
       "      <td>0.0</td>\n",
       "      <td>0.0</td>\n",
       "      <td>0.0</td>\n",
       "      <td>1.0</td>\n",
       "      <td>1.0</td>\n",
       "    </tr>\n",
       "    <tr>\n",
       "      <th>2</th>\n",
       "      <td>0.0</td>\n",
       "      <td>1.0</td>\n",
       "      <td>0.0</td>\n",
       "      <td>1.0</td>\n",
       "      <td>1.0</td>\n",
       "      <td>1.0</td>\n",
       "      <td>1.0</td>\n",
       "      <td>0.0</td>\n",
       "      <td>1.0</td>\n",
       "      <td>1.0</td>\n",
       "    </tr>\n",
       "    <tr>\n",
       "      <th>3</th>\n",
       "      <td>0.0</td>\n",
       "      <td>0.0</td>\n",
       "      <td>0.0</td>\n",
       "      <td>0.0</td>\n",
       "      <td>0.0</td>\n",
       "      <td>0.0</td>\n",
       "      <td>0.0</td>\n",
       "      <td>1.0</td>\n",
       "      <td>1.0</td>\n",
       "      <td>0.0</td>\n",
       "    </tr>\n",
       "    <tr>\n",
       "      <th>4</th>\n",
       "      <td>0.0</td>\n",
       "      <td>0.0</td>\n",
       "      <td>0.0</td>\n",
       "      <td>0.0</td>\n",
       "      <td>0.0</td>\n",
       "      <td>0.0</td>\n",
       "      <td>0.0</td>\n",
       "      <td>1.0</td>\n",
       "      <td>1.0</td>\n",
       "      <td>1.0</td>\n",
       "    </tr>\n",
       "    <tr>\n",
       "      <th>5</th>\n",
       "      <td>0.0</td>\n",
       "      <td>0.0</td>\n",
       "      <td>1.0</td>\n",
       "      <td>0.0</td>\n",
       "      <td>0.0</td>\n",
       "      <td>0.0</td>\n",
       "      <td>0.0</td>\n",
       "      <td>0.0</td>\n",
       "      <td>1.0</td>\n",
       "      <td>1.0</td>\n",
       "    </tr>\n",
       "    <tr>\n",
       "      <th>6</th>\n",
       "      <td>0.0</td>\n",
       "      <td>1.0</td>\n",
       "      <td>0.0</td>\n",
       "      <td>1.0</td>\n",
       "      <td>1.0</td>\n",
       "      <td>1.0</td>\n",
       "      <td>1.0</td>\n",
       "      <td>0.0</td>\n",
       "      <td>1.0</td>\n",
       "      <td>0.0</td>\n",
       "    </tr>\n",
       "    <tr>\n",
       "      <th>7</th>\n",
       "      <td>0.0</td>\n",
       "      <td>0.0</td>\n",
       "      <td>0.0</td>\n",
       "      <td>0.0</td>\n",
       "      <td>0.0</td>\n",
       "      <td>0.0</td>\n",
       "      <td>0.0</td>\n",
       "      <td>0.0</td>\n",
       "      <td>0.0</td>\n",
       "      <td>0.0</td>\n",
       "    </tr>\n",
       "    <tr>\n",
       "      <th>8</th>\n",
       "      <td>1.0</td>\n",
       "      <td>0.0</td>\n",
       "      <td>0.0</td>\n",
       "      <td>0.0</td>\n",
       "      <td>0.0</td>\n",
       "      <td>0.0</td>\n",
       "      <td>0.0</td>\n",
       "      <td>0.0</td>\n",
       "      <td>0.0</td>\n",
       "      <td>0.0</td>\n",
       "    </tr>\n",
       "  </tbody>\n",
       "</table>\n",
       "</div>"
      ],
      "text/plain": [
       "    am  and  anywhere   do  eggs  green  ham  here  like  not\n",
       "0  0.0  1.0       0.0  1.0   1.0    1.0  1.0   0.0   1.0  0.0\n",
       "1  1.0  0.0       0.0  1.0   0.0    0.0  0.0   0.0   1.0  1.0\n",
       "2  0.0  1.0       0.0  1.0   1.0    1.0  1.0   0.0   1.0  1.0\n",
       "3  0.0  0.0       0.0  0.0   0.0    0.0  0.0   1.0   1.0  0.0\n",
       "4  0.0  0.0       0.0  0.0   0.0    0.0  0.0   1.0   1.0  1.0\n",
       "5  0.0  0.0       1.0  0.0   0.0    0.0  0.0   0.0   1.0  1.0\n",
       "6  0.0  1.0       0.0  1.0   1.0    1.0  1.0   0.0   1.0  0.0\n",
       "7  0.0  0.0       0.0  0.0   0.0    0.0  0.0   0.0   0.0  0.0\n",
       "8  1.0  0.0       0.0  0.0   0.0    0.0  0.0   0.0   0.0  0.0"
      ]
     },
     "execution_count": 62,
     "metadata": {},
     "output_type": "execute_result"
    }
   ],
   "source": [
    "vocab = one_hot_vectorizer.get_feature_names()\n",
    "df = pd.SparseDataFrame(X, columns=vocab)\n",
    "df.fillna(0).iloc[:, :10]"
   ]
  },
  {
   "cell_type": "markdown",
   "metadata": {},
   "source": [
    "#### TF-IDF\n",
    "\n",
    "You have previously implemented this in your homework."
   ]
  },
  {
   "cell_type": "code",
   "execution_count": 63,
   "metadata": {},
   "outputs": [],
   "source": [
    "tf_idf_vectorizer = TfidfVectorizer()"
   ]
  },
  {
   "cell_type": "code",
   "execution_count": 64,
   "metadata": {},
   "outputs": [],
   "source": [
    "import warnings\n",
    "warnings.filterwarnings(\"ignore\", category=FutureWarning)"
   ]
  },
  {
   "cell_type": "code",
   "execution_count": 65,
   "metadata": {},
   "outputs": [],
   "source": [
    "X = tf_idf_vectorizer.fit_transform(small_sample)"
   ]
  },
  {
   "cell_type": "code",
   "execution_count": 66,
   "metadata": {},
   "outputs": [
    {
     "data": {
      "text/html": [
       "<div>\n",
       "<style scoped>\n",
       "    .dataframe tbody tr th:only-of-type {\n",
       "        vertical-align: middle;\n",
       "    }\n",
       "\n",
       "    .dataframe tbody tr th {\n",
       "        vertical-align: top;\n",
       "    }\n",
       "\n",
       "    .dataframe thead th {\n",
       "        text-align: right;\n",
       "    }\n",
       "</style>\n",
       "<table border=\"1\" class=\"dataframe\">\n",
       "  <thead>\n",
       "    <tr style=\"text-align: right;\">\n",
       "      <th></th>\n",
       "      <th>am</th>\n",
       "      <th>and</th>\n",
       "      <th>anywhere</th>\n",
       "      <th>do</th>\n",
       "      <th>eggs</th>\n",
       "      <th>green</th>\n",
       "      <th>ham</th>\n",
       "      <th>here</th>\n",
       "      <th>like</th>\n",
       "      <th>not</th>\n",
       "    </tr>\n",
       "  </thead>\n",
       "  <tbody>\n",
       "    <tr>\n",
       "      <th>0</th>\n",
       "      <td>0.000000</td>\n",
       "      <td>0.401996</td>\n",
       "      <td>0.00000</td>\n",
       "      <td>0.355186</td>\n",
       "      <td>0.401996</td>\n",
       "      <td>0.401996</td>\n",
       "      <td>0.401996</td>\n",
       "      <td>0.000000</td>\n",
       "      <td>0.256589</td>\n",
       "      <td>0.000000</td>\n",
       "    </tr>\n",
       "    <tr>\n",
       "      <th>1</th>\n",
       "      <td>0.495165</td>\n",
       "      <td>0.000000</td>\n",
       "      <td>0.00000</td>\n",
       "      <td>0.380398</td>\n",
       "      <td>0.000000</td>\n",
       "      <td>0.000000</td>\n",
       "      <td>0.000000</td>\n",
       "      <td>0.000000</td>\n",
       "      <td>0.274803</td>\n",
       "      <td>0.380398</td>\n",
       "    </tr>\n",
       "    <tr>\n",
       "      <th>2</th>\n",
       "      <td>0.000000</td>\n",
       "      <td>0.409316</td>\n",
       "      <td>0.00000</td>\n",
       "      <td>0.361653</td>\n",
       "      <td>0.409316</td>\n",
       "      <td>0.409316</td>\n",
       "      <td>0.409316</td>\n",
       "      <td>0.000000</td>\n",
       "      <td>0.261261</td>\n",
       "      <td>0.361653</td>\n",
       "    </tr>\n",
       "    <tr>\n",
       "      <th>3</th>\n",
       "      <td>0.000000</td>\n",
       "      <td>0.000000</td>\n",
       "      <td>0.00000</td>\n",
       "      <td>0.000000</td>\n",
       "      <td>0.000000</td>\n",
       "      <td>0.000000</td>\n",
       "      <td>0.000000</td>\n",
       "      <td>0.429929</td>\n",
       "      <td>0.238598</td>\n",
       "      <td>0.000000</td>\n",
       "    </tr>\n",
       "    <tr>\n",
       "      <th>4</th>\n",
       "      <td>0.000000</td>\n",
       "      <td>0.000000</td>\n",
       "      <td>0.00000</td>\n",
       "      <td>0.000000</td>\n",
       "      <td>0.000000</td>\n",
       "      <td>0.000000</td>\n",
       "      <td>0.000000</td>\n",
       "      <td>0.436672</td>\n",
       "      <td>0.242341</td>\n",
       "      <td>0.335463</td>\n",
       "    </tr>\n",
       "    <tr>\n",
       "      <th>5</th>\n",
       "      <td>0.000000</td>\n",
       "      <td>0.000000</td>\n",
       "      <td>0.62005</td>\n",
       "      <td>0.000000</td>\n",
       "      <td>0.000000</td>\n",
       "      <td>0.000000</td>\n",
       "      <td>0.000000</td>\n",
       "      <td>0.000000</td>\n",
       "      <td>0.290641</td>\n",
       "      <td>0.402322</td>\n",
       "    </tr>\n",
       "    <tr>\n",
       "      <th>6</th>\n",
       "      <td>0.000000</td>\n",
       "      <td>0.376827</td>\n",
       "      <td>0.00000</td>\n",
       "      <td>0.332947</td>\n",
       "      <td>0.376827</td>\n",
       "      <td>0.376827</td>\n",
       "      <td>0.376827</td>\n",
       "      <td>0.000000</td>\n",
       "      <td>0.240523</td>\n",
       "      <td>0.000000</td>\n",
       "    </tr>\n",
       "    <tr>\n",
       "      <th>7</th>\n",
       "      <td>0.000000</td>\n",
       "      <td>0.000000</td>\n",
       "      <td>0.00000</td>\n",
       "      <td>0.000000</td>\n",
       "      <td>0.000000</td>\n",
       "      <td>0.000000</td>\n",
       "      <td>0.000000</td>\n",
       "      <td>0.000000</td>\n",
       "      <td>0.000000</td>\n",
       "      <td>0.000000</td>\n",
       "    </tr>\n",
       "    <tr>\n",
       "      <th>8</th>\n",
       "      <td>0.707107</td>\n",
       "      <td>0.000000</td>\n",
       "      <td>0.00000</td>\n",
       "      <td>0.000000</td>\n",
       "      <td>0.000000</td>\n",
       "      <td>0.000000</td>\n",
       "      <td>0.000000</td>\n",
       "      <td>0.000000</td>\n",
       "      <td>0.000000</td>\n",
       "      <td>0.000000</td>\n",
       "    </tr>\n",
       "  </tbody>\n",
       "</table>\n",
       "</div>"
      ],
      "text/plain": [
       "         am       and  anywhere        do      eggs     green       ham  \\\n",
       "0  0.000000  0.401996   0.00000  0.355186  0.401996  0.401996  0.401996   \n",
       "1  0.495165  0.000000   0.00000  0.380398  0.000000  0.000000  0.000000   \n",
       "2  0.000000  0.409316   0.00000  0.361653  0.409316  0.409316  0.409316   \n",
       "3  0.000000  0.000000   0.00000  0.000000  0.000000  0.000000  0.000000   \n",
       "4  0.000000  0.000000   0.00000  0.000000  0.000000  0.000000  0.000000   \n",
       "5  0.000000  0.000000   0.62005  0.000000  0.000000  0.000000  0.000000   \n",
       "6  0.000000  0.376827   0.00000  0.332947  0.376827  0.376827  0.376827   \n",
       "7  0.000000  0.000000   0.00000  0.000000  0.000000  0.000000  0.000000   \n",
       "8  0.707107  0.000000   0.00000  0.000000  0.000000  0.000000  0.000000   \n",
       "\n",
       "       here      like       not  \n",
       "0  0.000000  0.256589  0.000000  \n",
       "1  0.000000  0.274803  0.380398  \n",
       "2  0.000000  0.261261  0.361653  \n",
       "3  0.429929  0.238598  0.000000  \n",
       "4  0.436672  0.242341  0.335463  \n",
       "5  0.000000  0.290641  0.402322  \n",
       "6  0.000000  0.240523  0.000000  \n",
       "7  0.000000  0.000000  0.000000  \n",
       "8  0.000000  0.000000  0.000000  "
      ]
     },
     "execution_count": 66,
     "metadata": {},
     "output_type": "execute_result"
    }
   ],
   "source": [
    "vocab = tf_idf_vectorizer.get_feature_names()\n",
    "df = pd.SparseDataFrame(X, columns=vocab)\n",
    "df.fillna(0).iloc[:, :10]"
   ]
  },
  {
   "cell_type": "markdown",
   "metadata": {},
   "source": [
    "## Maintaining context\n",
    "\n",
    "For some supervised learning tasks such as sentiment analysis (is this review positive or negative), the context of words is very important. For example the following two reviews use very similar words but have very different meanings.\n",
    "\n",
    "- `Only an idiot like Reviewer two could love that movie`\n",
    "- `Could not love that movie more. Reviewer one is an idiot`\n",
    "\n",
    "In this case, we need to take the context of individual words into account. Common ways to take context into account include the use N-grams (also known as colocations), part-of-speech (POS) tagging and grammars, and the `word2vec` family of algorithms."
   ]
  },
  {
   "cell_type": "markdown",
   "metadata": {},
   "source": [
    "### N-grams"
   ]
  },
  {
   "cell_type": "code",
   "execution_count": 67,
   "metadata": {},
   "outputs": [],
   "source": [
    "count_vectorizer = CountVectorizer(ngram_range=(1,3))"
   ]
  },
  {
   "cell_type": "code",
   "execution_count": 68,
   "metadata": {},
   "outputs": [],
   "source": [
    "X = count_vectorizer.fit_transform(small_sample)"
   ]
  },
  {
   "cell_type": "code",
   "execution_count": 69,
   "metadata": {},
   "outputs": [
    {
     "data": {
      "text/html": [
       "<div>\n",
       "<style scoped>\n",
       "    .dataframe tbody tr th:only-of-type {\n",
       "        vertical-align: middle;\n",
       "    }\n",
       "\n",
       "    .dataframe tbody tr th {\n",
       "        vertical-align: top;\n",
       "    }\n",
       "\n",
       "    .dataframe thead th {\n",
       "        text-align: right;\n",
       "    }\n",
       "</style>\n",
       "<table border=\"1\" class=\"dataframe\">\n",
       "  <thead>\n",
       "    <tr style=\"text-align: right;\">\n",
       "      <th></th>\n",
       "      <th>am</th>\n",
       "      <th>and</th>\n",
       "      <th>and ham</th>\n",
       "      <th>anywhere</th>\n",
       "      <th>do</th>\n",
       "      <th>do not</th>\n",
       "      <th>do not like</th>\n",
       "      <th>do so</th>\n",
       "      <th>do so like</th>\n",
       "      <th>do you</th>\n",
       "    </tr>\n",
       "  </thead>\n",
       "  <tbody>\n",
       "    <tr>\n",
       "      <th>0</th>\n",
       "      <td>0.0</td>\n",
       "      <td>1.0</td>\n",
       "      <td>1.0</td>\n",
       "      <td>0.0</td>\n",
       "      <td>1.0</td>\n",
       "      <td>0.0</td>\n",
       "      <td>0.0</td>\n",
       "      <td>0.0</td>\n",
       "      <td>0.0</td>\n",
       "      <td>1.0</td>\n",
       "    </tr>\n",
       "    <tr>\n",
       "      <th>1</th>\n",
       "      <td>1.0</td>\n",
       "      <td>0.0</td>\n",
       "      <td>0.0</td>\n",
       "      <td>0.0</td>\n",
       "      <td>1.0</td>\n",
       "      <td>1.0</td>\n",
       "      <td>1.0</td>\n",
       "      <td>0.0</td>\n",
       "      <td>0.0</td>\n",
       "      <td>0.0</td>\n",
       "    </tr>\n",
       "    <tr>\n",
       "      <th>2</th>\n",
       "      <td>0.0</td>\n",
       "      <td>1.0</td>\n",
       "      <td>1.0</td>\n",
       "      <td>0.0</td>\n",
       "      <td>1.0</td>\n",
       "      <td>1.0</td>\n",
       "      <td>1.0</td>\n",
       "      <td>0.0</td>\n",
       "      <td>0.0</td>\n",
       "      <td>0.0</td>\n",
       "    </tr>\n",
       "    <tr>\n",
       "      <th>3</th>\n",
       "      <td>0.0</td>\n",
       "      <td>0.0</td>\n",
       "      <td>0.0</td>\n",
       "      <td>0.0</td>\n",
       "      <td>0.0</td>\n",
       "      <td>0.0</td>\n",
       "      <td>0.0</td>\n",
       "      <td>0.0</td>\n",
       "      <td>0.0</td>\n",
       "      <td>0.0</td>\n",
       "    </tr>\n",
       "    <tr>\n",
       "      <th>4</th>\n",
       "      <td>0.0</td>\n",
       "      <td>0.0</td>\n",
       "      <td>0.0</td>\n",
       "      <td>0.0</td>\n",
       "      <td>0.0</td>\n",
       "      <td>0.0</td>\n",
       "      <td>0.0</td>\n",
       "      <td>0.0</td>\n",
       "      <td>0.0</td>\n",
       "      <td>0.0</td>\n",
       "    </tr>\n",
       "    <tr>\n",
       "      <th>5</th>\n",
       "      <td>0.0</td>\n",
       "      <td>0.0</td>\n",
       "      <td>0.0</td>\n",
       "      <td>1.0</td>\n",
       "      <td>0.0</td>\n",
       "      <td>0.0</td>\n",
       "      <td>0.0</td>\n",
       "      <td>0.0</td>\n",
       "      <td>0.0</td>\n",
       "      <td>0.0</td>\n",
       "    </tr>\n",
       "    <tr>\n",
       "      <th>6</th>\n",
       "      <td>0.0</td>\n",
       "      <td>1.0</td>\n",
       "      <td>1.0</td>\n",
       "      <td>0.0</td>\n",
       "      <td>1.0</td>\n",
       "      <td>0.0</td>\n",
       "      <td>0.0</td>\n",
       "      <td>1.0</td>\n",
       "      <td>1.0</td>\n",
       "      <td>0.0</td>\n",
       "    </tr>\n",
       "    <tr>\n",
       "      <th>7</th>\n",
       "      <td>0.0</td>\n",
       "      <td>0.0</td>\n",
       "      <td>0.0</td>\n",
       "      <td>0.0</td>\n",
       "      <td>0.0</td>\n",
       "      <td>0.0</td>\n",
       "      <td>0.0</td>\n",
       "      <td>0.0</td>\n",
       "      <td>0.0</td>\n",
       "      <td>0.0</td>\n",
       "    </tr>\n",
       "    <tr>\n",
       "      <th>8</th>\n",
       "      <td>1.0</td>\n",
       "      <td>0.0</td>\n",
       "      <td>0.0</td>\n",
       "      <td>0.0</td>\n",
       "      <td>0.0</td>\n",
       "      <td>0.0</td>\n",
       "      <td>0.0</td>\n",
       "      <td>0.0</td>\n",
       "      <td>0.0</td>\n",
       "      <td>0.0</td>\n",
       "    </tr>\n",
       "  </tbody>\n",
       "</table>\n",
       "</div>"
      ],
      "text/plain": [
       "    am  and  and ham  anywhere   do  do not  do not like  do so  do so like  \\\n",
       "0  0.0  1.0      1.0       0.0  1.0     0.0          0.0    0.0         0.0   \n",
       "1  1.0  0.0      0.0       0.0  1.0     1.0          1.0    0.0         0.0   \n",
       "2  0.0  1.0      1.0       0.0  1.0     1.0          1.0    0.0         0.0   \n",
       "3  0.0  0.0      0.0       0.0  0.0     0.0          0.0    0.0         0.0   \n",
       "4  0.0  0.0      0.0       0.0  0.0     0.0          0.0    0.0         0.0   \n",
       "5  0.0  0.0      0.0       1.0  0.0     0.0          0.0    0.0         0.0   \n",
       "6  0.0  1.0      1.0       0.0  1.0     0.0          0.0    1.0         1.0   \n",
       "7  0.0  0.0      0.0       0.0  0.0     0.0          0.0    0.0         0.0   \n",
       "8  1.0  0.0      0.0       0.0  0.0     0.0          0.0    0.0         0.0   \n",
       "\n",
       "   do you  \n",
       "0     1.0  \n",
       "1     0.0  \n",
       "2     0.0  \n",
       "3     0.0  \n",
       "4     0.0  \n",
       "5     0.0  \n",
       "6     0.0  \n",
       "7     0.0  \n",
       "8     0.0  "
      ]
     },
     "execution_count": 69,
     "metadata": {},
     "output_type": "execute_result"
    }
   ],
   "source": [
    "vocab = count_vectorizer.get_feature_names()\n",
    "df = pd.SparseDataFrame(X, columns=vocab)\n",
    "df.fillna(0).iloc[:, :10]"
   ]
  },
  {
   "cell_type": "markdown",
   "metadata": {},
   "source": [
    "### Significant collocation\n",
    "\n",
    "Most n-grams are not meaningfully phrases. We can use statistical tests for the likelihood of co-occurrence of words, and only use the significant collocations. Basically we test against the null hypothesis that the words in the n-gram appear by chance if the probability of each word was independently derived from its empirical frequency. "
   ]
  },
  {
   "cell_type": "code",
   "execution_count": 70,
   "metadata": {},
   "outputs": [],
   "source": [
    "abstract = '''Macrophages represent one of the most numerous and diverse \n",
    "leukocyte types in the body. Furthermore, they are important regulators \n",
    "and promoters of many cardiovascular disease programs. Their functions \n",
    "range from sensing pathogens to digesting cell debris, modulating inflammation, \n",
    "and producing key cytokines and other regulatory factors throughout the body. \n",
    "Macrophage research has undergone a renaissance in recent years, which \n",
    "has propelled a newfound interest in their heterogeneity as well as a \n",
    "new understanding of ontological differences in their development. \n",
    "In addition, recent technological advances such as single-cell \n",
    "mass-cytometry by time-of-flight have enabled phenotype and functional \n",
    "analyses of individual immune myeloid cells, including macrophages, \n",
    "at unprecedented resolution. In this Part 1 of a 4-part review series \n",
    "covering the macrophage in cardiovascular disease, we focus on the \n",
    "basic principles of macrophage development, heterogeneity, phenotype, \n",
    "tissue-specific differentiation, and functionality as a basis to understand \n",
    "their role in cardiovascular disease.'''"
   ]
  },
  {
   "cell_type": "code",
   "execution_count": 71,
   "metadata": {},
   "outputs": [],
   "source": [
    "ngrams = TrigramCollocationFinder.from_words(nltk.tokenize.word_tokenize(abstract))"
   ]
  },
  {
   "cell_type": "code",
   "execution_count": 72,
   "metadata": {},
   "outputs": [],
   "source": [
    "scores = ngrams.score_ngrams(TrigramAssocMeasures.likelihood_ratio)"
   ]
  },
  {
   "cell_type": "code",
   "execution_count": 73,
   "metadata": {},
   "outputs": [
    {
     "data": {
      "text/plain": [
       "[(('in', 'cardiovascular', 'disease'), 60.22140084295821),\n",
       " (('cardiovascular', 'disease', 'programs'), 57.490270384342544),\n",
       " (('many', 'cardiovascular', 'disease'), 57.490270384342544),\n",
       " (('cardiovascular', 'disease', '.'), 49.568274269761346),\n",
       " (('cardiovascular', 'disease', ','), 47.586079738744886)]"
      ]
     },
     "execution_count": 73,
     "metadata": {},
     "output_type": "execute_result"
    }
   ],
   "source": [
    "scores[:5]"
   ]
  },
  {
   "cell_type": "code",
   "execution_count": 74,
   "metadata": {},
   "outputs": [
    {
     "data": {
      "text/plain": [
       "[(('development', ',', 'heterogeneity'), 18.377430413805826),\n",
       " (('heterogeneity', ',', 'phenotype'), 18.377430413805826),\n",
       " (('the', 'macrophage', 'in'), 17.35538066534174),\n",
       " ((',', 'heterogeneity', ','), 12.326088385780718),\n",
       " ((',', 'phenotype', ','), 12.326088385780718)]"
      ]
     },
     "execution_count": 74,
     "metadata": {},
     "output_type": "execute_result"
    }
   ],
   "source": [
    "scores[-5:]"
   ]
  },
  {
   "cell_type": "markdown",
   "metadata": {},
   "source": [
    "### Word2Vec\n",
    "\n",
    "the `word2vec` family of algorithms is a powerful method for converting a word into a vector that takes into account its context. There are two main ideas - in continuous bag of words, we try to predict the current word from nearby words; in continuous skip-gram, the current word is used to predict nearby words. The phrase \"nearby words\" is intentionally vague - in the simplest case, it is a sliding window of words centered on the current word. \n",
    "\n",
    "Suppose we have the sentence\n",
    "\n",
    "```\n",
    "I do not like green eggs and ham\n",
    "```\n",
    "\n",
    "and suppose we use a centered window of length 3,\n",
    "\n",
    "```\n",
    "((I, not), do), ((do, like), not), ((not, green), like), ((like, eggs), green), ((green, and), eggs), ((eggs, ham) and)\n",
    "```\n",
    "\n",
    "In continuous bag of words, we make the (input, output) pairs to be\n",
    "```\n",
    "(I, do)\n",
    "(not, do)\n",
    "(do, not)\n",
    "(like, not)\n",
    "(not, like)\n",
    "(green, like)\n",
    "(like, green)\n",
    "(eggs, green)\n",
    "(green, eggs)\n",
    "(and, eggs)\n",
    "(eggs, and)\n",
    "(ham, and)\n",
    "```\n",
    "\n",
    "That is, we try to predict `do` when we see `I`, `do` when we see `not` and so on.\n",
    "\n",
    "In continuous skip-gram, we do the inverse for (input, output) pairs\n",
    "```\n",
    "(do, I)\n",
    "(do, not)\n",
    "(not, do)\n",
    "(not, like)\n",
    "(like, not)\n",
    "(like, green)\n",
    "(green, like)\n",
    "(green, eggs)\n",
    "(eggs, green)\n",
    "(eggs, and)\n",
    "(and, eggs)\n",
    "(and, ham)\n",
    "```\n",
    "\n",
    "That is, we try to predict `I` when we see `do`, `not` when we see `do` and so on.\n",
    "\n",
    "To do this prediction, we first assign each word to a vector of some fixed length $n$ - i.e. we embed each word as an $\\mathbb{R}^n$ vector. To do a prediction for all words in the vocabulary using `softmax` would be prohibitively expensive, and is unnecessary if we are just trying to find a good embedding vector. Instead we select $k$ noise words, typically from the unigram distributions, and just train the classifier to distinguish the target word from the noise words using logistic regression (negative sampling). We use stochastic gradient descent to move the embedding word vectors (initialized randomly) until the model gives a high probability to the target words and low probability to the noise ones. If successful, words that are meaningful when substituted in the same context will be close together in $\\mathbb{R}^n$. For instance, `dog` and `cat` are likely to be close together because they appear together in similar contexts like\n",
    "\n",
    "- `My pet dog|cat`\n",
    "- `Raining dogs|cats and cats|dogs`\n",
    "- `The dog|cat chased the rat`\n",
    "- `Common pets are dogs|cats`\n",
    "\n",
    "while `dog` and `apple` are less likely to occur in the same context and hence will end up further apart in the embedding space. Interestingly, the vectors resulting from vector subtraction are also meaningful since they represent analogies - the vector between `man` and `woman` is likely to be similar to that between `king` and `queen`, or `boy` and `girl`.\n",
    "\n",
    "Note: you will encounter `word2vec` again if you take a deep learning class - it is a very influential idea and has many applications beyond text processing since you can apply it to any discrete distribution where local context is meaningful (e.g. genomes). "
   ]
  },
  {
   "cell_type": "code",
   "execution_count": 75,
   "metadata": {},
   "outputs": [],
   "source": [
    "import gensim\n",
    "from gensim.models.word2vec import Word2Vec"
   ]
  },
  {
   "cell_type": "code",
   "execution_count": 76,
   "metadata": {},
   "outputs": [
    {
     "data": {
      "text/plain": [
       "[\"\\n\\n\\n Hmmm...what about walks and SB? Baerga got clobbered by Alomar in OBP and\\nbeat him in SLG by a lesser margin. Even putting aside any other factors,\\na player with a 51 point edge in OBP is more productive than a player with\\na 28 point edge in SLG. The issue has been studied before, and I doubt you\\ncould come up with any convincing argument the other way.\\n People see the batting average and the HR, but they don't really know  \\ntheir value is worth unless they've studied the issue closely. The fact is that\\nBaerga ate up a LOT more outs than Alomar; while Baerga was making outs,\\nAlomar was drawing walks and being on base for Carter, Winfield et.al.\"]"
      ]
     },
     "execution_count": 76,
     "metadata": {},
     "output_type": "execute_result"
    }
   ],
   "source": [
    "baseball_sample[:1]"
   ]
  },
  {
   "cell_type": "code",
   "execution_count": 77,
   "metadata": {},
   "outputs": [],
   "source": [
    "def gen_sentences(corpus):\n",
    "    for item in corpus:\n",
    "        yield from nltk.tokenize.sent_tokenize(item)"
   ]
  },
  {
   "cell_type": "code",
   "execution_count": 78,
   "metadata": {},
   "outputs": [
    {
     "data": {
      "text/plain": [
       "['\\n\\n\\n Hmmm...what about walks and SB?',\n",
       " 'Baerga got clobbered by Alomar in OBP and\\nbeat him in SLG by a lesser margin.',\n",
       " 'Even putting aside any other factors,\\na player with a 51 point edge in OBP is more productive than a player with\\na 28 point edge in SLG.']"
      ]
     },
     "execution_count": 78,
     "metadata": {},
     "output_type": "execute_result"
    }
   ],
   "source": [
    "list(gen_sentences(baseball_sample[:2]))[:3]"
   ]
  },
  {
   "cell_type": "code",
   "execution_count": 79,
   "metadata": {},
   "outputs": [
    {
     "data": {
      "text/plain": [
       "[\"\\n\\n\\n Hmmm...what about walks and SB? Baerga got clobbered by Alomar in OBP and\\nbeat him in SLG by a lesser margin. Even putting aside any other factors,\\na player with a 51 point edge in OBP is more productive than a player with\\na 28 point edge in SLG. The issue has been studied before, and I doubt you\\ncould come up with any convincing argument the other way.\\n People see the batting average and the HR, but they don't really know  \\ntheir value is worth unless they've studied the issue closely. The fact is that\\nBaerga ate up a LOT more outs than Alomar; while Baerga was making outs,\\nAlomar was drawing walks and being on base for Carter, Winfield et.al.\",\n",
       " '\\nWell, actually, most of ours is based on what really happened and yours is\\nbased on some fantasy of how it happened. But that\\'s OK, I understand you\\nhave a hockey background. Stats like \"plus/minus\" make RBI look good.\\n\\n\\nOK, how about a straigh answer, then. Here\\'s a very simele question to which\\nI\\'m sure a fair number of us are very interesed in the answer to. Please\\nanswer yes or no, Roger:\\n Can a pitcher cause the offensive players on his team to score more runs?\\nAL only, please.\\n\\nFor anyone else following along, it is a well-known and demonstrable fact\\nthat a team\\'s win-loss record is closely related to the number of runs the\\nteam scores and the number the team allows. It\\'s not a definite,\\nhard-and-fast function, but there is definitely a correlation. In fact, as a\\nrule of thumb, if teams A and B both score X runs and team A allows Y runs,\\nfor every 10 runs fewer than Y that team B allows, it will win another game.\\nSo, for instance, if we look at the 1991 Toronto Blue Jays, we find that\\nthey scored 780 runs and allowed 682, of which Morris allowed 114. All other\\nthings being equal, if Frank Viola, with his 3.44 ERA had replaced Jack\\nMorris for the 240.2 innings Morris threw (plausible, since Viola threw 238\\nfor Boston), the \"Red Jays\" would have allowed about 15 fewer runs, or\\nenough for 1-2 more wins. Now, that doesn\\'t take into account that Viola\\npitched half his innings in Fenway, which is a harder park to pitch in\\n(particularly for a lefthander) than Skydome. So, um, Roger. Unless you\\nreally do believe that a pitcher can somehow affect the number of runs\\nhis team scores, could you enlighten us to the fallacy in this\\nanalysis? Clearly, it would be foolhardy to claim that Viola would\\nnecessarily have put up a 3.44 if he had been on the Jay last year, but\\nthat is not the claim. We look at what the actual performances were and\\nevaluate Viola\\'s as better than Morris\\' in the sense that \"had Morris\\nperformed as Viola did, his team would have been better off.\"\\n\\n\\nThis is true, but not so open that your brain falls out.\\n\\n Mike Jones | AIX High-End Development | mjones@donald.aix.kingston.ibm.com']"
      ]
     },
     "execution_count": 79,
     "metadata": {},
     "output_type": "execute_result"
    }
   ],
   "source": [
    "list(baseball_sample[:2])"
   ]
  },
  {
   "cell_type": "code",
   "execution_count": 80,
   "metadata": {},
   "outputs": [],
   "source": [
    "docs = [gensim.utils.simple_preprocess(s) \n",
    "        for s in baseball_sample]"
   ]
  },
  {
   "cell_type": "code",
   "execution_count": 82,
   "metadata": {},
   "outputs": [],
   "source": [
    "model = Word2Vec(docs,\n",
    "                 size=64, # we use 64 dimensions to represent each word\n",
    "                 window=5, # size of each context window\n",
    "                 min_count=3, # ignore words with frequency less than this\n",
    "                 workers=4)"
   ]
  },
  {
   "cell_type": "code",
   "execution_count": 83,
   "metadata": {},
   "outputs": [
    {
     "data": {
      "text/plain": [
       "452233"
      ]
     },
     "execution_count": 83,
     "metadata": {},
     "output_type": "execute_result"
    }
   ],
   "source": [
    "model.train(docs, total_examples=len(docs), epochs=10)"
   ]
  },
  {
   "cell_type": "markdown",
   "metadata": {},
   "source": [
    "The embedding vector for the word `player`"
   ]
  },
  {
   "cell_type": "code",
   "execution_count": 84,
   "metadata": {},
   "outputs": [
    {
     "data": {
      "text/plain": [
       "array([ 0.7713789 ,  0.43055907,  0.61522204,  1.4651952 ,  0.05001011,\n",
       "        0.48262414,  0.7257428 , -0.00536006, -0.7029651 , -0.8721523 ,\n",
       "        0.43526617,  1.2461479 ,  0.19590075, -0.638072  , -0.6258417 ,\n",
       "        0.36686298, -0.14461583,  0.05929692, -0.9040423 , -0.5402682 ,\n",
       "       -0.6128281 , -0.8761068 , -0.25080758, -0.09700577,  0.75416625,\n",
       "        0.6550872 , -1.7193297 , -0.0190513 ,  0.4467884 , -0.584724  ,\n",
       "       -0.3895358 , -0.40714896, -0.8728606 ,  0.29505777,  0.2994968 ,\n",
       "       -0.286745  , -0.8184189 , -1.1402744 ,  1.0148739 , -0.38571364,\n",
       "        0.40325138, -0.6930537 , -0.30064976,  0.18087469, -0.03105755,\n",
       "        0.40508395,  0.4751985 ,  0.41248563, -0.39704823, -1.0183877 ,\n",
       "       -0.6843245 , -0.58843505, -0.06171968,  1.2597564 , -0.13485442,\n",
       "       -0.30603904,  0.13577543, -0.20978698,  0.5741655 ,  0.08652557,\n",
       "        0.5681614 , -0.09292254, -0.67014855,  1.0237669 ], dtype=float32)"
      ]
     },
     "execution_count": 84,
     "metadata": {},
     "output_type": "execute_result"
    }
   ],
   "source": [
    "model.wv.word_vec('you')"
   ]
  },
  {
   "cell_type": "code",
   "execution_count": 85,
   "metadata": {},
   "outputs": [
    {
     "data": {
      "text/plain": [
       "[('me', 0.9936753511428833),\n",
       " ('what', 0.9931192398071289),\n",
       " ('do', 0.9917075634002686),\n",
       " ('we', 0.9907569885253906),\n",
       " ('know', 0.9862799644470215)]"
      ]
     },
     "execution_count": 85,
     "metadata": {},
     "output_type": "execute_result"
    }
   ],
   "source": [
    "model.wv.most_similar('you', topn=5)"
   ]
  },
  {
   "cell_type": "code",
   "execution_count": 86,
   "metadata": {},
   "outputs": [
    {
     "data": {
      "text/plain": [
       "0.9936754160245655"
      ]
     },
     "execution_count": 86,
     "metadata": {},
     "output_type": "execute_result"
    }
   ],
   "source": [
    "model.wv.similarity('you', 'me')"
   ]
  },
  {
   "cell_type": "code",
   "execution_count": 87,
   "metadata": {},
   "outputs": [
    {
     "data": {
      "text/plain": [
       "0.2705130180983498"
      ]
     },
     "execution_count": 87,
     "metadata": {},
     "output_type": "execute_result"
    }
   ],
   "source": [
    "model.wv.similarity('you', 'red')"
   ]
  }
 ],
 "metadata": {
  "kernelspec": {
   "display_name": "Python 3",
   "language": "python",
   "name": "python3"
  },
  "language_info": {
   "codemirror_mode": {
    "name": "ipython",
    "version": 3
   },
   "file_extension": ".py",
   "mimetype": "text/x-python",
   "name": "python",
   "nbconvert_exporter": "python",
   "pygments_lexer": "ipython3",
   "version": "3.6.5"
  }
 },
 "nbformat": 4,
 "nbformat_minor": 2
}
