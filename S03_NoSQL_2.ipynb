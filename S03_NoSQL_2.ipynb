{
 "cells": [
  {
   "cell_type": "markdown",
   "metadata": {},
   "source": [
    "# MongoDB\n",
    "\n",
    "MongoDB is a document database. It stores JSON objects."
   ]
  },
  {
   "cell_type": "code",
   "execution_count": 1,
   "metadata": {},
   "outputs": [],
   "source": [
    "from pymongo import MongoClient\n",
    "from bson.objectid import ObjectId"
   ]
  },
  {
   "cell_type": "code",
   "execution_count": 2,
   "metadata": {},
   "outputs": [],
   "source": [
    "import requests\n",
    "from bson import json_util"
   ]
  },
  {
   "cell_type": "code",
   "execution_count": 3,
   "metadata": {},
   "outputs": [],
   "source": [
    "import collections\n",
    "from pathlib import Path"
   ]
  },
  {
   "cell_type": "code",
   "execution_count": 4,
   "metadata": {},
   "outputs": [],
   "source": [
    "from pprint import pprint"
   ]
  },
  {
   "cell_type": "markdown",
   "metadata": {},
   "source": [
    "## Set up"
   ]
  },
  {
   "cell_type": "markdown",
   "metadata": {},
   "source": [
    "This connects to the MongoDB daemon"
   ]
  },
  {
   "cell_type": "code",
   "execution_count": 5,
   "metadata": {},
   "outputs": [],
   "source": [
    "client = MongoClient()"
   ]
  },
  {
   "cell_type": "markdown",
   "metadata": {},
   "source": [
    "This specifies the database. It does not matter if it does not exist."
   ]
  },
  {
   "cell_type": "code",
   "execution_count": 6,
   "metadata": {},
   "outputs": [],
   "source": [
    "client.drop_database('starwars')"
   ]
  },
  {
   "cell_type": "code",
   "execution_count": 7,
   "metadata": {},
   "outputs": [],
   "source": [
    "db = client.starwars"
   ]
  },
  {
   "cell_type": "markdown",
   "metadata": {},
   "source": [
    "This specifies a `collection`"
   ]
  },
  {
   "cell_type": "code",
   "execution_count": 8,
   "metadata": {},
   "outputs": [],
   "source": [
    "people = db.people"
   ]
  },
  {
   "cell_type": "markdown",
   "metadata": {},
   "source": [
    "Check what collections are in the database. Note that the `people` collection is only created when the first value is inserted."
   ]
  },
  {
   "cell_type": "code",
   "execution_count": 9,
   "metadata": {},
   "outputs": [
    {
     "data": {
      "text/plain": [
       "[]"
      ]
     },
     "execution_count": 9,
     "metadata": {},
     "output_type": "execute_result"
    }
   ],
   "source": [
    "db.list_collection_names()"
   ]
  },
  {
   "cell_type": "markdown",
   "metadata": {},
   "source": [
    "## Get Data"
   ]
  },
  {
   "cell_type": "code",
   "execution_count": 10,
   "metadata": {},
   "outputs": [],
   "source": [
    "base_url = 'https://swapi.co/api'"
   ]
  },
  {
   "cell_type": "code",
   "execution_count": 11,
   "metadata": {},
   "outputs": [],
   "source": [
    "resp = requests.get('https://swapi.co/api/people/1')\n",
    "data = resp.json()"
   ]
  },
  {
   "cell_type": "code",
   "execution_count": 12,
   "metadata": {},
   "outputs": [
    {
     "data": {
      "text/plain": [
       "{'name': 'Luke Skywalker',\n",
       " 'height': '172',\n",
       " 'mass': '77',\n",
       " 'hair_color': 'blond',\n",
       " 'skin_color': 'fair',\n",
       " 'eye_color': 'blue',\n",
       " 'birth_year': '19BBY',\n",
       " 'gender': 'male',\n",
       " 'homeworld': 'https://swapi.co/api/planets/1/',\n",
       " 'films': ['https://swapi.co/api/films/2/',\n",
       "  'https://swapi.co/api/films/6/',\n",
       "  'https://swapi.co/api/films/3/',\n",
       "  'https://swapi.co/api/films/1/',\n",
       "  'https://swapi.co/api/films/7/'],\n",
       " 'species': ['https://swapi.co/api/species/1/'],\n",
       " 'vehicles': ['https://swapi.co/api/vehicles/14/',\n",
       "  'https://swapi.co/api/vehicles/30/'],\n",
       " 'starships': ['https://swapi.co/api/starships/12/',\n",
       "  'https://swapi.co/api/starships/22/'],\n",
       " 'created': '2014-12-09T13:50:51.644000Z',\n",
       " 'edited': '2014-12-20T21:17:56.891000Z',\n",
       " 'url': 'https://swapi.co/api/people/1/'}"
      ]
     },
     "execution_count": 12,
     "metadata": {},
     "output_type": "execute_result"
    }
   ],
   "source": [
    "data"
   ]
  },
  {
   "cell_type": "code",
   "execution_count": 13,
   "metadata": {},
   "outputs": [],
   "source": [
    "def convert(data):\n",
    "    \"\"\"Nest inner API calls one level dowwn.\"\"\"\n",
    "    for key, val in data.items():\n",
    "        if isinstance(val, list):\n",
    "            data[key] = [requests.get(value).json() for value in val \n",
    "                         if isinstance(value, str) and value.startswith(base_url)]\n",
    "        else:\n",
    "            if isinstance(val, str) and val.startswith(base_url):\n",
    "                data[key] = requests.get(val).json() \n",
    "    return data"
   ]
  },
  {
   "cell_type": "code",
   "execution_count": 14,
   "metadata": {},
   "outputs": [],
   "source": [
    "luke = convert(data)"
   ]
  },
  {
   "cell_type": "code",
   "execution_count": 27,
   "metadata": {},
   "outputs": [],
   "source": [
    "def to_int(d, fields):\n",
    "    for field in fields:\n",
    "        try:\n",
    "            d[field] = int(d[field])\n",
    "        except:\n",
    "            pass\n",
    "    return d"
   ]
  },
  {
   "cell_type": "code",
   "execution_count": 16,
   "metadata": {},
   "outputs": [],
   "source": [
    "luke = to_int(luke, ['height', 'mass'])"
   ]
  },
  {
   "cell_type": "code",
   "execution_count": 17,
   "metadata": {
    "scrolled": false
   },
   "outputs": [
    {
     "name": "stdout",
     "output_type": "stream",
     "text": [
      "{'birth_year': '19BBY',\n",
      " 'created': '2014-12-09T13:50:51.644000Z',\n",
      " 'edited': '2014-12-20T21:17:56.891000Z',\n",
      " 'eye_color': 'blue',\n",
      " 'films': [{'characters': ['https://swapi.co/api/people/1/',\n",
      "                           'https://swapi.co/api/people/2/',\n",
      "                           'https://swapi.co/api/people/3/',\n",
      "                           'https://swapi.co/api/people/4/',\n",
      "                           'https://swapi.co/api/people/5/',\n",
      "                           'https://swapi.co/api/people/10/',\n",
      "                           'https://swapi.co/api/people/13/',\n",
      "                           'https://swapi.co/api/people/14/',\n",
      "                           'https://swapi.co/api/people/18/',\n",
      "                           'https://swapi.co/api/people/20/',\n",
      "                           'https://swapi.co/api/people/21/',\n",
      "                           'https://swapi.co/api/people/22/',\n",
      "                           'https://swapi.co/api/people/23/',\n",
      "                           'https://swapi.co/api/people/24/',\n",
      "                           'https://swapi.co/api/people/25/',\n",
      "                           'https://swapi.co/api/people/26/'],\n",
      "            'created': '2014-12-12T11:26:24.656000Z',\n",
      "            'director': 'Irvin Kershner',\n",
      "            'edited': '2017-04-19T10:57:29.544256Z',\n",
      "            'episode_id': 5,\n",
      "            'opening_crawl': 'It is a dark time for the\\r\\n'\n",
      "                             'Rebellion. Although the Death\\r\\n'\n",
      "                             'Star has been destroyed,\\r\\n'\n",
      "                             'Imperial troops have driven the\\r\\n'\n",
      "                             'Rebel forces from their hidden\\r\\n'\n",
      "                             'base and pursued them across\\r\\n'\n",
      "                             'the galaxy.\\r\\n'\n",
      "                             '\\r\\n'\n",
      "                             'Evading the dreaded Imperial\\r\\n'\n",
      "                             'Starfleet, a group of freedom\\r\\n'\n",
      "                             'fighters led by Luke Skywalker\\r\\n'\n",
      "                             'has established a new secret\\r\\n'\n",
      "                             'base on the remote ice world\\r\\n'\n",
      "                             'of Hoth.\\r\\n'\n",
      "                             '\\r\\n'\n",
      "                             'The evil lord Darth Vader,\\r\\n'\n",
      "                             'obsessed with finding young\\r\\n'\n",
      "                             'Skywalker, has dispatched\\r\\n'\n",
      "                             'thousands of remote probes into\\r\\n'\n",
      "                             'the far reaches of space....',\n",
      "            'planets': ['https://swapi.co/api/planets/4/',\n",
      "                        'https://swapi.co/api/planets/5/',\n",
      "                        'https://swapi.co/api/planets/6/',\n",
      "                        'https://swapi.co/api/planets/27/'],\n",
      "            'producer': 'Gary Kurtz, Rick McCallum',\n",
      "            'release_date': '1980-05-17',\n",
      "            'species': ['https://swapi.co/api/species/6/',\n",
      "                        'https://swapi.co/api/species/7/',\n",
      "                        'https://swapi.co/api/species/3/',\n",
      "                        'https://swapi.co/api/species/2/',\n",
      "                        'https://swapi.co/api/species/1/'],\n",
      "            'starships': ['https://swapi.co/api/starships/15/',\n",
      "                          'https://swapi.co/api/starships/10/',\n",
      "                          'https://swapi.co/api/starships/11/',\n",
      "                          'https://swapi.co/api/starships/12/',\n",
      "                          'https://swapi.co/api/starships/21/',\n",
      "                          'https://swapi.co/api/starships/22/',\n",
      "                          'https://swapi.co/api/starships/23/',\n",
      "                          'https://swapi.co/api/starships/3/',\n",
      "                          'https://swapi.co/api/starships/17/'],\n",
      "            'title': 'The Empire Strikes Back',\n",
      "            'url': 'https://swapi.co/api/films/2/',\n",
      "            'vehicles': ['https://swapi.co/api/vehicles/8/',\n",
      "                         'https://swapi.co/api/vehicles/14/',\n",
      "                         'https://swapi.co/api/vehicles/16/',\n",
      "                         'https://swapi.co/api/vehicles/18/',\n",
      "                         'https://swapi.co/api/vehicles/19/',\n",
      "                         'https://swapi.co/api/vehicles/20/']},\n",
      "           {'characters': ['https://swapi.co/api/people/1/',\n",
      "                           'https://swapi.co/api/people/2/',\n",
      "                           'https://swapi.co/api/people/3/',\n",
      "                           'https://swapi.co/api/people/4/',\n",
      "                           'https://swapi.co/api/people/5/',\n",
      "                           'https://swapi.co/api/people/6/',\n",
      "                           'https://swapi.co/api/people/7/',\n",
      "                           'https://swapi.co/api/people/10/',\n",
      "                           'https://swapi.co/api/people/11/',\n",
      "                           'https://swapi.co/api/people/12/',\n",
      "                           'https://swapi.co/api/people/13/',\n",
      "                           'https://swapi.co/api/people/20/',\n",
      "                           'https://swapi.co/api/people/21/',\n",
      "                           'https://swapi.co/api/people/33/',\n",
      "                           'https://swapi.co/api/people/46/',\n",
      "                           'https://swapi.co/api/people/51/',\n",
      "                           'https://swapi.co/api/people/52/',\n",
      "                           'https://swapi.co/api/people/53/',\n",
      "                           'https://swapi.co/api/people/54/',\n",
      "                           'https://swapi.co/api/people/55/',\n",
      "                           'https://swapi.co/api/people/56/',\n",
      "                           'https://swapi.co/api/people/58/',\n",
      "                           'https://swapi.co/api/people/63/',\n",
      "                           'https://swapi.co/api/people/64/',\n",
      "                           'https://swapi.co/api/people/67/',\n",
      "                           'https://swapi.co/api/people/68/',\n",
      "                           'https://swapi.co/api/people/75/',\n",
      "                           'https://swapi.co/api/people/78/',\n",
      "                           'https://swapi.co/api/people/79/',\n",
      "                           'https://swapi.co/api/people/80/',\n",
      "                           'https://swapi.co/api/people/81/',\n",
      "                           'https://swapi.co/api/people/82/',\n",
      "                           'https://swapi.co/api/people/83/',\n",
      "                           'https://swapi.co/api/people/35/'],\n",
      "            'created': '2014-12-20T18:49:38.403000Z',\n",
      "            'director': 'George Lucas',\n",
      "            'edited': '2015-04-11T09:45:44.862122Z',\n",
      "            'episode_id': 3,\n",
      "            'opening_crawl': 'War! The Republic is crumbling\\r\\n'\n",
      "                             'under attacks by the ruthless\\r\\n'\n",
      "                             'Sith Lord, Count Dooku.\\r\\n'\n",
      "                             'There are heroes on both sides.\\r\\n'\n",
      "                             'Evil is everywhere.\\r\\n'\n",
      "                             '\\r\\n'\n",
      "                             'In a stunning move, the\\r\\n'\n",
      "                             'fiendish droid leader, General\\r\\n'\n",
      "                             'Grievous, has swept into the\\r\\n'\n",
      "                             'Republic capital and kidnapped\\r\\n'\n",
      "                             'Chancellor Palpatine, leader of\\r\\n'\n",
      "                             'the Galactic Senate.\\r\\n'\n",
      "                             '\\r\\n'\n",
      "                             'As the Separatist Droid Army\\r\\n'\n",
      "                             'attempts to flee the besieged\\r\\n'\n",
      "                             'capital with their valuable\\r\\n'\n",
      "                             'hostage, two Jedi Knights lead a\\r\\n'\n",
      "                             'desperate mission to rescue the\\r\\n'\n",
      "                             'captive Chancellor....',\n",
      "            'planets': ['https://swapi.co/api/planets/2/',\n",
      "                        'https://swapi.co/api/planets/5/',\n",
      "                        'https://swapi.co/api/planets/8/',\n",
      "                        'https://swapi.co/api/planets/9/',\n",
      "                        'https://swapi.co/api/planets/12/',\n",
      "                        'https://swapi.co/api/planets/13/',\n",
      "                        'https://swapi.co/api/planets/14/',\n",
      "                        'https://swapi.co/api/planets/15/',\n",
      "                        'https://swapi.co/api/planets/16/',\n",
      "                        'https://swapi.co/api/planets/17/',\n",
      "                        'https://swapi.co/api/planets/18/',\n",
      "                        'https://swapi.co/api/planets/19/',\n",
      "                        'https://swapi.co/api/planets/1/'],\n",
      "            'producer': 'Rick McCallum',\n",
      "            'release_date': '2005-05-19',\n",
      "            'species': ['https://swapi.co/api/species/19/',\n",
      "                        'https://swapi.co/api/species/33/',\n",
      "                        'https://swapi.co/api/species/2/',\n",
      "                        'https://swapi.co/api/species/3/',\n",
      "                        'https://swapi.co/api/species/36/',\n",
      "                        'https://swapi.co/api/species/37/',\n",
      "                        'https://swapi.co/api/species/6/',\n",
      "                        'https://swapi.co/api/species/1/',\n",
      "                        'https://swapi.co/api/species/34/',\n",
      "                        'https://swapi.co/api/species/15/',\n",
      "                        'https://swapi.co/api/species/35/',\n",
      "                        'https://swapi.co/api/species/20/',\n",
      "                        'https://swapi.co/api/species/23/',\n",
      "                        'https://swapi.co/api/species/24/',\n",
      "                        'https://swapi.co/api/species/25/',\n",
      "                        'https://swapi.co/api/species/26/',\n",
      "                        'https://swapi.co/api/species/27/',\n",
      "                        'https://swapi.co/api/species/28/',\n",
      "                        'https://swapi.co/api/species/29/',\n",
      "                        'https://swapi.co/api/species/30/'],\n",
      "            'starships': ['https://swapi.co/api/starships/48/',\n",
      "                          'https://swapi.co/api/starships/59/',\n",
      "                          'https://swapi.co/api/starships/61/',\n",
      "                          'https://swapi.co/api/starships/32/',\n",
      "                          'https://swapi.co/api/starships/63/',\n",
      "                          'https://swapi.co/api/starships/64/',\n",
      "                          'https://swapi.co/api/starships/65/',\n",
      "                          'https://swapi.co/api/starships/66/',\n",
      "                          'https://swapi.co/api/starships/74/',\n",
      "                          'https://swapi.co/api/starships/75/',\n",
      "                          'https://swapi.co/api/starships/2/',\n",
      "                          'https://swapi.co/api/starships/68/'],\n",
      "            'title': 'Revenge of the Sith',\n",
      "            'url': 'https://swapi.co/api/films/6/',\n",
      "            'vehicles': ['https://swapi.co/api/vehicles/33/',\n",
      "                         'https://swapi.co/api/vehicles/50/',\n",
      "                         'https://swapi.co/api/vehicles/53/',\n",
      "                         'https://swapi.co/api/vehicles/56/',\n",
      "                         'https://swapi.co/api/vehicles/60/',\n",
      "                         'https://swapi.co/api/vehicles/62/',\n",
      "                         'https://swapi.co/api/vehicles/67/',\n",
      "                         'https://swapi.co/api/vehicles/69/',\n",
      "                         'https://swapi.co/api/vehicles/70/',\n",
      "                         'https://swapi.co/api/vehicles/71/',\n",
      "                         'https://swapi.co/api/vehicles/72/',\n",
      "                         'https://swapi.co/api/vehicles/73/',\n",
      "                         'https://swapi.co/api/vehicles/76/']},\n",
      "           {'characters': ['https://swapi.co/api/people/1/',\n",
      "                           'https://swapi.co/api/people/2/',\n",
      "                           'https://swapi.co/api/people/3/',\n",
      "                           'https://swapi.co/api/people/4/',\n",
      "                           'https://swapi.co/api/people/5/',\n",
      "                           'https://swapi.co/api/people/10/',\n",
      "                           'https://swapi.co/api/people/13/',\n",
      "                           'https://swapi.co/api/people/14/',\n",
      "                           'https://swapi.co/api/people/16/',\n",
      "                           'https://swapi.co/api/people/18/',\n",
      "                           'https://swapi.co/api/people/20/',\n",
      "                           'https://swapi.co/api/people/21/',\n",
      "                           'https://swapi.co/api/people/22/',\n",
      "                           'https://swapi.co/api/people/25/',\n",
      "                           'https://swapi.co/api/people/27/',\n",
      "                           'https://swapi.co/api/people/28/',\n",
      "                           'https://swapi.co/api/people/29/',\n",
      "                           'https://swapi.co/api/people/30/',\n",
      "                           'https://swapi.co/api/people/31/',\n",
      "                           'https://swapi.co/api/people/45/'],\n",
      "            'created': '2014-12-18T10:39:33.255000Z',\n",
      "            'director': 'Richard Marquand',\n",
      "            'edited': '2015-04-11T09:46:05.220365Z',\n",
      "            'episode_id': 6,\n",
      "            'opening_crawl': 'Luke Skywalker has returned to\\r\\n'\n",
      "                             'his home planet of Tatooine in\\r\\n'\n",
      "                             'an attempt to rescue his\\r\\n'\n",
      "                             'friend Han Solo from the\\r\\n'\n",
      "                             'clutches of the vile gangster\\r\\n'\n",
      "                             'Jabba the Hutt.\\r\\n'\n",
      "                             '\\r\\n'\n",
      "                             'Little does Luke know that the\\r\\n'\n",
      "                             'GALACTIC EMPIRE has secretly\\r\\n'\n",
      "                             'begun construction on a new\\r\\n'\n",
      "                             'armored space station even\\r\\n'\n",
      "                             'more powerful than the first\\r\\n'\n",
      "                             'dreaded Death Star.\\r\\n'\n",
      "                             '\\r\\n'\n",
      "                             'When completed, this ultimate\\r\\n'\n",
      "                             'weapon will spell certain doom\\r\\n'\n",
      "                             'for the small band of rebels\\r\\n'\n",
      "                             'struggling to restore freedom\\r\\n'\n",
      "                             'to the galaxy...',\n",
      "            'planets': ['https://swapi.co/api/planets/5/',\n",
      "                        'https://swapi.co/api/planets/7/',\n",
      "                        'https://swapi.co/api/planets/8/',\n",
      "                        'https://swapi.co/api/planets/9/',\n",
      "                        'https://swapi.co/api/planets/1/'],\n",
      "            'producer': 'Howard G. Kazanjian, George Lucas, Rick McCallum',\n",
      "            'release_date': '1983-05-25',\n",
      "            'species': ['https://swapi.co/api/species/1/',\n",
      "                        'https://swapi.co/api/species/2/',\n",
      "                        'https://swapi.co/api/species/3/',\n",
      "                        'https://swapi.co/api/species/5/',\n",
      "                        'https://swapi.co/api/species/6/',\n",
      "                        'https://swapi.co/api/species/8/',\n",
      "                        'https://swapi.co/api/species/9/',\n",
      "                        'https://swapi.co/api/species/10/',\n",
      "                        'https://swapi.co/api/species/15/'],\n",
      "            'starships': ['https://swapi.co/api/starships/15/',\n",
      "                          'https://swapi.co/api/starships/10/',\n",
      "                          'https://swapi.co/api/starships/11/',\n",
      "                          'https://swapi.co/api/starships/12/',\n",
      "                          'https://swapi.co/api/starships/22/',\n",
      "                          'https://swapi.co/api/starships/23/',\n",
      "                          'https://swapi.co/api/starships/27/',\n",
      "                          'https://swapi.co/api/starships/28/',\n",
      "                          'https://swapi.co/api/starships/29/',\n",
      "                          'https://swapi.co/api/starships/3/',\n",
      "                          'https://swapi.co/api/starships/17/',\n",
      "                          'https://swapi.co/api/starships/2/'],\n",
      "            'title': 'Return of the Jedi',\n",
      "            'url': 'https://swapi.co/api/films/3/',\n",
      "            'vehicles': ['https://swapi.co/api/vehicles/8/',\n",
      "                         'https://swapi.co/api/vehicles/16/',\n",
      "                         'https://swapi.co/api/vehicles/18/',\n",
      "                         'https://swapi.co/api/vehicles/19/',\n",
      "                         'https://swapi.co/api/vehicles/24/',\n",
      "                         'https://swapi.co/api/vehicles/25/',\n",
      "                         'https://swapi.co/api/vehicles/26/',\n",
      "                         'https://swapi.co/api/vehicles/30/']},\n",
      "           {'characters': ['https://swapi.co/api/people/1/',\n",
      "                           'https://swapi.co/api/people/2/',\n",
      "                           'https://swapi.co/api/people/3/',\n",
      "                           'https://swapi.co/api/people/4/',\n",
      "                           'https://swapi.co/api/people/5/',\n",
      "                           'https://swapi.co/api/people/6/',\n",
      "                           'https://swapi.co/api/people/7/',\n",
      "                           'https://swapi.co/api/people/8/',\n",
      "                           'https://swapi.co/api/people/9/',\n",
      "                           'https://swapi.co/api/people/10/',\n",
      "                           'https://swapi.co/api/people/12/',\n",
      "                           'https://swapi.co/api/people/13/',\n",
      "                           'https://swapi.co/api/people/14/',\n",
      "                           'https://swapi.co/api/people/15/',\n",
      "                           'https://swapi.co/api/people/16/',\n",
      "                           'https://swapi.co/api/people/18/',\n",
      "                           'https://swapi.co/api/people/19/',\n",
      "                           'https://swapi.co/api/people/81/'],\n",
      "            'created': '2014-12-10T14:23:31.880000Z',\n",
      "            'director': 'George Lucas',\n",
      "            'edited': '2015-04-11T09:46:52.774897Z',\n",
      "            'episode_id': 4,\n",
      "            'opening_crawl': 'It is a period of civil war.\\r\\n'\n",
      "                             'Rebel spaceships, striking\\r\\n'\n",
      "                             'from a hidden base, have won\\r\\n'\n",
      "                             'their first victory against\\r\\n'\n",
      "                             'the evil Galactic Empire.\\r\\n'\n",
      "                             '\\r\\n'\n",
      "                             'During the battle, Rebel\\r\\n'\n",
      "                             'spies managed to steal secret\\r\\n'\n",
      "                             \"plans to the Empire's\\r\\n\"\n",
      "                             'ultimate weapon, the DEATH\\r\\n'\n",
      "                             'STAR, an armored space\\r\\n'\n",
      "                             'station with enough power\\r\\n'\n",
      "                             'to destroy an entire planet.\\r\\n'\n",
      "                             '\\r\\n'\n",
      "                             \"Pursued by the Empire's\\r\\n\"\n",
      "                             'sinister agents, Princess\\r\\n'\n",
      "                             'Leia races home aboard her\\r\\n'\n",
      "                             'starship, custodian of the\\r\\n'\n",
      "                             'stolen plans that can save her\\r\\n'\n",
      "                             'people and restore\\r\\n'\n",
      "                             'freedom to the galaxy....',\n",
      "            'planets': ['https://swapi.co/api/planets/2/',\n",
      "                        'https://swapi.co/api/planets/3/',\n",
      "                        'https://swapi.co/api/planets/1/'],\n",
      "            'producer': 'Gary Kurtz, Rick McCallum',\n",
      "            'release_date': '1977-05-25',\n",
      "            'species': ['https://swapi.co/api/species/5/',\n",
      "                        'https://swapi.co/api/species/3/',\n",
      "                        'https://swapi.co/api/species/2/',\n",
      "                        'https://swapi.co/api/species/1/',\n",
      "                        'https://swapi.co/api/species/4/'],\n",
      "            'starships': ['https://swapi.co/api/starships/2/',\n",
      "                          'https://swapi.co/api/starships/3/',\n",
      "                          'https://swapi.co/api/starships/5/',\n",
      "                          'https://swapi.co/api/starships/9/',\n",
      "                          'https://swapi.co/api/starships/10/',\n",
      "                          'https://swapi.co/api/starships/11/',\n",
      "                          'https://swapi.co/api/starships/12/',\n",
      "                          'https://swapi.co/api/starships/13/'],\n",
      "            'title': 'A New Hope',\n",
      "            'url': 'https://swapi.co/api/films/1/',\n",
      "            'vehicles': ['https://swapi.co/api/vehicles/4/',\n",
      "                         'https://swapi.co/api/vehicles/6/',\n",
      "                         'https://swapi.co/api/vehicles/7/',\n",
      "                         'https://swapi.co/api/vehicles/8/']},\n",
      "           {'characters': ['https://swapi.co/api/people/1/',\n",
      "                           'https://swapi.co/api/people/3/',\n",
      "                           'https://swapi.co/api/people/5/',\n",
      "                           'https://swapi.co/api/people/13/',\n",
      "                           'https://swapi.co/api/people/14/',\n",
      "                           'https://swapi.co/api/people/27/',\n",
      "                           'https://swapi.co/api/people/84/',\n",
      "                           'https://swapi.co/api/people/85/',\n",
      "                           'https://swapi.co/api/people/86/',\n",
      "                           'https://swapi.co/api/people/87/',\n",
      "                           'https://swapi.co/api/people/88/'],\n",
      "            'created': '2015-04-17T06:51:30.504780Z',\n",
      "            'director': 'J. J. Abrams',\n",
      "            'edited': '2015-12-17T14:31:47.617768Z',\n",
      "            'episode_id': 7,\n",
      "            'opening_crawl': 'Luke Skywalker has vanished.\\r\\n'\n",
      "                             'In his absence, the sinister\\r\\n'\n",
      "                             'FIRST ORDER has risen from\\r\\n'\n",
      "                             'the ashes of the Empire\\r\\n'\n",
      "                             'and will not rest until\\r\\n'\n",
      "                             'Skywalker, the last Jedi,\\r\\n'\n",
      "                             'has been destroyed.\\r\\n'\n",
      "                             ' \\r\\n'\n",
      "                             'With the support of the\\r\\n'\n",
      "                             'REPUBLIC, General Leia Organa\\r\\n'\n",
      "                             'leads a brave RESISTANCE.\\r\\n'\n",
      "                             'She is desperate to find her\\r\\n'\n",
      "                             'brother Luke and gain his\\r\\n'\n",
      "                             'help in restoring peace and\\r\\n'\n",
      "                             'justice to the galaxy.\\r\\n'\n",
      "                             ' \\r\\n'\n",
      "                             'Leia has sent her most daring\\r\\n'\n",
      "                             'pilot on a secret mission\\r\\n'\n",
      "                             'to Jakku, where an old ally\\r\\n'\n",
      "                             'has discovered a clue to\\r\\n'\n",
      "                             \"Luke's whereabouts....\",\n",
      "            'planets': ['https://swapi.co/api/planets/61/'],\n",
      "            'producer': 'Kathleen Kennedy, J. J. Abrams, Bryan Burk',\n",
      "            'release_date': '2015-12-11',\n",
      "            'species': ['https://swapi.co/api/species/3/',\n",
      "                        'https://swapi.co/api/species/2/',\n",
      "                        'https://swapi.co/api/species/1/'],\n",
      "            'starships': ['https://swapi.co/api/starships/77/',\n",
      "                          'https://swapi.co/api/starships/10/'],\n",
      "            'title': 'The Force Awakens',\n",
      "            'url': 'https://swapi.co/api/films/7/',\n",
      "            'vehicles': []}],\n",
      " 'gender': 'male',\n",
      " 'hair_color': 'blond',\n",
      " 'height': 172,\n",
      " 'homeworld': {'climate': 'arid',\n",
      "               'created': '2014-12-09T13:50:49.641000Z',\n",
      "               'diameter': '10465',\n",
      "               'edited': '2014-12-21T20:48:04.175778Z',\n",
      "               'films': ['https://swapi.co/api/films/5/',\n",
      "                         'https://swapi.co/api/films/4/',\n",
      "                         'https://swapi.co/api/films/6/',\n",
      "                         'https://swapi.co/api/films/3/',\n",
      "                         'https://swapi.co/api/films/1/'],\n",
      "               'gravity': '1 standard',\n",
      "               'name': 'Tatooine',\n",
      "               'orbital_period': '304',\n",
      "               'population': '200000',\n",
      "               'residents': ['https://swapi.co/api/people/1/',\n",
      "                             'https://swapi.co/api/people/2/',\n",
      "                             'https://swapi.co/api/people/4/',\n",
      "                             'https://swapi.co/api/people/6/',\n",
      "                             'https://swapi.co/api/people/7/',\n",
      "                             'https://swapi.co/api/people/8/',\n",
      "                             'https://swapi.co/api/people/9/',\n",
      "                             'https://swapi.co/api/people/11/',\n",
      "                             'https://swapi.co/api/people/43/',\n",
      "                             'https://swapi.co/api/people/62/'],\n",
      "               'rotation_period': '23',\n",
      "               'surface_water': '1',\n",
      "               'terrain': 'desert',\n",
      "               'url': 'https://swapi.co/api/planets/1/'},\n",
      " 'mass': 77,\n",
      " 'name': 'Luke Skywalker',\n",
      " 'skin_color': 'fair',\n",
      " 'species': [{'average_height': '180',\n",
      "              'average_lifespan': '120',\n",
      "              'classification': 'mammal',\n",
      "              'created': '2014-12-10T13:52:11.567000Z',\n",
      "              'designation': 'sentient',\n",
      "              'edited': '2015-04-17T06:59:55.850671Z',\n",
      "              'eye_colors': 'brown, blue, green, hazel, grey, amber',\n",
      "              'films': ['https://swapi.co/api/films/2/',\n",
      "                        'https://swapi.co/api/films/7/',\n",
      "                        'https://swapi.co/api/films/5/',\n",
      "                        'https://swapi.co/api/films/4/',\n",
      "                        'https://swapi.co/api/films/6/',\n",
      "                        'https://swapi.co/api/films/3/',\n",
      "                        'https://swapi.co/api/films/1/'],\n",
      "              'hair_colors': 'blonde, brown, black, red',\n",
      "              'homeworld': 'https://swapi.co/api/planets/9/',\n",
      "              'language': 'Galactic Basic',\n",
      "              'name': 'Human',\n",
      "              'people': ['https://swapi.co/api/people/1/',\n",
      "                         'https://swapi.co/api/people/4/',\n",
      "                         'https://swapi.co/api/people/5/',\n",
      "                         'https://swapi.co/api/people/6/',\n",
      "                         'https://swapi.co/api/people/7/',\n",
      "                         'https://swapi.co/api/people/9/',\n",
      "                         'https://swapi.co/api/people/10/',\n",
      "                         'https://swapi.co/api/people/11/',\n",
      "                         'https://swapi.co/api/people/12/',\n",
      "                         'https://swapi.co/api/people/14/',\n",
      "                         'https://swapi.co/api/people/18/',\n",
      "                         'https://swapi.co/api/people/19/',\n",
      "                         'https://swapi.co/api/people/21/',\n",
      "                         'https://swapi.co/api/people/22/',\n",
      "                         'https://swapi.co/api/people/25/',\n",
      "                         'https://swapi.co/api/people/26/',\n",
      "                         'https://swapi.co/api/people/28/',\n",
      "                         'https://swapi.co/api/people/29/',\n",
      "                         'https://swapi.co/api/people/32/',\n",
      "                         'https://swapi.co/api/people/34/',\n",
      "                         'https://swapi.co/api/people/43/',\n",
      "                         'https://swapi.co/api/people/51/',\n",
      "                         'https://swapi.co/api/people/60/',\n",
      "                         'https://swapi.co/api/people/61/',\n",
      "                         'https://swapi.co/api/people/62/',\n",
      "                         'https://swapi.co/api/people/66/',\n",
      "                         'https://swapi.co/api/people/67/',\n",
      "                         'https://swapi.co/api/people/68/',\n",
      "                         'https://swapi.co/api/people/69/',\n",
      "                         'https://swapi.co/api/people/74/',\n",
      "                         'https://swapi.co/api/people/81/',\n",
      "                         'https://swapi.co/api/people/84/',\n",
      "                         'https://swapi.co/api/people/85/',\n",
      "                         'https://swapi.co/api/people/86/',\n",
      "                         'https://swapi.co/api/people/35/'],\n",
      "              'skin_colors': 'caucasian, black, asian, hispanic',\n",
      "              'url': 'https://swapi.co/api/species/1/'}],\n",
      " 'starships': [{'MGLT': '100',\n",
      "                'cargo_capacity': '110',\n",
      "                'consumables': '1 week',\n",
      "                'cost_in_credits': '149999',\n",
      "                'created': '2014-12-12T11:19:05.340000Z',\n",
      "                'crew': '1',\n",
      "                'edited': '2014-12-22T17:35:44.491233Z',\n",
      "                'films': ['https://swapi.co/api/films/2/',\n",
      "                          'https://swapi.co/api/films/3/',\n",
      "                          'https://swapi.co/api/films/1/'],\n",
      "                'hyperdrive_rating': '1.0',\n",
      "                'length': '12.5',\n",
      "                'manufacturer': 'Incom Corporation',\n",
      "                'max_atmosphering_speed': '1050',\n",
      "                'model': 'T-65 X-wing',\n",
      "                'name': 'X-wing',\n",
      "                'passengers': '0',\n",
      "                'pilots': ['https://swapi.co/api/people/1/',\n",
      "                           'https://swapi.co/api/people/9/',\n",
      "                           'https://swapi.co/api/people/18/',\n",
      "                           'https://swapi.co/api/people/19/'],\n",
      "                'starship_class': 'Starfighter',\n",
      "                'url': 'https://swapi.co/api/starships/12/'},\n",
      "               {'MGLT': '50',\n",
      "                'cargo_capacity': '80000',\n",
      "                'consumables': '2 months',\n",
      "                'cost_in_credits': '240000',\n",
      "                'created': '2014-12-15T13:04:47.235000Z',\n",
      "                'crew': '6',\n",
      "                'edited': '2014-12-22T17:35:44.795405Z',\n",
      "                'films': ['https://swapi.co/api/films/2/',\n",
      "                          'https://swapi.co/api/films/3/'],\n",
      "                'hyperdrive_rating': '1.0',\n",
      "                'length': '20',\n",
      "                'manufacturer': 'Sienar Fleet Systems',\n",
      "                'max_atmosphering_speed': '850',\n",
      "                'model': 'Lambda-class T-4a shuttle',\n",
      "                'name': 'Imperial shuttle',\n",
      "                'passengers': '20',\n",
      "                'pilots': ['https://swapi.co/api/people/1/',\n",
      "                           'https://swapi.co/api/people/13/',\n",
      "                           'https://swapi.co/api/people/14/'],\n",
      "                'starship_class': 'Armed government transport',\n",
      "                'url': 'https://swapi.co/api/starships/22/'}],\n",
      " 'url': {'birth_year': '19BBY',\n",
      "         'created': '2014-12-09T13:50:51.644000Z',\n",
      "         'edited': '2014-12-20T21:17:56.891000Z',\n",
      "         'eye_color': 'blue',\n",
      "         'films': ['https://swapi.co/api/films/2/',\n",
      "                   'https://swapi.co/api/films/6/',\n",
      "                   'https://swapi.co/api/films/3/',\n",
      "                   'https://swapi.co/api/films/1/',\n",
      "                   'https://swapi.co/api/films/7/'],\n",
      "         'gender': 'male',\n",
      "         'hair_color': 'blond',\n",
      "         'height': '172',\n",
      "         'homeworld': 'https://swapi.co/api/planets/1/',\n",
      "         'mass': '77',\n",
      "         'name': 'Luke Skywalker',\n",
      "         'skin_color': 'fair',\n",
      "         'species': ['https://swapi.co/api/species/1/'],\n",
      "         'starships': ['https://swapi.co/api/starships/12/',\n",
      "                       'https://swapi.co/api/starships/22/'],\n",
      "         'url': 'https://swapi.co/api/people/1/',\n",
      "         'vehicles': ['https://swapi.co/api/vehicles/14/',\n",
      "                      'https://swapi.co/api/vehicles/30/']},\n",
      " 'vehicles': [{'cargo_capacity': '10',\n",
      "               'consumables': 'none',\n",
      "               'cost_in_credits': 'unknown',\n",
      "               'created': '2014-12-15T12:22:12Z',\n",
      "               'crew': '2',\n",
      "               'edited': '2014-12-22T18:21:15.623033Z',\n",
      "               'films': ['https://swapi.co/api/films/2/'],\n",
      "               'length': '4.5',\n",
      "               'manufacturer': 'Incom corporation',\n",
      "               'max_atmosphering_speed': '650',\n",
      "               'model': 't-47 airspeeder',\n",
      "               'name': 'Snowspeeder',\n",
      "               'passengers': '0',\n",
      "               'pilots': ['https://swapi.co/api/people/1/',\n",
      "                          'https://swapi.co/api/people/18/'],\n",
      "               'url': 'https://swapi.co/api/vehicles/14/',\n",
      "               'vehicle_class': 'airspeeder'},\n",
      "              {'cargo_capacity': '4',\n",
      "               'consumables': '1 day',\n",
      "               'cost_in_credits': '8000',\n",
      "               'created': '2014-12-18T11:20:04.625000Z',\n",
      "               'crew': '1',\n",
      "               'edited': '2014-12-22T18:21:15.920537Z',\n",
      "               'films': ['https://swapi.co/api/films/3/'],\n",
      "               'length': '3',\n",
      "               'manufacturer': 'Aratech Repulsor Company',\n",
      "               'max_atmosphering_speed': '360',\n",
      "               'model': '74-Z speeder bike',\n",
      "               'name': 'Imperial Speeder Bike',\n",
      "               'passengers': '1',\n",
      "               'pilots': ['https://swapi.co/api/people/1/',\n",
      "                          'https://swapi.co/api/people/5/'],\n",
      "               'url': 'https://swapi.co/api/vehicles/30/',\n",
      "               'vehicle_class': 'speeder'}]}\n"
     ]
    }
   ],
   "source": [
    "pprint(data)"
   ]
  },
  {
   "cell_type": "markdown",
   "metadata": {},
   "source": [
    "## Insertion and retrieval"
   ]
  },
  {
   "cell_type": "code",
   "execution_count": 18,
   "metadata": {},
   "outputs": [],
   "source": [
    "result = people.insert_one(data)"
   ]
  },
  {
   "cell_type": "code",
   "execution_count": 19,
   "metadata": {},
   "outputs": [
    {
     "data": {
      "text/plain": [
       "['people']"
      ]
     },
     "execution_count": 19,
     "metadata": {},
     "output_type": "execute_result"
    }
   ],
   "source": [
    "db.list_collection_names()"
   ]
  },
  {
   "cell_type": "markdown",
   "metadata": {},
   "source": [
    "### Using search criteria"
   ]
  },
  {
   "cell_type": "code",
   "execution_count": 20,
   "metadata": {},
   "outputs": [
    {
     "data": {
      "text/plain": [
       "{'_id': ObjectId('5b8dc66f54f55e6828844e05'),\n",
       " 'name': 'Luke Skywalker',\n",
       " 'hair_color': 'blond',\n",
       " 'skin_color': 'fair',\n",
       " 'eye_color': 'blue'}"
      ]
     },
     "execution_count": 20,
     "metadata": {},
     "output_type": "execute_result"
    }
   ],
   "source": [
    "people.find_one(\n",
    "    {'name': 'Luke Skywalker'},\n",
    "    {'name': True, 'hair_color': True, 'skin_color': True, 'eye_color': True}\n",
    ")"
   ]
  },
  {
   "cell_type": "markdown",
   "metadata": {},
   "source": [
    "### Using object ID\n",
    "\n",
    "Note that ObjectID is NOT a string. You must convert a string to ObjectID before use."
   ]
  },
  {
   "cell_type": "code",
   "execution_count": 23,
   "metadata": {},
   "outputs": [
    {
     "data": {
      "text/plain": [
       "ObjectId('5b8dc66f54f55e6828844e05')"
      ]
     },
     "execution_count": 23,
     "metadata": {},
     "output_type": "execute_result"
    }
   ],
   "source": [
    "result.inserted_id"
   ]
  },
  {
   "cell_type": "code",
   "execution_count": 25,
   "metadata": {},
   "outputs": [
    {
     "data": {
      "text/plain": [
       "{'_id': ObjectId('5b8dc66f54f55e6828844e05'),\n",
       " 'name': 'Luke Skywalker',\n",
       " 'hair_color': 'blond',\n",
       " 'skin_color': 'fair',\n",
       " 'eye_color': 'blue'}"
      ]
     },
     "execution_count": 25,
     "metadata": {},
     "output_type": "execute_result"
    }
   ],
   "source": [
    "people.find_one(\n",
    "    result.inserted_id,\n",
    "    {'name': True, 'hair_color': True, 'skin_color': True, 'eye_color': True}\n",
    ")"
   ]
  },
  {
   "cell_type": "markdown",
   "metadata": {},
   "source": [
    "### Bulk inserts"
   ]
  },
  {
   "cell_type": "code",
   "execution_count": 28,
   "metadata": {},
   "outputs": [],
   "source": [
    "xs = [to_int(convert(requests.get('https://swapi.co/api/people/%i' % i).json()), \n",
    "             ['height', 'mass']) \n",
    "      for i in range(2, 21)]"
   ]
  },
  {
   "cell_type": "code",
   "execution_count": 29,
   "metadata": {
    "scrolled": false
   },
   "outputs": [],
   "source": [
    "result = people.insert_many(xs)"
   ]
  },
  {
   "cell_type": "code",
   "execution_count": 30,
   "metadata": {},
   "outputs": [
    {
     "data": {
      "text/plain": [
       "[ObjectId('5b8dc72354f55e6828844e06'),\n",
       " ObjectId('5b8dc72354f55e6828844e07'),\n",
       " ObjectId('5b8dc72354f55e6828844e08'),\n",
       " ObjectId('5b8dc72354f55e6828844e09'),\n",
       " ObjectId('5b8dc72354f55e6828844e0a'),\n",
       " ObjectId('5b8dc72354f55e6828844e0b'),\n",
       " ObjectId('5b8dc72354f55e6828844e0c'),\n",
       " ObjectId('5b8dc72354f55e6828844e0d'),\n",
       " ObjectId('5b8dc72354f55e6828844e0e'),\n",
       " ObjectId('5b8dc72354f55e6828844e0f'),\n",
       " ObjectId('5b8dc72354f55e6828844e10'),\n",
       " ObjectId('5b8dc72354f55e6828844e11'),\n",
       " ObjectId('5b8dc72354f55e6828844e12'),\n",
       " ObjectId('5b8dc72354f55e6828844e13'),\n",
       " ObjectId('5b8dc72354f55e6828844e14'),\n",
       " ObjectId('5b8dc72354f55e6828844e15'),\n",
       " ObjectId('5b8dc72354f55e6828844e16'),\n",
       " ObjectId('5b8dc72354f55e6828844e17'),\n",
       " ObjectId('5b8dc72354f55e6828844e18')]"
      ]
     },
     "execution_count": 30,
     "metadata": {},
     "output_type": "execute_result"
    }
   ],
   "source": [
    "result.inserted_ids"
   ]
  },
  {
   "cell_type": "markdown",
   "metadata": {},
   "source": [
    "### Bulk queries"
   ]
  },
  {
   "cell_type": "code",
   "execution_count": 33,
   "metadata": {},
   "outputs": [
    {
     "name": "stdout",
     "output_type": "stream",
     "text": [
      "Luke Skywalker\n",
      "Darth Vader\n",
      "Owen Lars\n",
      "Biggs Darklighter\n",
      "Obi-Wan Kenobi\n",
      "Anakin Skywalker\n",
      "Wilhuff Tarkin\n",
      "Chewbacca\n",
      "Han Solo\n",
      "Greedo\n",
      "Wedge Antilles\n",
      "Jek Tono Porkins\n",
      "Yoda\n"
     ]
    }
   ],
   "source": [
    "for person in people.find({'gender': 'male'}):\n",
    "    print(person['name'])"
   ]
  },
  {
   "cell_type": "code",
   "execution_count": 38,
   "metadata": {},
   "outputs": [
    {
     "name": "stdout",
     "output_type": "stream",
     "text": [
      "{'_id': ObjectId('5b8dc66f54f55e6828844e05'), 'name': 'Luke Skywalker', 'gender': 'male'}\n",
      "{'_id': ObjectId('5b8dc72354f55e6828844e08'), 'name': 'Darth Vader', 'gender': 'male'}\n",
      "{'_id': ObjectId('5b8dc72354f55e6828844e0a'), 'name': 'Owen Lars', 'gender': 'male'}\n",
      "{'_id': ObjectId('5b8dc72354f55e6828844e0d'), 'name': 'Biggs Darklighter', 'gender': 'male'}\n",
      "{'_id': ObjectId('5b8dc72354f55e6828844e0e'), 'name': 'Obi-Wan Kenobi', 'gender': 'male'}\n",
      "{'_id': ObjectId('5b8dc72354f55e6828844e0f'), 'name': 'Anakin Skywalker', 'gender': 'male'}\n",
      "{'_id': ObjectId('5b8dc72354f55e6828844e10'), 'name': 'Wilhuff Tarkin', 'gender': 'male'}\n",
      "{'_id': ObjectId('5b8dc72354f55e6828844e11'), 'name': 'Chewbacca', 'gender': 'male'}\n",
      "{'_id': ObjectId('5b8dc72354f55e6828844e12'), 'name': 'Han Solo', 'gender': 'male'}\n",
      "{'_id': ObjectId('5b8dc72354f55e6828844e13'), 'name': 'Greedo', 'gender': 'male'}\n",
      "{'_id': ObjectId('5b8dc72354f55e6828844e16'), 'name': 'Wedge Antilles', 'gender': 'male'}\n",
      "{'_id': ObjectId('5b8dc72354f55e6828844e17'), 'name': 'Jek Tono Porkins', 'gender': 'male'}\n",
      "{'_id': ObjectId('5b8dc72354f55e6828844e18'), 'name': 'Yoda', 'gender': 'male'}\n"
     ]
    }
   ],
   "source": [
    "for x in people.find(\n",
    "    {'gender': 'male'},              # search criteria \n",
    "    {'name': True, 'gender': True}): # fields to return\n",
    "    print(x)"
   ]
  },
  {
   "cell_type": "markdown",
   "metadata": {},
   "source": [
    "#### Using regex search"
   ]
  },
  {
   "cell_type": "code",
   "execution_count": 39,
   "metadata": {},
   "outputs": [
    {
     "name": "stdout",
     "output_type": "stream",
     "text": [
      "{'name': 'Luke Skywalker', 'gender': 'male'}\n",
      "{'name': 'Leia Organa', 'gender': 'female'}\n"
     ]
    }
   ],
   "source": [
    "for x in people.find(\n",
    "    {\n",
    "        'name': {'$regex': '^L'},\n",
    "    },\n",
    "    {'name': True, 'gender': True, '_id': False}\n",
    "):\n",
    "    print(x)"
   ]
  },
  {
   "cell_type": "markdown",
   "metadata": {},
   "source": [
    "Alternative using Python regular expressions."
   ]
  },
  {
   "cell_type": "code",
   "execution_count": 40,
   "metadata": {},
   "outputs": [],
   "source": [
    "import re\n",
    "\n",
    "name_pat = re.compile(r'^l', re.IGNORECASE)"
   ]
  },
  {
   "cell_type": "code",
   "execution_count": 42,
   "metadata": {},
   "outputs": [
    {
     "name": "stdout",
     "output_type": "stream",
     "text": [
      "{'name': 'Luke Skywalker', 'gender': 'male'}\n",
      "{'name': 'Leia Organa', 'gender': 'female'}\n"
     ]
    }
   ],
   "source": [
    "for x in people.find(\n",
    "    {\n",
    "        'name': name_pat,\n",
    "    },\n",
    "    {'name': True, 'gender': True, '_id': False}\n",
    "):\n",
    "    print(x)"
   ]
  },
  {
   "cell_type": "markdown",
   "metadata": {},
   "source": [
    "#### Using relational operators"
   ]
  },
  {
   "cell_type": "code",
   "execution_count": 43,
   "metadata": {},
   "outputs": [
    {
     "name": "stdout",
     "output_type": "stream",
     "text": [
      "{'name': 'Darth Vader', 'mass': 136}\n",
      "{'name': 'Owen Lars', 'mass': 120}\n",
      "{'name': 'Chewbacca', 'mass': 112}\n",
      "{'name': 'Jek Tono Porkins', 'mass': 110}\n"
     ]
    }
   ],
   "source": [
    "for x in people.find(\n",
    "    {\n",
    "        'mass': {'$gt': 100},\n",
    "    },\n",
    "    {'name': True, 'mass': True, '_id': False}\n",
    "):\n",
    "    print(x)"
   ]
  },
  {
   "cell_type": "code",
   "execution_count": 44,
   "metadata": {},
   "outputs": [],
   "source": [
    "mass_range = {'$lt': 100, '$gt': 50}"
   ]
  },
  {
   "cell_type": "code",
   "execution_count": 45,
   "metadata": {},
   "outputs": [
    {
     "name": "stdout",
     "output_type": "stream",
     "text": [
      "{'name': 'Luke Skywalker', 'mass': 77}\n",
      "{'name': 'C-3PO', 'mass': 75}\n",
      "{'name': 'Beru Whitesun lars', 'mass': 75}\n",
      "{'name': 'Biggs Darklighter', 'mass': 84}\n",
      "{'name': 'Obi-Wan Kenobi', 'mass': 77}\n",
      "{'name': 'Anakin Skywalker', 'mass': 84}\n",
      "{'name': 'Han Solo', 'mass': 80}\n",
      "{'name': 'Greedo', 'mass': 74}\n",
      "{'name': 'Wedge Antilles', 'mass': 77}\n"
     ]
    }
   ],
   "source": [
    "for x in people.find(\n",
    "    {\n",
    "        'mass': mass_range,\n",
    "    },\n",
    "    {'name': True, 'mass': True, '_id': False}\n",
    "):\n",
    "    print(x)"
   ]
  },
  {
   "cell_type": "code",
   "execution_count": 46,
   "metadata": {},
   "outputs": [
    {
     "name": "stdout",
     "output_type": "stream",
     "text": [
      "{'name': 'Luke Skywalker', 'mass': 77}\n",
      "{'name': 'C-3PO', 'mass': 75}\n",
      "{'name': 'Beru Whitesun lars', 'mass': 75}\n",
      "{'name': 'Biggs Darklighter', 'mass': 84}\n",
      "{'name': 'Obi-Wan Kenobi', 'mass': 77}\n",
      "{'name': 'Anakin Skywalker', 'mass': 84}\n",
      "{'name': 'Han Solo', 'mass': 80}\n",
      "{'name': 'Greedo', 'mass': 74}\n",
      "{'name': 'Wedge Antilles', 'mass': 77}\n"
     ]
    }
   ],
   "source": [
    "for x in people.find(\n",
    "    {\n",
    "        'mass': mass_range,\n",
    "    },\n",
    "    {'name': True, 'mass': True, '_id': False}\n",
    "):\n",
    "    print(x)"
   ]
  },
  {
   "cell_type": "markdown",
   "metadata": {},
   "source": [
    "#### Nested search"
   ]
  },
  {
   "cell_type": "code",
   "execution_count": null,
   "metadata": {},
   "outputs": [],
   "source": []
  },
  {
   "cell_type": "code",
   "execution_count": null,
   "metadata": {},
   "outputs": [],
   "source": [
    "people.count_documents({'gender': 'male'})"
   ]
  },
  {
   "cell_type": "code",
   "execution_count": null,
   "metadata": {},
   "outputs": [],
   "source": []
  }
 ],
 "metadata": {
  "kernelspec": {
   "display_name": "Python 3",
   "language": "python",
   "name": "python3"
  },
  "language_info": {
   "codemirror_mode": {
    "name": "ipython",
    "version": 3
   },
   "file_extension": ".py",
   "mimetype": "text/x-python",
   "name": "python",
   "nbconvert_exporter": "python",
   "pygments_lexer": "ipython3",
   "version": "3.6.5"
  }
 },
 "nbformat": 4,
 "nbformat_minor": 2
}
