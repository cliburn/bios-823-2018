{
 "cells": [
  {
   "cell_type": "code",
   "execution_count": 1,
   "metadata": {},
   "outputs": [],
   "source": [
    "from pyspark.sql import SparkSession"
   ]
  },
  {
   "cell_type": "code",
   "execution_count": 2,
   "metadata": {},
   "outputs": [],
   "source": [
    "spark = (\n",
    "    SparkSession.builder \n",
    "    .master(\"local\") \n",
    "    .appName(\"BIOS-821\") \n",
    "    .config(\"spark.executor.cores\", 4) \n",
    "    .getOrCreate()    \n",
    ")"
   ]
  },
  {
   "cell_type": "code",
   "execution_count": 3,
   "metadata": {},
   "outputs": [],
   "source": [
    "spark.conf.set('spark.sql.shuffle.partitions', 5)"
   ]
  },
  {
   "cell_type": "markdown",
   "metadata": {},
   "source": [
    "# Structured Streaming\n",
    "\n",
    "![img](https://tse2.mm.bing.net/th?id=OIP.sMrdnOlx6YJdnl6DU8RyswHaDz&pid=Api&w=1037&h=533&rs=1&p=0)\n",
    "\n",
    "Reference: [Structured Streaming Programming Guide](https://spark.apache.org/docs/latest/structured-streaming-programming-guide.html)\n",
    "\n",
    "## Basic concepts\n",
    "\n",
    "- sources\n",
    "- sinks\n",
    "- output mode\n",
    "- triggers\n",
    "- eventt time and watermarks"
   ]
  },
  {
   "cell_type": "markdown",
   "metadata": {},
   "source": [
    "## Example\n",
    "\n",
    "We use the exmaple and data set from [Spark: The Definitive Guide](https://github.com/databricks/Spark-The-Definitive-Guide)\n",
    "\n",
    "Details about the dataset can be found [here](https://archive.ics.uci.edu/ml/datasets/Heterogeneity+Activity+Recognition#)"
   ]
  },
  {
   "cell_type": "markdown",
   "metadata": {},
   "source": [
    "### Static DataFrame"
   ]
  },
  {
   "cell_type": "code",
   "execution_count": 4,
   "metadata": {},
   "outputs": [],
   "source": [
    "static = spark.read.json('data/activity-data/part-00000-tid-730451297822678341-1dda7027-2071-4d73-a0e2-7fb6a91e1d1f-0-c000.json')"
   ]
  },
  {
   "cell_type": "code",
   "execution_count": 5,
   "metadata": {},
   "outputs": [
    {
     "name": "stdout",
     "output_type": "stream",
     "text": [
      "root\n",
      " |-- Arrival_Time: long (nullable = true)\n",
      " |-- Creation_Time: long (nullable = true)\n",
      " |-- Device: string (nullable = true)\n",
      " |-- Index: long (nullable = true)\n",
      " |-- Model: string (nullable = true)\n",
      " |-- User: string (nullable = true)\n",
      " |-- gt: string (nullable = true)\n",
      " |-- x: double (nullable = true)\n",
      " |-- y: double (nullable = true)\n",
      " |-- z: double (nullable = true)\n",
      "\n"
     ]
    }
   ],
   "source": [
    "static.printSchema()"
   ]
  },
  {
   "cell_type": "code",
   "execution_count": 6,
   "metadata": {},
   "outputs": [
    {
     "name": "stdout",
     "output_type": "stream",
     "text": [
      "+-------------+-------------------+--------+-----+------+----+-----+-------------+-------------+-------------+\n",
      "| Arrival_Time|      Creation_Time|  Device|Index| Model|User|   gt|            x|            y|            z|\n",
      "+-------------+-------------------+--------+-----+------+----+-----+-------------+-------------+-------------+\n",
      "|1424686735175|1424686733176178965|nexus4_1|   35|nexus4|   g|stand| 0.0014038086|    5.0354E-4|-0.0124053955|\n",
      "|1424686735378|1424686733382813486|nexus4_1|   76|nexus4|   g|stand|-0.0039367676|  0.026138306|  -0.01133728|\n",
      "|1424686735577|1424686733579072031|nexus4_1|  115|nexus4|   g|stand|  0.003540039| -0.034744263| -0.019882202|\n",
      "|1424686735779|1424688581834321412|nexus4_2|  163|nexus4|   g|stand|  0.002822876|  0.005584717|  0.017318726|\n",
      "|1424686735982|1424688582035859498|nexus4_2|  203|nexus4|   g|stand| 0.0017547607| -0.018981934| -0.022201538|\n",
      "|1424686736186|1424686734188508066|nexus4_1|  236|nexus4|   g|stand| 0.0014038086|  0.010116577|  4.119873E-4|\n",
      "|1424686736385|1424688582438538941|nexus4_2|  283|nexus4|   g|stand|-0.0035858154| -0.008300781|  0.011978149|\n",
      "|1424686736584|1424688582640138062|nexus4_2|  323|nexus4|   g|stand|  6.866455E-4|-0.0018920898|-0.0061798096|\n",
      "|1424686736789|1424688582841554078|nexus4_2|  363|nexus4|   g|stand| 0.0038909912|  0.011993408|-0.0104522705|\n",
      "|1424686736992|1424688583042786988|nexus4_2|  403|nexus4|   g|stand| -0.001449585|  0.014129639| 0.0066375732|\n",
      "|1424686737194|1424686735201603448|nexus4_1|  436|nexus4|   g|stand| 0.0014038086| 0.0037078857| 0.0025482178|\n",
      "|1424686737394|1424686735402195489|nexus4_1|  476|nexus4|   g|stand| 0.0024719238| -0.009109497|-0.0017242432|\n",
      "|1424686737595|1424688583647799551|nexus4_2|  523|nexus4|   g|stand|-0.0046539307|  0.015197754|  0.008773804|\n",
      "|1424686737794|1424686735799800251|nexus4_1|  555|nexus4|   g|stand|-0.0018005371| 0.0015716553|  0.032455444|\n",
      "|1424686737996|1424688584049441397|nexus4_2|  603|nexus4|   g|stand| -0.001449585|-0.0040283203|  0.010910034|\n",
      "|1424686738198|1424688584251010000|nexus4_2|  643|nexus4|   g|stand|-0.0046539307|  0.015197754|  0.021591187|\n",
      "|1424686738417|1424688584472384512|nexus4_2|  679|nexus4|   g|stand| 0.0060272217| 0.0077209473| -0.038223267|\n",
      "|1424686738620|1424688584673983633|nexus4_2|  719|nexus4|   g|stand| -3.814697E-4| -0.015777588| -0.009384155|\n",
      "|1424686738821|1424688584875407249|nexus4_2|  759|nexus4|   g|stand| 0.0049591064|  -0.04675293|  2.288818E-4|\n",
      "|1424686739027|1424686737033510015|nexus4_1|  800|nexus4|   g|stand| -0.038116455|  0.015457153| 0.0025482178|\n",
      "+-------------+-------------------+--------+-----+------+----+-----+-------------+-------------+-------------+\n",
      "only showing top 20 rows\n",
      "\n"
     ]
    }
   ],
   "source": [
    "static.show()"
   ]
  },
  {
   "cell_type": "markdown",
   "metadata": {},
   "source": [
    "### Dynamic DataFrame"
   ]
  },
  {
   "cell_type": "markdown",
   "metadata": {},
   "source": [
    "Streaming does not infer schmea by default, so we read in a single file statically first."
   ]
  },
  {
   "cell_type": "markdown",
   "metadata": {},
   "source": [
    "#### Source\n",
    "\n",
    "Typical sources are Apache Kafka, distributed files, or a socket (for testing)."
   ]
  },
  {
   "cell_type": "code",
   "execution_count": 7,
   "metadata": {},
   "outputs": [],
   "source": [
    "schema = spark.read.json('data/activity-data/part-00000-tid-730451297822678341-1dda7027-2071-4d73-a0e2-7fb6a91e1d1f-0-c000.json').schema"
   ]
  },
  {
   "cell_type": "code",
   "execution_count": 8,
   "metadata": {},
   "outputs": [],
   "source": [
    "stream = (\n",
    "    spark.readStream.schema(schema).\n",
    "    option('maxFilesPerTrigger', 1).\n",
    "    json('data/activity-data/')\n",
    ")"
   ]
  },
  {
   "cell_type": "code",
   "execution_count": 9,
   "metadata": {},
   "outputs": [],
   "source": [
    "counts = stream.groupby('gt').count()"
   ]
  },
  {
   "cell_type": "markdown",
   "metadata": {},
   "source": [
    "#### Sink and output modes\n",
    "\n",
    "Typical sinks are Apache Kafka, files, `foreach`, console, memory.\n",
    "\n",
    "There are 3 output modes:\n",
    "\n",
    "- `complete` writes full oputput\n",
    "- `update` in-place update of chnaged records\n",
    "- `append` only adds new records"
   ]
  },
  {
   "cell_type": "code",
   "execution_count": 10,
   "metadata": {},
   "outputs": [],
   "source": [
    "query = (\n",
    "    counts.writeStream.\n",
    "    queryName('activity_counts_complete').\n",
    "    format('memory').\n",
    "    outputMode('complete').\n",
    "    start()\n",
    ")"
   ]
  },
  {
   "cell_type": "markdown",
   "metadata": {},
   "source": [
    "In production, you should add this line to your job so the driver stays alive.\n",
    "\n",
    "```python\n",
    "query.awaitTermination()\n",
    "```"
   ]
  },
  {
   "cell_type": "code",
   "execution_count": 11,
   "metadata": {},
   "outputs": [
    {
     "data": {
      "text/plain": [
       "[<pyspark.sql.streaming.StreamingQuery at 0x11ccfd320>]"
      ]
     },
     "execution_count": 11,
     "metadata": {},
     "output_type": "execute_result"
    }
   ],
   "source": [
    "spark.streams.active"
   ]
  },
  {
   "cell_type": "code",
   "execution_count": 12,
   "metadata": {},
   "outputs": [],
   "source": [
    "from time import sleep"
   ]
  },
  {
   "cell_type": "code",
   "execution_count": 13,
   "metadata": {},
   "outputs": [
    {
     "name": "stdout",
     "output_type": "stream",
     "text": [
      "+---+-----+\n",
      "| gt|count|\n",
      "+---+-----+\n",
      "+---+-----+\n",
      "\n",
      "+---+-----+\n",
      "| gt|count|\n",
      "+---+-----+\n",
      "+---+-----+\n",
      "\n",
      "+----------+-----+\n",
      "|        gt|count|\n",
      "+----------+-----+\n",
      "|       sit|12308|\n",
      "|     stand|11384|\n",
      "|stairsdown| 9363|\n",
      "|      walk|13255|\n",
      "|  stairsup|10461|\n",
      "|      null|10446|\n",
      "|      bike|10797|\n",
      "+----------+-----+\n",
      "\n"
     ]
    }
   ],
   "source": [
    "for i in range(3):\n",
    "    spark.sql('''\n",
    "    SELECT * from activity_counts_complete\n",
    "    ''').show()\n",
    "    sleep(1)"
   ]
  },
  {
   "cell_type": "markdown",
   "metadata": {},
   "source": [
    "## Transformations on streams"
   ]
  },
  {
   "cell_type": "code",
   "execution_count": 14,
   "metadata": {},
   "outputs": [],
   "source": [
    "from pyspark.sql.functions import expr"
   ]
  },
  {
   "cell_type": "code",
   "execution_count": 15,
   "metadata": {},
   "outputs": [],
   "source": [
    "s1 = (\n",
    "    stream.withColumn(\"stairs\", expr(\"gt like '%stairs%'\")).\n",
    "    where(\"stairs\").\n",
    "    where(\"gt is not null\").\n",
    "    select(\"gt\", \"model\", \"arrival_time\", \"creation_time\")\n",
    ")"
   ]
  },
  {
   "cell_type": "code",
   "execution_count": 16,
   "metadata": {},
   "outputs": [],
   "source": [
    "query = (\n",
    "    s1.writeStream.\n",
    "    queryName(\"trensform_example\").\n",
    "    format(\"memory\").\n",
    "    outputMode(\"update\").\n",
    "    start()\n",
    ")"
   ]
  },
  {
   "cell_type": "code",
   "execution_count": 17,
   "metadata": {},
   "outputs": [],
   "source": [
    "sleep(3)"
   ]
  },
  {
   "cell_type": "code",
   "execution_count": 18,
   "metadata": {},
   "outputs": [
    {
     "name": "stdout",
     "output_type": "stream",
     "text": [
      "+--------+------+-------------+-------------------+\n",
      "|      gt| model| arrival_time|      creation_time|\n",
      "+--------+------+-------------+-------------------+\n",
      "|stairsup|nexus4|1424687983801|1424689829851420571|\n",
      "|stairsup|nexus4|1424687984163|1424687982169917952|\n",
      "|stairsup|nexus4|1424687984571|1424687982572835163|\n",
      "|stairsup|nexus4|1424687984972|1424687982975667195|\n",
      "|stairsup|nexus4|1424687985370|1424687983379305060|\n",
      "|stairsup|nexus4|1424687985773|1424687983776247199|\n",
      "|stairsup|nexus4|1424687986176|1424687984179201300|\n",
      "|stairsup|nexus4|1424687986585|1424687984587465460|\n",
      "|stairsup|nexus4|1424687986982|1424687984990016762|\n",
      "|stairsup|nexus4|1424687987391|1424687985392940346|\n",
      "|stairsup|nexus4|1424687987786|1424687985795693382|\n",
      "|stairsup|nexus4|1424687988071|1424689834116578018|\n",
      "|stairsup|nexus4|1424687988275|1424687986284249290|\n",
      "|stairsup|nexus4|1424687988475|1424689834519410049|\n",
      "|stairsup|nexus4|1424687988677|1424687986681893333|\n",
      "|stairsup|nexus4|1424687988875|1424689834922242080|\n",
      "|stairsup|nexus4|1424687989077|1424687987084908470|\n",
      "|stairsup|nexus4|1424687989282|1424689835337281647|\n",
      "|stairsup|nexus4|1424687989482|1424687987487887228|\n",
      "|stairsup|nexus4|1424687989685|1424687987694399679|\n",
      "+--------+------+-------------+-------------------+\n",
      "only showing top 20 rows\n",
      "\n"
     ]
    }
   ],
   "source": [
    "spark.sql('''\n",
    "SELECT * FROM trensform_example\n",
    "''').show()"
   ]
  },
  {
   "cell_type": "code",
   "execution_count": 19,
   "metadata": {},
   "outputs": [],
   "source": [
    "from pyspark.sql.functions import mean"
   ]
  },
  {
   "cell_type": "code",
   "execution_count": 20,
   "metadata": {},
   "outputs": [],
   "source": [
    "s2 = (\n",
    "    stream.groupby(\"gt\").\n",
    "    agg(mean(\"x\"), mean(\"y\"), mean(\"z\"))\n",
    ")"
   ]
  },
  {
   "cell_type": "code",
   "execution_count": 21,
   "metadata": {},
   "outputs": [],
   "source": [
    "query = (\n",
    "    s2.writeStream.\n",
    "    queryName(\"agg_example\").\n",
    "    format(\"memory\").\n",
    "    outputMode(\"complete\").\n",
    "    start()\n",
    ")"
   ]
  },
  {
   "cell_type": "code",
   "execution_count": 22,
   "metadata": {},
   "outputs": [],
   "source": [
    "sleep(3)"
   ]
  },
  {
   "cell_type": "code",
   "execution_count": 23,
   "metadata": {},
   "outputs": [
    {
     "name": "stdout",
     "output_type": "stream",
     "text": [
      "+----------+--------------------+--------------------+--------------------+\n",
      "|        gt|              avg(x)|              avg(y)|              avg(z)|\n",
      "+----------+--------------------+--------------------+--------------------+\n",
      "|       sit|-5.48643225000002...|-1.75231850243742...|-2.21252465063370...|\n",
      "|     stand|-1.91564553417079...|-1.20081210216091...|-6.67507354181460...|\n",
      "|stairsdown|0.022206868836056676|-0.03261251395847493| 0.11849359875695864|\n",
      "|      walk|-0.00533268257910...|0.007791046676386267|9.245203665258084E-4|\n",
      "|  stairsup|-0.02502670570758...|-0.00196794930013...|-0.09861646979972294|\n",
      "|      null|-0.00534777761728...|-0.00471625131602...|0.001053548924143...|\n",
      "|      bike| 0.02652570661093831| -0.0112163392482819|-0.08351623094110396|\n",
      "+----------+--------------------+--------------------+--------------------+\n",
      "\n"
     ]
    }
   ],
   "source": [
    "spark.sql('''\n",
    "SELECT * FROM agg_example\n",
    "''').show()"
   ]
  },
  {
   "cell_type": "code",
   "execution_count": null,
   "metadata": {},
   "outputs": [],
   "source": []
  }
 ],
 "metadata": {
  "kernelspec": {
   "display_name": "Python 3",
   "language": "python",
   "name": "python3"
  },
  "language_info": {
   "codemirror_mode": {
    "name": "ipython",
    "version": 3
   },
   "file_extension": ".py",
   "mimetype": "text/x-python",
   "name": "python",
   "nbconvert_exporter": "python",
   "pygments_lexer": "ipython3",
   "version": "3.7.0"
  }
 },
 "nbformat": 4,
 "nbformat_minor": 2
}
