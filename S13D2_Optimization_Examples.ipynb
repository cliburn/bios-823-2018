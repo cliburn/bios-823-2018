{
 "cells": [
  {
   "cell_type": "markdown",
   "metadata": {},
   "source": [
    "# Solving Optimization Problems Computationally"
   ]
  },
  {
   "cell_type": "code",
   "execution_count": 1,
   "metadata": {},
   "outputs": [],
   "source": [
    "%matplotlib inline\n",
    "%load_ext rpy2.ipython\n",
    "\n",
    "import os\n",
    "import glob\n",
    "from pathlib import Path\n",
    "import numpy as np\n",
    "import pandas as pd\n",
    "import matplotlib as mpl\n",
    "import matplotlib.pyplot as plt\n",
    "import seaborn as sns\n",
    "\n",
    "sns.set_context('notebook', font_scale=1.5)"
   ]
  },
  {
   "cell_type": "code",
   "execution_count": 2,
   "metadata": {},
   "outputs": [],
   "source": [
    "import scipy.linalg as la\n",
    "import scipy.optimize as opt"
   ]
  },
  {
   "cell_type": "markdown",
   "metadata": {},
   "source": [
    "## 1. Curve fitting\n",
    "\n",
    "Actual data from an ELISA experiment. The first column is log concentration, the second is the measured value from the ELISA assay at that concentration. Our task is to fit a 4 parameter logistic function to the observed data.\n",
    "\n",
    "The 4 parameter logistic has the following form\n",
    "\n",
    "$$\n",
    "f(x) = \\frac{A-D}{1+(x/C)^B}+ D\n",
    "$$\n",
    "\n",
    "where $A$, $B$, $C$ and $D$ are parameters to be determined."
   ]
  },
  {
   "cell_type": "markdown",
   "metadata": {},
   "source": [
    "### Inspect data"
   ]
  },
  {
   "cell_type": "code",
   "execution_count": 3,
   "metadata": {},
   "outputs": [],
   "source": [
    "data = np.array(\n",
    "    [[ 1.   ,  3.802],\n",
    "     [ 2.   ,  3.802],\n",
    "     [ 3.   ,  3.778],\n",
    "     [ 4.   ,  3.718],\n",
    "     [ 5.   ,  3.696],\n",
    "     [ 6.   ,  3.181],\n",
    "     [ 7.   ,  1.731],\n",
    "     [ 8.   ,  0.744],\n",
    "     [ 9.   ,  0.29 ],\n",
    "     [10.   ,  0.124],\n",
    "     [11.   ,  0.064],\n",
    "     [12.   ,  0.05 ]]\n",
    ")"
   ]
  },
  {
   "cell_type": "code",
   "execution_count": 4,
   "metadata": {},
   "outputs": [],
   "source": [
    "x = data[:, 0]\n",
    "y = data[:, 1]"
   ]
  },
  {
   "cell_type": "code",
   "execution_count": 5,
   "metadata": {},
   "outputs": [
    {
     "data": {
      "image/png": "[encoded data removed]",
      "text/plain": [
       "<matplotlib.figure.Figure at 0x10c8cba20>"
      ]
     },
     "metadata": {},
     "output_type": "display_data"
    }
   ],
   "source": [
    "plt.scatter(x, y, c='red')\n",
    "pass"
   ]
  },
  {
   "cell_type": "markdown",
   "metadata": {},
   "source": [
    "### Define 4 parameter logistic"
   ]
  },
  {
   "cell_type": "code",
   "execution_count": 6,
   "metadata": {},
   "outputs": [],
   "source": [
    "def f(x, A, B, C, D):\n",
    "    return (A - D)/(1 + (x/C)**B)  + D"
   ]
  },
  {
   "cell_type": "markdown",
   "metadata": {},
   "source": [
    "### Find reasonable values for initial parameters"
   ]
  },
  {
   "cell_type": "code",
   "execution_count": 7,
   "metadata": {},
   "outputs": [],
   "source": [
    "A0 = y.max()\n",
    "D0 = y.min()\n",
    "C0 = x.mean()\n",
    "B0 = 1\n",
    "p0 = [A0, B0, C0, D0]"
   ]
  },
  {
   "cell_type": "markdown",
   "metadata": {},
   "source": [
    "### Using `minimize` with conjugate-gradient"
   ]
  },
  {
   "cell_type": "markdown",
   "metadata": {},
   "source": [
    "#### Define the loss function"
   ]
  },
  {
   "cell_type": "code",
   "execution_count": 8,
   "metadata": {},
   "outputs": [],
   "source": [
    "def loss(p, y, x):\n",
    "    A, B, C, D = p\n",
    "    return np.sum((y - f(x, A, B, C, D))**2)"
   ]
  },
  {
   "cell_type": "markdown",
   "metadata": {},
   "source": [
    "#### Minimize"
   ]
  },
  {
   "cell_type": "code",
   "execution_count": 9,
   "metadata": {},
   "outputs": [],
   "source": [
    "r = opt.minimize(loss, p0, args=(y, x), method='CG')"
   ]
  },
  {
   "cell_type": "code",
   "execution_count": 10,
   "metadata": {},
   "outputs": [
    {
     "data": {
      "text/plain": [
       "array([ 3.78699634, 10.87666589,  6.91225087,  0.06131771])"
      ]
     },
     "execution_count": 10,
     "metadata": {},
     "output_type": "execute_result"
    }
   ],
   "source": [
    "r.x"
   ]
  },
  {
   "cell_type": "markdown",
   "metadata": {},
   "source": [
    "#### Plot the fit"
   ]
  },
  {
   "cell_type": "code",
   "execution_count": 11,
   "metadata": {},
   "outputs": [
    {
     "data": {
      "image/png": "[encoded data removed]",
      "text/plain": [
       "<matplotlib.figure.Figure at 0x115041ac8>"
      ]
     },
     "metadata": {},
     "output_type": "display_data"
    }
   ],
   "source": [
    "xp = np.linspace(x.min(), x.max(), 100)\n",
    "plt.plot(xp, f(xp, *r.x))\n",
    "plt.scatter(x, y, c='red')\n",
    "pass"
   ]
  },
  {
   "cell_type": "markdown",
   "metadata": {},
   "source": [
    "### Using nonlinear least squares"
   ]
  },
  {
   "cell_type": "markdown",
   "metadata": {},
   "source": [
    "#### Define least squares residues"
   ]
  },
  {
   "cell_type": "code",
   "execution_count": 12,
   "metadata": {},
   "outputs": [],
   "source": [
    "def res(p, y, x):\n",
    "    A, B, C, D = p\n",
    "    return (y - f(x, A, B, C, D))**2"
   ]
  },
  {
   "cell_type": "markdown",
   "metadata": {},
   "source": [
    "#### Minimize"
   ]
  },
  {
   "cell_type": "code",
   "execution_count": 13,
   "metadata": {},
   "outputs": [],
   "source": [
    "r = opt.least_squares(res, p0, args=(y, x))"
   ]
  },
  {
   "cell_type": "code",
   "execution_count": 14,
   "metadata": {},
   "outputs": [
    {
     "data": {
      "text/plain": [
       "array([ 3.7756568 , 11.02097427,  6.90573049,  0.07695251])"
      ]
     },
     "execution_count": 14,
     "metadata": {},
     "output_type": "execute_result"
    }
   ],
   "source": [
    "r.x"
   ]
  },
  {
   "cell_type": "markdown",
   "metadata": {},
   "source": [
    "#### Plot"
   ]
  },
  {
   "cell_type": "code",
   "execution_count": 15,
   "metadata": {},
   "outputs": [
    {
     "data": {
      "image/png": "[encoded data removed]",
      "text/plain": [
       "<matplotlib.figure.Figure at 0x115041898>"
      ]
     },
     "metadata": {},
     "output_type": "display_data"
    }
   ],
   "source": [
    "xp = np.linspace(x.min(), x.max(), 100)\n",
    "plt.plot(xp, f(xp, *r.x))\n",
    "plt.scatter(x, y, c='red')\n",
    "pass"
   ]
  },
  {
   "cell_type": "markdown",
   "metadata": {},
   "source": [
    "### Using `curve_fit`\n",
    "\n",
    "This is the most convenient as you can work with the function directly. It uses the Levenberg-Marquadt algorithm."
   ]
  },
  {
   "cell_type": "markdown",
   "metadata": {},
   "source": [
    "#### Minimize"
   ]
  },
  {
   "cell_type": "code",
   "execution_count": 16,
   "metadata": {},
   "outputs": [],
   "source": [
    "p, pcov = opt.curve_fit(f, x, y, p0)"
   ]
  },
  {
   "cell_type": "code",
   "execution_count": 17,
   "metadata": {},
   "outputs": [
    {
     "data": {
      "text/plain": [
       "array([ 3.78699349, 10.87690577,  6.91224723,  0.06132645])"
      ]
     },
     "execution_count": 17,
     "metadata": {},
     "output_type": "execute_result"
    }
   ],
   "source": [
    "p"
   ]
  },
  {
   "cell_type": "markdown",
   "metadata": {},
   "source": [
    "#### Plot"
   ]
  },
  {
   "cell_type": "code",
   "execution_count": 18,
   "metadata": {},
   "outputs": [
    {
     "data": {
      "image/png": "[encoded data removed]",
      "text/plain": [
       "<matplotlib.figure.Figure at 0x11512f438>"
      ]
     },
     "metadata": {},
     "output_type": "display_data"
    }
   ],
   "source": [
    "xp = np.linspace(x.min(), x.max(), 100)\n",
    "plt.plot(xp, f(xp, *p))\n",
    "plt.scatter(x, y, c='red')\n",
    "pass"
   ]
  },
  {
   "cell_type": "markdown",
   "metadata": {},
   "source": [
    "## 2. Constrained optimization"
   ]
  },
  {
   "cell_type": "markdown",
   "metadata": {},
   "source": [
    "**A**. Using `scipy.optimize`, find the values of $x$ and $y$ that minimize $e^{x^2 + y^2}$ in the unconstrained case and in the presence of the constraint that $x + y = 3$. Use (1,1) as a starting guess."
   ]
  },
  {
   "cell_type": "code",
   "execution_count": 19,
   "metadata": {},
   "outputs": [
    {
     "data": {
      "text/plain": [
       "      fun: 1.0000000000000002\n",
       " hess_inv: array([[ 0.74999784, -0.25000216],\n",
       "       [-0.25000216,  0.74999784]])\n",
       "      jac: array([0., 0.])\n",
       "  message: 'Optimization terminated successfully.'\n",
       "     nfev: 32\n",
       "      nit: 7\n",
       "     njev: 8\n",
       "   status: 0\n",
       "  success: True\n",
       "        x: array([-8.0369005e-09, -8.0369005e-09])"
      ]
     },
     "execution_count": 19,
     "metadata": {},
     "output_type": "execute_result"
    }
   ],
   "source": [
    "opt.minimize(lambda x: np.exp(x[0]**2 + x[1]**2), \n",
    "            np.ones(2))"
   ]
  },
  {
   "cell_type": "code",
   "execution_count": 20,
   "metadata": {},
   "outputs": [
    {
     "data": {
      "text/plain": [
       "     fun: 90.01713130056051\n",
       "     jac: array([270.05131435, 270.05148602])\n",
       " message: 'Optimization terminated successfully.'\n",
       "    nfev: 44\n",
       "     nit: 9\n",
       "    njev: 9\n",
       "  status: 0\n",
       " success: True\n",
       "       x: array([1.49999954, 1.50000046])"
      ]
     },
     "execution_count": 20,
     "metadata": {},
     "output_type": "execute_result"
    }
   ],
   "source": [
    "opt.minimize(lambda x: np.exp(x[0]**2 + x[1]**2), \n",
    "             np.ones(2), \n",
    "             constraints=dict(type='eq', fun=lambda x: x[0] + x[1] - 3))"
   ]
  },
  {
   "cell_type": "markdown",
   "metadata": {},
   "source": [
    "**B**. A milkmaid is at point A and needs to get to point B. However, she also needs to fill a pail of water from the river en route from A to B. The equation of the river's path is shown in the figure below. What is the minimum distance she has to travel to do this?\n",
    "\n",
    "![Milkmaid problem](data/milkmaid.png)"
   ]
  },
  {
   "cell_type": "markdown",
   "metadata": {},
   "source": [
    "#### Define loss function"
   ]
  },
  {
   "cell_type": "code",
   "execution_count": 21,
   "metadata": {},
   "outputs": [],
   "source": [
    "def f(x, A, B):\n",
    "    return la.norm(x-A) + la.norm(x-B)"
   ]
  },
  {
   "cell_type": "markdown",
   "metadata": {},
   "source": [
    "#### Define constraint"
   ]
  },
  {
   "cell_type": "code",
   "execution_count": 22,
   "metadata": {},
   "outputs": [],
   "source": [
    "def g(x):\n",
    "    return x[1] - 10.0/(1 + x[0])"
   ]
  },
  {
   "cell_type": "markdown",
   "metadata": {},
   "source": [
    "#### Minimize"
   ]
  },
  {
   "cell_type": "markdown",
   "metadata": {},
   "source": [
    "The solution is sensitive to the starting conditions."
   ]
  },
  {
   "cell_type": "code",
   "execution_count": 23,
   "metadata": {},
   "outputs": [
    {
     "data": {
      "text/plain": [
       "(array([4.39881339, 1.85225887]), 10.792179122216428)"
      ]
     },
     "execution_count": 23,
     "metadata": {},
     "output_type": "execute_result"
    }
   ],
   "source": [
    "x0 = np.array([4, 2])\n",
    "A = np.array([2,8])\n",
    "B = np.array([8,4])\n",
    "cons = {'type': 'eq', 'fun': g}\n",
    "\n",
    "res = opt.minimize(f, x0, args=(A, B), constraints=cons)\n",
    "res.x, res.fun"
   ]
  },
  {
   "cell_type": "markdown",
   "metadata": {},
   "source": [
    "#### Plot"
   ]
  },
  {
   "cell_type": "code",
   "execution_count": 24,
   "metadata": {},
   "outputs": [
    {
     "data": {
      "image/png": "[encoded data removed]",
      "text/plain": [
       "<matplotlib.figure.Figure at 0x115138cc0>"
      ]
     },
     "metadata": {},
     "output_type": "display_data"
    }
   ],
   "source": [
    "xp = np.linspace(0, 10, 100)\n",
    "plt.scatter([A[0], B[0]], [A[1], B[1]])\n",
    "plt.plot(xp, 10.0/(1 + xp), c='blue')\n",
    "plt.plot([A[0], res.x[0], B[0]], [A[1], res.x[1], B[1]], c='red')\n",
    "pass"
   ]
  },
  {
   "cell_type": "markdown",
   "metadata": {},
   "source": [
    "#### Finding a better solution"
   ]
  },
  {
   "cell_type": "markdown",
   "metadata": {},
   "source": [
    "We know that solutions must be along the river, so start with equally spaced points (in the x-direction) along the river."
   ]
  },
  {
   "cell_type": "code",
   "execution_count": 25,
   "metadata": {},
   "outputs": [],
   "source": [
    "x0s = [(x, 10/(1+x)) for x in range(11)]"
   ]
  },
  {
   "cell_type": "code",
   "execution_count": 26,
   "metadata": {},
   "outputs": [],
   "source": [
    "best_x = None\n",
    "best_fun = np.infty\n",
    "\n",
    "A = np.array([2,8])\n",
    "B = np.array([8,4])\n",
    "cons = {'type': 'eq', 'fun': g}\n",
    "\n",
    "for x0 in x0s:\n",
    "    res = opt.minimize(f, x0, args=(A, B), constraints=cons)\n",
    "    x, fun = res.x, res.fun\n",
    "    if fun < best_fun:\n",
    "        best_fun = fun\n",
    "        best_x = x"
   ]
  },
  {
   "cell_type": "code",
   "execution_count": 27,
   "metadata": {},
   "outputs": [
    {
     "data": {
      "text/plain": [
       "(array([0.53225961, 6.52630922]), 9.96339829956226)"
      ]
     },
     "execution_count": 27,
     "metadata": {},
     "output_type": "execute_result"
    }
   ],
   "source": [
    "best_x, best_fun"
   ]
  },
  {
   "cell_type": "code",
   "execution_count": 28,
   "metadata": {},
   "outputs": [
    {
     "data": {
      "image/png": "[encoded data removed]",
      "text/plain": [
       "<matplotlib.figure.Figure at 0x11536c160>"
      ]
     },
     "metadata": {},
     "output_type": "display_data"
    }
   ],
   "source": [
    "xp = np.linspace(0, 10, 100)\n",
    "plt.scatter([A[0], B[0]], [A[1], B[1]])\n",
    "plt.plot(xp, 10.0/(1 + xp), c='blue')\n",
    "plt.plot([A[0], best_x[0], B[0]], [A[1], best_x[1], B[1]], c='red')\n",
    "pass"
   ]
  },
  {
   "cell_type": "markdown",
   "metadata": {},
   "source": [
    "**C**. Find the minimum of the following quadratic function on $\\mathbb{R}^2$ \n",
    "\n",
    "$$f(x) = x^TAx +b^Tx +c$$\n",
    "where\n",
    "$$A = \\left(\\begin{matrix}13&5\\\\5&7\\end{matrix}\\right), b = \\left(\\begin{matrix}1\\\\1\\end{matrix}\\right) \\textrm {and } c = 2$$\n",
    "\n",
    "Under the constraints:\n",
    "$$g(x) = 2x_1-5x_2=2 \\;\\;\\;\\;\\;\\; \\textrm{ and } \\;\\;\\;\\;\\;\\; h(x) = x_1+x_2=1$$\n",
    "\n",
    "1. Use a matrix decomposition method to find the minimum of the *unconstrained* problem without using `scipy.optimize` (Use library functions - no need to code your own). Note: for full credit you should exploit matrix structure. (3 points)\n",
    "2. Find the solution using constrained optimization with the `scipy.optimize` package. (3 points)\n",
    "2. Use Lagrange multipliers and solving the resulting set of equations directly without using `scipy.optimize`. (4 points)"
   ]
  },
  {
   "cell_type": "code",
   "execution_count": 29,
   "metadata": {},
   "outputs": [
    {
     "data": {
      "text/plain": [
       "array([-0.01515152, -0.06060606])"
      ]
     },
     "execution_count": 29,
     "metadata": {},
     "output_type": "execute_result"
    }
   ],
   "source": [
    "A = np.array([[13,5],[5,7]])\n",
    "b = np.array([1.0,1.0]).T\n",
    "c = 2\n",
    "\n",
    "la.cho_solve(la.cho_factor(A), -b/2)"
   ]
  },
  {
   "cell_type": "code",
   "execution_count": 30,
   "metadata": {},
   "outputs": [
    {
     "data": {
      "text/plain": [
       "array([-0.01515152, -0.06060606])"
      ]
     },
     "execution_count": 30,
     "metadata": {},
     "output_type": "execute_result"
    }
   ],
   "source": [
    "def f(x, A, b, c):\n",
    "    return x.T.dot(A).dot(x) + b.T.dot(x) + c\n",
    "\n",
    "# check unconstrained solution\n",
    "usol = opt.minimize(f, [0,0], args=(A, b, c))\n",
    "usol.x"
   ]
  },
  {
   "cell_type": "code",
   "execution_count": 31,
   "metadata": {},
   "outputs": [
    {
     "data": {
      "text/plain": [
       "     fun: 15.999999999999996\n",
       "     jac: array([26.99999976, 11.00000024])\n",
       " message: 'Optimization terminated successfully.'\n",
       "    nfev: 14\n",
       "     nit: 3\n",
       "    njev: 3\n",
       "  status: 0\n",
       " success: True\n",
       "       x: array([1.00000000e+00, 3.41607086e-16])"
      ]
     },
     "execution_count": 31,
     "metadata": {},
     "output_type": "execute_result"
    }
   ],
   "source": [
    "cons = ({'type': 'eq', 'fun': lambda x: 2*x[0] - 5*x[1] - 2},\n",
    "        {'type': 'eq', 'fun': lambda x: x[0] + x[1] - 1})\n",
    "\n",
    "opt.minimize(f, [0,0], constraints=cons, args=(A, b, c))"
   ]
  },
  {
   "cell_type": "code",
   "execution_count": 32,
   "metadata": {},
   "outputs": [
    {
     "data": {
      "text/plain": [
       "array([ 1.00000000e+00, -4.37360585e-17, -2.28571429e+00, -2.24285714e+01])"
      ]
     },
     "execution_count": 32,
     "metadata": {},
     "output_type": "execute_result"
    }
   ],
   "source": [
    "M = np.array([\n",
    "    [26, 10, 2, 1],\n",
    "    [10, 14, -5, 1],\n",
    "    [2, -5, 0, 0],\n",
    "    [1, 1, 0, 0]\n",
    "])\n",
    "\n",
    "y = np.array([-1, -1, 2, 1]).T\n",
    "\n",
    "la.solve(M, y)"
   ]
  },
  {
   "cell_type": "markdown",
   "metadata": {},
   "source": [
    "## 3. Gradient descent"
   ]
  },
  {
   "cell_type": "markdown",
   "metadata": {},
   "source": [
    "We observe some data points $(x_i, y_i)$, and believe that an appropriate model for the data is that\n",
    "\n",
    "$$\n",
    "f(x) = ax^2 + bx^3 + c\\sin{x}\n",
    "$$\n",
    "\n",
    "with some added noise. Find optimal values of the parameters $\\beta = (a, b, c)$ that minimize $\\Vert y - f(x) \\Vert^2$\n",
    "\n",
    "1. using `scipy.linalg.lstsq` (10 points)\n",
    "2. solving the normal equations $X^TX \\beta = X^Ty$ (10 points)\n",
    "3. using `scipy.linalg.svd` (10 points)\n",
    "4. using gradient descent with RMSProp (no bias correction) and starting with an initial value of $\\beta = \\begin{bmatrix}1 & 1 & 1\\end{bmatrix}$. Use a learning rate of 0.01 and 10,000 iterations. This should take a few seconds to complete. (25 points)\n",
    "\n",
    "In each case, plot the data and fitted curve using `matplotlib`.\n",
    "\n",
    "Data\n",
    "```\n",
    "x = array([ 3.4027718 ,  4.29209002,  5.88176277,  6.3465969 ,  7.21397852,\n",
    "        8.26972154, 10.27244608, 10.44703778, 10.79203455, 14.71146298])\n",
    "y = array([ 25.54026428,  29.4558919 ,  58.50315846,  70.24957254,\n",
    "        90.55155435, 100.56372833,  91.83189927,  90.41536733,\n",
    "        90.43103028,  23.0719842 ])\n",
    "```"
   ]
  },
  {
   "cell_type": "code",
   "execution_count": 33,
   "metadata": {},
   "outputs": [],
   "source": [
    "x = np.array([ 3.4027718 ,  4.29209002,  5.88176277,  6.3465969 ,  7.21397852,\n",
    "        8.26972154, 10.27244608, 10.44703778, 10.79203455, 14.71146298])\n",
    "y = np.array([ 25.54026428,  29.4558919 ,  58.50315846,  70.24957254,\n",
    "        90.55155435, 100.56372833,  91.83189927,  90.41536733,\n",
    "        90.43103028,  23.0719842 ])"
   ]
  },
  {
   "cell_type": "code",
   "execution_count": 34,
   "metadata": {},
   "outputs": [],
   "source": [
    "def f(beta, x):\n",
    "    \"\"\"Model function.\"\"\"\n",
    "    \n",
    "    return beta[0]*x**2 + beta[1]*x**3 + beta[2]*np.sin(x)"
   ]
  },
  {
   "cell_type": "code",
   "execution_count": 35,
   "metadata": {},
   "outputs": [],
   "source": [
    "X = np.c_[x**2, x**3, np.sin(x)]"
   ]
  },
  {
   "cell_type": "markdown",
   "metadata": {},
   "source": [
    "### Least squares solution"
   ]
  },
  {
   "cell_type": "code",
   "execution_count": 36,
   "metadata": {},
   "outputs": [],
   "source": [
    "beta = np.linalg.lstsq(X, y, rcond=None)[0]"
   ]
  },
  {
   "cell_type": "code",
   "execution_count": 37,
   "metadata": {},
   "outputs": [
    {
     "data": {
      "text/plain": [
       "array([ 2.99259014, -0.19883227, 10.20024689])"
      ]
     },
     "execution_count": 37,
     "metadata": {},
     "output_type": "execute_result"
    }
   ],
   "source": [
    "beta"
   ]
  },
  {
   "cell_type": "code",
   "execution_count": 38,
   "metadata": {},
   "outputs": [
    {
     "data": {
      "image/png": "[encoded data removed]",
      "text/plain": [
       "<matplotlib.figure.Figure at 0x11540ecc0>"
      ]
     },
     "metadata": {},
     "output_type": "display_data"
    }
   ],
   "source": [
    "plt.plot(x, y, 'o')\n",
    "xp = np.linspace(0, 15, 100)\n",
    "plt.plot(xp, f(beta, xp))\n",
    "pass"
   ]
  },
  {
   "cell_type": "markdown",
   "metadata": {},
   "source": [
    "### Normal equations solution"
   ]
  },
  {
   "cell_type": "code",
   "execution_count": 39,
   "metadata": {},
   "outputs": [
    {
     "data": {
      "text/plain": [
       "array([ 2.99259014, -0.19883227, 10.20024689])"
      ]
     },
     "execution_count": 39,
     "metadata": {},
     "output_type": "execute_result"
    }
   ],
   "source": [
    "beta = np.linalg.solve(X.T @ X, X.T @ y)\n",
    "beta"
   ]
  },
  {
   "cell_type": "code",
   "execution_count": 40,
   "metadata": {},
   "outputs": [
    {
     "data": {
      "image/png": "[encoded data removed]",
      "text/plain": [
       "<matplotlib.figure.Figure at 0x1154e2b00>"
      ]
     },
     "metadata": {},
     "output_type": "display_data"
    }
   ],
   "source": [
    "plt.plot(x, y, 'o')\n",
    "xp = np.linspace(0, 15, 100)\n",
    "plt.plot(xp, f(beta, xp))\n",
    "pass"
   ]
  },
  {
   "cell_type": "markdown",
   "metadata": {},
   "source": [
    "### SVD solution"
   ]
  },
  {
   "cell_type": "code",
   "execution_count": 41,
   "metadata": {},
   "outputs": [
    {
     "data": {
      "text/plain": [
       "array([[ 2.99259014],\n",
       "       [-0.19883227],\n",
       "       [10.20024689]])"
      ]
     },
     "execution_count": 41,
     "metadata": {},
     "output_type": "execute_result"
    }
   ],
   "source": [
    "U, s, Vt = np.linalg.svd(X)\n",
    "beta = Vt.T @ np.diag(1/s) @ U[:, :len(s)].T @ y.reshape(-1,1)\n",
    "beta"
   ]
  },
  {
   "cell_type": "code",
   "execution_count": 42,
   "metadata": {},
   "outputs": [
    {
     "data": {
      "image/png": "[encoded data removed]",
      "text/plain": [
       "<matplotlib.figure.Figure at 0x115511898>"
      ]
     },
     "metadata": {},
     "output_type": "display_data"
    }
   ],
   "source": [
    "plt.plot(x, y, 'o')\n",
    "xp = np.linspace(0, 15, 100)\n",
    "plt.plot(xp, f(beta, xp))\n",
    "pass"
   ]
  },
  {
   "cell_type": "markdown",
   "metadata": {},
   "source": [
    "### Gradient descent solution (with ADAM)"
   ]
  },
  {
   "cell_type": "code",
   "execution_count": 43,
   "metadata": {},
   "outputs": [],
   "source": [
    "def res(beta, x, y):\n",
    "    \"\"\"Resdiual funciton.\"\"\"\n",
    "    return f(beta, x) - y"
   ]
  },
  {
   "cell_type": "code",
   "execution_count": 44,
   "metadata": {},
   "outputs": [],
   "source": [
    "def grad(beta, x, y):\n",
    "    \"\"\"Gradient of function.\"\"\"\n",
    "    \n",
    "    return np.array([\n",
    "        np.sum(x**2 * res(beta, x, y)),\n",
    "        np.sum(x**3 * res(beta, x, y)),\n",
    "        np.sum(np.sin(x) * res(beta, x, y))\n",
    "    ])"
   ]
  },
  {
   "cell_type": "code",
   "execution_count": 45,
   "metadata": {},
   "outputs": [],
   "source": [
    "def gd(beta, x, y, f, grad, alpha=0.01, beta1=0.9, beta2=0.999, eps=1e-8):\n",
    "    \"\"\"Gradient descent.\"\"\"\n",
    "\n",
    "    m = 0\n",
    "    v = 0\n",
    "    for i in range(10000):\n",
    "        m = beta1*m + (1-beta1)*grad(beta, x, y)\n",
    "        v = beta2*v + (1-beta2)*grad(beta, x, y)**2\n",
    "        mc = m/(1+beta1**(i+1))\n",
    "        vc = v/(1+beta2**(i+1))\n",
    "        beta = beta - alpha * m / (eps + np.sqrt(vc))\n",
    "    return beta"
   ]
  },
  {
   "cell_type": "code",
   "execution_count": 46,
   "metadata": {},
   "outputs": [
    {
     "data": {
      "text/plain": [
       "array([ 2.99259014, -0.19883227, 10.20024689])"
      ]
     },
     "execution_count": 46,
     "metadata": {},
     "output_type": "execute_result"
    }
   ],
   "source": [
    "beta = gd(np.array([1,1,1]), x, y, f, grad)\n",
    "beta"
   ]
  },
  {
   "cell_type": "code",
   "execution_count": 47,
   "metadata": {},
   "outputs": [
    {
     "data": {
      "image/png": "[encoded data removed]",
      "text/plain": [
       "<matplotlib.figure.Figure at 0x115690fd0>"
      ]
     },
     "metadata": {},
     "output_type": "display_data"
    }
   ],
   "source": [
    "plt.plot(x, y, 'o')\n",
    "xp = np.linspace(0, 15, 100)\n",
    "plt.plot(xp, f(beta, xp))\n",
    "pass"
   ]
  },
  {
   "cell_type": "code",
   "execution_count": null,
   "metadata": {},
   "outputs": [],
   "source": []
  }
 ],
 "metadata": {
  "kernelspec": {
   "display_name": "Python 3",
   "language": "python",
   "name": "python3"
  },
  "language_info": {
   "codemirror_mode": {
    "name": "ipython",
    "version": 3
   },
   "file_extension": ".py",
   "mimetype": "text/x-python",
   "name": "python",
   "nbconvert_exporter": "python",
   "pygments_lexer": "ipython3",
   "version": "3.6.5"
  }
 },
 "nbformat": 4,
 "nbformat_minor": 2
}
