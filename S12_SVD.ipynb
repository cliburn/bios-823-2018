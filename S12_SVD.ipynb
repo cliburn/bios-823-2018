{
 "cells": [
  {
   "cell_type": "markdown",
   "metadata": {},
   "source": [
    "# Understanding the SVD"
   ]
  },
  {
   "cell_type": "code",
   "execution_count": 1,
   "metadata": {},
   "outputs": [],
   "source": [
    "import numpy as np"
   ]
  },
  {
   "cell_type": "markdown",
   "metadata": {},
   "source": [
    "### Useful reference\n",
    "\n",
    "- [A Singularly Valuable Decomposition](https://datajobs.com/data-science-repo/SVD-[Dan-Kalman].pdf)"
   ]
  },
  {
   "cell_type": "markdown",
   "metadata": {},
   "source": [
    "## Sketch of lecture"
   ]
  },
  {
   "cell_type": "markdown",
   "metadata": {
    "collapsed": true
   },
   "source": [
    "### Singular value decomposition\n",
    "\n",
    "Our goal is to understand the following forms of the SVD.\n",
    "\n",
    "$$\n",
    "A = U \\Sigma V^T\n",
    "$$\n",
    "\n",
    "$$\n",
    "A = \\begin{bmatrix}\n",
    "U_1 & U_2\n",
    "\\end{bmatrix}\\begin{bmatrix}\n",
    "\\Sigma_1 & 0 \\\\\n",
    "0 & 0 \n",
    "\\end{bmatrix}\\begin{bmatrix}\n",
    "V_1^T \\\\\n",
    "V_2^T\n",
    "\\end{bmatrix}\n",
    "$$\n",
    "\n",
    "$$\n",
    "A = \\sum_{i=1}^r \\sigma u_i v_i^T\n",
    "$$"
   ]
  },
  {
   "cell_type": "markdown",
   "metadata": {},
   "source": [
    "### (1) The matrix A"
   ]
  },
  {
   "cell_type": "markdown",
   "metadata": {},
   "source": [
    "#### What does a matrix do?\n",
    "\n",
    "A linear function is one that satisfies the property that\n",
    "\n",
    "$$\n",
    "f(a_1x_1 + a_2x_2 + \\cdots + a_nx_n) = a_1 f(x_1) + a_2 f(x_2) + \\ldots + a_n f(x_n)\n",
    "$$\n",
    "\n",
    "Let $f(x) = Ax$, where $A$ is a matrix and $x$ is a vector. You can check that the matrix $A$ fulfills the property of being a linear function. If $A$ is $m \\times n$, then it is a linear map from $\\mathbb{R}^n \\mapsto \\mathbb{R}^m$.\n",
    "\n",
    "Let's consider: what does a matrix *do* to a vector?  Matrix multiplication has a *geometric* interpretation.  When we multiply a vector, we either rotate, reflect, dilate or some combination of those three. So multiplying by a matrix *transforms* one vector into another vector.  This is known as a *linear transformation*.\n",
    "\n",
    "Important Facts: \n",
    "\n",
    "* Any matrix defines a linear transformation\n",
    "* The matrix form of a linear transformation is NOT unique\n",
    "* We need only define a transformation by saying what it does to a *basis*\n",
    "\n",
    "Suppose we have a matrix $A$ that defines some transformation.  We can take any invertible matrix $B$ and\n",
    "\n",
    "$$BAB^{-1}$$\n",
    "\n",
    "defines the same transformation.  This operation is called a *change of basis*, because we are simply expressing the transformation with respect to a different basis."
   ]
  },
  {
   "cell_type": "markdown",
   "metadata": {},
   "source": [
    "**Example**\n",
    "\n",
    "Let $f(x)$ be the linear transformation that takes $e_1=(1,0)$ to $f(e_1)=(2,3)$ and $e_2=(0,1)$ to $f(e_2) = (1,1)$.  A matrix representation of $f$ would be given by:\n",
    "\n",
    "$$A = \\left(\\begin{matrix}2 & 1\\\\3&1\\end{matrix}\\right)$$\n",
    "\n",
    "This is the matrix we use if we consider the vectors of $\\mathbb{R}^2$ to be linear combinations of the form \n",
    "\n",
    "$$c_1 e_1 + c_2 e_2$$\n",
    "\n",
    "Now, consider a second pair of (linearly independent) vectors in $\\mathbb{R}^2$, say $v_1=(1,3)$ and $v_2=(4,1)$. We first find the transformation that takes $e_1$ to $v_1$ and $e_2$ to $v_2$.  A matrix representation for this is:\n",
    "\n",
    "$$B = \\left(\\begin{matrix}1 & 4\\\\3&1\\end{matrix}\\right)$$\n",
    "\n",
    "Our original transformation $f$ can be expressed with respect to the basis $v_1, v_2$ via\n",
    "\n",
    "$$B^{-1}AB$$"
   ]
  },
  {
   "cell_type": "markdown",
   "metadata": {},
   "source": [
    "#### Fundamental subspaces of $A$\n",
    "\n",
    "- Span and basis\n",
    "- Inner and outer products of vectors\n",
    "- Rank of outer product is 1\n",
    "- $C(A)$, $N(A)$, $(C(A^T))$ and $N(A^T)$ mean\n",
    "- Dimensions of each space and its rank\n",
    "- How to find a basis for each subspace given a $m \\times n$ matrix $A$\n",
    "- Sketch the diagram relating the four fundamental subspaces"
   ]
  },
  {
   "cell_type": "markdown",
   "metadata": {},
   "source": [
    "### (2) Orthogonal matrices $U$ and $V^T$"
   ]
  },
  {
   "cell_type": "markdown",
   "metadata": {},
   "source": [
    "- Orthogonal (perpendicular) vectors\n",
    "- Orthonormal vectors\n",
    "- Orthogonal matrix\n",
    "- $Q^TQ = QQ^T = I$\n",
    "- Orthogonal matrices are rotations (and reflections)\n",
    "- Orthogonal matrices preserve norms (lengths)\n",
    "- 2D orthogonal matrix is a rotation matrix\n",
    "$$ V = \n",
    "\\begin{bmatrix}\n",
    "\\cos\\theta & -\\sin \\theta \\\\\n",
    "\\sin \\theta & \\cos \\theta\n",
    "\\end{bmatrix}\n",
    "$$\n",
    "- $V^T$ rotates the perpendicular frame spanned by $V$ into the standard frame spanned by $e_i$\n",
    "- $V$ rotates the standard frame into the frame spanned by $V$\n",
    "- \n",
    "$$\\text{proj}_v x = \\frac{\\langle x, v \\rangle}{\\langle v, v \\rangle} v\n",
    "$$\n",
    "- Matrix form\n",
    "$$\n",
    "P = \\frac{vv^T}{v^Tv}\n",
    "$$\n",
    "- Gram-Schmidt for converting $A$ into an orthogonal matrix $Q$\n",
    "- QR decomposition"
   ]
  },
  {
   "cell_type": "markdown",
   "metadata": {},
   "source": [
    "### (3) Diagonal matrix $S$"
   ]
  },
  {
   "cell_type": "markdown",
   "metadata": {},
   "source": [
    "- Recall that a matrix $A$ is a transform with respect to some basis\n",
    "- It is desirable to find the simplest similar matrix $B$ in some other basis\n",
    "- $A$ and $B$ represent the exact same linear transform, just in different coordinate systems\n",
    "- $Av = \\lambda v$ defines the eigenvectors and eigenvalues of $A$\n",
    "- When a square matrix $A$ is real, symmetric and has all non-negative eigenvalues, it has an eigen-space decomposition (ESD) \n",
    "$$ \n",
    "A = V \\Lambda V^T\n",
    "$$\n",
    "where $V$ is orthogonal and $\\Lambda$ is diagonal\n",
    "- The columns of $V$ are formed from the eigenvectors of $A$\n",
    "- The diagonals of $\\Lambda$ are the eigenvalues of $A$ (arrange from large to small in absolute value)"
   ]
  },
  {
   "cell_type": "markdown",
   "metadata": {},
   "source": [
    "## (4) SVD $U\\Sigma V^T$"
   ]
  },
  {
   "cell_type": "markdown",
   "metadata": {},
   "source": [
    "- The SVD is a generalization of ESD for general $m \\times n$ matrices $A$\n",
    "- If $A$ is $(m \\times n)$, we cannot perform an ESD\n",
    "- $A^TA$ is diagonalizable (note this is the dot product of all pairs of column vectors in $A$)\n",
    "- \n",
    "$$\n",
    "A^TA = V \\Lambda V^T\n",
    "$$\n",
    "- Let $\\Lambda = \\Sigma^2$\n",
    "- Let $U = AV\\Sigma^{-1}$\n",
    "- The $A = U\\Sigma V^T$\n",
    "- Show $U$ is orthogonal\n",
    "- Show $U$ is formed from eigenvectors of $AA^T$\n",
    "- Geometric interpretation of SVD\n",
    "    - rotate orthogonal frame $V$ onto standard frame\n",
    "    - scale by $\\Sigma$\n",
    "    - rotate standard frame into orthogonal frame $U$"
   ]
  },
  {
   "cell_type": "markdown",
   "metadata": {},
   "source": [
    "### Covariance, PCA and SVD"
   ]
  },
  {
   "cell_type": "markdown",
   "metadata": {},
   "source": [
    "Remember the formula for covariance\n",
    "\n",
    "$$\n",
    "\\text{Cov}(X, Y) = \\frac{\\sum_{i=1}^n(X_i - \\bar{X})(Y_i - \\bar{Y})}{n-1}\n",
    "$$\n",
    "\n",
    "where $\\text{Cov}(X, X)$ is the sample variance of $X$."
   ]
  },
  {
   "cell_type": "code",
   "execution_count": 2,
   "metadata": {},
   "outputs": [],
   "source": [
    "%matplotlib inline\n",
    "import matplotlib.pyplot as plt\n",
    "import numpy as np\n",
    "import scipy.linalg as la"
   ]
  },
  {
   "cell_type": "code",
   "execution_count": 3,
   "metadata": {},
   "outputs": [],
   "source": [
    "np.set_printoptions(precision=3)"
   ]
  },
  {
   "cell_type": "code",
   "execution_count": 4,
   "metadata": {},
   "outputs": [],
   "source": [
    "def cov(x, y):\n",
    "    \"\"\"Returns covariance of vectors x and y).\"\"\"\n",
    "    xbar = x.mean()\n",
    "    ybar = y.mean()\n",
    "    return np.sum((x - xbar)*(y - ybar))/(len(x) - 1)"
   ]
  },
  {
   "cell_type": "code",
   "execution_count": 5,
   "metadata": {},
   "outputs": [],
   "source": [
    "X = np.random.random(10)\n",
    "Y = np.random.random(10)"
   ]
  },
  {
   "cell_type": "code",
   "execution_count": 6,
   "metadata": {},
   "outputs": [
    {
     "data": {
      "text/plain": [
       "array([[0.08 , 0.031],\n",
       "       [0.031, 0.108]])"
      ]
     },
     "execution_count": 6,
     "metadata": {},
     "output_type": "execute_result"
    }
   ],
   "source": [
    "np.array([[cov(X, X), cov(X, Y)], [cov(Y, X), cov(Y,Y)]])"
   ]
  },
  {
   "cell_type": "markdown",
   "metadata": {},
   "source": [
    "Using `numpy` function"
   ]
  },
  {
   "cell_type": "code",
   "execution_count": 7,
   "metadata": {},
   "outputs": [
    {
     "data": {
      "text/plain": [
       "array([[0.08 , 0.031],\n",
       "       [0.031, 0.108]])"
      ]
     },
     "execution_count": 7,
     "metadata": {},
     "output_type": "execute_result"
    }
   ],
   "source": [
    "np.cov(X, Y)"
   ]
  },
  {
   "cell_type": "code",
   "execution_count": 8,
   "metadata": {},
   "outputs": [
    {
     "data": {
      "text/plain": [
       "array([[ 0.08 ,  0.031, -0.021],\n",
       "       [ 0.031,  0.108, -0.046],\n",
       "       [-0.021, -0.046,  0.072]])"
      ]
     },
     "execution_count": 8,
     "metadata": {},
     "output_type": "execute_result"
    }
   ],
   "source": [
    "Z = np.random.random(10)\n",
    "np.cov([X, Y, Z])"
   ]
  },
  {
   "cell_type": "markdown",
   "metadata": {},
   "source": [
    "#### Eigendecomposition of the covariance matrix"
   ]
  },
  {
   "cell_type": "code",
   "execution_count": 9,
   "metadata": {},
   "outputs": [],
   "source": [
    "mu = [0,0]\n",
    "sigma = [[0.6,0.2],[0.2,0.2]]\n",
    "n = 1000\n",
    "x = np.random.multivariate_normal(mu, sigma, n).T"
   ]
  },
  {
   "cell_type": "code",
   "execution_count": 10,
   "metadata": {},
   "outputs": [],
   "source": [
    "A = np.cov(x)"
   ]
  },
  {
   "cell_type": "code",
   "execution_count": 11,
   "metadata": {},
   "outputs": [
    {
     "data": {
      "text/plain": [
       "array([[ 1., -1.],\n",
       "       [-1.,  1.]])"
      ]
     },
     "execution_count": 11,
     "metadata": {},
     "output_type": "execute_result"
    }
   ],
   "source": [
    "m = np.array([[1,2,3],[6,5,4]])\n",
    "ms = m - m.mean(1).reshape(2,1)\n",
    "np.dot(ms, ms.T)/2"
   ]
  },
  {
   "cell_type": "code",
   "execution_count": 12,
   "metadata": {},
   "outputs": [],
   "source": [
    "e, v = la.eigh(A)"
   ]
  },
  {
   "cell_type": "code",
   "execution_count": 13,
   "metadata": {},
   "outputs": [
    {
     "data": {
      "image/png": "[encoded data removed]",
      "text/plain": [
       "<matplotlib.figure.Figure at 0x1061067b8>"
      ]
     },
     "metadata": {},
     "output_type": "display_data"
    }
   ],
   "source": [
    "plt.scatter(x[0,:], x[1,:], alpha=0.2)\n",
    "for e_, v_ in zip(e, v.T):\n",
    "    plt.plot([0, 3*e_*v_[0]], [0, 3*e_*v_[1]], 'r-', lw=2)\n",
    "plt.axis([-3,3,-3,3])\n",
    "plt.title('Eigenvectors of covariance matrix scaled by eigenvalue.');"
   ]
  },
  {
   "cell_type": "markdown",
   "metadata": {},
   "source": [
    "### PCA\n",
    "\n",
    "Principal Components Analysis (PCA) basically means to find and rank all the eigenvalues and eigenvectors of a covariance matrix. This is useful because high-dimensional data (with $p$ features) may have nearly all their variation in a small number of dimensions $k$, i.e. in the subspace spanned by the eigenvectors of the covariance matrix that have the $k$ largest eigenvalues. If we project the original data into this subspace, we can have a dimension reduction (from $p$ to $k$) with hopefully little loss of information.\n",
    "\n",
    "Numerically, PCA is typically done using SVD on the data matrix rather than eigendecomposition on the covariance matrix. The next section explains why this works. Numerically, the condition number for working with the covariance matrix directly is the square of the condition number using SVD, so SVD minimizes errors."
   ]
  },
  {
   "cell_type": "markdown",
   "metadata": {},
   "source": [
    "For zero-centered vectors,\n",
    "\n",
    "\\begin{align}\n",
    "\\text{Cov}(X, Y) &= \\frac{\\sum_{i=1}^n(X_i - \\bar{X})(Y_i - \\bar{Y})}{n-1} \\\\\n",
    "  &= \\frac{\\sum_{i=1}^nX_iY_i}{n-1} \\\\\n",
    "  &= \\frac{XY^T}{n-1}\n",
    "\\end{align}\n",
    "\n",
    "and so the covariance matrix for a data set X that has zero mean in each feature vector is just $XX^T/(n-1)$. \n",
    "\n",
    "In other words, we can also get the eigendecomposition of the covariance matrix from the positive semi-definite matrix $XX^T$."
   ]
  },
  {
   "cell_type": "markdown",
   "metadata": {},
   "source": [
    "Note: Here $x$ is a matrix of **row** vectors"
   ]
  },
  {
   "cell_type": "code",
   "execution_count": 14,
   "metadata": {},
   "outputs": [
    {
     "data": {
      "text/plain": [
       "array([[0.733, 0.089, 0.616, 0.417],\n",
       "       [0.801, 0.571, 0.21 , 0.711],\n",
       "       [0.528, 0.176, 0.991, 0.955],\n",
       "       [0.579, 0.832, 0.255, 0.216],\n",
       "       [0.067, 0.206, 0.783, 0.084]])"
      ]
     },
     "execution_count": 14,
     "metadata": {},
     "output_type": "execute_result"
    }
   ],
   "source": [
    "X = np.random.random((5,4))\n",
    "X"
   ]
  },
  {
   "cell_type": "code",
   "execution_count": 15,
   "metadata": {},
   "outputs": [],
   "source": [
    "Y = X - X.mean(1)[:, None]"
   ]
  },
  {
   "cell_type": "code",
   "execution_count": 16,
   "metadata": {},
   "outputs": [
    {
     "data": {
      "text/plain": [
       "array([ 0., -0., -0.,  0.,  0.])"
      ]
     },
     "execution_count": 16,
     "metadata": {},
     "output_type": "execute_result"
    }
   ],
   "source": [
    "np.around(Y.mean(1), 5)"
   ]
  },
  {
   "cell_type": "code",
   "execution_count": 17,
   "metadata": {},
   "outputs": [
    {
     "data": {
      "text/plain": [
       "array([[ 0.269, -0.375,  0.152, -0.046],\n",
       "       [ 0.228, -0.003, -0.363,  0.138],\n",
       "       [-0.135, -0.486,  0.328,  0.292],\n",
       "       [ 0.109,  0.362, -0.215, -0.255],\n",
       "       [-0.218, -0.079,  0.498, -0.201]])"
      ]
     },
     "execution_count": 17,
     "metadata": {},
     "output_type": "execute_result"
    }
   ],
   "source": [
    "Y"
   ]
  },
  {
   "cell_type": "code",
   "execution_count": 18,
   "metadata": {},
   "outputs": [
    {
     "data": {
      "text/plain": [
       "array([[ 0.08 ,  0.   ,  0.061, -0.042,  0.019],\n",
       "       [ 0.   ,  0.067, -0.036,  0.022, -0.086],\n",
       "       [ 0.061, -0.036,  0.149, -0.112,  0.058],\n",
       "       [-0.042,  0.022, -0.112,  0.085, -0.036],\n",
       "       [ 0.019, -0.086,  0.058, -0.036,  0.114]])"
      ]
     },
     "execution_count": 18,
     "metadata": {},
     "output_type": "execute_result"
    }
   ],
   "source": [
    "np.cov(X)"
   ]
  },
  {
   "cell_type": "code",
   "execution_count": 19,
   "metadata": {},
   "outputs": [
    {
     "data": {
      "text/plain": [
       "array([[ 0.08 ,  0.   ,  0.061, -0.042,  0.019],\n",
       "       [ 0.   ,  0.067, -0.036,  0.022, -0.086],\n",
       "       [ 0.061, -0.036,  0.149, -0.112,  0.058],\n",
       "       [-0.042,  0.022, -0.112,  0.085, -0.036],\n",
       "       [ 0.019, -0.086,  0.058, -0.036,  0.114]])"
      ]
     },
     "execution_count": 19,
     "metadata": {},
     "output_type": "execute_result"
    }
   ],
   "source": [
    "np.cov(Y)"
   ]
  },
  {
   "cell_type": "code",
   "execution_count": 20,
   "metadata": {},
   "outputs": [],
   "source": [
    "e1, v1 = np.linalg.eig(np.dot(x, x.T)/(n-1))"
   ]
  },
  {
   "cell_type": "markdown",
   "metadata": {},
   "source": [
    "#### Principal components\n",
    "\n",
    "Principal components are simply the eigenvectors of the covariance matrix used as basis vectors. Each of the original data points is expressed as a linear combination of the principal components, giving rise to a new set of coordinates. "
   ]
  },
  {
   "cell_type": "code",
   "execution_count": 21,
   "metadata": {},
   "outputs": [
    {
     "data": {
      "image/png": "[encoded data removed]",
      "text/plain": [
       "<matplotlib.figure.Figure at 0x1061062e8>"
      ]
     },
     "metadata": {},
     "output_type": "display_data"
    }
   ],
   "source": [
    "plt.scatter(x[0,:], x[1,:], alpha=0.2)\n",
    "for e_, v_ in zip(e1, v1.T):\n",
    "    plt.plot([0, 3*e_*v_[0]], [0, 3*e_*v_[1]], 'r-', lw=2)\n",
    "plt.axis([-3,3,-3,3]);"
   ]
  },
  {
   "cell_type": "markdown",
   "metadata": {},
   "source": [
    "#### Change of basis\n",
    "\n",
    "Suppose we have a vector $u$ in the standard basis $B$ , and a matrix $A$ that maps $u$ to $v$, also in $B$. We can use the eigenvalues of $A$ to form a new basis $B'$. As explained above, to bring a vector $u$ from $B$-space to a vector $u'$ in $B'$-space, we multiply it by $Q^{-1}$, the inverse of the matrix having the eigenvctors as column vectors. Now, in the eigenvector basis, the equivalent operation to $A$ is the diagonal matrix $\\Lambda$ - this takes $u'$ to $v'$. Finally, we convert $v'$ back to a vector $v$ in the standard basis by multiplying with $Q$.\n",
    "\n",
    "![Commuative diagram](figs/spectral.png)"
   ]
  },
  {
   "cell_type": "markdown",
   "metadata": {},
   "source": [
    "#### We get the principal components by a change of basis"
   ]
  },
  {
   "cell_type": "code",
   "execution_count": 22,
   "metadata": {},
   "outputs": [],
   "source": [
    "ys = np.dot(v1.T, x)"
   ]
  },
  {
   "cell_type": "code",
   "execution_count": 23,
   "metadata": {},
   "outputs": [
    {
     "data": {
      "image/png": "[encoded data removed]",
      "text/plain": [
       "<matplotlib.figure.Figure at 0x1062db6d8>"
      ]
     },
     "metadata": {},
     "output_type": "display_data"
    }
   ],
   "source": [
    "plt.scatter(ys[0,:], ys[1,:], alpha=0.2)\n",
    "for e_, v_ in zip(e1, np.eye(2)):\n",
    "    plt.plot([0, 3*e_*v_[0]], [0, 3*e_*v_[1]], 'r-', lw=2)\n",
    "plt.axis([-3,3,-3,3]);"
   ]
  },
  {
   "cell_type": "markdown",
   "metadata": {},
   "source": [
    "For example, if we only use the first column of `ys`, we will have the projection of the data onto the first principal component, capturing the majority of the variance in the data with a single feature that is a linear combination of the original features."
   ]
  },
  {
   "cell_type": "markdown",
   "metadata": {},
   "source": [
    "#### Transform back to original coordinates\n",
    "\n",
    "We may need to transform the (reduced) data set to the original feature coordinates for interpretation. This is simply another linear transform (matrix multiplication)."
   ]
  },
  {
   "cell_type": "code",
   "execution_count": 24,
   "metadata": {},
   "outputs": [],
   "source": [
    "zs = np.dot(v1, ys)"
   ]
  },
  {
   "cell_type": "code",
   "execution_count": 25,
   "metadata": {},
   "outputs": [
    {
     "data": {
      "image/png": "[encoded data removed]",
      "text/plain": [
       "<matplotlib.figure.Figure at 0x1095275f8>"
      ]
     },
     "metadata": {},
     "output_type": "display_data"
    }
   ],
   "source": [
    "plt.scatter(zs[0,:], zs[1,:], alpha=0.2)\n",
    "for e_, v_ in zip(e1, v1.T):\n",
    "    plt.plot([0, 3*e_*v_[0]], [0, 3*e_*v_[1]], 'r-', lw=2)\n",
    "plt.axis([-3,3,-3,3]);"
   ]
  },
  {
   "cell_type": "code",
   "execution_count": 26,
   "metadata": {},
   "outputs": [
    {
     "data": {
      "text/plain": [
       "array([[ 1.000e+00, -5.551e-17],\n",
       "       [-5.551e-17,  1.000e+00]])"
      ]
     },
     "execution_count": 26,
     "metadata": {},
     "output_type": "execute_result"
    }
   ],
   "source": [
    "u, s, v = np.linalg.svd(x)\n",
    "u.dot(u.T)"
   ]
  },
  {
   "cell_type": "markdown",
   "metadata": {},
   "source": [
    "#### Dimension reduction via PCA\n",
    "\n",
    "We have the spectral decomposition of the covariance matrix\n",
    "\n",
    "$$\n",
    "A = Q^{-1}\\Lambda Q\n",
    "$$\n",
    "\n",
    "Suppose $\\Lambda$ is a rank $p$ matrix. To reduce the dimensionality to $k \\le p$, we simply set all but the first $k$ values of the diagonal of $\\Lambda$ to zero. This is equivalent to ignoring all except the first $k$ principal components.\n",
    "\n",
    "What does this achieve? Recall that $A$ is a covariance matrix, and the trace of the matrix is the overall variability, since it is the sum of the variances."
   ]
  },
  {
   "cell_type": "code",
   "execution_count": 27,
   "metadata": {},
   "outputs": [
    {
     "data": {
      "text/plain": [
       "array([[0.602, 0.201],\n",
       "       [0.201, 0.193]])"
      ]
     },
     "execution_count": 27,
     "metadata": {},
     "output_type": "execute_result"
    }
   ],
   "source": [
    "A"
   ]
  },
  {
   "cell_type": "code",
   "execution_count": 28,
   "metadata": {},
   "outputs": [
    {
     "data": {
      "text/plain": [
       "0.7941479443137951"
      ]
     },
     "execution_count": 28,
     "metadata": {},
     "output_type": "execute_result"
    }
   ],
   "source": [
    "A.trace()"
   ]
  },
  {
   "cell_type": "code",
   "execution_count": 29,
   "metadata": {},
   "outputs": [
    {
     "data": {
      "text/plain": [
       "array([[0.11 , 0.   ],\n",
       "       [0.   , 0.684]])"
      ]
     },
     "execution_count": 29,
     "metadata": {},
     "output_type": "execute_result"
    }
   ],
   "source": [
    "e, v = np.linalg.eigh(A)\n",
    "D = np.diag(e)\n",
    "D"
   ]
  },
  {
   "cell_type": "code",
   "execution_count": 30,
   "metadata": {},
   "outputs": [
    {
     "data": {
      "text/plain": [
       "0.7941479443137951"
      ]
     },
     "execution_count": 30,
     "metadata": {},
     "output_type": "execute_result"
    }
   ],
   "source": [
    "D.trace()"
   ]
  },
  {
   "cell_type": "code",
   "execution_count": 31,
   "metadata": {},
   "outputs": [
    {
     "data": {
      "text/plain": [
       "0.13860574831143427"
      ]
     },
     "execution_count": 31,
     "metadata": {},
     "output_type": "execute_result"
    }
   ],
   "source": [
    "D[0,0]/D.trace()"
   ]
  },
  {
   "cell_type": "markdown",
   "metadata": {},
   "source": [
    "Since the trace is invariant under change of basis, the total variability is also unchanged by PCA. By keeping only the first $k$ principal components, we can still \"explain\" $\\sum_{i=1}^k e[i]/\\sum{e}$ of the total variability. Sometimes, the degree of dimension reduction is specified as keeping enough principal components so that (say) $90\\%$ of the total variability is explained."
   ]
  },
  {
   "cell_type": "markdown",
   "metadata": {},
   "source": [
    "### Using SVD for PCA\n",
    "\n",
    "SVD is a decomposition of the data matrix $X = U S V^T$ where $U$ and $V$ are orthogonal matrices and $S$ is a diagonal matrix. \n",
    "\n",
    "Recall that the transpose of an orthogonal matrix is also its inverse, so if we multiply on the right by $X^T$, we get the following simplification\n",
    "\n",
    "\\begin{align}\n",
    "X &= U S V^T \\\\\n",
    "X X^T &= U S V^T (U S V^T)^T \\\\\n",
    " &= U S V^T V S U^T \\\\\n",
    " &= U S^2 U^T\n",
    "\\end{align}\n",
    "\n",
    "Compare with the eigendecomposition of a matrix $A = W \\Lambda W^{-1}$, we see that SVD gives us the eigendecomposition of the matrix $XX^T$, which as we have just seen, is basically a scaled version of the covariance for a data matrix with zero mean, with the eigenvectors given by $U$ and eigenvealuse by $S^2$ (scaled by $n-1$).."
   ]
  },
  {
   "cell_type": "code",
   "execution_count": 32,
   "metadata": {},
   "outputs": [],
   "source": [
    "u, s, v = np.linalg.svd(x)"
   ]
  },
  {
   "cell_type": "code",
   "execution_count": 33,
   "metadata": {},
   "outputs": [
    {
     "data": {
      "image/png": "[encoded data removed]",
      "text/plain": [
       "<matplotlib.figure.Figure at 0x1095276d8>"
      ]
     },
     "metadata": {},
     "output_type": "display_data"
    }
   ],
   "source": [
    "e2 = s**2/(n-1)\n",
    "v2 = u\n",
    "plt.scatter(x[0,:], x[1,:], alpha=0.2)\n",
    "for e_, v_ in zip(e2, v2):\n",
    "    plt.plot([0, 3*e_*v_[0]], [0, 3*e_*v_[1]], 'r-', lw=2)\n",
    "plt.axis([-3,3,-3,3]);"
   ]
  },
  {
   "cell_type": "code",
   "execution_count": 34,
   "metadata": {},
   "outputs": [
    {
     "data": {
      "text/plain": [
       "array([[ 0.925, -0.379],\n",
       "       [ 0.379,  0.925]])"
      ]
     },
     "execution_count": 34,
     "metadata": {},
     "output_type": "execute_result"
    }
   ],
   "source": [
    "v1 # from eigenvectors of covariance matrix"
   ]
  },
  {
   "cell_type": "code",
   "execution_count": 35,
   "metadata": {},
   "outputs": [
    {
     "data": {
      "text/plain": [
       "array([[-0.925, -0.379],\n",
       "       [-0.379,  0.925]])"
      ]
     },
     "execution_count": 35,
     "metadata": {},
     "output_type": "execute_result"
    }
   ],
   "source": [
    "v2 # from SVD"
   ]
  },
  {
   "cell_type": "code",
   "execution_count": 36,
   "metadata": {},
   "outputs": [
    {
     "data": {
      "text/plain": [
       "array([0.684, 0.11 ])"
      ]
     },
     "execution_count": 36,
     "metadata": {},
     "output_type": "execute_result"
    }
   ],
   "source": [
    "e1 # from eigenvalues of covariance matrix"
   ]
  },
  {
   "cell_type": "code",
   "execution_count": 37,
   "metadata": {},
   "outputs": [
    {
     "data": {
      "text/plain": [
       "array([0.684, 0.11 ])"
      ]
     },
     "execution_count": 37,
     "metadata": {},
     "output_type": "execute_result"
    }
   ],
   "source": [
    "e2 # from SVD"
   ]
  }
 ],
 "metadata": {
  "kernelspec": {
   "display_name": "Python 3",
   "language": "python",
   "name": "python3"
  },
  "language_info": {
   "codemirror_mode": {
    "name": "ipython",
    "version": 3
   },
   "file_extension": ".py",
   "mimetype": "text/x-python",
   "name": "python",
   "nbconvert_exporter": "python",
   "pygments_lexer": "ipython3",
   "version": "3.6.5"
  }
 },
 "nbformat": 4,
 "nbformat_minor": 2
}
