{
 "cells": [
  {
   "cell_type": "markdown",
   "metadata": {},
   "source": [
    "# Lab08: Conjugate Gradient Descent"
   ]
  },
  {
   "cell_type": "markdown",
   "metadata": {},
   "source": [
    "In this homework, we will implement the conjugate graident descent algorithm. While you should nearly always use an optimization routine from a library for practical data analyiss, this exercise is useful because it will make concepts from multivariatble calculus and linear algebra covered in the lectrures concrete for you. Also, it brings you up the learning curve for the implementaiton of more complex algorithms than the ones you have been exposed to so far.\n",
    "\n",
    "Note: The exercise assumes that we can calculate the gradient and Hessian of the fucntion we are trying to minimize. This can be computationally expensive or not even possible for soeme functions. Approximate methods can then be used; we do not go into such complexities here."
   ]
  },
  {
   "cell_type": "markdown",
   "metadata": {},
   "source": [
    "**Conjugate gradient descent**\n",
    "\n",
    "We want to implement the line search method \n",
    "\n",
    "$$ \n",
    "x_{k+1} = x_k + \\alpha_k p_k\n",
    "$$\n",
    "\n",
    "where $\\alpha_k$ is the step size and $p_k$ is the search direction. \n",
    "\n",
    "In particular, we want the search directions $p_k$ to be *conjugate*, as this will allow us to find the minimum in $n$ steps for $x \\in \\mathbb{R}^n$ if $f(x)$ is a quadratic function.\n",
    "\n",
    "The following exercises will unpack this:\n",
    "\n",
    "- What quadratic functions are\n",
    "- What conjugate vectors are\n",
    "- How to find conjugate vectors by Gram-Schmidt process\n",
    "- How to find the step size $\\alpha_k$\n",
    "\n",
    "and finally wrap them all into a conjugate gradient algorithm."
   ]
  },
  {
   "cell_type": "markdown",
   "metadata": {},
   "source": [
    "**Quadratic function surfaces**\n",
    "\n",
    "Recall that our objective is to minimize a scalar valued function which maps $\\mathbb{R}^n \\mapsto \\mathbb{R}$, for example, a log likelihoood function (for MLE) or unnormalized posterior distribution (for MAP). Geometrically, we are tring to find the value of the lowest point of some surface. The conjugate gradient algorihtm assumes that the surface can be approximated by the quadratic expression (say, by using a Taylor series expansion about $x$)\n",
    "\n",
    "$$\n",
    "f(x) = \\frac{1}{2}x^TAx - b^Tx + c\n",
    "$$\n",
    "\n",
    "and that \n",
    "\n",
    "$$\n",
    "\\nabla f = Ax - b = 0\n",
    "$$\n",
    "\n",
    "at the minimum (if A is positive definite). Note that $A$ is a matrix, $b$ is a vector, and $c$ is a scalar.  Also, note that the matrix $A$ is the Hessian of the quadratic function.For simplicity, we'll work in $\\mathbb{R}^2$ so we can visualize the surface, so that $x$ is a 2-vector.\n",
    "\n",
    "Note: A **form** is a polynomial function where every term has the same degree - for example, $x^2 + 2xy + y^2$ is a quadratic form, whcih can be rewritten as \n",
    "$$\n",
    "\\begin{pmatrix}\n",
    "x & y\n",
    "\\end{pmatrix}\n",
    "\\begin{pmatrix}\n",
    "    1 & 1\\\\\n",
    "    1 & 1\n",
    "\\end{pmatrix}\n",
    "\\begin{pmatrix}\n",
    "x \\\\\n",
    "y\n",
    "\\end{pmatrix}\n",
    "$$\n",
    "\n",
    "That is, $x^TAx$ is a quadratic form."
   ]
  },
  {
   "cell_type": "code",
   "execution_count": 3,
   "metadata": {},
   "outputs": [],
   "source": [
    "%matplotlib inline\n",
    "import matplotlib.pyplot as plt\n",
    "import numpy as np"
   ]
  },
  {
   "cell_type": "markdown",
   "metadata": {},
   "source": [
    "**Exercise 1 (20 points)** \n",
    "\n",
    "We will work with function $f_1$\n",
    "\n",
    "$$\n",
    "f1(x) = \\frac{1}{2} x^T \\pmatrix{1 & 0 \\\\ 0 & 1}x\n",
    "$$\n",
    "\n",
    "and function $f_2$\n",
    "\n",
    "$$\n",
    "f2(x) = \\frac{1}{2} x^T \\pmatrix{1 & 0 \\\\ 0 & 3}x\n",
    "$$\n",
    "\n",
    "- Plot the labeled contours of the quadratic functions\n",
    "- Use a `streamplot` to show the gradient vector field of the above quadratic functions."
   ]
  },
  {
   "cell_type": "code",
   "execution_count": null,
   "metadata": {
    "collapsed": true
   },
   "outputs": [],
   "source": [
    "\n",
    "\n",
    "\n"
   ]
  },
  {
   "cell_type": "markdown",
   "metadata": {},
   "source": [
    "**Gram-Schmidt**\n",
    "\n",
    "The way to numerically find conjugate vectors is to use the Gram-Schmidt process. Here, instead of the usual projection \n",
    "\n",
    "$$\n",
    "\\text{proj}_u(v) = \\frac{u \\cdot v}{u \\cdot u} \\, u\n",
    "$$\n",
    "\n",
    "we use the generalized projection\n",
    "$$\n",
    "\\text{proj}_u(v) = \\frac{uA^Tv}{uA^Tu} \\, u\n",
    "$$"
   ]
  },
  {
   "cell_type": "markdown",
   "metadata": {},
   "source": [
    "**Exercise 2 (30 points)**\n",
    "\n",
    "The vectors $u$ and $v$ are orthogonal i.e. $u^Tv = 0$ and conjugate with respect to $A$ if $u^TAv = 0$. The geometric intuition for conjugate vecrors $u$ and $v$ is that $u$ and $v$ would be orthogonal if we stretched the contour plots so that it became isotropic (same in all directions, just like when A=𝟙). Write a Gram-Schmidt function to find orthogonal and conjuate vectors with the following signature\n",
    "\n",
    "```python\n",
    "def gram_schmidt(U, inner):\n",
    "    \"\"\"Return an orthogonal matrix.\n",
    "    \n",
    "    U is a matrix of (column) vecotrs.\n",
    "    inner is a function that calculates the inner product.\n",
    "    \n",
    "    Returns an orthogonal matrix of the same shape as U.\n",
    "    \"\"\"\n",
    "```\n",
    "\n",
    "Use this function and the appropiate inner product to plot\n",
    "\n",
    "- An orhtogonal set of basis vectors for $f_1$\n",
    "- A conjugate set of basic vectors for $f_2$ \n",
    "\n",
    "where the first basis vector is to parallel to $\\pmatrix{1 \\\\ 1}$."
   ]
  },
  {
   "cell_type": "code",
   "execution_count": null,
   "metadata": {
    "collapsed": true
   },
   "outputs": [],
   "source": [
    "\n",
    "\n",
    "\n"
   ]
  },
  {
   "cell_type": "markdown",
   "metadata": {
    "collapsed": true
   },
   "source": [
    "**Exercise 3 (20 points)**\n",
    "\n",
    "We now need to find the \"step size\" $\\alpha$ to take in the direction of the search vector $p$. We can get a quadratic approximation to a general nonliner function $f$ by taking the Taylor series in the driection of $p$\n",
    "\n",
    "$$\n",
    "f(x + \\alpha p) = f(x) + \\alpha [f'(x)]^T p + \\frac{\\alpha^2}{2} p^T f''(x) p\n",
    "$$\n",
    "\n",
    "Find the derivative with respect to $\\alpha$ and use this to find the optimal value for $\\alpha$ with respect to the quadratic approcimaiton. \n",
    "\n",
    "* Write the derivation of the optimal step size $\\alpha$ using LaTeX in a Markdown cell.\n",
    "* Write a funciton that returns $\\alpha$ for a quadratic funciton with the following signature\n",
    "\n",
    "```python\n",
    "def step(x, p, A, b):\n",
    "    \"\"\"Returns the optimal step size to take in line search on a quadratic.\n",
    "    \n",
    "    A and b are the coefficients of the quadartic expression \n",
    "    $$\n",
    "    f(x) = \\frac{1}{2}x^TAx - b^Tx + c\n",
    "    $$\n",
    "    p is the search direction\n",
    "    x is the current location\n",
    "    \"\"\"\n",
    "```"
   ]
  },
  {
   "cell_type": "code",
   "execution_count": null,
   "metadata": {
    "collapsed": true
   },
   "outputs": [],
   "source": [
    "\n",
    "\n",
    "\n"
   ]
  },
  {
   "cell_type": "markdown",
   "metadata": {},
   "source": [
    "**Line search**\n",
    "\n",
    "We now know how to find a search direction $p_k$ - this is a vector that is conjugate to the previous search direction. The first search direction is usually set to be the gradient. Next we need to find out how far along $p_k$ we need to travel, i.e., we need to find $\\alpha_k$. First we take a Taylor expansion in the direction of $p$\n",
    "\n",
    "$$\n",
    "f(x + \\alpha p) = f(x) + \\alpha [f'(x)]^T p + \\frac{\\alpha^2}{2} p^T f''(x) p\n",
    "$$\n",
    "\n",
    "followed by finding the derivative with respect to $\\alpha$\n",
    "\n",
    "$$\n",
    "\\frac{d}{d\\alpha} f(x + \\alpha p) = [f'(x)]^T p + \\alpha p^T f''(x) p\n",
    "$$\n",
    "\n",
    "Solvign for $\\frac{d}{d\\alpha} f(x + \\alpha p) = 0$, we get\n",
    "\n",
    "$$\n",
    "\\alpha = - \\frac{[f'(x)]^T p}{p^T f''(x) p} \\\\\n",
    "= - \\frac{\\nabla f^T p}{p^T A p} \\\\\n",
    "= \\frac{(b - Ax)^T p}{p^T A p}\n",
    "$$\n",
    "\n"
   ]
  },
  {
   "cell_type": "markdown",
   "metadata": {},
   "source": [
    "**Exercise 4 (30 points)**\n",
    "\n",
    "Implement the conjugate grdient descent algorithm with the following signature\n",
    "\n",
    "```python\n",
    "def cg(x, A, b, c, max_iter=100, tol=1e-3):\n",
    "    \"\"\"Conjugate gradient descent on a quadratic function surface.\n",
    "    \n",
    "    x is the starting position\n",
    "    A, b and c are the coefficients of the quadartic expression \n",
    "    $$\n",
    "    f(x) = \\frac{1}{2}x^TAx - b^Tx + c\n",
    "    $$\n",
    "    max_iter is the maximum number of iterations to take\n",
    "    tol is the tolerance (stop if the length of the gradient is smaller than tol)\n",
    "\n",
    "    Returns the number of steps taken and the list of all positions visited.\n",
    "    \"\"\"\n",
    "```\n",
    "\n",
    "- Use cg to find the minimum of the funciton $f_2$ from Exercise 1, starting from $\\pmatrix{6 \\\\ 7}$.\n",
    "\n",
    "- Plot the contour of the funciton f and the trajectory taken from the inital starting poitn $x$ to the final position, inlcuding all the intermediate steps. \n",
    "\n",
    "We are not particularly concerned about efficiency here, so don't worry about JIT/AOT/C++ level optimization. "
   ]
  },
  {
   "cell_type": "code",
   "execution_count": null,
   "metadata": {
    "collapsed": true
   },
   "outputs": [],
   "source": [
    "\n",
    "\n",
    "\n"
   ]
  }
 ],
 "metadata": {
  "kernelspec": {
   "display_name": "Python 3",
   "language": "python",
   "name": "python3"
  },
  "language_info": {
   "codemirror_mode": {
    "name": "ipython",
    "version": 3
   },
   "file_extension": ".py",
   "mimetype": "text/x-python",
   "name": "python",
   "nbconvert_exporter": "python",
   "pygments_lexer": "ipython3",
   "version": "3.6.5"
  }
 },
 "nbformat": 4,
 "nbformat_minor": 1
}
