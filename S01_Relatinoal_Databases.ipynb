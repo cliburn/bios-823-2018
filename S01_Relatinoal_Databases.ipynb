{
 "cells": [
  {
   "cell_type": "markdown",
   "metadata": {},
   "source": [
    "# S01 Relational Databases\n",
    "\n",
    "For a simple tutorial on database design, see [Introduction to Database Design](https://www.datanamic.com/support/lt-dez005-introduction-db-modeling.html)\n",
    "\n",
    "For a deep dive, see [Database Design for Mere Mortals](https://www.amazon.com/Database-Design-Mere-Mortals-Hands/dp/0321884493/ref=dp_ob_title_bk)"
   ]
  },
  {
   "cell_type": "markdown",
   "metadata": {},
   "source": [
    "## 1. Motivation"
   ]
  },
  {
   "cell_type": "markdown",
   "metadata": {},
   "source": [
    "Why relational databases and SQL?\n",
    "\n",
    "- History of databases\n",
    "- ACID\n",
    "- Data integrity\n",
    "- Schema"
   ]
  },
  {
   "cell_type": "markdown",
   "metadata": {},
   "source": [
    "## 2. RDBMS\n",
    "\n",
    "- Memory\n",
    "- Storage\n",
    "- Dictionary\n",
    "- Query language"
   ]
  },
  {
   "cell_type": "markdown",
   "metadata": {},
   "source": [
    "## 3. Anatomy"
   ]
  },
  {
   "cell_type": "markdown",
   "metadata": {},
   "source": [
    "### Table (Relation)"
   ]
  },
  {
   "cell_type": "markdown",
   "metadata": {},
   "source": [
    "Represents a *subject* or an *event*."
   ]
  },
  {
   "cell_type": "markdown",
   "metadata": {},
   "source": [
    "### Column (Attribute)"
   ]
  },
  {
   "cell_type": "markdown",
   "metadata": {},
   "source": [
    "Represents a single *variable* or *feature*."
   ]
  },
  {
   "cell_type": "markdown",
   "metadata": {},
   "source": [
    "### Row (Tuple)"
   ]
  },
  {
   "cell_type": "markdown",
   "metadata": {},
   "source": [
    "Represents an *observation*."
   ]
  },
  {
   "cell_type": "markdown",
   "metadata": {},
   "source": [
    "## 4. Concepts"
   ]
  },
  {
   "cell_type": "markdown",
   "metadata": {},
   "source": [
    "### Constraints\n",
    "\n",
    "You can impose constraints that values in a column have to take. For example, you can specify that values are compulsory (NOT NULL), or UNIQUE or fall within a certain range."
   ]
  },
  {
   "cell_type": "markdown",
   "metadata": {},
   "source": [
    "### Referential integrity"
   ]
  },
  {
   "cell_type": "markdown",
   "metadata": {},
   "source": [
    "- Primary key represents a unique identifier of a row. It may be simple or composite.\n",
    "  - Unique\n",
    "  - Non-null\n",
    "  - Never optional\n",
    "- Foreign key is a column containing the primary key of a different table. It enforces *referential integrity*."
   ]
  },
  {
   "cell_type": "markdown",
   "metadata": {},
   "source": [
    "### Relationships"
   ]
  },
  {
   "cell_type": "markdown",
   "metadata": {},
   "source": [
    "- One to one\n",
    "- One to many\n",
    "- Many to many\n",
    "\n",
    "- What happens on delete?\n",
    "  - Restrict\n",
    "  - Cascade"
   ]
  },
  {
   "cell_type": "markdown",
   "metadata": {},
   "source": [
    "### Indexes\n",
    "\n",
    "An index is a data structure that allows fast search of a column (typically from linear to log time complexity). Most databases will automatically build an index for every primary key column, but you can also manually specify columns to build indexes for. "
   ]
  },
  {
   "cell_type": "markdown",
   "metadata": {},
   "source": [
    "### Views"
   ]
  },
  {
   "cell_type": "markdown",
   "metadata": {},
   "source": [
    "- Temporary virtual table retuned as a result of a *query*.\n",
    "- Views only specify the strucutre of a table - the contents are constructed on the fly from existing tables.\n",
    "- Queries return a Result Set"
   ]
  },
  {
   "cell_type": "markdown",
   "metadata": {},
   "source": [
    "## 5. Design"
   ]
  },
  {
   "cell_type": "markdown",
   "metadata": {},
   "source": [
    "### Columns"
   ]
  },
  {
   "cell_type": "markdown",
   "metadata": {},
   "source": [
    "- Use singlular form for name \n",
    "- Use informative names\n",
    "- Use unique names not shared by any other table (except foreign keys)\n",
    "- Column must be an attribute of the table's subject\n",
    "- Eliminate multi-part columns\n",
    "- Eliminate multi-value columsn\n",
    "- Eliminate redundant columns"
   ]
  },
  {
   "cell_type": "markdown",
   "metadata": {},
   "source": [
    "### Tables"
   ]
  },
  {
   "cell_type": "markdown",
   "metadata": {},
   "source": [
    "- Use singular/plural forms for name (controversial)\n",
    "- Enusre every table has a primary key\n",
    "- Eliminate duplicate columns"
   ]
  },
  {
   "cell_type": "markdown",
   "metadata": {},
   "source": [
    "### Relationships"
   ]
  },
  {
   "cell_type": "markdown",
   "metadata": {},
   "source": [
    "- Establish participation type and degree of relationship\n",
    "  - One to one\n",
    "  - One to many\n",
    "  - Many to many"
   ]
  },
  {
   "cell_type": "markdown",
   "metadata": {},
   "source": [
    "## 6. Example"
   ]
  },
  {
   "cell_type": "code",
   "execution_count": 1,
   "metadata": {},
   "outputs": [],
   "source": [
    "%load_ext sql"
   ]
  },
  {
   "cell_type": "code",
   "execution_count": 2,
   "metadata": {},
   "outputs": [
    {
     "data": {
      "text/plain": [
       "'Connected: None@data/dummy.db'"
      ]
     },
     "execution_count": 2,
     "metadata": {},
     "output_type": "execute_result"
    }
   ],
   "source": [
    "%sql sqlite:///data/dummy.db"
   ]
  },
  {
   "cell_type": "code",
   "execution_count": 3,
   "metadata": {},
   "outputs": [
    {
     "name": "stdout",
     "output_type": "stream",
     "text": [
      "Done.\n",
      "Done.\n",
      "Done.\n",
      "Done.\n"
     ]
    },
    {
     "data": {
      "text/plain": [
       "[]"
      ]
     },
     "execution_count": 3,
     "metadata": {},
     "output_type": "execute_result"
    }
   ],
   "source": [
    "%%sql\n",
    "\n",
    "DROP TABLE IF EXISTS Country;\n",
    "DROP TABLE IF EXISTS Person;\n",
    "\n",
    "CREATE TABLE Country (\n",
    "    country_id varcarh(2) PRIMARY KEY,\n",
    "    country_name varchar(255)\n",
    ");\n",
    "\n",
    "CREATE TABLE Person (\n",
    "    person_id INTEGER PRIMARY KEY,\n",
    "    person_first varchar(255),\n",
    "    person_last varchar(255),\n",
    "    country_id INTEGER NOT NULL,\n",
    "      FOREIGN KEY (country_id) REFERENCES Country(country_id)\n",
    ");"
   ]
  },
  {
   "cell_type": "code",
   "execution_count": 4,
   "metadata": {},
   "outputs": [
    {
     "name": "stdout",
     "output_type": "stream",
     "text": [
      "2 rows affected.\n"
     ]
    },
    {
     "data": {
      "text/plain": [
       "[]"
      ]
     },
     "execution_count": 4,
     "metadata": {},
     "output_type": "execute_result"
    }
   ],
   "source": [
    "%%sql\n",
    "\n",
    "INSERT INTO Country(country_id, country_name) \n",
    "VALUES ('FR', 'France'), ('CU', 'CUBA');"
   ]
  },
  {
   "cell_type": "code",
   "execution_count": 5,
   "metadata": {},
   "outputs": [
    {
     "name": "stdout",
     "output_type": "stream",
     "text": [
      "2 rows affected.\n"
     ]
    },
    {
     "data": {
      "text/plain": [
       "[]"
      ]
     },
     "execution_count": 5,
     "metadata": {},
     "output_type": "execute_result"
    }
   ],
   "source": [
    "%%sql\n",
    "\n",
    "INSERT INTO Person(person_first, person_last, country_id) \n",
    "VALUES \n",
    "('Napolean', 'Bonaparte', 'FR'),\n",
    "('Luis','Alvarez', 'CU');"
   ]
  },
  {
   "cell_type": "code",
   "execution_count": 6,
   "metadata": {},
   "outputs": [
    {
     "name": "stdout",
     "output_type": "stream",
     "text": [
      "Done.\n"
     ]
    },
    {
     "data": {
      "text/html": [
       "<table>\n",
       "    <tr>\n",
       "        <th>first</th>\n",
       "        <th>last</th>\n",
       "        <th>nationality</th>\n",
       "    </tr>\n",
       "    <tr>\n",
       "        <td>Napolean</td>\n",
       "        <td>Bonaparte</td>\n",
       "        <td>France</td>\n",
       "    </tr>\n",
       "    <tr>\n",
       "        <td>Luis</td>\n",
       "        <td>Alvarez</td>\n",
       "        <td>CUBA</td>\n",
       "    </tr>\n",
       "</table>"
      ],
      "text/plain": [
       "[('Napolean', 'Bonaparte', 'France'), ('Luis', 'Alvarez', 'CUBA')]"
      ]
     },
     "execution_count": 6,
     "metadata": {},
     "output_type": "execute_result"
    }
   ],
   "source": [
    "%%sql\n",
    "\n",
    "SELECT person_first as first, person_last AS last, country_name AS nationality\n",
    "FROM Person \n",
    "INNER JOIN country \n",
    "ON Person.country_id = Country.country_id;"
   ]
  },
  {
   "cell_type": "code",
   "execution_count": 7,
   "metadata": {},
   "outputs": [],
   "source": [
    "from eralchemy import render_er\n",
    "\n",
    "render_er('sqlite:///data/dummy.db', 'erd_from_sqlalchemy.png')"
   ]
  },
  {
   "cell_type": "markdown",
   "metadata": {},
   "source": [
    "![](erd_from_sqlalchemy.png)"
   ]
  },
  {
   "cell_type": "markdown",
   "metadata": {},
   "source": [
    "## Homework walk-through\n",
    "\n",
    "Convert the flat file data in `data/flat.csv` into a well-structured relational database in SQLite3 stored as `data/faculty.db`. Note - salary information is confidential and should be kept in a separate table from other personal data."
   ]
  },
  {
   "cell_type": "code",
   "execution_count": 8,
   "metadata": {},
   "outputs": [],
   "source": [
    "import pandas as pd"
   ]
  },
  {
   "cell_type": "code",
   "execution_count": 9,
   "metadata": {},
   "outputs": [
    {
     "data": {
      "text/html": [
       "<div>\n",
       "<style scoped>\n",
       "    .dataframe tbody tr th:only-of-type {\n",
       "        vertical-align: middle;\n",
       "    }\n",
       "\n",
       "    .dataframe tbody tr th {\n",
       "        vertical-align: top;\n",
       "    }\n",
       "\n",
       "    .dataframe thead th {\n",
       "        text-align: right;\n",
       "    }\n",
       "</style>\n",
       "<table border=\"1\" class=\"dataframe\">\n",
       "  <thead>\n",
       "    <tr style=\"text-align: right;\">\n",
       "      <th></th>\n",
       "      <th>name</th>\n",
       "      <th>gender</th>\n",
       "      <th>age</th>\n",
       "      <th>height</th>\n",
       "      <th>weight</th>\n",
       "      <th>salary</th>\n",
       "      <th>nationality</th>\n",
       "      <th>code</th>\n",
       "      <th>country</th>\n",
       "      <th>language1</th>\n",
       "      <th>language2</th>\n",
       "      <th>language3</th>\n",
       "      <th>first</th>\n",
       "      <th>last</th>\n",
       "    </tr>\n",
       "  </thead>\n",
       "  <tbody>\n",
       "    <tr>\n",
       "      <th>242</th>\n",
       "      <td>Claude Eaton</td>\n",
       "      <td>Female</td>\n",
       "      <td>46</td>\n",
       "      <td>1.87</td>\n",
       "      <td>61</td>\n",
       "      <td>170000</td>\n",
       "      <td>Finnish</td>\n",
       "      <td>FI</td>\n",
       "      <td>Finland</td>\n",
       "      <td></td>\n",
       "      <td></td>\n",
       "      <td></td>\n",
       "      <td>Claude</td>\n",
       "      <td>Eaton</td>\n",
       "    </tr>\n",
       "    <tr>\n",
       "      <th>540</th>\n",
       "      <td>Gilberto Hampton</td>\n",
       "      <td>Male</td>\n",
       "      <td>28</td>\n",
       "      <td>1.68</td>\n",
       "      <td>59</td>\n",
       "      <td>35000</td>\n",
       "      <td>Swedish</td>\n",
       "      <td>SE</td>\n",
       "      <td>Sweden</td>\n",
       "      <td>Tex</td>\n",
       "      <td>GNU Octave</td>\n",
       "      <td>Python</td>\n",
       "      <td>Gilberto</td>\n",
       "      <td>Hampton</td>\n",
       "    </tr>\n",
       "    <tr>\n",
       "      <th>32</th>\n",
       "      <td>Alexander Haley</td>\n",
       "      <td>Male</td>\n",
       "      <td>55</td>\n",
       "      <td>1.93</td>\n",
       "      <td>41</td>\n",
       "      <td>142000</td>\n",
       "      <td>Jordanian</td>\n",
       "      <td>JO</td>\n",
       "      <td>Jordan</td>\n",
       "      <td>AutoIt</td>\n",
       "      <td>C#</td>\n",
       "      <td></td>\n",
       "      <td>Alexander</td>\n",
       "      <td>Haley</td>\n",
       "    </tr>\n",
       "    <tr>\n",
       "      <th>917</th>\n",
       "      <td>Mack Mcgee</td>\n",
       "      <td>Male</td>\n",
       "      <td>36</td>\n",
       "      <td>1.64</td>\n",
       "      <td>69</td>\n",
       "      <td>77000</td>\n",
       "      <td>Taiwanese</td>\n",
       "      <td>TW</td>\n",
       "      <td>Taiwan</td>\n",
       "      <td></td>\n",
       "      <td></td>\n",
       "      <td></td>\n",
       "      <td>Mack</td>\n",
       "      <td>Mcgee</td>\n",
       "    </tr>\n",
       "    <tr>\n",
       "      <th>1255</th>\n",
       "      <td>Samuel Duran</td>\n",
       "      <td>Male</td>\n",
       "      <td>47</td>\n",
       "      <td>1.73</td>\n",
       "      <td>83</td>\n",
       "      <td>43000</td>\n",
       "      <td>Italian</td>\n",
       "      <td>IT</td>\n",
       "      <td>Italy</td>\n",
       "      <td>R</td>\n",
       "      <td>Emacs Lisp</td>\n",
       "      <td>Delphi</td>\n",
       "      <td>Samuel</td>\n",
       "      <td>Duran</td>\n",
       "    </tr>\n",
       "    <tr>\n",
       "      <th>1277</th>\n",
       "      <td>Seth Small</td>\n",
       "      <td>Male</td>\n",
       "      <td>31</td>\n",
       "      <td>1.56</td>\n",
       "      <td>56</td>\n",
       "      <td>101000</td>\n",
       "      <td>Irish</td>\n",
       "      <td>IE</td>\n",
       "      <td>Ireland</td>\n",
       "      <td>Caml</td>\n",
       "      <td>JavaScript</td>\n",
       "      <td></td>\n",
       "      <td>Seth</td>\n",
       "      <td>Small</td>\n",
       "    </tr>\n",
       "    <tr>\n",
       "      <th>172</th>\n",
       "      <td>Brittny Slater</td>\n",
       "      <td>Female</td>\n",
       "      <td>30</td>\n",
       "      <td>1.74</td>\n",
       "      <td>65</td>\n",
       "      <td>99000</td>\n",
       "      <td>Polish</td>\n",
       "      <td>PO</td>\n",
       "      <td>Poland</td>\n",
       "      <td>Scheme</td>\n",
       "      <td>CoffeeScript</td>\n",
       "      <td>R</td>\n",
       "      <td>Brittny</td>\n",
       "      <td>Slater</td>\n",
       "    </tr>\n",
       "    <tr>\n",
       "      <th>375</th>\n",
       "      <td>Dorian Yates</td>\n",
       "      <td>Male</td>\n",
       "      <td>21</td>\n",
       "      <td>1.83</td>\n",
       "      <td>82</td>\n",
       "      <td>63000</td>\n",
       "      <td>Chinese</td>\n",
       "      <td>CH</td>\n",
       "      <td>China</td>\n",
       "      <td>Clojure</td>\n",
       "      <td>Scala</td>\n",
       "      <td>haXe</td>\n",
       "      <td>Dorian</td>\n",
       "      <td>Yates</td>\n",
       "    </tr>\n",
       "    <tr>\n",
       "      <th>778</th>\n",
       "      <td>Kevin Fernandez</td>\n",
       "      <td>Male</td>\n",
       "      <td>18</td>\n",
       "      <td>1.66</td>\n",
       "      <td>84</td>\n",
       "      <td>101000</td>\n",
       "      <td>Bolivian</td>\n",
       "      <td>BO</td>\n",
       "      <td>Bolivia</td>\n",
       "      <td>JavaScript</td>\n",
       "      <td></td>\n",
       "      <td></td>\n",
       "      <td>Kevin</td>\n",
       "      <td>Fernandez</td>\n",
       "    </tr>\n",
       "    <tr>\n",
       "      <th>737</th>\n",
       "      <td>Karleen Orr</td>\n",
       "      <td>Female</td>\n",
       "      <td>43</td>\n",
       "      <td>1.71</td>\n",
       "      <td>60</td>\n",
       "      <td>67000</td>\n",
       "      <td>Uruguayan</td>\n",
       "      <td>UY</td>\n",
       "      <td>Uruguay</td>\n",
       "      <td>Tcl</td>\n",
       "      <td>haXe</td>\n",
       "      <td>Dart</td>\n",
       "      <td>Karleen</td>\n",
       "      <td>Orr</td>\n",
       "    </tr>\n",
       "  </tbody>\n",
       "</table>\n",
       "</div>"
      ],
      "text/plain": [
       "                  name  gender  age  height  weight  salary nationality code  \\\n",
       "242       Claude Eaton  Female   46    1.87      61  170000     Finnish   FI   \n",
       "540   Gilberto Hampton    Male   28    1.68      59   35000     Swedish   SE   \n",
       "32     Alexander Haley    Male   55    1.93      41  142000   Jordanian   JO   \n",
       "917         Mack Mcgee    Male   36    1.64      69   77000   Taiwanese   TW   \n",
       "1255      Samuel Duran    Male   47    1.73      83   43000     Italian   IT   \n",
       "1277        Seth Small    Male   31    1.56      56  101000       Irish   IE   \n",
       "172     Brittny Slater  Female   30    1.74      65   99000      Polish   PO   \n",
       "375       Dorian Yates    Male   21    1.83      82   63000     Chinese   CH   \n",
       "778    Kevin Fernandez    Male   18    1.66      84  101000    Bolivian   BO   \n",
       "737        Karleen Orr  Female   43    1.71      60   67000   Uruguayan   UY   \n",
       "\n",
       "      country   language1     language2 language3      first       last  \n",
       "242   Finland                                         Claude      Eaton  \n",
       "540    Sweden         Tex    GNU Octave    Python   Gilberto    Hampton  \n",
       "32     Jordan      AutoIt            C#            Alexander      Haley  \n",
       "917    Taiwan                                           Mack      Mcgee  \n",
       "1255    Italy           R    Emacs Lisp    Delphi     Samuel      Duran  \n",
       "1277  Ireland        Caml    JavaScript                 Seth      Small  \n",
       "172    Poland      Scheme  CoffeeScript         R    Brittny     Slater  \n",
       "375     China     Clojure         Scala      haXe     Dorian      Yates  \n",
       "778   Bolivia  JavaScript                              Kevin  Fernandez  \n",
       "737   Uruguay         Tcl          haXe      Dart    Karleen        Orr  "
      ]
     },
     "execution_count": 9,
     "metadata": {},
     "output_type": "execute_result"
    }
   ],
   "source": [
    "flat = pd.read_csv('data/flat.csv', keep_default_na=False)\n",
    "flat.sample(10)"
   ]
  },
  {
   "cell_type": "code",
   "execution_count": null,
   "metadata": {},
   "outputs": [],
   "source": []
  }
 ],
 "metadata": {
  "kernelspec": {
   "display_name": "Python 3",
   "language": "python",
   "name": "python3"
  },
  "language_info": {
   "codemirror_mode": {
    "name": "ipython",
    "version": 3
   },
   "file_extension": ".py",
   "mimetype": "text/x-python",
   "name": "python",
   "nbconvert_exporter": "python",
   "pygments_lexer": "ipython3",
   "version": "3.6.5"
  }
 },
 "nbformat": 4,
 "nbformat_minor": 2
}
