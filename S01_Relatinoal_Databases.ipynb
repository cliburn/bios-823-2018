{
 "cells": [
  {
   "cell_type": "markdown",
   "metadata": {},
   "source": [
    "# S01 Relational Databases\n",
    "\n",
    "This focuses only on fundamental design ideas and how to run queries. Database optimizaiton, creation and data creation and manipulation (update, insert, deleete) operations are not covered."
   ]
  },
  {
   "cell_type": "markdown",
   "metadata": {},
   "source": [
    "## 1. Motivation"
   ]
  },
  {
   "cell_type": "markdown",
   "metadata": {},
   "source": [
    "Why relational databases and SQL?"
   ]
  },
  {
   "cell_type": "markdown",
   "metadata": {},
   "source": [
    "## 2. Parts of a relational database"
   ]
  },
  {
   "cell_type": "markdown",
   "metadata": {},
   "source": [
    "### Tables"
   ]
  },
  {
   "cell_type": "markdown",
   "metadata": {},
   "source": [
    "Represents a *subject* or an *event*."
   ]
  },
  {
   "cell_type": "markdown",
   "metadata": {},
   "source": [
    "### Columns"
   ]
  },
  {
   "cell_type": "markdown",
   "metadata": {},
   "source": [
    "Represents a single *attribute*, *variable* or *feature*."
   ]
  },
  {
   "cell_type": "markdown",
   "metadata": {},
   "source": [
    "### Rows"
   ]
  },
  {
   "cell_type": "markdown",
   "metadata": {},
   "source": [
    "Represents an *observation*."
   ]
  },
  {
   "cell_type": "markdown",
   "metadata": {},
   "source": [
    "### Keys"
   ]
  },
  {
   "cell_type": "markdown",
   "metadata": {},
   "source": [
    "- Primary key represents a unique identifier of a row. It may be simple or composite.\n",
    "  - Unique\n",
    "  - Non-null\n",
    "  - Never optional\n",
    "- Foreign key is a column containing the primary key of a different table. It enforces *referential integrity*."
   ]
  },
  {
   "cell_type": "markdown",
   "metadata": {},
   "source": [
    "### Views"
   ]
  },
  {
   "cell_type": "markdown",
   "metadata": {},
   "source": [
    "- Temporary virtual table retuned as a result of a *query*.\n",
    "- Views only specify the strucutre of a table - the contents are constructed on the fly from existing tables.\n",
    "- Queries return a Result Set"
   ]
  },
  {
   "cell_type": "markdown",
   "metadata": {},
   "source": [
    "### Relationships"
   ]
  },
  {
   "cell_type": "markdown",
   "metadata": {},
   "source": [
    "- One to one\n",
    "- One to many\n",
    "- Many to many"
   ]
  },
  {
   "cell_type": "markdown",
   "metadata": {},
   "source": [
    "### Indexes\n",
    "\n",
    "An index is a data structure that allows fast search of a column (typically from linear to log time complexity). Most databses will automatically build an index for every primary key column, but you can also manually specify columns to build indexes for. "
   ]
  },
  {
   "cell_type": "markdown",
   "metadata": {},
   "source": [
    "## 3. Proper structure of a relational database"
   ]
  },
  {
   "cell_type": "markdown",
   "metadata": {},
   "source": [
    "### Columns"
   ]
  },
  {
   "cell_type": "markdown",
   "metadata": {},
   "source": [
    "- Use singlular form for name \n",
    "- Use informative names\n",
    "- Use unique names not shared by any other table (except foreign keys)\n",
    "- Column must be an attribute of the table's subject\n",
    "- Eliminate multi-part columns\n",
    "- Eliminate multi-value columsn\n",
    "- Eliminate redundant columns"
   ]
  },
  {
   "cell_type": "markdown",
   "metadata": {},
   "source": [
    "### Tables"
   ]
  },
  {
   "cell_type": "markdown",
   "metadata": {},
   "source": [
    "- Use singular/plural forms for name (controversial)\n",
    "- Enusre every table has a primary key\n",
    "- Eliminate duplicate columns"
   ]
  },
  {
   "cell_type": "markdown",
   "metadata": {},
   "source": [
    "### Relationships"
   ]
  },
  {
   "cell_type": "markdown",
   "metadata": {},
   "source": [
    "- Esatblishing relationships\n",
    "  - One to one\n",
    "  - One to many\n",
    "  - Many to many\n",
    "- What happens on delete?\n",
    "  - Restrict\n",
    "  - Cascade\n",
    "- Participation type and degree"
   ]
  },
  {
   "cell_type": "markdown",
   "metadata": {},
   "source": [
    "## Exercise\n",
    "\n",
    "Convert the flat file data in `data/flat.csv` into a well-structured relational database in SQLite3 stored as `data/faculty.db`. Note - salary information is confidential and should be kept in a separate table from other personal data."
   ]
  },
  {
   "cell_type": "code",
   "execution_count": 151,
   "metadata": {},
   "outputs": [
    {
     "data": {
      "text/html": [
       "<div>\n",
       "<style scoped>\n",
       "    .dataframe tbody tr th:only-of-type {\n",
       "        vertical-align: middle;\n",
       "    }\n",
       "\n",
       "    .dataframe tbody tr th {\n",
       "        vertical-align: top;\n",
       "    }\n",
       "\n",
       "    .dataframe thead th {\n",
       "        text-align: right;\n",
       "    }\n",
       "</style>\n",
       "<table border=\"1\" class=\"dataframe\">\n",
       "  <thead>\n",
       "    <tr style=\"text-align: right;\">\n",
       "      <th></th>\n",
       "      <th>name</th>\n",
       "      <th>gender</th>\n",
       "      <th>age</th>\n",
       "      <th>height</th>\n",
       "      <th>weight</th>\n",
       "      <th>salary</th>\n",
       "      <th>nationality</th>\n",
       "      <th>code</th>\n",
       "      <th>country</th>\n",
       "      <th>language1</th>\n",
       "      <th>language2</th>\n",
       "      <th>language3</th>\n",
       "    </tr>\n",
       "  </thead>\n",
       "  <tbody>\n",
       "    <tr>\n",
       "      <th>252</th>\n",
       "      <td>Cinderella Lambert</td>\n",
       "      <td>Female</td>\n",
       "      <td>53</td>\n",
       "      <td>1.98</td>\n",
       "      <td>39</td>\n",
       "      <td>111000</td>\n",
       "      <td>Iranian</td>\n",
       "      <td>IR</td>\n",
       "      <td>Iran</td>\n",
       "      <td>ECMAScript</td>\n",
       "      <td>C Shell</td>\n",
       "      <td>PHP</td>\n",
       "    </tr>\n",
       "    <tr>\n",
       "      <th>346</th>\n",
       "      <td>Delmar Harmon</td>\n",
       "      <td>Male</td>\n",
       "      <td>19</td>\n",
       "      <td>1.69</td>\n",
       "      <td>40</td>\n",
       "      <td>86000</td>\n",
       "      <td>Estonian</td>\n",
       "      <td>EE</td>\n",
       "      <td>Estonia</td>\n",
       "      <td>Kotlin</td>\n",
       "      <td></td>\n",
       "      <td></td>\n",
       "    </tr>\n",
       "    <tr>\n",
       "      <th>168</th>\n",
       "      <td>Beverlee Mullen</td>\n",
       "      <td>Female</td>\n",
       "      <td>66</td>\n",
       "      <td>1.58</td>\n",
       "      <td>74</td>\n",
       "      <td>75000</td>\n",
       "      <td>Russian</td>\n",
       "      <td>RU</td>\n",
       "      <td>Russia</td>\n",
       "      <td>J#</td>\n",
       "      <td>CoffeeScript</td>\n",
       "      <td>PL-I</td>\n",
       "    </tr>\n",
       "    <tr>\n",
       "      <th>887</th>\n",
       "      <td>Leeanne Carter</td>\n",
       "      <td>Female</td>\n",
       "      <td>44</td>\n",
       "      <td>1.54</td>\n",
       "      <td>70</td>\n",
       "      <td>131000</td>\n",
       "      <td>Cuban</td>\n",
       "      <td>CU</td>\n",
       "      <td>Cuba</td>\n",
       "      <td>Groovy</td>\n",
       "      <td>Haskell</td>\n",
       "      <td>Perl</td>\n",
       "    </tr>\n",
       "    <tr>\n",
       "      <th>178</th>\n",
       "      <td>Booker Ramos</td>\n",
       "      <td>Male</td>\n",
       "      <td>38</td>\n",
       "      <td>1.57</td>\n",
       "      <td>48</td>\n",
       "      <td>81000</td>\n",
       "      <td>Swiss</td>\n",
       "      <td>CH</td>\n",
       "      <td>Switzerland</td>\n",
       "      <td>Z shell</td>\n",
       "      <td></td>\n",
       "      <td></td>\n",
       "    </tr>\n",
       "    <tr>\n",
       "      <th>1280</th>\n",
       "      <td>Rodrigo Gallegos</td>\n",
       "      <td>Male</td>\n",
       "      <td>59</td>\n",
       "      <td>1.69</td>\n",
       "      <td>74</td>\n",
       "      <td>109000</td>\n",
       "      <td>Cuban</td>\n",
       "      <td>CU</td>\n",
       "      <td>Cuba</td>\n",
       "      <td>Fortran</td>\n",
       "      <td>JavaScript</td>\n",
       "      <td></td>\n",
       "    </tr>\n",
       "    <tr>\n",
       "      <th>1347</th>\n",
       "      <td>Sena O'donnell</td>\n",
       "      <td>Female</td>\n",
       "      <td>42</td>\n",
       "      <td>1.66</td>\n",
       "      <td>70</td>\n",
       "      <td>72000</td>\n",
       "      <td>Irish</td>\n",
       "      <td>IE</td>\n",
       "      <td>Ireland</td>\n",
       "      <td>R</td>\n",
       "      <td></td>\n",
       "      <td></td>\n",
       "    </tr>\n",
       "    <tr>\n",
       "      <th>932</th>\n",
       "      <td>Londa Hewitt</td>\n",
       "      <td>Female</td>\n",
       "      <td>27</td>\n",
       "      <td>1.71</td>\n",
       "      <td>48</td>\n",
       "      <td>76000</td>\n",
       "      <td>Belgian</td>\n",
       "      <td>BE</td>\n",
       "      <td>Belgium</td>\n",
       "      <td>Common Lisp</td>\n",
       "      <td>Go</td>\n",
       "      <td>Java</td>\n",
       "    </tr>\n",
       "    <tr>\n",
       "      <th>211</th>\n",
       "      <td>Carlo Melendez</td>\n",
       "      <td>Male</td>\n",
       "      <td>45</td>\n",
       "      <td>1.90</td>\n",
       "      <td>68</td>\n",
       "      <td>70000</td>\n",
       "      <td>Iranian</td>\n",
       "      <td>IR</td>\n",
       "      <td>Iran</td>\n",
       "      <td></td>\n",
       "      <td></td>\n",
       "      <td></td>\n",
       "    </tr>\n",
       "    <tr>\n",
       "      <th>369</th>\n",
       "      <td>Denyse Rowe</td>\n",
       "      <td>Female</td>\n",
       "      <td>38</td>\n",
       "      <td>1.94</td>\n",
       "      <td>61</td>\n",
       "      <td>110000</td>\n",
       "      <td>German</td>\n",
       "      <td>DE</td>\n",
       "      <td>Germany</td>\n",
       "      <td>ASP</td>\n",
       "      <td>C Shell</td>\n",
       "      <td></td>\n",
       "    </tr>\n",
       "  </tbody>\n",
       "</table>\n",
       "</div>"
      ],
      "text/plain": [
       "                    name  gender  age  height  weight  salary nationality  \\\n",
       "252   Cinderella Lambert  Female   53    1.98      39  111000     Iranian   \n",
       "346        Delmar Harmon    Male   19    1.69      40   86000    Estonian   \n",
       "168      Beverlee Mullen  Female   66    1.58      74   75000     Russian   \n",
       "887       Leeanne Carter  Female   44    1.54      70  131000       Cuban   \n",
       "178         Booker Ramos    Male   38    1.57      48   81000       Swiss   \n",
       "1280    Rodrigo Gallegos    Male   59    1.69      74  109000       Cuban   \n",
       "1347      Sena O'donnell  Female   42    1.66      70   72000       Irish   \n",
       "932         Londa Hewitt  Female   27    1.71      48   76000     Belgian   \n",
       "211       Carlo Melendez    Male   45    1.90      68   70000     Iranian   \n",
       "369          Denyse Rowe  Female   38    1.94      61  110000      German   \n",
       "\n",
       "     code      country    language1     language2 language3  \n",
       "252    IR         Iran   ECMAScript       C Shell       PHP  \n",
       "346    EE      Estonia       Kotlin                          \n",
       "168    RU       Russia           J#  CoffeeScript      PL-I  \n",
       "887    CU         Cuba       Groovy       Haskell      Perl  \n",
       "178    CH  Switzerland      Z shell                          \n",
       "1280   CU         Cuba      Fortran    JavaScript            \n",
       "1347   IE      Ireland            R                          \n",
       "932    BE      Belgium  Common Lisp            Go      Java  \n",
       "211    IR         Iran                                       \n",
       "369    DE      Germany          ASP       C Shell            "
      ]
     },
     "execution_count": 151,
     "metadata": {},
     "output_type": "execute_result"
    }
   ],
   "source": [
    "flat = pd.read_csv('data/flat.csv', keep_default_na=False)\n",
    "flat.sample(10)"
   ]
  }
 ],
 "metadata": {
  "kernelspec": {
   "display_name": "Python 3",
   "language": "python",
   "name": "python3"
  },
  "language_info": {
   "codemirror_mode": {
    "name": "ipython",
    "version": 3
   },
   "file_extension": ".py",
   "mimetype": "text/x-python",
   "name": "python",
   "nbconvert_exporter": "python",
   "pygments_lexer": "ipython3",
   "version": "3.6.5"
  }
 },
 "nbformat": 4,
 "nbformat_minor": 2
}
