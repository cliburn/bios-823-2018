{
 "cells": [
  {
   "cell_type": "markdown",
   "metadata": {},
   "source": [
    "# Assignment 11: Review\n",
    "\n",
    "We will review material covered so far in this course with short questions similar to what you might expect on the Final Exam. \n",
    "\n",
    "First review the lecture notes. Then try to do this assignment without referring to ANY external material to simulate exam conditions."
   ]
  },
  {
   "cell_type": "markdown",
   "metadata": {},
   "source": [
    "**1**. (20 points)\n",
    "\n",
    "- Generate the matrices A and B without copying and pasting.\n",
    "\n",
    "```\n",
    "A =   [[8, 7, 6, 5, 4, 3, 2, 1, 0],\n",
    "       [7, 6, 5, 4, 3, 2, 1, 0, 1],\n",
    "       [6, 5, 4, 3, 2, 1, 0, 1, 2],\n",
    "       [5, 4, 3, 2, 1, 0, 1, 2, 3],\n",
    "       [4, 3, 2, 1, 0, 1, 2, 3, 4],\n",
    "       [3, 2, 1, 0, 1, 2, 3, 4, 5],\n",
    "       [2, 1, 0, 1, 2, 3, 4, 5, 6],\n",
    "       [1, 0, 1, 2, 3, 4, 5, 6, 7],\n",
    "       [0, 1, 2, 3, 4, 5, 6, 7, 8]]\n",
    "```\n",
    "\n",
    "and \n",
    "\n",
    "```\n",
    "B =   [[0, 1, 2, 3, 4, 5, 6, 7, 8],\n",
    "       [1, 0, 1, 2, 3, 4, 5, 6, 7],\n",
    "       [2, 1, 0, 1, 2, 3, 4, 5, 6],\n",
    "       [3, 2, 1, 0, 1, 2, 3, 4, 5],\n",
    "       [4, 3, 2, 1, 0, 1, 2, 3, 4],\n",
    "       [5, 4, 3, 2, 1, 0, 1, 2, 3],\n",
    "       [6, 5, 4, 3, 2, 1, 0, 1, 2],\n",
    "       [7, 6, 5, 4, 3, 2, 1, 0, 1],\n",
    "       [8, 7, 6, 5, 4, 3, 2, 1, 0]]\n",
    "```\n",
    "\n",
    "- Is matrix multiplication of A and B commutative?\n",
    "- What is the Frobenius distance between A and B?\n",
    "- Find the best rank 2 approximation of A in terms of Frobenius distance."
   ]
  },
  {
   "cell_type": "code",
   "execution_count": null,
   "metadata": {},
   "outputs": [],
   "source": [
    "\n",
    "\n",
    "\n"
   ]
  },
  {
   "cell_type": "markdown",
   "metadata": {},
   "source": [
    "**2**. (20 points)\n",
    "\n",
    "- Find the square root of 123 using the Newton-Raphson method. Write your own Netwon-Raphson function. Use a fixed number of iterations, say 10. Start with an initial guess x0=10.\n",
    "- Repeat the exercise using Cython\n",
    "- Time 1000 calls of the python and cython functions using `timeit.timeit`. You should see at least a 10 fold speed up with the Cython version."
   ]
  },
  {
   "cell_type": "code",
   "execution_count": null,
   "metadata": {},
   "outputs": [],
   "source": [
    "\n",
    "\n",
    "\n"
   ]
  },
  {
   "cell_type": "markdown",
   "metadata": {},
   "source": [
    "**3**. (30 points)\n",
    "\n",
    "We have 3 documents\n",
    "\n",
    "Doc 1\n",
    "```\n",
    "\"Just the place for a Snark!\" the Bellman cried,\n",
    "   As he landed his crew with care;\n",
    "Supporting each man on the top of the tide\n",
    "   By a finger entwined in his hair.\n",
    "```\n",
    "\n",
    "Doc 2\n",
    "```\n",
    "\"Just the place for a Snark! I have said it twice:\n",
    "   That alone should encourage the crew.\n",
    "Just the place for a Snark! I have said it thrice:\n",
    "   What I tell you three times is true.\"\n",
    "```\n",
    "\n",
    "Doc 3\n",
    "```\n",
    "The crew was complete: it included a Boots—\n",
    "   A maker of Bonnets and Hoods—\n",
    "A Barrister, brought to arrange their disputes—\n",
    "   And a Broker, to value their goods.\n",
    "```\n",
    "\n",
    "- Create a count matrix of the unigram and bigram counts using only standard Python libraries and convert to a DataFrame\n",
    "- Use `sklearn.decomposition.NMF`  with 2 components to find a lower-dimensional feature space\n",
    "- Calculate the pairwise distance matrix in the reduced feature space using cosine distance. You may use `pdist` and `squareform` from `scipy.spsatial.distance`."
   ]
  },
  {
   "cell_type": "code",
   "execution_count": null,
   "metadata": {},
   "outputs": [],
   "source": [
    "\n",
    "\n",
    "\n"
   ]
  },
  {
   "cell_type": "markdown",
   "metadata": {},
   "source": [
    "**4**. (30 points)\n",
    "\n",
    "Read the time series data in data/ts.csv into a DataFrame where the index consists of the timestamps.\n",
    "\n",
    "- Detrend the time series by fitting a quadratic regression curve to the original data and subtracting the predicted values from the fitted model\n",
    "- Plot the detrended time series and superimpose a exponentially weighted mean curve with alpha=0.2\n",
    "- Plot the ACF for lags up to 30 without using the specialized ACF plots (that is, you need to create a vector of auto-correlations at each lag for the detrended data, then plot that using `matplotlib.pyplot.stem` function)"
   ]
  },
  {
   "cell_type": "code",
   "execution_count": null,
   "metadata": {},
   "outputs": [],
   "source": [
    "\n",
    "\n",
    "\n"
   ]
  }
 ],
 "metadata": {
  "kernelspec": {
   "display_name": "Python 3",
   "language": "python",
   "name": "python3"
  },
  "language_info": {
   "codemirror_mode": {
    "name": "ipython",
    "version": 3
   },
   "file_extension": ".py",
   "mimetype": "text/x-python",
   "name": "python",
   "nbconvert_exporter": "python",
   "pygments_lexer": "ipython3",
   "version": "3.7.0"
  }
 },
 "nbformat": 4,
 "nbformat_minor": 2
}
