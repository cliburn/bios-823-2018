{
 "cells": [
  {
   "cell_type": "markdown",
   "metadata": {},
   "source": [
    "# Text Analysis\n",
    "\n",
    " In this lecture, we look at more recent methods of feature extraction and topic modeling.\n",
    "\n",
    "We will cover the following:\n",
    "\n",
    "- word2vec\n",
    "- latent semantic analysis\n",
    "- non-negative matrix factorization\n",
    "- latent Dirichlet allocation"
   ]
  },
  {
   "cell_type": "markdown",
   "metadata": {},
   "source": [
    "## Similarity\n",
    "\n",
    "In order to find similar words or documents after they have been vectorized, we need definitions of similarity. Similarity measures often used in text analysis include\n",
    "\n",
    "- edit \n",
    "- cosine \n",
    "- Hellinger \n",
    "- Kullback-Leibler \n",
    "- Jacard \n",
    "\n",
    "These may be given as the similarity or distance."
   ]
  },
  {
   "cell_type": "markdown",
   "metadata": {},
   "source": [
    "### Edit \n",
    "\n",
    "The edit distance between two strings is the minimum number of changes needed to covert from one string to another. These changes may be weighted, for example, by making a deletion changes have a different weight than an insertion operation. Also known as Levenshtein distance.\n",
    "\n",
    "Such distance metrics are the basis for aligning DNA, RNA and protein sequences."
   ]
  },
  {
   "cell_type": "code",
   "execution_count": 1,
   "metadata": {},
   "outputs": [],
   "source": [
    "import textdistance as td"
   ]
  },
  {
   "cell_type": "code",
   "execution_count": 2,
   "metadata": {},
   "outputs": [
    {
     "data": {
      "text/plain": [
       "3"
      ]
     },
     "execution_count": 2,
     "metadata": {},
     "output_type": "execute_result"
    }
   ],
   "source": [
    "td.levenshtein.distance('slaves', 'salve')"
   ]
  },
  {
   "cell_type": "code",
   "execution_count": 3,
   "metadata": {},
   "outputs": [
    {
     "data": {
      "text/plain": [
       "3"
      ]
     },
     "execution_count": 3,
     "metadata": {},
     "output_type": "execute_result"
    }
   ],
   "source": [
    "td.levenshtein.similarity('slaves', 'salve')"
   ]
  },
  {
   "cell_type": "markdown",
   "metadata": {},
   "source": [
    "### Jacard \n",
    "\n",
    "The Jacard distance is the intersection divided by union of two sets."
   ]
  },
  {
   "cell_type": "code",
   "execution_count": 4,
   "metadata": {},
   "outputs": [
    {
     "data": {
      "text/plain": [
       "0.6"
      ]
     },
     "execution_count": 4,
     "metadata": {},
     "output_type": "execute_result"
    }
   ],
   "source": [
    "td.jaccard.similarity('the quick brown fox'.split(), 'the quick brown dog'.split())"
   ]
  },
  {
   "cell_type": "markdown",
   "metadata": {},
   "source": [
    "Note that the implementation is actually for multisets."
   ]
  },
  {
   "cell_type": "code",
   "execution_count": 5,
   "metadata": {},
   "outputs": [
    {
     "data": {
      "text/plain": [
       "0.8333333333333334"
      ]
     },
     "execution_count": 5,
     "metadata": {},
     "output_type": "execute_result"
    }
   ],
   "source": [
    "td.jaccard.similarity('slaves', 'salve')"
   ]
  },
  {
   "cell_type": "markdown",
   "metadata": {},
   "source": [
    "### Cosine \n",
    "\n",
    "For two real valued vectors."
   ]
  },
  {
   "cell_type": "code",
   "execution_count": 6,
   "metadata": {},
   "outputs": [],
   "source": [
    "s1 = 'the quick brown fox'\n",
    "s2 = 'the quick brown dog'"
   ]
  },
  {
   "cell_type": "code",
   "execution_count": 7,
   "metadata": {},
   "outputs": [
    {
     "data": {
      "text/plain": [
       "0.75"
      ]
     },
     "execution_count": 7,
     "metadata": {},
     "output_type": "execute_result"
    }
   ],
   "source": [
    "td.cosine.similarity(s1.split(), s2.split())"
   ]
  },
  {
   "cell_type": "markdown",
   "metadata": {},
   "source": [
    "Cosine distance works on vectors - the default is just to use the bag of words counts."
   ]
  },
  {
   "cell_type": "code",
   "execution_count": 8,
   "metadata": {},
   "outputs": [],
   "source": [
    "from sklearn.feature_extraction.text import CountVectorizer"
   ]
  },
  {
   "cell_type": "code",
   "execution_count": 9,
   "metadata": {},
   "outputs": [],
   "source": [
    "cv = CountVectorizer()"
   ]
  },
  {
   "cell_type": "code",
   "execution_count": 10,
   "metadata": {},
   "outputs": [
    {
     "data": {
      "text/plain": [
       "array([[1, 0, 1, 1, 1],\n",
       "       [1, 1, 0, 1, 1]], dtype=int64)"
      ]
     },
     "execution_count": 10,
     "metadata": {},
     "output_type": "execute_result"
    }
   ],
   "source": [
    "t = cv.fit_transform([s1, s2]).toarray()\n",
    "t"
   ]
  },
  {
   "cell_type": "markdown",
   "metadata": {},
   "source": [
    "Cosine distance is equivalent to the inner product of the normalized vectors with length 1."
   ]
  },
  {
   "cell_type": "code",
   "execution_count": 11,
   "metadata": {},
   "outputs": [],
   "source": [
    "from scipy.spatial.distance import cosine"
   ]
  },
  {
   "cell_type": "code",
   "execution_count": 12,
   "metadata": {},
   "outputs": [],
   "source": [
    "import numpy as np"
   ]
  },
  {
   "cell_type": "code",
   "execution_count": 13,
   "metadata": {},
   "outputs": [
    {
     "data": {
      "text/plain": [
       "0.75"
      ]
     },
     "execution_count": 13,
     "metadata": {},
     "output_type": "execute_result"
    }
   ],
   "source": [
    "np.around(1- cosine(t[0], t[1]), 2)"
   ]
  },
  {
   "cell_type": "code",
   "execution_count": 14,
   "metadata": {},
   "outputs": [
    {
     "data": {
      "text/plain": [
       "0.75"
      ]
     },
     "execution_count": 14,
     "metadata": {},
     "output_type": "execute_result"
    }
   ],
   "source": [
    "np.dot(t[0]/np.linalg.norm(t[0]), t[1]/np.linalg.norm(t[1]))"
   ]
  },
  {
   "cell_type": "markdown",
   "metadata": {},
   "source": [
    "### Hellinger\n",
    "\n",
    "For two probability distributions."
   ]
  },
  {
   "cell_type": "code",
   "execution_count": 15,
   "metadata": {},
   "outputs": [],
   "source": [
    "from gensim.matutils import  hellinger"
   ]
  },
  {
   "cell_type": "code",
   "execution_count": 16,
   "metadata": {},
   "outputs": [
    {
     "data": {
      "text/plain": [
       "(array([0.25, 0.  , 0.25, 0.25, 0.25]), array([0.25, 0.25, 0.  , 0.25, 0.25]))"
      ]
     },
     "execution_count": 16,
     "metadata": {},
     "output_type": "execute_result"
    }
   ],
   "source": [
    "p = t[0]/t[0].sum()\n",
    "q = t[1]/t[1].sum()\n",
    "p, q"
   ]
  },
  {
   "cell_type": "code",
   "execution_count": 17,
   "metadata": {},
   "outputs": [
    {
     "data": {
      "text/plain": [
       "0.5"
      ]
     },
     "execution_count": 17,
     "metadata": {},
     "output_type": "execute_result"
    }
   ],
   "source": [
    "hellinger(p, q)"
   ]
  },
  {
   "cell_type": "code",
   "execution_count": 18,
   "metadata": {},
   "outputs": [],
   "source": [
    "def discrete_hellinger(p, q):\n",
    "    return 1/np.sqrt(2) * np.linalg.norm(np.sqrt(p) - np.sqrt(q))"
   ]
  },
  {
   "cell_type": "code",
   "execution_count": 19,
   "metadata": {},
   "outputs": [
    {
     "data": {
      "text/plain": [
       "0.5"
      ]
     },
     "execution_count": 19,
     "metadata": {},
     "output_type": "execute_result"
    }
   ],
   "source": [
    "discrete_hellinger(p, q)"
   ]
  },
  {
   "cell_type": "markdown",
   "metadata": {},
   "source": [
    "### Kullback-Leibler"
   ]
  },
  {
   "cell_type": "code",
   "execution_count": 20,
   "metadata": {},
   "outputs": [
    {
     "data": {
      "text/plain": [
       "array([[1, 1, 1],\n",
       "       [3, 1, 2]], dtype=int64)"
      ]
     },
     "execution_count": 20,
     "metadata": {},
     "output_type": "execute_result"
    }
   ],
   "source": [
    "t = cv.fit_transform(['one two three', 'one one one two two three']).toarray()\n",
    "t"
   ]
  },
  {
   "cell_type": "code",
   "execution_count": 21,
   "metadata": {},
   "outputs": [
    {
     "data": {
      "text/plain": [
       "(array([0.33333333, 0.33333333, 0.33333333]),\n",
       " array([0.5       , 0.16666667, 0.33333333]))"
      ]
     },
     "execution_count": 21,
     "metadata": {},
     "output_type": "execute_result"
    }
   ],
   "source": [
    "p = t[0]/t[0].sum()\n",
    "q = t[1]/t[1].sum()\n",
    "p, q"
   ]
  },
  {
   "cell_type": "code",
   "execution_count": 22,
   "metadata": {},
   "outputs": [],
   "source": [
    "from gensim.matutils import  kullback_leibler"
   ]
  },
  {
   "cell_type": "code",
   "execution_count": 23,
   "metadata": {},
   "outputs": [
    {
     "data": {
      "text/plain": [
       "0.09589402415059362"
      ]
     },
     "execution_count": 23,
     "metadata": {},
     "output_type": "execute_result"
    }
   ],
   "source": [
    "kullback_leibler(p, q)"
   ]
  },
  {
   "cell_type": "markdown",
   "metadata": {},
   "source": [
    "Not symmetric."
   ]
  },
  {
   "cell_type": "code",
   "execution_count": 24,
   "metadata": {},
   "outputs": [
    {
     "data": {
      "text/plain": [
       "0.08720802396075798"
      ]
     },
     "execution_count": 24,
     "metadata": {},
     "output_type": "execute_result"
    }
   ],
   "source": [
    "kullback_leibler(q, p)"
   ]
  },
  {
   "cell_type": "code",
   "execution_count": 25,
   "metadata": {},
   "outputs": [],
   "source": [
    "def discrete_dkl(p, q):\n",
    "    return -np.sum(p * (np.log(q) - np.log(p)))"
   ]
  },
  {
   "cell_type": "code",
   "execution_count": 26,
   "metadata": {},
   "outputs": [
    {
     "data": {
      "text/plain": [
       "0.09589402415059356"
      ]
     },
     "execution_count": 26,
     "metadata": {},
     "output_type": "execute_result"
    }
   ],
   "source": [
    "discrete_dkl(p, q)"
   ]
  },
  {
   "cell_type": "code",
   "execution_count": 27,
   "metadata": {},
   "outputs": [
    {
     "data": {
      "text/plain": [
       "0.08720802396075805"
      ]
     },
     "execution_count": 27,
     "metadata": {},
     "output_type": "execute_result"
    }
   ],
   "source": [
    "discrete_dkl(q, p)"
   ]
  },
  {
   "cell_type": "markdown",
   "metadata": {},
   "source": [
    "## Word2Vec\n",
    "\n",
    "the `word2vec` family of algorithms is a powerful method for converting a word into a vector that takes into account its context. There are two main ideas - in continuous bag of words, we try to predict the current word from nearby words; in continuous skip-gram, the current word is used to predict nearby words. The phrase \"nearby words\" is intentionally vague - in the simplest case, it is a sliding window of words centered on the current word. \n",
    "\n",
    "Suppose we have the sentence\n",
    "\n",
    "```\n",
    "I do not like green eggs and ham\n",
    "```\n",
    "\n",
    "and suppose we use a centered window of length 3,\n",
    "\n",
    "```\n",
    "((I, not), do), ((do, like), not), ((not, green), like), ((like, eggs), green), ((green, and), eggs), ((eggs, ham) and)\n",
    "```\n",
    "\n",
    "In continuous bag of words, we make the (input, output) pairs to be\n",
    "```\n",
    "(I, do)\n",
    "(not, do)\n",
    "(do, not)\n",
    "(like, not)\n",
    "(not, like)\n",
    "(green, like)\n",
    "(like, green)\n",
    "(eggs, green)\n",
    "(green, eggs)\n",
    "(and, eggs)\n",
    "(eggs, and)\n",
    "(ham, and)\n",
    "```\n",
    "\n",
    "That is, we try to predict `do` when we see `I`, `do` when we see `not` and so on.\n",
    "\n",
    "In continuous skip-gram, we do the inverse for (input, output) pairs\n",
    "```\n",
    "(do, I)\n",
    "(do, not)\n",
    "(not, do)\n",
    "(not, like)\n",
    "(like, not)\n",
    "(like, green)\n",
    "(green, like)\n",
    "(green, eggs)\n",
    "(eggs, green)\n",
    "(eggs, and)\n",
    "(and, eggs)\n",
    "(and, ham)\n",
    "```\n",
    "\n",
    "That is, we try to predict `I` when we see `do`, `not` when we see `do` and so on.\n",
    "\n",
    "To do this prediction, we first assign each word to a vector of some fixed length $n$ - i.e. we embed each word as an $\\mathbb{R}^n$ vector. To do a prediction for all words in the vocabulary using `softmax` would be prohibitively expensive, and is unnecessary if we are just trying to find a good embedding vector. Instead we select $k$ noise words, typically from the unigram distributions, and just train the classifier to distinguish the target word from the noise words using logistic regression (negative sampling). We use stochastic gradient descent to move the embedding word vectors (initialized randomly) until the model gives a high probability to the target words and low probability to the noise ones. If successful, words that are meaningful when substituted in the same context will be close together in $\\mathbb{R}^n$. For instance, `dog` and `cat` are likely to be close together because they appear together in similar contexts like\n",
    "\n",
    "- `My pet dog|cat`\n",
    "- `Raining dogs|cats and cats|dogs`\n",
    "- `The dog|cat chased the rat`\n",
    "- `Common pets are dogs|cats`\n",
    "\n",
    "while `dog` and `apple` are less likely to occur in the same context and hence will end up further apart in the embedding space. Interestingly, the vectors resulting from vector subtraction are also meaningful since they represent analogies - the vector between `man` and `woman` is likely to be similar to that between `king` and `queen`, or `boy` and `girl`.\n",
    "\n",
    "Note: you will encounter `word2vec` again if you take a deep learning class - it is a very influential idea and has many applications beyond text processing since you can apply it to any discrete distribution where local context is meaningful (e.g. genomes). \n",
    "\n",
    "There is a very nice tutorial on Word2Vec that you should read if you want to learn more about the algorithm - [Part 1](http://mccormickml.com/2016/04/19/word2vec-tutorial-the-skip-gram-model/) and [Part 2](http://mccormickml.com/2017/01/11/word2vec-tutorial-part-2-negative-sampling/)\n",
    "\n",
    "Word2Vec learns about the feature representations of *words* - there is a an extension `doc2vec` that generates a feature vector for paragraphs or documents in the same way; we may cover this in the next lecture along with other document retrieval algorithms.\n",
    "\n",
    "There are several other word to vector algorithms inspired by `word2vec` - for example, [`fasttext`](https://fasttext.cc), [approximate nearest neighbors](https://github.com/spotify/annoy) and `wordrank`. Conveniently, many of these are available in the `gensim.models` package."
   ]
  },
  {
   "cell_type": "markdown",
   "metadata": {},
   "source": [
    "We illustrate the mechanics of `word2vec` using `gensim` on the tiny newsgroup corpora; however, you really need much large corpora for `word2vec` to learn effectively."
   ]
  },
  {
   "cell_type": "code",
   "execution_count": 28,
   "metadata": {},
   "outputs": [],
   "source": [
    "import re\n",
    "import numpy as np\n",
    "import pandas as pd"
   ]
  },
  {
   "cell_type": "code",
   "execution_count": 29,
   "metadata": {},
   "outputs": [],
   "source": [
    "import nltk\n",
    "from nltk.stem import SnowballStemmer, WordNetLemmatizer\n",
    "from nltk.collocations import QuadgramCollocationFinder, TrigramCollocationFinder\n",
    "from nltk.metrics.association import QuadgramAssocMeasures, TrigramAssocMeasures\n",
    "import string"
   ]
  },
  {
   "cell_type": "code",
   "execution_count": 30,
   "metadata": {},
   "outputs": [],
   "source": [
    "import gensim\n",
    "from gensim.models.word2vec import Word2Vec"
   ]
  },
  {
   "cell_type": "code",
   "execution_count": 31,
   "metadata": {},
   "outputs": [],
   "source": [
    "from sklearn.datasets import fetch_20newsgroups"
   ]
  },
  {
   "cell_type": "code",
   "execution_count": 32,
   "metadata": {},
   "outputs": [],
   "source": [
    "import warnings\n",
    "\n",
    "warnings.simplefilter('ignore', FutureWarning)"
   ]
  },
  {
   "cell_type": "code",
   "execution_count": 33,
   "metadata": {},
   "outputs": [],
   "source": [
    "newsgroups_train = fetch_20newsgroups(\n",
    "        subset='train',\n",
    "        remove=('headers', 'footers', 'quotes')\n",
    ")"
   ]
  },
  {
   "cell_type": "code",
   "execution_count": 34,
   "metadata": {},
   "outputs": [],
   "source": [
    "newsgroups_test = fetch_20newsgroups(\n",
    "        subset='test',\n",
    "        remove=('headers', 'footers', 'quotes')\n",
    ")"
   ]
  },
  {
   "cell_type": "code",
   "execution_count": 35,
   "metadata": {},
   "outputs": [],
   "source": [
    "def gen_sentences(corpus):\n",
    "    for item in corpus:\n",
    "        yield from nltk.tokenize.sent_tokenize(item)"
   ]
  },
  {
   "cell_type": "code",
   "execution_count": 36,
   "metadata": {},
   "outputs": [
    {
     "name": "stdout",
     "output_type": "stream",
     "text": [
      "rec.autos               :I was wondering if anyone out there could enlighte\n",
      "comp.sys.mac.hardware   :A fair number of brave souls who upgraded their SI\n",
      "comp.sys.mac.hardware   :well folks, my mac plus finally gave up the ghost \n",
      "comp.graphics           :Do you have Weitek's address/phone number?  I'd li\n",
      "sci.space               :From article <C5owCB.n3p@world.std.com>, by tombak\n",
      "talk.politics.guns      :Of course.  The term must be rigidly defined in an\n",
      "sci.med                 :There were a few people who responded to my reques\n",
      "comp.sys.ibm.pc.hardware:ALL this shows is that YOU don't know much about S\n",
      "comp.os.ms-windows.misc :I have win 3.0 and downloaded several icons and BM\n",
      "comp.sys.mac.hardware   :I've had the board for over a year, and it does wo\n",
      "rec.motorcycles         :I have a line on a Ducati 900GTS 1978 model with 1\n",
      "talk.religion.misc      :Yep, that's pretty much it. I'm not a Jew but I un\n",
      "comp.sys.mac.hardware   :--\n",
      "sci.space               :{Description of \"External Tank\" option for SSF red\n",
      "misc.forsale            :Reduced Prices!  I have a list of things forsale o\n",
      "alt.atheism             :Don't be so sure.  Look what happened to Japanese \n",
      "comp.graphics           :I certainly do use it whenever I have to do TIFF, \n",
      "rec.autos               :I recently posted an article asking what kind of r\n",
      "sci.electronics         :I would like to be able to amplify a voltage signa\n",
      "comp.windows.x          :QUESTION:   What is the EXACT entry (parameter and\n"
     ]
    }
   ],
   "source": [
    "for i, t in enumerate(newsgroups_train.target[:20]):\n",
    "    print('%-24s:%s' % (newsgroups_train.target_names[t], \n",
    "                        newsgroups_train.data[i].strip().replace('\\n', ' ')[:50]))"
   ]
  },
  {
   "cell_type": "code",
   "execution_count": 37,
   "metadata": {},
   "outputs": [
    {
     "data": {
      "text/plain": [
       "['I was wondering if anyone out there could enlighten me on this car I saw\\nthe other day. It was a 2-door sports car, looked to be from the late 60s/\\nearly 70s. It was called a Bricklin. The doors were really small. In addition,\\nthe front bumper was separate from the rest of the body. This is \\nall I know. If anyone can tellme a model name, engine specs, years\\nof production, where this car is made, history, or whatever info you\\nhave on this funky looking car, please e-mail.',\n",
       " \"A fair number of brave souls who upgraded their SI clock oscillator have\\nshared their experiences for this poll. Please send a brief message detailing\\nyour experiences with the procedure. Top speed attained, CPU rated speed,\\nadd on cards and adapters, heat sinks, hour of usage per day, floppy disk\\nfunctionality with 800 and 1.4 m floppies are especially requested.\\n\\nI will be summarizing in the next two days, so please add to the network\\nknowledge base if you have done the clock upgrade and haven't answered this\\npoll. Thanks.\",\n",
       " 'well folks, my mac plus finally gave up the ghost this weekend after\\nstarting life as a 512k way back in 1985.  sooo, i\\'m in the market for a\\nnew machine a bit sooner than i intended to be...\\n\\ni\\'m looking into picking up a powerbook 160 or maybe 180 and have a bunch\\nof questions that (hopefully) somebody can answer:\\n\\n* does anybody know any dirt on when the next round of powerbook\\nintroductions are expected?  i\\'d heard the 185c was supposed to make an\\nappearence \"this summer\" but haven\\'t heard anymore on it - and since i\\ndon\\'t have access to macleak, i was wondering if anybody out there had\\nmore info...\\n\\n* has anybody heard rumors about price drops to the powerbook line like the\\nones the duo\\'s just went through recently?\\n\\n* what\\'s the impression of the display on the 180?  i could probably swing\\na 180 if i got the 80Mb disk rather than the 120, but i don\\'t really have\\na feel for how much \"better\" the display is (yea, it looks great in the\\nstore, but is that all \"wow\" or is it really that good?).  could i solicit\\nsome opinions of people who use the 160 and 180 day-to-day on if its worth\\ntaking the disk size and money hit to get the active display?  (i realize\\nthis is a real subjective question, but i\\'ve only played around with the\\nmachines in a computer store breifly and figured the opinions of somebody\\nwho actually uses the machine daily might prove helpful).\\n\\n* how well does hellcats perform?  ;)\\n\\nthanks a bunch in advance for any info - if you could email, i\\'ll post a\\nsummary (news reading time is at a premium with finals just around the\\ncorner... :( )\\n--\\nTom Willis  \\\\  twillis@ecn.purdue.edu    \\\\    Purdue Electrical Engineering']"
      ]
     },
     "execution_count": 37,
     "metadata": {},
     "output_type": "execute_result"
    }
   ],
   "source": [
    "list(newsgroups_train.data[:3])"
   ]
  },
  {
   "cell_type": "code",
   "execution_count": 38,
   "metadata": {},
   "outputs": [
    {
     "data": {
      "text/plain": [
       "['I was wondering if anyone out there could enlighten me on this car I saw\\nthe other day.',\n",
       " 'It was a 2-door sports car, looked to be from the late 60s/\\nearly 70s.',\n",
       " 'It was called a Bricklin.']"
      ]
     },
     "execution_count": 38,
     "metadata": {},
     "output_type": "execute_result"
    }
   ],
   "source": [
    "list(gen_sentences(newsgroups_train.data[:2]))[:3]"
   ]
  },
  {
   "cell_type": "code",
   "execution_count": 39,
   "metadata": {},
   "outputs": [],
   "source": [
    "from gensim.parsing.preprocessing import STOPWORDS"
   ]
  },
  {
   "cell_type": "code",
   "execution_count": 40,
   "metadata": {},
   "outputs": [],
   "source": [
    "docs = [gensim.utils.simple_preprocess(s) \n",
    "        for s in newsgroups_train.data]\n",
    "docs = [[s for s in doc if not s in STOPWORDS] for doc in docs]"
   ]
  },
  {
   "cell_type": "code",
   "execution_count": 41,
   "metadata": {},
   "outputs": [],
   "source": [
    "try:\n",
    "    model = Word2Vec.load('newsgroup_w2v.model')\n",
    "except:\n",
    "    model = Word2Vec(docs,\n",
    "                     size=64, # we use 64 dimensions to represent each word\n",
    "                     window=5, # size of each context window\n",
    "                     min_count=3, # ignore words with frequency less than this\n",
    "                     workers=4)\n",
    "    model.train(docs, total_examples=len(docs), epochs=10)\n",
    "    model.save('newsgroup_w2v.model')"
   ]
  },
  {
   "cell_type": "code",
   "execution_count": 42,
   "metadata": {},
   "outputs": [
    {
     "data": {
      "text/plain": [
       "28037"
      ]
     },
     "execution_count": 42,
     "metadata": {},
     "output_type": "execute_result"
    }
   ],
   "source": [
    "len(model.wv.vocab)"
   ]
  },
  {
   "cell_type": "markdown",
   "metadata": {},
   "source": [
    "The embedding vector for the word `player`"
   ]
  },
  {
   "cell_type": "code",
   "execution_count": 43,
   "metadata": {
    "scrolled": true
   },
   "outputs": [
    {
     "data": {
      "text/plain": [
       "array([-0.0745109 , -0.3727787 , -0.07858007, -0.02495546, -0.81768256,\n",
       "        0.3675847 , -0.04986222, -0.35944948, -1.3577297 , -0.82298636,\n",
       "        0.6177153 , -0.65133417, -0.4350872 , -0.5583063 ,  0.18579966,\n",
       "        1.0602158 , -0.3022152 ,  0.5284609 , -0.59862494, -0.45161876,\n",
       "       -0.27300555,  0.60734206, -0.6525729 , -0.23259163,  0.13352758,\n",
       "        0.5370736 ,  0.7715225 , -0.12659687, -0.44654194,  0.22047612,\n",
       "       -0.16561052,  0.4706513 , -0.33596152,  1.2309055 , -0.49149442,\n",
       "        0.86923444,  1.4756995 , -1.8942418 , -0.00781839,  2.0033727 ,\n",
       "       -0.09868202,  1.1259419 , -0.189596  , -0.2777818 , -2.4286313 ,\n",
       "       -0.38005677, -1.182714  , -1.6038613 ,  0.84564364,  0.21023819,\n",
       "       -0.53427446,  0.646102  , -0.58787376, -0.97272074,  1.0672528 ,\n",
       "        0.23760247, -0.18388252, -0.36993474, -0.22132048, -0.96092176,\n",
       "       -0.52498657, -0.48206168,  1.1901151 ,  0.4976162 ], dtype=float32)"
      ]
     },
     "execution_count": 43,
     "metadata": {},
     "output_type": "execute_result"
    }
   ],
   "source": [
    "model.wv.word_vec('england')"
   ]
  },
  {
   "cell_type": "code",
   "execution_count": 44,
   "metadata": {},
   "outputs": [
    {
     "data": {
      "text/plain": [
       "[('york', 0.8504003286361694),\n",
       " ('mexico', 0.8040080070495605),\n",
       " ('london', 0.7945983409881592),\n",
       " ('rhode', 0.7761226296424866),\n",
       " ('county', 0.7622696161270142)]"
      ]
     },
     "execution_count": 44,
     "metadata": {},
     "output_type": "execute_result"
    }
   ],
   "source": [
    "model.wv.most_similar('england', topn=5)"
   ]
  },
  {
   "cell_type": "code",
   "execution_count": 45,
   "metadata": {},
   "outputs": [
    {
     "data": {
      "text/plain": [
       "0.6483306"
      ]
     },
     "execution_count": 45,
     "metadata": {},
     "output_type": "execute_result"
    }
   ],
   "source": [
    "model.wv.similarity('england', 'france')"
   ]
  },
  {
   "cell_type": "code",
   "execution_count": 46,
   "metadata": {},
   "outputs": [
    {
     "data": {
      "text/plain": [
       "0.329547"
      ]
     },
     "execution_count": 46,
     "metadata": {},
     "output_type": "execute_result"
    }
   ],
   "source": [
    "model.wv.similarity('england', 'rabbit')"
   ]
  },
  {
   "cell_type": "markdown",
   "metadata": {},
   "source": [
    "Apparently, man is to baseball as woman is to stats. Who knew?"
   ]
  },
  {
   "cell_type": "code",
   "execution_count": 47,
   "metadata": {},
   "outputs": [
    {
     "data": {
      "text/plain": [
       "[('nhl', 0.7642770409584045),\n",
       " ('hockey', 0.7287185192108154),\n",
       " ('stats', 0.7006800770759583)]"
      ]
     },
     "execution_count": 47,
     "metadata": {},
     "output_type": "execute_result"
    }
   ],
   "source": [
    "model.wv.most_similar(positive=['baseball', 'man'], negative=['woman'], topn=3)"
   ]
  },
  {
   "cell_type": "markdown",
   "metadata": {},
   "source": [
    "Because of the small and very biased data sets (including `soc.religion.christian` and `alt.atheism`), some of the analogies found are pretty weird."
   ]
  },
  {
   "cell_type": "code",
   "execution_count": 48,
   "metadata": {},
   "outputs": [
    {
     "data": {
      "text/plain": [
       "[('ye', 0.8762507438659668),\n",
       " ('angel', 0.8611559867858887),\n",
       " ('unto', 0.8579176664352417),\n",
       " ('messenger', 0.8458547592163086),\n",
       " ('abraham', 0.8432290554046631),\n",
       " ('thy', 0.8288504481315613),\n",
       " ('isaiah', 0.8286863565444946),\n",
       " ('allah', 0.8268882632255554),\n",
       " ('wicked', 0.8183465003967285),\n",
       " ('apostles', 0.8173311352729797)]"
      ]
     },
     "execution_count": 48,
     "metadata": {},
     "output_type": "execute_result"
    }
   ],
   "source": [
    "model.wv.most_similar(positive=['father', 'son'],\n",
    "                   negative=['mother'])"
   ]
  },
  {
   "cell_type": "markdown",
   "metadata": {},
   "source": [
    "## Doc2Vec\n",
    "\n",
    "The `doc2vec` algorithm is basically the same as `word2vec` with the addition of a paragraph or document context vector. That is, certain words may be used differently in different types of documents, and this is captured in the  vector representing the paragraph or document.\n",
    "\n",
    "![img](https://cdn-images-1.medium.com/max/1600/0*x-gtU4UlO8FAsRvL.)"
   ]
  },
  {
   "cell_type": "code",
   "execution_count": 49,
   "metadata": {},
   "outputs": [],
   "source": [
    "from gensim.models.doc2vec import Doc2Vec, TaggedDocument"
   ]
  },
  {
   "cell_type": "code",
   "execution_count": 50,
   "metadata": {},
   "outputs": [],
   "source": [
    "tagged_docs = [TaggedDocument(doc, [i]) for i, doc in enumerate(docs)]"
   ]
  },
  {
   "cell_type": "code",
   "execution_count": 51,
   "metadata": {},
   "outputs": [],
   "source": [
    "try:\n",
    "    model = Doc2Vec.load('newsgroup_d2v.model')\n",
    "except:\n",
    "    model = Doc2Vec(tagged_docs,\n",
    "                    vector_size=10, # we use 10 dimensions to represent each doc\n",
    "                    window=5, # size of each context window\n",
    "                    min_count=3, # ignore words with frequency less than this\n",
    "                    workers=4)\n",
    "    model.train(tagged_docs, total_examples=len(tagged_docs), epochs=10)\n",
    "    model.save('newsgroup_d2v.model')"
   ]
  },
  {
   "cell_type": "code",
   "execution_count": 52,
   "metadata": {},
   "outputs": [],
   "source": [
    "query = newsgroups_test.data[9]"
   ]
  },
  {
   "cell_type": "code",
   "execution_count": 53,
   "metadata": {},
   "outputs": [],
   "source": [
    "query = [token for token in gensim.utils.simple_preprocess(query) \n",
    "         if not token in STOPWORDS]"
   ]
  },
  {
   "cell_type": "code",
   "execution_count": 54,
   "metadata": {},
   "outputs": [
    {
     "data": {
      "text/plain": [
       "array([-0.31516454,  0.00805197, -0.0253187 ,  0.19353893,  0.0273648 ,\n",
       "        0.1886811 ,  0.10788542,  0.22791667,  0.03705199, -0.01411314,\n",
       "       -0.17832312,  0.05631726, -0.10725331,  0.14338617,  0.18527962,\n",
       "       -0.01110269,  0.06654119, -0.04594845, -0.22378922, -0.04476319,\n",
       "       -0.21860364,  0.12073784, -0.16528177,  0.16585809, -0.05773527,\n",
       "        0.3454903 , -0.19849953, -0.333022  , -0.16839017,  0.10700481,\n",
       "        0.17470066,  0.24749497,  0.18888773, -0.07537188,  0.18191707,\n",
       "       -0.1095916 ,  0.02935272, -0.4249575 ,  0.0251768 ,  0.0349746 ,\n",
       "        0.12637445,  0.24568476, -0.2119108 ,  0.48085764,  0.20985557,\n",
       "        0.00770369, -0.2141663 , -0.18078327,  0.12313445, -0.21511662,\n",
       "        0.24245998,  0.02400354, -0.00676978, -0.00284921, -0.12853989,\n",
       "       -0.22861975, -0.20369759,  0.08046672,  0.2529689 , -0.11732776,\n",
       "        0.02008816, -0.18802854,  0.10185857,  0.06126981], dtype=float32)"
      ]
     },
     "execution_count": 54,
     "metadata": {},
     "output_type": "execute_result"
    }
   ],
   "source": [
    "vector = model.infer_vector(query)\n",
    "vector"
   ]
  },
  {
   "cell_type": "code",
   "execution_count": 55,
   "metadata": {},
   "outputs": [
    {
     "data": {
      "text/plain": [
       "[(5391, 0.7474963665008545),\n",
       " (5085, 0.7442615032196045),\n",
       " (1289, 0.7347975373268127),\n",
       " (1727, 0.7336825132369995),\n",
       " (5990, 0.7317161560058594),\n",
       " (336, 0.7278159856796265),\n",
       " (4120, 0.7259418964385986),\n",
       " (6215, 0.7255467176437378),\n",
       " (6604, 0.7246582508087158),\n",
       " (2326, 0.7232733964920044)]"
      ]
     },
     "execution_count": 55,
     "metadata": {},
     "output_type": "execute_result"
    }
   ],
   "source": [
    "model.docvecs.most_similar([vector])"
   ]
  },
  {
   "cell_type": "code",
   "execution_count": 56,
   "metadata": {
    "scrolled": false
   },
   "outputs": [
    {
     "name": "stdout",
     "output_type": "stream",
     "text": [
      ":  \n",
      ": well, i have lots of experience with scanning in images and altering\n",
      ": them.  as for changing them back into negatives, is that really possible?\n",
      "\n",
      ": (stuff deleted)\n",
      "\n",
      ": jennifer urso:  the oh-so bitter woman of utter blahness(but cheerful\n",
      ": undertones)\n",
      "\n",
      "I use Aldus Photostyler on the PC and I can turn a colour or black and white\n",
      "image into a negative or turn a negative into a colour or black and white\n",
      "image.  I don't know how it does it but it works well.  To test it I scanned\n",
      "a negative and used Aldus to create a positive.  It looked better than the\n",
      "print that the film developers gave me.\n",
      "\n",
      "\n",
      "-- \n",
      "--------------------------------------------------------------------------------\n",
      "Hi guys.\n",
      "\n",
      "I am scanning in a color image and it looks fine on the screen.  When I \n",
      "converted it into PCX,BMP,GIF files so as to get it into MS Windows the colors\n",
      "got much lighter.  For example the yellows became white.  Any ideas?\n",
      "--------------------------------------------------------------------------------\n",
      "I am scanning in a color image and it looks fine on the screen.  When I \n",
      "converted it into PCX,BMP,GIF files so as to get it into MS Windows the colors\n",
      "got much lighter.  For example the yellows became white.  Any ideas?\n",
      "--------------------------------------------------------------------------------\n",
      "\n",
      "If it works it's only due to the heat produced by the laser.\n",
      "--------------------------------------------------------------------------------\n",
      "Has anybody gotten this BMP to work?  I try to uudecode it, but\n",
      "I get \"input file error\" and no picture.  Anybody?\n",
      "--------------------------------------------------------------------------------\n",
      "I have a Sun 3/60 that has a mono framebuffer (bwtwo0 ?) built on the\n",
      "motherboard.  The same system also has a cgfour (cgfour0 and bwtwo1 ?)\n",
      "daughterboard.  I have been using this system with a color monitor having a\n",
      "color \"front\" screen from the cgfour, and a mono \"back\" screen from the\n",
      "bwtwo1, both on the same tube.  I recentley picked up a 1600 x 1280 Sun mono\n",
      "monitor, and I would like to make a two headed system with the cgfour0 and the\n",
      "bwtwo0.  I do not care if I loose the \"back\" screen on the color tube from the\n",
      "bwtwo1.  After looking through the Xsun man page I am not sure if this is\n",
      "possible.  Has anybody sucessfuly done this before?  \n"
     ]
    }
   ],
   "source": [
    "print(newsgroups_test.data[9])\n",
    "for i, score in model.docvecs.most_similar([vector], topn=5):\n",
    "    print('-'*80)\n",
    "    print(newsgroups_train.data[i])"
   ]
  },
  {
   "cell_type": "markdown",
   "metadata": {},
   "source": [
    "## Latent Semantic Indexing (LSI)\n",
    "\n",
    "Latent semantic indexing is basically using SVD to find a low rank approximation to the document/word feature matrix.\n",
    "\n",
    "Recall that with SVD, $X = U \\Sigma V^T$. With lsi, we interpret the matrices as\n",
    "\n",
    "![img](https://i.stack.imgur.com/s9K8q.jpg)\n",
    "\n",
    "where the weights indicate the importance of each topic, where a topic is a particular distribution of words."
   ]
  },
  {
   "cell_type": "code",
   "execution_count": 57,
   "metadata": {},
   "outputs": [
    {
     "data": {
      "text/plain": [
       "11314"
      ]
     },
     "execution_count": 57,
     "metadata": {},
     "output_type": "execute_result"
    }
   ],
   "source": [
    "len(docs)"
   ]
  },
  {
   "cell_type": "code",
   "execution_count": 58,
   "metadata": {},
   "outputs": [],
   "source": [
    "dictionary = gensim.corpora.Dictionary(docs)"
   ]
  },
  {
   "cell_type": "code",
   "execution_count": 59,
   "metadata": {},
   "outputs": [],
   "source": [
    "corpus = [dictionary.doc2bow(doc) for doc in docs]"
   ]
  },
  {
   "cell_type": "code",
   "execution_count": 60,
   "metadata": {},
   "outputs": [],
   "source": [
    "lsi = gensim.models.LsiModel(corpus, num_topics=10, id2word = dictionary)"
   ]
  },
  {
   "cell_type": "code",
   "execution_count": 61,
   "metadata": {},
   "outputs": [
    {
     "name": "stdout",
     "output_type": "stream",
     "text": [
      "0.997*\"ax\" + 0.072*\"max\" + 0.009*\"pl\" + 0.007*\"ei\" + 0.006*\"tm\"\n",
      "-0.230*\"cx\" + -0.225*\"db\" + -0.225*\"file\" + -0.177*\"hz\" + -0.159*\"edu\"\n",
      "0.267*\"file\" + -0.214*\"cx\" + 0.182*\"edu\" + -0.172*\"hz\" + -0.152*\"ww\"\n",
      "-0.868*\"db\" + -0.216*\"mov\" + -0.189*\"bh\" + -0.136*\"si\" + -0.127*\"cs\"\n",
      "-0.438*\"file\" + -0.272*\"output\" + 0.181*\"people\" + -0.177*\"entry\" + 0.175*\"know\"\n",
      "-0.246*\"file\" + 0.236*\"edu\" + -0.230*\"mr\" + -0.224*\"di\" + -0.188*\"pl\"\n",
      "-0.290*\"di\" + -0.251*\"pl\" + -0.223*\"wm\" + -0.222*\"tm\" + -0.188*\"um\"\n",
      "0.493*\"jpeg\" + 0.261*\"file\" + 0.251*\"image\" + 0.201*\"gif\" + 0.177*\"mr\"\n",
      "-0.303*\"mr\" + -0.259*\"file\" + 0.253*\"jpeg\" + -0.235*\"stephanopoulos\" + -0.178*\"edu\"\n",
      "0.371*\"stephanopoulos\" + 0.309*\"mr\" + -0.269*\"file\" + 0.181*\"president\" + -0.175*\"gun\"\n"
     ]
    }
   ],
   "source": [
    "for i, topic in  lsi.print_topics(num_words=5):\n",
    "    print(topic)"
   ]
  },
  {
   "cell_type": "code",
   "execution_count": 62,
   "metadata": {},
   "outputs": [
    {
     "name": "stdout",
     "output_type": "stream",
     "text": [
      "00 rec.autos               :I am a little confused on all of the models of the\n",
      "01 comp.windows.x          :I'm not familiar at all with the format of these \"\n",
      "02 alt.atheism             :In a word, yes.\n",
      "03 talk.politics.mideast   :They were attacking the Iraqis to drive them out o\n",
      "04 talk.religion.misc      :I've just spent two solid months arguing that no s\n",
      "05 sci.med                 :Elisabeth, let's set the record straight for the n\n",
      "06 soc.religion.christian  :Dishonest money dwindles away, but he who gathers \n",
      "07 soc.religion.christian  :A friend of mine managed to get a copy of a comput\n",
      "08 comp.windows.x          :Hi,     We have a requirement for dynamically clos\n",
      "09 comp.graphics           ::   : well, i have lots of experience with scannin\n",
      "10 comp.os.ms-windows.misc :I have uploaded the Windows On-Line Review sharewa\n",
      "11 comp.windows.x          :Most graphics systems I have seen have drawing rou\n",
      "12 talk.politics.mideast   :You *know* that putting something like this out on\n",
      "13 rec.motorcycles         :Accusation?  I thought it was a recommendation.  (\n",
      "14 alt.atheism             :Probably because it IS rape.   So nothing.  It may\n",
      "15 comp.os.ms-windows.misc :From article <C68uBG.K2w@world.std.com>, by cfw@wo\n",
      "16 comp.sys.mac.hardware   :Iv'e got a problem printing with a StyleWriterII. \n",
      "17 comp.graphics           :Hello, i'm interested in those devices too. Could \n",
      "18 misc.forsale            :I said what a SILLY boy i was, now i have zillions\n",
      "19 talk.politics.guns      :I just called Texas' legislative bill tracking ser\n"
     ]
    }
   ],
   "source": [
    "for i, t in enumerate(newsgroups_test.target[:20]):\n",
    "    print('%02d %-24s:%s' % (i, newsgroups_test.target_names[t], \n",
    "                        newsgroups_test.data[i].strip().replace('\\n', ' ')[:50]))"
   ]
  },
  {
   "cell_type": "markdown",
   "metadata": {},
   "source": [
    "#### Find topics in document\n",
    "\n",
    "Note that topics are rather hard to interpret. After all they are just words with the largest weights in the low rank approximation."
   ]
  },
  {
   "cell_type": "code",
   "execution_count": 63,
   "metadata": {},
   "outputs": [
    {
     "data": {
      "text/plain": [
       "\":  \\n: well, i have lots of experience with scanning in images and altering\\n: them.  as for changing them back into negatives, is that really possible?\\n\\n: (stuff deleted)\\n\\n: jennifer urso:  the oh-so bitter woman of utter blahness(but cheerful\\n: undertones)\\n\\nI use Aldus Photostyler on the PC and I can turn a colour or black and white\\nimage into a negative or turn a negative into a colour or black and white\\nimage.  I don't know how it does it but it works well.  To test it I scanned\\na negative and used Aldus to create a positive.  It looked better than the\\nprint that the film developers gave me.\\n\\n\\n-- \""
      ]
     },
     "execution_count": 63,
     "metadata": {},
     "output_type": "execute_result"
    }
   ],
   "source": [
    "query = newsgroups_test.data[9]\n",
    "query"
   ]
  },
  {
   "cell_type": "code",
   "execution_count": 64,
   "metadata": {},
   "outputs": [
    {
     "data": {
      "text/plain": [
       "['well', 'have', 'lots']"
      ]
     },
     "execution_count": 64,
     "metadata": {},
     "output_type": "execute_result"
    }
   ],
   "source": [
    "query = gensim.utils.simple_preprocess(query)\n",
    "query[:3]"
   ]
  },
  {
   "cell_type": "code",
   "execution_count": 65,
   "metadata": {},
   "outputs": [],
   "source": [
    "query = dictionary.doc2bow(query)"
   ]
  },
  {
   "cell_type": "code",
   "execution_count": 66,
   "metadata": {},
   "outputs": [],
   "source": [
    "query = lsi[query]"
   ]
  },
  {
   "cell_type": "code",
   "execution_count": 67,
   "metadata": {},
   "outputs": [
    {
     "data": {
      "text/plain": [
       "[(7, 0.6934390798666026),\n",
       " (8, 0.682172125680393),\n",
       " (2, 0.6238479703880672),\n",
       " (4, 0.4296537870003311),\n",
       " (5, 0.1288588802535491)]"
      ]
     },
     "execution_count": 67,
     "metadata": {},
     "output_type": "execute_result"
    }
   ],
   "source": [
    "sorted(query, key=lambda x: -x[1])[:5]"
   ]
  },
  {
   "cell_type": "code",
   "execution_count": 68,
   "metadata": {},
   "outputs": [],
   "source": [
    "topics = [i for i, score in sorted(query, key=lambda x: -x[1])[:5]]"
   ]
  },
  {
   "cell_type": "code",
   "execution_count": 69,
   "metadata": {},
   "outputs": [
    {
     "data": {
      "text/plain": [
       "'0.493*\"jpeg\" + 0.261*\"file\" + 0.251*\"image\" + 0.201*\"gif\" + 0.177*\"mr\" + -0.144*\"edu\" + 0.139*\"color\" + 0.138*\"stephanopoulos\" + -0.138*\"entry\" + -0.132*\"output\"'"
      ]
     },
     "execution_count": 69,
     "metadata": {},
     "output_type": "execute_result"
    }
   ],
   "source": [
    "lsi.print_topic(topics[0])"
   ]
  },
  {
   "cell_type": "code",
   "execution_count": 70,
   "metadata": {},
   "outputs": [],
   "source": [
    "pat = re.compile(r'.*?(-)?\\d+.*?\\\"(\\w+)\\\"')"
   ]
  },
  {
   "cell_type": "code",
   "execution_count": 71,
   "metadata": {},
   "outputs": [
    {
     "name": "stdout",
     "output_type": "stream",
     "text": [
      "jpeg,file,image,gif,mr,-edu,color,stephanopoulos,-entry,-output\n",
      "-mr,-file,jpeg,-stephanopoulos,-edu,people,-gun,-president,image,output\n",
      "file,-cx,edu,-hz,-ww,-c_,-uw,-qs,-ck,use\n",
      "-file,-output,people,-entry,know,stephanopoulos,mr,said,-oname,think\n",
      "-file,edu,-mr,-di,-pl,-tm,-wm,-stephanopoulos,-output,-um\n"
     ]
    }
   ],
   "source": [
    "for topic in topics:\n",
    "    words = [''.join(pair) for pair in pat.findall(lsi.print_topic(topic))]\n",
    "    print(','.join(words))"
   ]
  },
  {
   "cell_type": "markdown",
   "metadata": {},
   "source": [
    "#### Find similar documents"
   ]
  },
  {
   "cell_type": "code",
   "execution_count": 72,
   "metadata": {},
   "outputs": [],
   "source": [
    "index = gensim.similarities.MatrixSimilarity(lsi[corpus])"
   ]
  },
  {
   "cell_type": "code",
   "execution_count": 73,
   "metadata": {},
   "outputs": [],
   "source": [
    "sims = index[query]"
   ]
  },
  {
   "cell_type": "code",
   "execution_count": 74,
   "metadata": {},
   "outputs": [
    {
     "data": {
      "text/plain": [
       "[(5755, 0.9937236),\n",
       " (8226, 0.9935441),\n",
       " (16, 0.9905483),\n",
       " (10697, 0.9892752),\n",
       " (6864, 0.9879291)]"
      ]
     },
     "execution_count": 74,
     "metadata": {},
     "output_type": "execute_result"
    }
   ],
   "source": [
    "hits = sorted(enumerate(sims), key=lambda x: -x[1])[:5]\n",
    "hits"
   ]
  },
  {
   "cell_type": "code",
   "execution_count": 75,
   "metadata": {
    "scrolled": false
   },
   "outputs": [
    {
     "name": "stdout",
     "output_type": "stream",
     "text": [
      ":  \n",
      ": well, i have lots of experience with scanning in images and altering\n",
      ": them.  as for changing them back into negatives, is that really possible?\n",
      "\n",
      ": (stuff deleted)\n",
      "\n",
      ": jennifer urso:  the oh-so bitter woman of utter blahness(but cheerful\n",
      ": undertones)\n",
      "\n",
      "I use Aldus Photostyler on the PC and I can turn a colour or black and white\n",
      "image into a negative or turn a negative into a colour or black and white\n",
      "image.  I don't know how it does it but it works well.  To test it I scanned\n",
      "a negative and used Aldus to create a positive.  It looked better than the\n",
      "print that the film developers gave me.\n",
      "\n",
      "\n",
      "-- \n",
      "--------------------------------------------------------------------------------\n",
      "\n",
      "Why didn't you create 8 grey-level images, and display them for\n",
      "1,2,4,8,16,32,64,128... time slices?\n",
      "\n",
      "This requires the same total exposure time, and the same precision in\n",
      "timing, but drastically reduces the image-preparation time, no?\n",
      "\n",
      "\n",
      "\n",
      "\n",
      "\n",
      "\n",
      "--------------------------------------------------------------------------------\n",
      "The Logitech ScanMan 32 is a nice unit, compact and effective it will\n",
      "bring in graphics with surprisingly good quality. Note that its effective\n",
      "resolution in grey scale mode is only about 72 dpi. If you don't intend\n",
      "to magnify a graphic, it works fine. A true 256 level gray scanner would\n",
      "work better for images.\n",
      "--------------------------------------------------------------------------------\n",
      "\n",
      "I certainly do use it whenever I have to do TIFF, and it usually works\n",
      "very well.  That's not my point.  I'm >philosophically< opposed to it\n",
      "because of its complexity.\n",
      "\n",
      "This complexity has led to some programs' poor TIFF writers making\n",
      "some very bizarre files, other programs' inability to load TIFF\n",
      "images (though they'll save them, of course), and a general\n",
      "inability to interchange images between different environments\n",
      "despite the fact they all think they understand TIFF.\n",
      "\n",
      "As the saying goes, \"It's not me I'm worried about- it's all the\n",
      "abuse of TIFF over the years, and I chalk it all up to the immense (and\n",
      "unnecessary) complexity of the format.\n",
      "\n",
      "In the words of the TIFF 5.0 spec, Appendix G, page G-1 (capitalized\n",
      "emphasis mine):\n",
      "\n",
      "\"The only problem with this sort of success is that TIFF was designed\n",
      "to be powerful and flexible, at the expense of simplicity.  It takes a\n",
      "fair amount of effort to handle all the options currently defined in\n",
      "this specification (PROBABLY NO APPLICATION DOES A COMPLETE JOB),\n",
      "and that is currently the only way you can be >sure< that you will be\n",
      "able to import any TIFF image, since there are so many\n",
      "image-generating applications out there now.\"\n",
      "\n",
      "\n",
      "If a program (or worse all applications) can't read >every< TIFF\n",
      "image, that means there are some it won't- some that I might have to\n",
      "deal with.  Why would I want my images to be trapped in that format?  I\n",
      "don't and neither should anyone who agrees with my reasoning- not\n",
      "that anyone does, of course! :-)\n",
      "--------------------------------------------------------------------------------\n",
      "\n",
      "You are correct; the fastest \"complete\" image that could be presented on\n",
      "TV would be one field, which is 1/60 of a second (approximately).  Of course,\n",
      "the phrase \"TV screen\" is often thrown around in reference to any CRT\n",
      "display, so perhaps this researcher wasn't using normal TV rates.  Might\n",
      "even be a vector (\"strokewriter\") display, in which case the lower limit\n",
      "on image time is anyone's guess (and is probably phosphor-persistence limited).\n",
      "\n",
      "--------------------------------------------------------------------------------\n",
      "well, the subject says just about all I intended to ask:\n",
      "\n",
      "Is there no way to insert a 256 color into WfW 2.0 ?\n",
      "\n",
      "When I try it, the picture turns into a 16 color pic.\n",
      "\n"
     ]
    }
   ],
   "source": [
    "print(newsgroups_test.data[9])\n",
    "for match in [newsgroups_train.data[k] for k, score in hits]:\n",
    "    print('-'*80)\n",
    "    print(match)"
   ]
  },
  {
   "cell_type": "markdown",
   "metadata": {},
   "source": [
    "## Non-negative Matrix Factorization\n",
    "\n",
    "The topics generated by LSI can be hard to understand because they include negative value words. They may also be hard to understand since they may not map to topics in the way that we would. Remember, a topic is just a low rank approximation that minimizes the Frobenius norm. An alternative factorization is non-negative matrix (NMF) factorization, which does not use negatively valued words in the topic.\n",
    "\n",
    "NMF basically finds a different set of basis vectors (not the eigenvectors of the covariance matrix) to project onto.\n",
    "\n",
    "![nmf_svd](https://qph.fs.quoracdn.net/main-qimg-9b4e31ec4b57f4baf7d08d5df17c6bc0)"
   ]
  },
  {
   "cell_type": "code",
   "execution_count": 76,
   "metadata": {},
   "outputs": [],
   "source": [
    "from sklearn.feature_extraction.text import TfidfVectorizer\n",
    "from sklearn.preprocessing import normalize"
   ]
  },
  {
   "cell_type": "code",
   "execution_count": 77,
   "metadata": {},
   "outputs": [],
   "source": [
    "import warnings"
   ]
  },
  {
   "cell_type": "code",
   "execution_count": 78,
   "metadata": {},
   "outputs": [],
   "source": [
    "warnings.simplefilter('ignore', FutureWarning)"
   ]
  },
  {
   "cell_type": "code",
   "execution_count": 79,
   "metadata": {},
   "outputs": [],
   "source": [
    "from sklearn.decomposition import NMF"
   ]
  },
  {
   "cell_type": "code",
   "execution_count": 80,
   "metadata": {},
   "outputs": [],
   "source": [
    "vectorizer = TfidfVectorizer()\n",
    "X = vectorizer.fit_transform(newsgroups_train.data)\n",
    "X = normalize(X, norm='l1', axis=1)\n",
    "model = NMF(n_components=10, init='random', random_state=0)\n",
    "W = model.fit_transform(X)"
   ]
  },
  {
   "cell_type": "code",
   "execution_count": 81,
   "metadata": {},
   "outputs": [
    {
     "data": {
      "text/plain": [
       "(11314, 10)"
      ]
     },
     "execution_count": 81,
     "metadata": {},
     "output_type": "execute_result"
    }
   ],
   "source": [
    "W.shape"
   ]
  },
  {
   "cell_type": "code",
   "execution_count": 82,
   "metadata": {},
   "outputs": [
    {
     "name": "stdout",
     "output_type": "stream",
     "text": [
      "Topic 0: the of to and in is that on not it\n",
      "Topic 1: you to it for have your if thanks me what\n",
      "Topic 2: hello testing please networld xelm mailreader looking andreas am mail\n",
      "Topic 3: each chris 00 postage for answered are sale includes usa\n",
      "Topic 4: was that he thought oh it just bet sunpost411ld chicago\n",
      "Topic 5: hi thanks appreciated anyone advance any windows for anybody card\n",
      "Topic 6: test this is thanks message only tesrt it putt david\n",
      "Topic 7: ax max g9v b8f a86 pl 1d9 1t 3t 145\n",
      "Topic 8: ditto me too here for cdt he copy let hillary\n",
      "Topic 9: deletion god why atheism alt is concidered gospels exist drivel\n"
     ]
    }
   ],
   "source": [
    "vocab = vectorizer.get_feature_names()\n",
    "for i, topic in enumerate(model.components_):\n",
    "    print(\"Topic %d:\" % i, end=' ')\n",
    "    print(\" \".join([vocab[i] for i in topic.argsort()[:-10 - 1:-1]]))"
   ]
  },
  {
   "cell_type": "markdown",
   "metadata": {},
   "source": [
    "How would you find documents similar to the query document? (Homework)"
   ]
  },
  {
   "cell_type": "markdown",
   "metadata": {},
   "source": [
    "## Latent Dirichlet Allocation\n",
    "\n",
    "![lda](https://upload.wikimedia.org/wikipedia/commons/4/4d/Smoothed_LDA.png)\n",
    "\n",
    "- [Original paper](http://www.jmlr.org/papers/volume3/blei03a/blei03a.pdf)\n",
    "\n",
    "LDA is an example of a non-parametric Bayesian model, and you will need quite a bit more background in Bayesian machinery than we can cover in this course. For now, just see how it is used. If you are interested, we will probably cover this in more detail in STA 663."
   ]
  },
  {
   "cell_type": "code",
   "execution_count": 83,
   "metadata": {},
   "outputs": [],
   "source": [
    "from gensim.models.ldamodel import LdaModel"
   ]
  },
  {
   "cell_type": "code",
   "execution_count": 84,
   "metadata": {},
   "outputs": [],
   "source": [
    "lda = LdaModel(corpus, num_topics=10, id2word = dictionary)"
   ]
  },
  {
   "cell_type": "code",
   "execution_count": 85,
   "metadata": {},
   "outputs": [
    {
     "name": "stdout",
     "output_type": "stream",
     "text": [
      "0.008*\"team\" + 0.007*\"year\" + 0.006*\"game\" + 0.005*\"hockey\" + 0.005*\"season\"\n",
      "0.011*\"key\" + 0.010*\"drive\" + 0.005*\"use\" + 0.004*\"like\" + 0.004*\"number\"\n",
      "0.020*\"god\" + 0.008*\"jesus\" + 0.005*\"bible\" + 0.005*\"people\" + 0.004*\"believe\"\n",
      "0.007*\"like\" + 0.005*\"know\" + 0.004*\"time\" + 0.004*\"good\" + 0.003*\"use\"\n",
      "0.011*\"cx\" + 0.010*\"c_\" + 0.006*\"hz\" + 0.006*\"qs\" + 0.005*\"ck\"\n",
      "0.012*\"edu\" + 0.007*\"com\" + 0.006*\"mail\" + 0.005*\"information\" + 0.005*\"available\"\n",
      "0.007*\"space\" + 0.004*\"stephanopoulos\" + 0.004*\"government\" + 0.003*\"president\" + 0.003*\"technology\"\n",
      "0.010*\"people\" + 0.006*\"think\" + 0.005*\"know\" + 0.005*\"like\" + 0.004*\"said\"\n",
      "0.007*\"use\" + 0.007*\"windows\" + 0.005*\"file\" + 0.005*\"program\" + 0.004*\"card\"\n",
      "0.609*\"ax\" + 0.045*\"max\" + 0.008*\"pl\" + 0.005*\"ei\" + 0.004*\"tm\"\n"
     ]
    }
   ],
   "source": [
    "for i, topic in  lda.print_topics(num_words=5):\n",
    "    print(topic)"
   ]
  },
  {
   "cell_type": "code",
   "execution_count": 86,
   "metadata": {},
   "outputs": [
    {
     "data": {
      "text/plain": [
       "\":  \\n: well, i have lots of experience with scanning in images and altering\\n: them.  as for changing them back into negatives, is that really possible?\\n\\n: (stuff deleted)\\n\\n: jennifer urso:  the oh-so bitter woman of utter blahness(but cheerful\\n: undertones)\\n\\nI use Aldus Photostyler on the PC and I can turn a colour or black and white\\nimage into a negative or turn a negative into a colour or black and white\\nimage.  I don't know how it does it but it works well.  To test it I scanned\\na negative and used Aldus to create a positive.  It looked better than the\\nprint that the film developers gave me.\\n\\n\\n-- \""
      ]
     },
     "execution_count": 86,
     "metadata": {},
     "output_type": "execute_result"
    }
   ],
   "source": [
    "query = newsgroups_test.data[9]\n",
    "query"
   ]
  },
  {
   "cell_type": "code",
   "execution_count": 87,
   "metadata": {},
   "outputs": [
    {
     "data": {
      "text/plain": [
       "['well', 'have', 'lots']"
      ]
     },
     "execution_count": 87,
     "metadata": {},
     "output_type": "execute_result"
    }
   ],
   "source": [
    "query = gensim.utils.simple_preprocess(query)\n",
    "query[:3]"
   ]
  },
  {
   "cell_type": "code",
   "execution_count": 88,
   "metadata": {},
   "outputs": [],
   "source": [
    "query = dictionary.doc2bow(query)"
   ]
  },
  {
   "cell_type": "code",
   "execution_count": 89,
   "metadata": {},
   "outputs": [],
   "source": [
    "query = lda[query]"
   ]
  },
  {
   "cell_type": "markdown",
   "metadata": {},
   "source": [
    "#### Topics in query document"
   ]
  },
  {
   "cell_type": "code",
   "execution_count": 90,
   "metadata": {},
   "outputs": [
    {
     "data": {
      "text/plain": [
       "[(8, 0.48419613), (7, 0.29503086), (3, 0.1578797), (2, 0.050125718)]"
      ]
     },
     "execution_count": 90,
     "metadata": {},
     "output_type": "execute_result"
    }
   ],
   "source": [
    "sorted(query, key=lambda x: -x[1])[:5]"
   ]
  },
  {
   "cell_type": "code",
   "execution_count": 91,
   "metadata": {},
   "outputs": [],
   "source": [
    "index = gensim.similarities.MatrixSimilarity(lda[corpus])"
   ]
  },
  {
   "cell_type": "code",
   "execution_count": 92,
   "metadata": {},
   "outputs": [],
   "source": [
    "sims = index[query]"
   ]
  },
  {
   "cell_type": "code",
   "execution_count": 93,
   "metadata": {},
   "outputs": [],
   "source": [
    "topics = [i for i, score in sorted(query, key=lambda x: -x[1])[:5]]"
   ]
  },
  {
   "cell_type": "code",
   "execution_count": 94,
   "metadata": {},
   "outputs": [
    {
     "data": {
      "text/plain": [
       "'0.007*\"use\" + 0.007*\"windows\" + 0.005*\"file\" + 0.005*\"program\" + 0.004*\"card\" + 0.004*\"thanks\" + 0.004*\"software\" + 0.004*\"bit\" + 0.004*\"like\" + 0.004*\"window\"'"
      ]
     },
     "execution_count": 94,
     "metadata": {},
     "output_type": "execute_result"
    }
   ],
   "source": [
    "lda.print_topic(topics[0])"
   ]
  },
  {
   "cell_type": "markdown",
   "metadata": {},
   "source": [
    "#### Find similar documents"
   ]
  },
  {
   "cell_type": "code",
   "execution_count": 95,
   "metadata": {},
   "outputs": [
    {
     "data": {
      "text/plain": [
       "[(5076, 0.99254215),\n",
       " (3779, 0.9913205),\n",
       " (4535, 0.99104667),\n",
       " (9218, 0.98717034),\n",
       " (8927, 0.98634976)]"
      ]
     },
     "execution_count": 95,
     "metadata": {},
     "output_type": "execute_result"
    }
   ],
   "source": [
    "hits = sorted(enumerate(sims), key=lambda x: -x[1])[:5]\n",
    "hits"
   ]
  },
  {
   "cell_type": "code",
   "execution_count": 96,
   "metadata": {},
   "outputs": [
    {
     "name": "stdout",
     "output_type": "stream",
     "text": [
      ":  \n",
      ": well, i have lots of experience with scanning in images and altering\n",
      ": them.  as for changing them back into negatives, is that really possible?\n",
      "\n",
      ": (stuff deleted)\n",
      "\n",
      ": jennifer urso:  the oh-so bitter woman of utter blahness(but cheerful\n",
      ": undertones)\n",
      "\n",
      "I use Aldus Photostyler on the PC and I can turn a colour or black and white\n",
      "image into a negative or turn a negative into a colour or black and white\n",
      "image.  I don't know how it does it but it works well.  To test it I scanned\n",
      "a negative and used Aldus to create a positive.  It looked better than the\n",
      "print that the film developers gave me.\n",
      "\n",
      "\n",
      "-- \n",
      "--------------------------------------------------------------------------------\n",
      "Hi... what alternatives to the Express modem do Duo owners have (if\n",
      "they want to go at least 9600 baud)?\n",
      "\n",
      "Every place in town says they are back ordered, and part of the reason\n",
      "I want a laptop mac is so I can use it as a remote terminal from\n",
      "wherever I am, but I really would hate to have to wait 2 months to get\n",
      "a modem in or have to settle with 2400 baud.\n",
      "--------------------------------------------------------------------------------\n",
      "\n",
      "If you do make it into New York state, the Palisades Interstate Parkway is a\n",
      "pleasant ride (beautiful scenery, good road surface, minimal traffic).  You\n",
      "may also want to take a sidetrip along Seven Lakes Drive just off the parkway\n",
      "for the same reasons plus the road sweeps up and down along the hills with\n",
      "sweeping turns under old forest canopy.\n",
      "--------------------------------------------------------------------------------\n",
      "\n",
      "It wasn't especially prominent, as I recall.  However, quite possibly it's\n",
      "no longer on display; NASM, like most museums, has much more stuff than it\n",
      "can display at once, and does rotate the displays occasionally.\n",
      "--------------------------------------------------------------------------------\n",
      "FOR SALE:\n",
      "\n",
      "* Besler 23C II Enlarger \n",
      "     (including filters & negative carriers)\n",
      "\n",
      "* Darkroom supplies \n",
      "     (containers, trays, thermometer, beakers, \n",
      "     paper focuser, etc...I also have paper & \n",
      "     chemicals, but I think these 2 are past \n",
      "     expiration date)\n",
      "\n",
      "\n",
      "Everything is in great working condition.  I bought it \n",
      "about a year ago and it has served its purpose well.  \n",
      "It hasn't been used it in a few months because I don't \n",
      "have the time or money to keep up with it and its just \n",
      "sitting in my bathroom taking up space I'd like to use.\n",
      "So, I'd like to sell it to someone who would use it \n",
      "rather than it collect dust in my bathroom.\n",
      "\n",
      "If you are interested in the whole package, I will sell \n",
      "everything (including shipping) for $300.  If you have \n",
      "something else in mind, I'm open to suggestions.\n",
      "\n",
      "Please reply to this account.\n",
      "--------------------------------------------------------------------------------\n",
      "\n",
      "The audio will simply select the CD audio when the microphone is removed. \n",
      "I don't believe the button un-dims, since there's nothing to select.  I\n",
      "haven't tracked down a Centris to check this on though.\n",
      "\n",
      "\n",
      "Yup, I made the same mistake several months ago when this issue came up\n",
      "before :-)\n",
      "\n",
      "\n",
      "noah\n"
     ]
    }
   ],
   "source": [
    "print(newsgroups_test.data[9])\n",
    "for match in [newsgroups_train.data[k] for k, score in hits]:\n",
    "    print('-'*80)\n",
    "    print(match)"
   ]
  },
  {
   "cell_type": "code",
   "execution_count": null,
   "metadata": {},
   "outputs": [],
   "source": []
  }
 ],
 "metadata": {
  "kernelspec": {
   "display_name": "Python 3",
   "language": "python",
   "name": "python3"
  },
  "language_info": {
   "codemirror_mode": {
    "name": "ipython",
    "version": 3
   },
   "file_extension": ".py",
   "mimetype": "text/x-python",
   "name": "python",
   "nbconvert_exporter": "python",
   "pygments_lexer": "ipython3",
   "version": "3.6.5"
  }
 },
 "nbformat": 4,
 "nbformat_minor": 2
}
