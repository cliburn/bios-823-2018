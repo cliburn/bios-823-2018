{
 "cells": [
  {
   "cell_type": "markdown",
   "metadata": {},
   "source": [
    "# Text Analysis\n",
    "\n",
    " In this lecture, we look at more recent methods of feature extraction and topic modeling.\n",
    "\n",
    "We will cover the following:\n",
    "\n",
    "- word2vec\n",
    "- latent semantic analysis\n",
    "- non-negative matrix factorization\n",
    "- latent Dirichlet allocation"
   ]
  },
  {
   "cell_type": "markdown",
   "metadata": {},
   "source": [
    "## Word2Vec\n",
    "\n",
    "the `word2vec` family of algorithms is a powerful method for converting a word into a vector that takes into account its context. There are two main ideas - in continuous bag of words, we try to predict the current word from nearby words; in continuous skip-gram, the current word is used to predict nearby words. The phrase \"nearby words\" is intentionally vague - in the simplest case, it is a sliding window of words centered on the current word. \n",
    "\n",
    "Suppose we have the sentence\n",
    "\n",
    "```\n",
    "I do not like green eggs and ham\n",
    "```\n",
    "\n",
    "and suppose we use a centered window of length 3,\n",
    "\n",
    "```\n",
    "((I, not), do), ((do, like), not), ((not, green), like), ((like, eggs), green), ((green, and), eggs), ((eggs, ham) and)\n",
    "```\n",
    "\n",
    "In continuous bag of words, we make the (input, output) pairs to be\n",
    "```\n",
    "(I, do)\n",
    "(not, do)\n",
    "(do, not)\n",
    "(like, not)\n",
    "(not, like)\n",
    "(green, like)\n",
    "(like, green)\n",
    "(eggs, green)\n",
    "(green, eggs)\n",
    "(and, eggs)\n",
    "(eggs, and)\n",
    "(ham, and)\n",
    "```\n",
    "\n",
    "That is, we try to predict `do` when we see `I`, `do` when we see `not` and so on.\n",
    "\n",
    "In continuous skip-gram, we do the inverse for (input, output) pairs\n",
    "```\n",
    "(do, I)\n",
    "(do, not)\n",
    "(not, do)\n",
    "(not, like)\n",
    "(like, not)\n",
    "(like, green)\n",
    "(green, like)\n",
    "(green, eggs)\n",
    "(eggs, green)\n",
    "(eggs, and)\n",
    "(and, eggs)\n",
    "(and, ham)\n",
    "```\n",
    "\n",
    "That is, we try to predict `I` when we see `do`, `not` when we see `do` and so on.\n",
    "\n",
    "To do this prediction, we first assign each word to a vector of some fixed length $n$ - i.e. we embed each word as an $\\mathbb{R}^n$ vector. To do a prediction for all words in the vocabulary using `softmax` would be prohibitively expensive, and is unnecessary if we are just trying to find a good embedding vector. Instead we select $k$ noise words, typically from the unigram distributions, and just train the classifier to distinguish the target word from the noise words using logistic regression (negative sampling). We use stochastic gradient descent to move the embedding word vectors (initialized randomly) until the model gives a high probability to the target words and low probability to the noise ones. If successful, words that are meaningful when substituted in the same context will be close together in $\\mathbb{R}^n$. For instance, `dog` and `cat` are likely to be close together because they appear together in similar contexts like\n",
    "\n",
    "- `My pet dog|cat`\n",
    "- `Raining dogs|cats and cats|dogs`\n",
    "- `The dog|cat chased the rat`\n",
    "- `Common pets are dogs|cats`\n",
    "\n",
    "while `dog` and `apple` are less likely to occur in the same context and hence will end up further apart in the embedding space. Interestingly, the vectors resulting from vector subtraction are also meaningful since they represent analogies - the vector between `man` and `woman` is likely to be similar to that between `king` and `queen`, or `boy` and `girl`.\n",
    "\n",
    "Note: you will encounter `word2vec` again if you take a deep learning class - it is a very influential idea and has many applications beyond text processing since you can apply it to any discrete distribution where local context is meaningful (e.g. genomes). \n",
    "\n",
    "There is a very nice tutorial on Word2Vec that you should read if you want to learn more about the algorithm - [Part 1](http://mccormickml.com/2016/04/19/word2vec-tutorial-the-skip-gram-model/) and [Part 2](http://mccormickml.com/2017/01/11/word2vec-tutorial-part-2-negative-sampling/)\n",
    "\n",
    "Word2Vec learns about the feature representations of *words* - there is a an extension `doc2vec` that generates a feature vector for paragraphs or documents in the same way; we may cover this in the next lecture along with other document retrieval algorithms."
   ]
  },
  {
   "cell_type": "markdown",
   "metadata": {},
   "source": [
    "We illustrate the mechanics of `word2vec` using `gensim` on the tiny newsgroup corpora; however, you really need much large corpora for `word2vec` to learn effectively."
   ]
  },
  {
   "cell_type": "code",
   "execution_count": 213,
   "metadata": {},
   "outputs": [],
   "source": [
    "import re\n",
    "import numpy as np\n",
    "import pandas as pd"
   ]
  },
  {
   "cell_type": "code",
   "execution_count": 1,
   "metadata": {},
   "outputs": [],
   "source": [
    "import nltk\n",
    "from nltk.stem import SnowballStemmer, WordNetLemmatizer\n",
    "from nltk.collocations import QuadgramCollocationFinder, TrigramCollocationFinder\n",
    "from nltk.metrics.association import QuadgramAssocMeasures, TrigramAssocMeasures\n",
    "import string"
   ]
  },
  {
   "cell_type": "code",
   "execution_count": 14,
   "metadata": {},
   "outputs": [],
   "source": [
    "import gensim\n",
    "from gensim.models.word2vec import Word2Vec"
   ]
  },
  {
   "cell_type": "code",
   "execution_count": 4,
   "metadata": {},
   "outputs": [],
   "source": [
    "from sklearn.datasets import fetch_20newsgroups"
   ]
  },
  {
   "cell_type": "code",
   "execution_count": 62,
   "metadata": {},
   "outputs": [],
   "source": [
    "newsgroups_train = fetch_20newsgroups(\n",
    "        subset='train',\n",
    "        remove=('headers', 'footers', 'quotes')\n",
    ")"
   ]
  },
  {
   "cell_type": "code",
   "execution_count": 63,
   "metadata": {},
   "outputs": [],
   "source": [
    "newsgroups_test = fetch_20newsgroups(\n",
    "        subset='test',\n",
    "        remove=('headers', 'footers', 'quotes')\n",
    ")"
   ]
  },
  {
   "cell_type": "code",
   "execution_count": 9,
   "metadata": {},
   "outputs": [],
   "source": [
    "def gen_sentences(corpus):\n",
    "    for item in corpus:\n",
    "        yield from nltk.tokenize.sent_tokenize(item)"
   ]
  },
  {
   "cell_type": "code",
   "execution_count": 187,
   "metadata": {},
   "outputs": [
    {
     "name": "stdout",
     "output_type": "stream",
     "text": [
      "rec.autos               :I was wondering if anyone out there could enlighte\n",
      "comp.sys.mac.hardware   :A fair number of brave souls who upgraded their SI\n",
      "comp.sys.mac.hardware   :well folks, my mac plus finally gave up the ghost \n",
      "comp.graphics           :Do you have Weitek's address/phone number?  I'd li\n",
      "sci.space               :From article <C5owCB.n3p@world.std.com>, by tombak\n",
      "talk.politics.guns      :Of course.  The term must be rigidly defined in an\n",
      "sci.med                 :There were a few people who responded to my reques\n",
      "comp.sys.ibm.pc.hardware:ALL this shows is that YOU don't know much about S\n",
      "comp.os.ms-windows.misc :I have win 3.0 and downloaded several icons and BM\n",
      "comp.sys.mac.hardware   :I've had the board for over a year, and it does wo\n",
      "rec.motorcycles         :I have a line on a Ducati 900GTS 1978 model with 1\n",
      "talk.religion.misc      :Yep, that's pretty much it. I'm not a Jew but I un\n",
      "comp.sys.mac.hardware   :--\n",
      "sci.space               :{Description of \"External Tank\" option for SSF red\n",
      "misc.forsale            :Reduced Prices!  I have a list of things forsale o\n",
      "alt.atheism             :Don't be so sure.  Look what happened to Japanese \n",
      "comp.graphics           :I certainly do use it whenever I have to do TIFF, \n",
      "rec.autos               :I recently posted an article asking what kind of r\n",
      "sci.electronics         :I would like to be able to amplify a voltage signa\n",
      "comp.windows.x          :QUESTION:   What is the EXACT entry (parameter and\n"
     ]
    }
   ],
   "source": [
    "for i, t in enumerate(newsgroups_train.target[:20]):\n",
    "    print('%-24s:%s' % (newsgroups_train.target_names[t], \n",
    "                        newsgroups_train.data[i].strip().replace('\\n', ' ')[:50]))"
   ]
  },
  {
   "cell_type": "code",
   "execution_count": 188,
   "metadata": {},
   "outputs": [
    {
     "data": {
      "text/plain": [
       "['I was wondering if anyone out there could enlighten me on this car I saw\\nthe other day. It was a 2-door sports car, looked to be from the late 60s/\\nearly 70s. It was called a Bricklin. The doors were really small. In addition,\\nthe front bumper was separate from the rest of the body. This is \\nall I know. If anyone can tellme a model name, engine specs, years\\nof production, where this car is made, history, or whatever info you\\nhave on this funky looking car, please e-mail.',\n",
       " \"A fair number of brave souls who upgraded their SI clock oscillator have\\nshared their experiences for this poll. Please send a brief message detailing\\nyour experiences with the procedure. Top speed attained, CPU rated speed,\\nadd on cards and adapters, heat sinks, hour of usage per day, floppy disk\\nfunctionality with 800 and 1.4 m floppies are especially requested.\\n\\nI will be summarizing in the next two days, so please add to the network\\nknowledge base if you have done the clock upgrade and haven't answered this\\npoll. Thanks.\",\n",
       " 'well folks, my mac plus finally gave up the ghost this weekend after\\nstarting life as a 512k way back in 1985.  sooo, i\\'m in the market for a\\nnew machine a bit sooner than i intended to be...\\n\\ni\\'m looking into picking up a powerbook 160 or maybe 180 and have a bunch\\nof questions that (hopefully) somebody can answer:\\n\\n* does anybody know any dirt on when the next round of powerbook\\nintroductions are expected?  i\\'d heard the 185c was supposed to make an\\nappearence \"this summer\" but haven\\'t heard anymore on it - and since i\\ndon\\'t have access to macleak, i was wondering if anybody out there had\\nmore info...\\n\\n* has anybody heard rumors about price drops to the powerbook line like the\\nones the duo\\'s just went through recently?\\n\\n* what\\'s the impression of the display on the 180?  i could probably swing\\na 180 if i got the 80Mb disk rather than the 120, but i don\\'t really have\\na feel for how much \"better\" the display is (yea, it looks great in the\\nstore, but is that all \"wow\" or is it really that good?).  could i solicit\\nsome opinions of people who use the 160 and 180 day-to-day on if its worth\\ntaking the disk size and money hit to get the active display?  (i realize\\nthis is a real subjective question, but i\\'ve only played around with the\\nmachines in a computer store breifly and figured the opinions of somebody\\nwho actually uses the machine daily might prove helpful).\\n\\n* how well does hellcats perform?  ;)\\n\\nthanks a bunch in advance for any info - if you could email, i\\'ll post a\\nsummary (news reading time is at a premium with finals just around the\\ncorner... :( )\\n--\\nTom Willis  \\\\  twillis@ecn.purdue.edu    \\\\    Purdue Electrical Engineering']"
      ]
     },
     "execution_count": 188,
     "metadata": {},
     "output_type": "execute_result"
    }
   ],
   "source": [
    "list(newsgroups_train.data[:3])"
   ]
  },
  {
   "cell_type": "code",
   "execution_count": 12,
   "metadata": {},
   "outputs": [
    {
     "data": {
      "text/plain": [
       "['I was wondering if anyone out there could enlighten me on this car I saw\\nthe other day.',\n",
       " 'It was a 2-door sports car, looked to be from the late 60s/\\nearly 70s.',\n",
       " 'It was called a Bricklin.']"
      ]
     },
     "execution_count": 12,
     "metadata": {},
     "output_type": "execute_result"
    }
   ],
   "source": [
    "list(gen_sentences(newsgroups_train.data[:2]))[:3]"
   ]
  },
  {
   "cell_type": "code",
   "execution_count": 145,
   "metadata": {},
   "outputs": [],
   "source": [
    "from gensim.parsing.preprocessing import STOPWORDS"
   ]
  },
  {
   "cell_type": "code",
   "execution_count": 230,
   "metadata": {},
   "outputs": [],
   "source": [
    "gensim.utils.simple_preprocess?"
   ]
  },
  {
   "cell_type": "code",
   "execution_count": 231,
   "metadata": {},
   "outputs": [],
   "source": [
    "docs = [gensim.utils.simple_preprocess(s) \n",
    "        for s in newsgroups_train.data]"
   ]
  },
  {
   "cell_type": "code",
   "execution_count": 147,
   "metadata": {},
   "outputs": [],
   "source": [
    "try:\n",
    "    model = Word2Vec.load('newsgroup_w2v.model')\n",
    "except:\n",
    "    model = Word2Vec(docs,\n",
    "                     size=64, # we use 64 dimensions to represent each word\n",
    "                     window=5, # size of each context window\n",
    "                     min_count=3, # ignore words with frequency less than this\n",
    "                     workers=4)\n",
    "    model.train(docs, total_examples=len(docs), epochs=10)\n",
    "    model.save('newsgroup_w2v.model')"
   ]
  },
  {
   "cell_type": "code",
   "execution_count": 148,
   "metadata": {},
   "outputs": [
    {
     "data": {
      "text/plain": [
       "28361"
      ]
     },
     "execution_count": 148,
     "metadata": {},
     "output_type": "execute_result"
    }
   ],
   "source": [
    "len(model.wv.vocab)"
   ]
  },
  {
   "cell_type": "markdown",
   "metadata": {},
   "source": [
    "The embedding vector for the word `player`"
   ]
  },
  {
   "cell_type": "code",
   "execution_count": 149,
   "metadata": {
    "scrolled": true
   },
   "outputs": [
    {
     "data": {
      "text/plain": [
       "array([ 1.0021844 , -0.07934759,  0.4993077 ,  0.22183499, -0.88920945,\n",
       "       -0.2514776 , -0.7221043 ,  0.6758521 , -0.5281115 ,  0.6384827 ,\n",
       "       -0.3575983 , -0.55267096, -1.3098922 , -0.49298698,  0.16711435,\n",
       "        0.18228245, -0.08765895, -1.1436514 , -0.9509327 ,  1.2340423 ,\n",
       "        1.4055172 , -0.16391546, -0.6297922 , -0.42145184, -0.747315  ,\n",
       "        0.49057895, -1.4533808 , -0.79050404,  0.6408485 , -0.41635767,\n",
       "       -0.84332716, -2.3325257 , -0.33703378, -1.034308  ,  0.82547283,\n",
       "       -0.7613817 ,  0.92971116, -1.0731293 ,  0.2729064 , -1.4177942 ,\n",
       "        0.36007303, -0.9504615 ,  0.7302042 , -0.64634454, -0.59395856,\n",
       "       -0.24954185,  1.1206496 ,  0.995071  ,  0.34501752, -0.35099226,\n",
       "        0.17384943,  0.42027408, -0.45629948,  0.2814209 ,  1.3862259 ,\n",
       "       -0.90324163,  0.65404916, -0.7192859 ,  0.00362594,  0.7246876 ,\n",
       "        0.07577156, -2.1167848 ,  0.8846294 ,  0.12508965], dtype=float32)"
      ]
     },
     "execution_count": 149,
     "metadata": {},
     "output_type": "execute_result"
    }
   ],
   "source": [
    "model.wv.word_vec('england')"
   ]
  },
  {
   "cell_type": "code",
   "execution_count": 150,
   "metadata": {},
   "outputs": [
    {
     "data": {
      "text/plain": [
       "[('mexico', 0.8245236277580261),\n",
       " ('france', 0.7831640839576721),\n",
       " ('county', 0.7622649669647217),\n",
       " ('york', 0.7313283681869507),\n",
       " ('london', 0.7193907499313354)]"
      ]
     },
     "execution_count": 150,
     "metadata": {},
     "output_type": "execute_result"
    }
   ],
   "source": [
    "model.wv.most_similar('england', topn=5)"
   ]
  },
  {
   "cell_type": "code",
   "execution_count": 151,
   "metadata": {},
   "outputs": [
    {
     "data": {
      "text/plain": [
       "0.7831641125198537"
      ]
     },
     "execution_count": 151,
     "metadata": {},
     "output_type": "execute_result"
    }
   ],
   "source": [
    "model.wv.similarity('england', 'france')"
   ]
  },
  {
   "cell_type": "code",
   "execution_count": 152,
   "metadata": {},
   "outputs": [
    {
     "data": {
      "text/plain": [
       "0.1040321903123281"
      ]
     },
     "execution_count": 152,
     "metadata": {},
     "output_type": "execute_result"
    }
   ],
   "source": [
    "model.wv.similarity('england', 'rabbit')"
   ]
  },
  {
   "cell_type": "code",
   "execution_count": 153,
   "metadata": {},
   "outputs": [
    {
     "data": {
      "text/plain": [
       "[('priced', 0.44513508677482605),\n",
       " ('duplicating', 0.4120890200138092),\n",
       " ('advertise', 0.41152292490005493)]"
      ]
     },
     "execution_count": 153,
     "metadata": {},
     "output_type": "execute_result"
    }
   ],
   "source": [
    "model.wv.most_similar(negative=['man'], topn=3)"
   ]
  },
  {
   "cell_type": "markdown",
   "metadata": {},
   "source": [
    "Because of the small and very biased data sets (including `soc.religion.christian` and `alt.atheism`), some of the analogies found are pretty weird."
   ]
  },
  {
   "cell_type": "code",
   "execution_count": 154,
   "metadata": {},
   "outputs": [
    {
     "data": {
      "text/plain": [
       "[('christ', 0.7456965446472168),\n",
       " ('spirit', 0.736154317855835),\n",
       " ('allah', 0.7279092073440552),\n",
       " ('prophet', 0.7225679159164429),\n",
       " ('grace', 0.6986494064331055),\n",
       " ('holy', 0.6917949914932251),\n",
       " ('messenger', 0.6914761066436768),\n",
       " ('luke', 0.6900230646133423),\n",
       " ('praise', 0.686742901802063),\n",
       " ('prophets', 0.6823266744613647)]"
      ]
     },
     "execution_count": 154,
     "metadata": {},
     "output_type": "execute_result"
    }
   ],
   "source": [
    "model.most_similar(positive=['father', 'son'],\n",
    "                   negative=['mother'])"
   ]
  },
  {
   "cell_type": "markdown",
   "metadata": {},
   "source": [
    "## Latent Semantic Indexing (LSI)\n",
    "\n",
    "Latent semantic indexing is basically using SVD to find a low rank approximation to the document/word feature matrix.\n",
    "\n",
    "Recall that with SVD, $X = U \\Sigma V^T$. With lsi, we interpret the matrices as\n",
    "\n",
    "![img](https://i.stack.imgur.com/s9K8q.jpg)\n",
    "\n",
    "where the weights indicate the importance of each topic, where a topic is a particular distribution of words."
   ]
  },
  {
   "cell_type": "code",
   "execution_count": 155,
   "metadata": {},
   "outputs": [
    {
     "data": {
      "text/plain": [
       "11314"
      ]
     },
     "execution_count": 155,
     "metadata": {},
     "output_type": "execute_result"
    }
   ],
   "source": [
    "len(docs)"
   ]
  },
  {
   "cell_type": "code",
   "execution_count": 156,
   "metadata": {},
   "outputs": [],
   "source": [
    "dictionary = gensim.corpora.Dictionary(docs)"
   ]
  },
  {
   "cell_type": "code",
   "execution_count": 158,
   "metadata": {},
   "outputs": [],
   "source": [
    "corpus = [dictionary.doc2bow(doc) for doc in docs]"
   ]
  },
  {
   "cell_type": "code",
   "execution_count": 237,
   "metadata": {},
   "outputs": [],
   "source": [
    "lsi = gensim.models.LsiModel(corpus, num_topics=10, id2word = dictionary)"
   ]
  },
  {
   "cell_type": "code",
   "execution_count": 238,
   "metadata": {},
   "outputs": [
    {
     "name": "stdout",
     "output_type": "stream",
     "text": [
      "0.997*\"ax\" + 0.072*\"max\" + 0.009*\"pl\" + 0.007*\"ei\" + 0.006*\"tm\"\n",
      "-0.230*\"cx\" + -0.225*\"db\" + -0.225*\"file\" + -0.177*\"hz\" + -0.159*\"edu\"\n",
      "-0.267*\"file\" + 0.214*\"cx\" + -0.182*\"edu\" + 0.172*\"hz\" + 0.152*\"ww\"\n",
      "-0.868*\"db\" + -0.216*\"mov\" + -0.189*\"bh\" + -0.136*\"si\" + -0.127*\"cs\"\n",
      "0.438*\"file\" + 0.272*\"output\" + -0.181*\"people\" + 0.177*\"entry\" + -0.175*\"know\"\n",
      "0.246*\"file\" + -0.236*\"edu\" + 0.230*\"mr\" + 0.224*\"di\" + 0.188*\"pl\"\n",
      "-0.290*\"di\" + -0.251*\"pl\" + -0.223*\"wm\" + -0.222*\"tm\" + -0.188*\"um\"\n",
      "0.493*\"jpeg\" + 0.261*\"file\" + 0.251*\"image\" + 0.201*\"gif\" + 0.177*\"mr\"\n",
      "0.303*\"mr\" + 0.259*\"file\" + -0.253*\"jpeg\" + 0.235*\"stephanopoulos\" + 0.178*\"edu\"\n",
      "-0.371*\"stephanopoulos\" + -0.309*\"mr\" + 0.269*\"file\" + -0.181*\"president\" + 0.175*\"gun\"\n"
     ]
    }
   ],
   "source": [
    "for i, topic in  lsi.print_topics(num_words=5):\n",
    "    print(topic)"
   ]
  },
  {
   "cell_type": "code",
   "execution_count": 239,
   "metadata": {},
   "outputs": [
    {
     "name": "stdout",
     "output_type": "stream",
     "text": [
      "00 rec.autos               :I am a little confused on all of the models of the\n",
      "01 comp.windows.x          :I'm not familiar at all with the format of these \"\n",
      "02 alt.atheism             :In a word, yes.\n",
      "03 talk.politics.mideast   :They were attacking the Iraqis to drive them out o\n",
      "04 talk.religion.misc      :I've just spent two solid months arguing that no s\n",
      "05 sci.med                 :Elisabeth, let's set the record straight for the n\n",
      "06 soc.religion.christian  :Dishonest money dwindles away, but he who gathers \n",
      "07 soc.religion.christian  :A friend of mine managed to get a copy of a comput\n",
      "08 comp.windows.x          :Hi,     We have a requirement for dynamically clos\n",
      "09 comp.graphics           ::   : well, i have lots of experience with scannin\n",
      "10 comp.os.ms-windows.misc :I have uploaded the Windows On-Line Review sharewa\n",
      "11 comp.windows.x          :Most graphics systems I have seen have drawing rou\n",
      "12 talk.politics.mideast   :You *know* that putting something like this out on\n",
      "13 rec.motorcycles         :Accusation?  I thought it was a recommendation.  (\n",
      "14 alt.atheism             :Probably because it IS rape.   So nothing.  It may\n",
      "15 comp.os.ms-windows.misc :From article <C68uBG.K2w@world.std.com>, by cfw@wo\n",
      "16 comp.sys.mac.hardware   :Iv'e got a problem printing with a StyleWriterII. \n",
      "17 comp.graphics           :Hello, i'm interested in those devices too. Could \n",
      "18 misc.forsale            :I said what a SILLY boy i was, now i have zillions\n",
      "19 talk.politics.guns      :I just called Texas' legislative bill tracking ser\n"
     ]
    }
   ],
   "source": [
    "for i, t in enumerate(newsgroups_test.target[:20]):\n",
    "    print('%02d %-24s:%s' % (i, newsgroups_test.target_names[t], \n",
    "                        newsgroups_test.data[i].strip().replace('\\n', ' ')[:50]))"
   ]
  },
  {
   "cell_type": "code",
   "execution_count": 240,
   "metadata": {},
   "outputs": [
    {
     "data": {
      "text/plain": [
       "\":  \\n: well, i have lots of experience with scanning in images and altering\\n: them.  as for changing them back into negatives, is that really possible?\\n\\n: (stuff deleted)\\n\\n: jennifer urso:  the oh-so bitter woman of utter blahness(but cheerful\\n: undertones)\\n\\nI use Aldus Photostyler on the PC and I can turn a colour or black and white\\nimage into a negative or turn a negative into a colour or black and white\\nimage.  I don't know how it does it but it works well.  To test it I scanned\\na negative and used Aldus to create a positive.  It looked better than the\\nprint that the film developers gave me.\\n\\n\\n-- \""
      ]
     },
     "execution_count": 240,
     "metadata": {},
     "output_type": "execute_result"
    }
   ],
   "source": [
    "query = newsgroups_test.data[9]\n",
    "query"
   ]
  },
  {
   "cell_type": "code",
   "execution_count": 241,
   "metadata": {},
   "outputs": [
    {
     "data": {
      "text/plain": [
       "['well', 'have', 'lots']"
      ]
     },
     "execution_count": 241,
     "metadata": {},
     "output_type": "execute_result"
    }
   ],
   "source": [
    "query = gensim.utils.simple_preprocess(query)\n",
    "query[:3]"
   ]
  },
  {
   "cell_type": "code",
   "execution_count": 242,
   "metadata": {},
   "outputs": [],
   "source": [
    "query = dictionary.doc2bow(query)"
   ]
  },
  {
   "cell_type": "code",
   "execution_count": 243,
   "metadata": {},
   "outputs": [],
   "source": [
    "query = lsi[query]"
   ]
  },
  {
   "cell_type": "code",
   "execution_count": 244,
   "metadata": {},
   "outputs": [
    {
     "data": {
      "text/plain": [
       "[(7, 0.6933926498136153), (3, 0.08967606908424179), (6, 0.027687905053157384)]"
      ]
     },
     "execution_count": 244,
     "metadata": {},
     "output_type": "execute_result"
    }
   ],
   "source": [
    "sorted(query, key=lambda x: -x[1])[:3]"
   ]
  },
  {
   "cell_type": "code",
   "execution_count": 245,
   "metadata": {},
   "outputs": [
    {
     "data": {
      "text/plain": [
       "'0.493*\"jpeg\" + 0.261*\"file\" + 0.251*\"image\" + 0.201*\"gif\" + 0.177*\"mr\" + -0.144*\"edu\" + 0.139*\"color\" + 0.138*\"stephanopoulos\" + -0.138*\"entry\" + -0.132*\"output\"'"
      ]
     },
     "execution_count": 245,
     "metadata": {},
     "output_type": "execute_result"
    }
   ],
   "source": [
    "lsi.print_topic(7)"
   ]
  },
  {
   "cell_type": "code",
   "execution_count": 262,
   "metadata": {},
   "outputs": [],
   "source": [
    "pat = re.compile(r'.*?(-)?\\d+.*?\\\"(\\w+)\\\"')"
   ]
  },
  {
   "cell_type": "code",
   "execution_count": 266,
   "metadata": {},
   "outputs": [
    {
     "data": {
      "text/plain": [
       "['jpeg',\n",
       " 'file',\n",
       " 'image',\n",
       " 'gif',\n",
       " 'mr',\n",
       " '-edu',\n",
       " 'color',\n",
       " 'stephanopoulos',\n",
       " '-entry',\n",
       " '-output']"
      ]
     },
     "execution_count": 266,
     "metadata": {},
     "output_type": "execute_result"
    }
   ],
   "source": [
    "words = [''.join(pair) for pair in pat.findall(lsi.print_topic(7))]\n",
    "words"
   ]
  },
  {
   "cell_type": "markdown",
   "metadata": {},
   "source": [
    "#### Find similar documents"
   ]
  },
  {
   "cell_type": "code",
   "execution_count": 267,
   "metadata": {},
   "outputs": [],
   "source": [
    "index = gensim.similarities.MatrixSimilarity(lsi[corpus])"
   ]
  },
  {
   "cell_type": "code",
   "execution_count": 268,
   "metadata": {},
   "outputs": [],
   "source": [
    "sims = index[query]"
   ]
  },
  {
   "cell_type": "code",
   "execution_count": 272,
   "metadata": {},
   "outputs": [],
   "source": [
    "hits = sorted(enumerate(sims), key=lambda x: -x[1])[:5]\n",
    "hits"
   ]
  },
  {
   "cell_type": "code",
   "execution_count": 282,
   "metadata": {},
   "outputs": [
    {
     "name": "stdout",
     "output_type": "stream",
     "text": [
      ":  \n",
      ": well, i have lots of experience with scanning in images and altering\n",
      ": them.  as for changing them back into negatives, is that really possible?\n",
      "\n",
      ": (stuff deleted)\n",
      "\n",
      ": jennifer urso:  the oh-so bitter woman of utter blahness(but cheerful\n",
      ": undertones)\n",
      "\n",
      "I use Aldus Photostyler on the PC and I can turn a colour or black and white\n",
      "image into a negative or turn a negative into a colour or black and white\n",
      "image.  I don't know how it does it but it works well.  To test it I scanned\n",
      "a negative and used Aldus to create a positive.  It looked better than the\n",
      "print that the film developers gave me.\n",
      "\n",
      "\n",
      "-- \n",
      "--------------------------------------------------------------------------------\n",
      "\n",
      "Why didn't you create 8 grey-level images, and display them for\n",
      "1,2,4,8,16,32,64,128... time slices?\n",
      "\n",
      "This requires the same total exposure time, and the same precision in\n",
      "timing, but drastically reduces the image-preparation time, no?\n",
      "\n",
      "\n",
      "\n",
      "\n",
      "\n",
      "\n",
      "--------------------------------------------------------------------------------\n",
      "The Logitech ScanMan 32 is a nice unit, compact and effective it will\n",
      "bring in graphics with surprisingly good quality. Note that its effective\n",
      "resolution in grey scale mode is only about 72 dpi. If you don't intend\n",
      "to magnify a graphic, it works fine. A true 256 level gray scanner would\n",
      "work better for images.\n",
      "--------------------------------------------------------------------------------\n",
      "\n",
      "I certainly do use it whenever I have to do TIFF, and it usually works\n",
      "very well.  That's not my point.  I'm >philosophically< opposed to it\n",
      "because of its complexity.\n",
      "\n",
      "This complexity has led to some programs' poor TIFF writers making\n",
      "some very bizarre files, other programs' inability to load TIFF\n",
      "images (though they'll save them, of course), and a general\n",
      "inability to interchange images between different environments\n",
      "despite the fact they all think they understand TIFF.\n",
      "\n",
      "As the saying goes, \"It's not me I'm worried about- it's all the\n",
      "abuse of TIFF over the years, and I chalk it all up to the immense (and\n",
      "unnecessary) complexity of the format.\n",
      "\n",
      "In the words of the TIFF 5.0 spec, Appendix G, page G-1 (capitalized\n",
      "emphasis mine):\n",
      "\n",
      "\"The only problem with this sort of success is that TIFF was designed\n",
      "to be powerful and flexible, at the expense of simplicity.  It takes a\n",
      "fair amount of effort to handle all the options currently defined in\n",
      "this specification (PROBABLY NO APPLICATION DOES A COMPLETE JOB),\n",
      "and that is currently the only way you can be >sure< that you will be\n",
      "able to import any TIFF image, since there are so many\n",
      "image-generating applications out there now.\"\n",
      "\n",
      "\n",
      "If a program (or worse all applications) can't read >every< TIFF\n",
      "image, that means there are some it won't- some that I might have to\n",
      "deal with.  Why would I want my images to be trapped in that format?  I\n",
      "don't and neither should anyone who agrees with my reasoning- not\n",
      "that anyone does, of course! :-)\n",
      "--------------------------------------------------------------------------------\n",
      "\n",
      "You are correct; the fastest \"complete\" image that could be presented on\n",
      "TV would be one field, which is 1/60 of a second (approximately).  Of course,\n",
      "the phrase \"TV screen\" is often thrown around in reference to any CRT\n",
      "display, so perhaps this researcher wasn't using normal TV rates.  Might\n",
      "even be a vector (\"strokewriter\") display, in which case the lower limit\n",
      "on image time is anyone's guess (and is probably phosphor-persistence limited).\n",
      "\n",
      "--------------------------------------------------------------------------------\n",
      "well, the subject says just about all I intended to ask:\n",
      "\n",
      "Is there no way to insert a 256 color into WfW 2.0 ?\n",
      "\n",
      "When I try it, the picture turns into a 16 color pic.\n",
      "\n"
     ]
    }
   ],
   "source": [
    "print(newsgroups_test.data[9])\n",
    "for match in [newsgroups_train.data[k] for k, score in hits]:\n",
    "    print('-'*80)\n",
    "    print(match)"
   ]
  },
  {
   "cell_type": "markdown",
   "metadata": {},
   "source": [
    "## Non-negative Matrix Factorization\n",
    "\n",
    "The topics generated by LSI can be hard to understand because they include negative value words. They may also be hard to understand since they may not map to topics in the way that we would. Remember, a topic is just a low rank approximation that minimizes the Frobenius norm. An alternative factorization is non-negative matrix (NMF) factorization, which does not use negatively valued words in the topic.\n",
    "\n",
    "NMF basically finds a different set of basis vectors (not the eigenvectors of the covariance matrix) to project onto.\n",
    "\n",
    "![nmf_svd](https://qph.fs.quoracdn.net/main-qimg-9b4e31ec4b57f4baf7d08d5df17c6bc0)"
   ]
  },
  {
   "cell_type": "code",
   "execution_count": null,
   "metadata": {},
   "outputs": [],
   "source": []
  },
  {
   "cell_type": "code",
   "execution_count": null,
   "metadata": {},
   "outputs": [],
   "source": []
  },
  {
   "cell_type": "markdown",
   "metadata": {},
   "source": [
    "## Latent Dirichlet Allocation\n",
    "\n",
    "![lda](https://upload.wikimedia.org/wikipedia/commons/4/4d/Smoothed_LDA.png)"
   ]
  },
  {
   "cell_type": "code",
   "execution_count": null,
   "metadata": {},
   "outputs": [],
   "source": []
  },
  {
   "cell_type": "code",
   "execution_count": null,
   "metadata": {},
   "outputs": [],
   "source": []
  }
 ],
 "metadata": {
  "kernelspec": {
   "display_name": "Python 3",
   "language": "python",
   "name": "python3"
  },
  "language_info": {
   "codemirror_mode": {
    "name": "ipython",
    "version": 3
   },
   "file_extension": ".py",
   "mimetype": "text/x-python",
   "name": "python",
   "nbconvert_exporter": "python",
   "pygments_lexer": "ipython3",
   "version": "3.6.5"
  }
 },
 "nbformat": 4,
 "nbformat_minor": 2
}
