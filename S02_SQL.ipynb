{
 "cells": [
  {
   "cell_type": "markdown",
   "metadata": {},
   "source": [
    "# S02 RDBMS and SQL"
   ]
  },
  {
   "cell_type": "markdown",
   "metadata": {},
   "source": [
    "For more SQL examples in the SQLite3 dialect, seee [SQLite3 tutorial](https://www.techonthenet.com/sqlite/index.php). \n",
    "\n",
    "For a deep dive, see [SQL Queries for Mere Mortals](https://www.amazon.com/SQL-Queries-Mere-Mortals-Hands/dp/0134858336/ref=dp_ob_title_bk)."
   ]
  },
  {
   "cell_type": "markdown",
   "metadata": {},
   "source": [
    "## A. More RDBMS concepts"
   ]
  },
  {
   "cell_type": "markdown",
   "metadata": {},
   "source": [
    "### OLTP and OLAP\n",
    "\n",
    "- OLTP\n",
    "    - Normalized schema\n",
    "- OLAP\n",
    "    - Denormalized schema\n",
    "        - Star\n",
    "            - Facts\n",
    "            - Dimensions\n",
    "        - Snowflake \n",
    "        - Generated from OLTP databases by ETL (Extract-Transform-Load) operations"
   ]
  },
  {
   "cell_type": "markdown",
   "metadata": {},
   "source": [
    "### Types of REBMS\n",
    "    \n",
    "- Data lake\n",
    "- Data warehouse\n",
    "- Data mart        \n",
    "        \n",
    "Data marts typically use a star schema that is customized for the analysis needs. For example, the finance department in a hospital may be most interested in Facts about Claims.\n",
    "        \n",
    "![img](https://www.researchgate.net/profile/Hugh_Watson3/publication/239823035/figure/fig2/AS:375035886882819@1466426931869/A-Star-Schema-for-Health-Care-courtesy-of-Arthur-Andersen.png)"
   ]
  },
  {
   "cell_type": "markdown",
   "metadata": {},
   "source": [
    "### Robustness and scaling\n",
    "\n",
    "- Replication\n",
    "- Sharding"
   ]
  },
  {
   "cell_type": "markdown",
   "metadata": {},
   "source": [
    "## B. Basic SQL queries"
   ]
  },
  {
   "cell_type": "markdown",
   "metadata": {},
   "source": [
    "### Data we will work with in Part B"
   ]
  },
  {
   "cell_type": "code",
   "execution_count": 1,
   "metadata": {},
   "outputs": [],
   "source": [
    "%load_ext sql"
   ]
  },
  {
   "cell_type": "code",
   "execution_count": 2,
   "metadata": {},
   "outputs": [
    {
     "data": {
      "text/plain": [
       "'Connected: None@data/faculty.db'"
      ]
     },
     "execution_count": 2,
     "metadata": {},
     "output_type": "execute_result"
    }
   ],
   "source": [
    "%sql sqlite:///data/faculty.db"
   ]
  },
  {
   "cell_type": "code",
   "execution_count": 3,
   "metadata": {},
   "outputs": [
    {
     "name": "stdout",
     "output_type": "stream",
     "text": [
      "Done.\n"
     ]
    },
    {
     "data": {
      "text/html": [
       "<table>\n",
       "    <tr>\n",
       "        <th>type</th>\n",
       "        <th>name</th>\n",
       "        <th>tbl_name</th>\n",
       "        <th>rootpage</th>\n",
       "        <th>sql</th>\n",
       "    </tr>\n",
       "    <tr>\n",
       "        <td>table</td>\n",
       "        <td>person</td>\n",
       "        <td>person</td>\n",
       "        <td>2</td>\n",
       "        <td>CREATE TABLE person (<br>\t&quot;index&quot; BIGINT, <br>\tperson_id BIGINT, <br>\tfirst TEXT, <br>\tlast TEXT, <br>\tage BIGINT, <br>\theight FLOAT, <br>\tweight BIGINT, <br>\tcountry_id TEXT, <br>\tgender_id BIGINT<br>)</td>\n",
       "    </tr>\n",
       "    <tr>\n",
       "        <td>table</td>\n",
       "        <td>confidential</td>\n",
       "        <td>confidential</td>\n",
       "        <td>18</td>\n",
       "        <td>CREATE TABLE confidential (<br>\t&quot;index&quot; BIGINT, <br>\tperson_id BIGINT, <br>\tsalary BIGINT<br>)</td>\n",
       "    </tr>\n",
       "    <tr>\n",
       "        <td>table</td>\n",
       "        <td>person_language</td>\n",
       "        <td>person_language</td>\n",
       "        <td>33</td>\n",
       "        <td>CREATE TABLE person_language (<br>\t&quot;index&quot; BIGINT, <br>\tperson_id BIGINT, <br>\tlanguage_id BIGINT<br>)</td>\n",
       "    </tr>\n",
       "    <tr>\n",
       "        <td>table</td>\n",
       "        <td>language</td>\n",
       "        <td>language</td>\n",
       "        <td>50</td>\n",
       "        <td>CREATE TABLE language (<br>\t&quot;index&quot; BIGINT, <br>\tlanguage_id BIGINT, <br>\tlanguage_name TEXT<br>)</td>\n",
       "    </tr>\n",
       "    <tr>\n",
       "        <td>table</td>\n",
       "        <td>gender</td>\n",
       "        <td>gender</td>\n",
       "        <td>55</td>\n",
       "        <td>CREATE TABLE gender (<br>\t&quot;index&quot; BIGINT, <br>\tgender_id BIGINT, <br>\tgender TEXT<br>)</td>\n",
       "    </tr>\n",
       "    <tr>\n",
       "        <td>table</td>\n",
       "        <td>country</td>\n",
       "        <td>country</td>\n",
       "        <td>57</td>\n",
       "        <td>CREATE TABLE country (<br>\t&quot;index&quot; BIGINT, <br>\tcountry_id TEXT, <br>\tcountry TEXT, <br>\tnationality TEXT<br>)</td>\n",
       "    </tr>\n",
       "</table>"
      ],
      "text/plain": [
       "[('table', 'person', 'person', 2, 'CREATE TABLE person (\\n\\t\"index\" BIGINT, \\n\\tperson_id BIGINT, \\n\\tfirst TEXT, \\n\\tlast TEXT, \\n\\tage BIGINT, \\n\\theight FLOAT, \\n\\tweight BIGINT, \\n\\tcountry_id TEXT, \\n\\tgender_id BIGINT\\n)'),\n",
       " ('table', 'confidential', 'confidential', 18, 'CREATE TABLE confidential (\\n\\t\"index\" BIGINT, \\n\\tperson_id BIGINT, \\n\\tsalary BIGINT\\n)'),\n",
       " ('table', 'person_language', 'person_language', 33, 'CREATE TABLE person_language (\\n\\t\"index\" BIGINT, \\n\\tperson_id BIGINT, \\n\\tlanguage_id BIGINT\\n)'),\n",
       " ('table', 'language', 'language', 50, 'CREATE TABLE language (\\n\\t\"index\" BIGINT, \\n\\tlanguage_id BIGINT, \\n\\tlanguage_name TEXT\\n)'),\n",
       " ('table', 'gender', 'gender', 55, 'CREATE TABLE gender (\\n\\t\"index\" BIGINT, \\n\\tgender_id BIGINT, \\n\\tgender TEXT\\n)'),\n",
       " ('table', 'country', 'country', 57, 'CREATE TABLE country (\\n\\t\"index\" BIGINT, \\n\\tcountry_id TEXT, \\n\\tcountry TEXT, \\n\\tnationality TEXT\\n)')]"
      ]
     },
     "execution_count": 3,
     "metadata": {},
     "output_type": "execute_result"
    }
   ],
   "source": [
    "%%sql\n",
    "\n",
    "SELECT * FROM sqlite_master WHERE type='table';"
   ]
  },
  {
   "cell_type": "markdown",
   "metadata": {},
   "source": [
    "### Basic Structure"
   ]
  },
  {
   "cell_type": "markdown",
   "metadata": {},
   "source": [
    "```SQL\n",
    "SELECT DISTINCT value_expression AS alias\n",
    "FROM tables AS alias\n",
    "WHERE predicate\n",
    "ORDER BY value_expression\n",
    "```"
   ]
  },
  {
   "cell_type": "markdown",
   "metadata": {},
   "source": [
    "### Types"
   ]
  },
  {
   "cell_type": "markdown",
   "metadata": {},
   "source": [
    "- Character (Fixed width, variable width)\n",
    "- National Character (Fixed width, variable width)\n",
    "- Binary\n",
    "- Numeric (Exact, Arpproximate)\n",
    "- Boolean\n",
    "- DateTime\n",
    "- Interval\n",
    "\n",
    "The SQL standard specifies that character strings and datetime literals are enclosed by single quotes. Two single quotes wihtin a string is intepreted as a literal single quote.\n",
    "\n",
    "```sql\n",
    "'Gilligan''s island'\n",
    "```"
   ]
  },
  {
   "cell_type": "markdown",
   "metadata": {},
   "source": [
    "#### The CAST function"
   ]
  },
  {
   "cell_type": "markdown",
   "metadata": {},
   "source": [
    "```sql\n",
    "CAST(X as CHARACTER(10))\n",
    "```"
   ]
  },
  {
   "cell_type": "markdown",
   "metadata": {},
   "source": [
    "### Value expreesion\n",
    "\n",
    "- Literal\n",
    "- Column reference\n",
    "- Function\n",
    "- CASES\n",
    "- (Value expression)\n",
    "- (SELECT expression)\n",
    "\n",
    "which may be prefixed with unary operaors `-` and `+` and combined with binary operators appropriate for the data type."
   ]
  },
  {
   "cell_type": "markdown",
   "metadata": {},
   "source": [
    "### Bineary operators"
   ]
  },
  {
   "cell_type": "markdown",
   "metadata": {},
   "source": [
    "#### Concatenation"
   ]
  },
  {
   "cell_type": "markdown",
   "metadata": {},
   "source": [
    "```SQL\n",
    "A || B\n",
    "```"
   ]
  },
  {
   "cell_type": "markdown",
   "metadata": {},
   "source": [
    "#### Mathematical"
   ]
  },
  {
   "cell_type": "markdown",
   "metadata": {},
   "source": [
    "```SQL\n",
    "A + B\n",
    "A - B\n",
    "A * B\n",
    "A / B\n",
    "```"
   ]
  },
  {
   "cell_type": "markdown",
   "metadata": {},
   "source": [
    "#### Data and time arithmetic"
   ]
  },
  {
   "cell_type": "markdown",
   "metadata": {},
   "source": [
    "```SQL\n",
    "'2018-08-29' + 3\n",
    "'11:59' + '00:01'\n",
    "```"
   ]
  },
  {
   "cell_type": "code",
   "execution_count": 4,
   "metadata": {},
   "outputs": [
    {
     "name": "stdout",
     "output_type": "stream",
     "text": [
      "Done.\n"
     ]
    },
    {
     "data": {
      "text/html": [
       "<table>\n",
       "    <tr>\n",
       "        <th>language_name</th>\n",
       "    </tr>\n",
       "    <tr>\n",
       "        <td>PHP</td>\n",
       "    </tr>\n",
       "    <tr>\n",
       "        <td>Clojure</td>\n",
       "    </tr>\n",
       "    <tr>\n",
       "        <td>Dylan</td>\n",
       "    </tr>\n",
       "    <tr>\n",
       "        <td>GNU Octave</td>\n",
       "    </tr>\n",
       "    <tr>\n",
       "        <td>D</td>\n",
       "    </tr>\n",
       "</table>"
      ],
      "text/plain": [
       "[('PHP',), ('Clojure',), ('Dylan',), ('GNU Octave',), ('D',)]"
      ]
     },
     "execution_count": 4,
     "metadata": {},
     "output_type": "execute_result"
    }
   ],
   "source": [
    "%%sql\n",
    "\n",
    "SELECT DISTINCT language_name\n",
    "FROM language\n",
    "LIMIT 5;"
   ]
  },
  {
   "cell_type": "markdown",
   "metadata": {},
   "source": [
    "### Sorting"
   ]
  },
  {
   "cell_type": "markdown",
   "metadata": {},
   "source": [
    "```SQL\n",
    "SELECT DISTINCT value_expression AS alias\n",
    "FROM tables AS alias\n",
    "ORDER BY value_expression\n",
    "```"
   ]
  },
  {
   "cell_type": "code",
   "execution_count": 5,
   "metadata": {},
   "outputs": [
    {
     "name": "stdout",
     "output_type": "stream",
     "text": [
      "Done.\n"
     ]
    },
    {
     "data": {
      "text/html": [
       "<table>\n",
       "    <tr>\n",
       "        <th>language_name</th>\n",
       "    </tr>\n",
       "    <tr>\n",
       "        <td>ASP</td>\n",
       "    </tr>\n",
       "    <tr>\n",
       "        <td>Assembly</td>\n",
       "    </tr>\n",
       "    <tr>\n",
       "        <td>AutoIt</td>\n",
       "    </tr>\n",
       "    <tr>\n",
       "        <td>Awk</td>\n",
       "    </tr>\n",
       "    <tr>\n",
       "        <td>Bash</td>\n",
       "    </tr>\n",
       "</table>"
      ],
      "text/plain": [
       "[('ASP',), ('Assembly',), ('AutoIt',), ('Awk',), ('Bash',)]"
      ]
     },
     "execution_count": 5,
     "metadata": {},
     "output_type": "execute_result"
    }
   ],
   "source": [
    "%%sql\n",
    "\n",
    "SELECT DISTINCT language_name\n",
    "FROM language\n",
    "ORDER BY language_name ASC\n",
    "LIMIT 5;"
   ]
  },
  {
   "cell_type": "markdown",
   "metadata": {},
   "source": [
    "### Filtering\n",
    "\n",
    "For efficiency, place the most stringent filters first."
   ]
  },
  {
   "cell_type": "markdown",
   "metadata": {},
   "source": [
    "```SQL\n",
    "SELECT DISTINCT value_expression AS alias\n",
    "FROM tables AS alias\n",
    "WHERE predicate\n",
    "ORDER BY value_expression\n",
    "```"
   ]
  },
  {
   "cell_type": "markdown",
   "metadata": {},
   "source": [
    "#### Predicates for filtering rows"
   ]
  },
  {
   "cell_type": "markdown",
   "metadata": {},
   "source": [
    "- Comparison operators (=, <>, <, >, <=, >=)\n",
    "- BETWEEN start AND end\n",
    "- IN(A, B, C)\n",
    "- LIKE\n",
    "- IS NULL\n",
    "- REGEX\n",
    "\n",
    "Use NOT prefix for negation"
   ]
  },
  {
   "cell_type": "markdown",
   "metadata": {},
   "source": [
    "#### Combining predicates\n",
    "\n",
    "```sql\n",
    "AND\n",
    "OR\n",
    "```\n",
    "\n",
    "USe parenthesis to indicate order of evaluation for compound statements."
   ]
  },
  {
   "cell_type": "code",
   "execution_count": 6,
   "metadata": {},
   "outputs": [
    {
     "name": "stdout",
     "output_type": "stream",
     "text": [
      "Done.\n"
     ]
    },
    {
     "data": {
      "text/html": [
       "<table>\n",
       "    <tr>\n",
       "        <th>first</th>\n",
       "        <th>last</th>\n",
       "        <th>age</th>\n",
       "    </tr>\n",
       "    <tr>\n",
       "        <td>Antoine</td>\n",
       "        <td>Beard</td>\n",
       "        <td>16</td>\n",
       "    </tr>\n",
       "    <tr>\n",
       "        <td>Augustine</td>\n",
       "        <td>Mejia</td>\n",
       "        <td>16</td>\n",
       "    </tr>\n",
       "    <tr>\n",
       "        <td>Boris</td>\n",
       "        <td>Mejia</td>\n",
       "        <td>16</td>\n",
       "    </tr>\n",
       "    <tr>\n",
       "        <td>Brain</td>\n",
       "        <td>Haney</td>\n",
       "        <td>16</td>\n",
       "    </tr>\n",
       "    <tr>\n",
       "        <td>Burl</td>\n",
       "        <td>Mayo</td>\n",
       "        <td>17</td>\n",
       "    </tr>\n",
       "</table>"
      ],
      "text/plain": [
       "[('Antoine', 'Beard', 16),\n",
       " ('Augustine', 'Mejia', 16),\n",
       " ('Boris', 'Mejia', 16),\n",
       " ('Brain', 'Haney', 16),\n",
       " ('Burl', 'Mayo', 17)]"
      ]
     },
     "execution_count": 6,
     "metadata": {},
     "output_type": "execute_result"
    }
   ],
   "source": [
    "%%sql\n",
    "\n",
    "SELECT first, last, age\n",
    "FROM person\n",
    "WHERE age BETWEEN 16 AND 17\n",
    "LIMIT 5;"
   ]
  },
  {
   "cell_type": "markdown",
   "metadata": {},
   "source": [
    "### Joins\n",
    "\n",
    "Joins combine data from 1 or more tables to form a new result set."
   ]
  },
  {
   "cell_type": "markdown",
   "metadata": {},
   "source": [
    "#### Natural join\n",
    "\n",
    "Uses all common columns in Tables 1 and 2 for JOIN\n",
    "\n",
    "```SQL\n",
    "FROM Table1 \n",
    "NATURAL INNER JOIN Table 2\n",
    "```"
   ]
  },
  {
   "cell_type": "markdown",
   "metadata": {},
   "source": [
    "#### Inner join"
   ]
  },
  {
   "cell_type": "markdown",
   "metadata": {},
   "source": [
    "General form of INNER JOIN uisng ON\n",
    "\n",
    "```SQL\n",
    "FROM Table1 \n",
    "INNER JOIN Table2\n",
    "ON Table1.Column = Table2.Column\n",
    "```"
   ]
  },
  {
   "cell_type": "markdown",
   "metadata": {},
   "source": [
    "If there is a common column in both tables\n",
    "\n",
    "```SQL\n",
    "FROM Table1\n",
    "INNER JOIN Table2\n",
    "USING Column\n",
    "```"
   ]
  },
  {
   "cell_type": "markdown",
   "metadata": {},
   "source": [
    "Joining more than two tables\n",
    "\n",
    "```SQL\n",
    "From (Table1 \n",
    "      INNER JOIN Table2\n",
    "      ON Table1.column1 = Table2.Column1)\n",
    "      INNER JOIN Table3 \n",
    "      ON Table3.column2 = Table2.Column2\n",
    "```"
   ]
  },
  {
   "cell_type": "markdown",
   "metadata": {},
   "source": [
    "#### Outer join"
   ]
  },
  {
   "cell_type": "markdown",
   "metadata": {},
   "source": [
    "General form of OUTER JOIN uisng ON\n",
    "\n",
    "```SQL\n",
    "FROM Table1 \n",
    "RIGHT OUTER JOIN Table2\n",
    "ON Table1.Column = Table2.Column\n",
    "```\n",
    "\n",
    "```SQL\n",
    "FROM Table1 \n",
    "LEFT OUTER JOIN Table2\n",
    "ON Table1.Column = Table2.Column\n",
    "```\n",
    "\n",
    "```SQL\n",
    "FROM Table1 \n",
    "FULL OUTER JOIN Table2\n",
    "ON Table1.Column = Table2.Column\n",
    "```"
   ]
  },
  {
   "cell_type": "code",
   "execution_count": 7,
   "metadata": {},
   "outputs": [
    {
     "name": "stdout",
     "output_type": "stream",
     "text": [
      "Done.\n"
     ]
    },
    {
     "data": {
      "text/html": [
       "<table>\n",
       "    <tr>\n",
       "        <th>first</th>\n",
       "        <th>last</th>\n",
       "        <th>language_name</th>\n",
       "    </tr>\n",
       "    <tr>\n",
       "        <td>Aaron</td>\n",
       "        <td>Alexander</td>\n",
       "        <td>Haskell</td>\n",
       "    </tr>\n",
       "    <tr>\n",
       "        <td>Aaron</td>\n",
       "        <td>Kirby</td>\n",
       "        <td>GNU Octave</td>\n",
       "    </tr>\n",
       "    <tr>\n",
       "        <td>Aaron</td>\n",
       "        <td>Kirby</td>\n",
       "        <td>haXe</td>\n",
       "    </tr>\n",
       "    <tr>\n",
       "        <td>Aaron</td>\n",
       "        <td>Kirby</td>\n",
       "        <td>Falcon</td>\n",
       "    </tr>\n",
       "    <tr>\n",
       "        <td>Abram</td>\n",
       "        <td>Allen</td>\n",
       "        <td>TypeScript</td>\n",
       "    </tr>\n",
       "    <tr>\n",
       "        <td>Abram</td>\n",
       "        <td>Boyer</td>\n",
       "        <td>Io</td>\n",
       "    </tr>\n",
       "    <tr>\n",
       "        <td>Abram</td>\n",
       "        <td>Boyer</td>\n",
       "        <td>Lua</td>\n",
       "    </tr>\n",
       "    <tr>\n",
       "        <td>Abram</td>\n",
       "        <td>Boyer</td>\n",
       "        <td>Falcon</td>\n",
       "    </tr>\n",
       "    <tr>\n",
       "        <td>Adan</td>\n",
       "        <td>Brown</td>\n",
       "        <td>F#</td>\n",
       "    </tr>\n",
       "    <tr>\n",
       "        <td>Adolph</td>\n",
       "        <td>Dalton</td>\n",
       "        <td>Dart</td>\n",
       "    </tr>\n",
       "</table>"
      ],
      "text/plain": [
       "[('Aaron', 'Alexander', 'Haskell'),\n",
       " ('Aaron', 'Kirby', 'GNU Octave'),\n",
       " ('Aaron', 'Kirby', 'haXe'),\n",
       " ('Aaron', 'Kirby', 'Falcon'),\n",
       " ('Abram', 'Allen', 'TypeScript'),\n",
       " ('Abram', 'Boyer', 'Io'),\n",
       " ('Abram', 'Boyer', 'Lua'),\n",
       " ('Abram', 'Boyer', 'Falcon'),\n",
       " ('Adan', 'Brown', 'F#'),\n",
       " ('Adolph', 'Dalton', 'Dart')]"
      ]
     },
     "execution_count": 7,
     "metadata": {},
     "output_type": "execute_result"
    }
   ],
   "source": [
    "%%sql\n",
    "\n",
    "SELECT first, last, language_name \n",
    "FROM person\n",
    "INNER JOIN person_language ON person.person_id = person_language.person_id\n",
    "INNER JOIN language ON language.language_id = person_language.language_id\n",
    "LIMIT 10;"
   ]
  },
  {
   "cell_type": "markdown",
   "metadata": {},
   "source": [
    "### Set operations "
   ]
  },
  {
   "cell_type": "markdown",
   "metadata": {},
   "source": [
    "```SQL\n",
    "SELECT a, b \n",
    "FROM table1\n",
    "SetOp\n",
    "SELECT a, b \n",
    "FROM table2\n",
    "```\n",
    "\n",
    "wehre SetOp is `INTERSECT`, `EXCEPT`, `UNION` or `UNION ALL`."
   ]
  },
  {
   "cell_type": "markdown",
   "metadata": {},
   "source": [
    "#### Intersection\n",
    "\n",
    "```sql\n",
    "INTERSECT\n",
    "```\n",
    "\n",
    "Alternative using `INNER JOIN`"
   ]
  },
  {
   "cell_type": "markdown",
   "metadata": {},
   "source": [
    "#### Union"
   ]
  },
  {
   "cell_type": "markdown",
   "metadata": {},
   "source": [
    "```SQL\n",
    "UNION\n",
    "UNION ALL (does not eliminate duplicate rows)\n",
    "```"
   ]
  },
  {
   "cell_type": "markdown",
   "metadata": {},
   "source": [
    "#### Difference"
   ]
  },
  {
   "cell_type": "markdown",
   "metadata": {},
   "source": [
    "```SQL\n",
    "EXCEPT\n",
    "```\n",
    "\n",
    "Alternative using `OUTER JOIN` with test for `NULL`"
   ]
  },
  {
   "cell_type": "code",
   "execution_count": 8,
   "metadata": {
    "scrolled": false
   },
   "outputs": [
    {
     "name": "stdout",
     "output_type": "stream",
     "text": [
      "Done.\n",
      "Done.\n"
     ]
    },
    {
     "data": {
      "text/plain": [
       "[]"
      ]
     },
     "execution_count": 8,
     "metadata": {},
     "output_type": "execute_result"
    }
   ],
   "source": [
    "%%sql\n",
    "\n",
    "DROP VIEW IF EXISTS language_view;\n",
    "CREATE VIEW language_view AS\n",
    "SELECT first, last, language_name \n",
    "FROM person\n",
    "INNER JOIN person_language ON person.person_id = person_language.person_id\n",
    "INNER JOIN language ON language.language_id = person_language.language_id\n",
    ";"
   ]
  },
  {
   "cell_type": "code",
   "execution_count": 9,
   "metadata": {},
   "outputs": [
    {
     "name": "stdout",
     "output_type": "stream",
     "text": [
      "Done.\n"
     ]
    },
    {
     "data": {
      "text/html": [
       "<table>\n",
       "    <tr>\n",
       "        <th>first</th>\n",
       "        <th>last</th>\n",
       "        <th>language_name</th>\n",
       "    </tr>\n",
       "    <tr>\n",
       "        <td>Aaron</td>\n",
       "        <td>Alexander</td>\n",
       "        <td>Haskell</td>\n",
       "    </tr>\n",
       "    <tr>\n",
       "        <td>Aaron</td>\n",
       "        <td>Kirby</td>\n",
       "        <td>GNU Octave</td>\n",
       "    </tr>\n",
       "    <tr>\n",
       "        <td>Aaron</td>\n",
       "        <td>Kirby</td>\n",
       "        <td>haXe</td>\n",
       "    </tr>\n",
       "    <tr>\n",
       "        <td>Aaron</td>\n",
       "        <td>Kirby</td>\n",
       "        <td>Falcon</td>\n",
       "    </tr>\n",
       "    <tr>\n",
       "        <td>Abram</td>\n",
       "        <td>Allen</td>\n",
       "        <td>TypeScript</td>\n",
       "    </tr>\n",
       "    <tr>\n",
       "        <td>Abram</td>\n",
       "        <td>Boyer</td>\n",
       "        <td>Io</td>\n",
       "    </tr>\n",
       "    <tr>\n",
       "        <td>Abram</td>\n",
       "        <td>Boyer</td>\n",
       "        <td>Lua</td>\n",
       "    </tr>\n",
       "    <tr>\n",
       "        <td>Abram</td>\n",
       "        <td>Boyer</td>\n",
       "        <td>Falcon</td>\n",
       "    </tr>\n",
       "    <tr>\n",
       "        <td>Adan</td>\n",
       "        <td>Brown</td>\n",
       "        <td>F#</td>\n",
       "    </tr>\n",
       "    <tr>\n",
       "        <td>Adolph</td>\n",
       "        <td>Dalton</td>\n",
       "        <td>Dart</td>\n",
       "    </tr>\n",
       "</table>"
      ],
      "text/plain": [
       "[('Aaron', 'Alexander', 'Haskell'),\n",
       " ('Aaron', 'Kirby', 'GNU Octave'),\n",
       " ('Aaron', 'Kirby', 'haXe'),\n",
       " ('Aaron', 'Kirby', 'Falcon'),\n",
       " ('Abram', 'Allen', 'TypeScript'),\n",
       " ('Abram', 'Boyer', 'Io'),\n",
       " ('Abram', 'Boyer', 'Lua'),\n",
       " ('Abram', 'Boyer', 'Falcon'),\n",
       " ('Adan', 'Brown', 'F#'),\n",
       " ('Adolph', 'Dalton', 'Dart')]"
      ]
     },
     "execution_count": 9,
     "metadata": {},
     "output_type": "execute_result"
    }
   ],
   "source": [
    "%%sql\n",
    "\n",
    "SELECt * \n",
    "FROM language_view \n",
    "LIMIT 10;"
   ]
  },
  {
   "cell_type": "code",
   "execution_count": 10,
   "metadata": {},
   "outputs": [
    {
     "name": "stdout",
     "output_type": "stream",
     "text": [
      "Done.\n"
     ]
    },
    {
     "data": {
      "text/html": [
       "<table>\n",
       "    <tr>\n",
       "        <th>first</th>\n",
       "        <th>last</th>\n",
       "        <th>language_name</th>\n",
       "    </tr>\n",
       "    <tr>\n",
       "        <td>Aaron</td>\n",
       "        <td>Alexander</td>\n",
       "        <td>Haskell</td>\n",
       "    </tr>\n",
       "    <tr>\n",
       "        <td>Andree</td>\n",
       "        <td>Douglas</td>\n",
       "        <td>Haskell</td>\n",
       "    </tr>\n",
       "    <tr>\n",
       "        <td>Arlie</td>\n",
       "        <td>Terrell</td>\n",
       "        <td>Python</td>\n",
       "    </tr>\n",
       "    <tr>\n",
       "        <td>Boyd</td>\n",
       "        <td>Blackwell</td>\n",
       "        <td>Haskell</td>\n",
       "    </tr>\n",
       "    <tr>\n",
       "        <td>Buck</td>\n",
       "        <td>Howe</td>\n",
       "        <td>Haskell</td>\n",
       "    </tr>\n",
       "    <tr>\n",
       "        <td>Carlton</td>\n",
       "        <td>Richard</td>\n",
       "        <td>Haskell</td>\n",
       "    </tr>\n",
       "    <tr>\n",
       "        <td>Carylon</td>\n",
       "        <td>Zamora</td>\n",
       "        <td>Python</td>\n",
       "    </tr>\n",
       "    <tr>\n",
       "        <td>Clarisa</td>\n",
       "        <td>Rodgers</td>\n",
       "        <td>Python</td>\n",
       "    </tr>\n",
       "    <tr>\n",
       "        <td>Dinorah</td>\n",
       "        <td>O&#x27;brien</td>\n",
       "        <td>Haskell</td>\n",
       "    </tr>\n",
       "    <tr>\n",
       "        <td>Dorian</td>\n",
       "        <td>Lloyd</td>\n",
       "        <td>Haskell</td>\n",
       "    </tr>\n",
       "</table>"
      ],
      "text/plain": [
       "[('Aaron', 'Alexander', 'Haskell'),\n",
       " ('Andree', 'Douglas', 'Haskell'),\n",
       " ('Arlie', 'Terrell', 'Python'),\n",
       " ('Boyd', 'Blackwell', 'Haskell'),\n",
       " ('Buck', 'Howe', 'Haskell'),\n",
       " ('Carlton', 'Richard', 'Haskell'),\n",
       " ('Carylon', 'Zamora', 'Python'),\n",
       " ('Clarisa', 'Rodgers', 'Python'),\n",
       " ('Dinorah', \"O'brien\", 'Haskell'),\n",
       " ('Dorian', 'Lloyd', 'Haskell')]"
      ]
     },
     "execution_count": 10,
     "metadata": {},
     "output_type": "execute_result"
    }
   ],
   "source": [
    "%%sql\n",
    "\n",
    "SELECt * \n",
    "FROM language_view \n",
    "WHERE language_name = 'Python'\n",
    "UNION\n",
    "SELECt * \n",
    "FROM language_view \n",
    "WHERE language_name = 'Haskell'\n",
    "LIMIT 10;"
   ]
  },
  {
   "cell_type": "code",
   "execution_count": 11,
   "metadata": {},
   "outputs": [
    {
     "name": "stdout",
     "output_type": "stream",
     "text": [
      "Done.\n"
     ]
    },
    {
     "data": {
      "text/html": [
       "<table>\n",
       "    <tr>\n",
       "        <th>first</th>\n",
       "        <th>last</th>\n",
       "        <th>language_name</th>\n",
       "    </tr>\n",
       "    <tr>\n",
       "        <td>Aaron</td>\n",
       "        <td>Alexander</td>\n",
       "        <td>Haskell</td>\n",
       "    </tr>\n",
       "    <tr>\n",
       "        <td>Andree</td>\n",
       "        <td>Douglas</td>\n",
       "        <td>Haskell</td>\n",
       "    </tr>\n",
       "    <tr>\n",
       "        <td>Arlie</td>\n",
       "        <td>Terrell</td>\n",
       "        <td>Python</td>\n",
       "    </tr>\n",
       "    <tr>\n",
       "        <td>Boyd</td>\n",
       "        <td>Blackwell</td>\n",
       "        <td>Haskell</td>\n",
       "    </tr>\n",
       "    <tr>\n",
       "        <td>Buck</td>\n",
       "        <td>Howe</td>\n",
       "        <td>Haskell</td>\n",
       "    </tr>\n",
       "    <tr>\n",
       "        <td>Carlton</td>\n",
       "        <td>Richard</td>\n",
       "        <td>Haskell</td>\n",
       "    </tr>\n",
       "    <tr>\n",
       "        <td>Carylon</td>\n",
       "        <td>Zamora</td>\n",
       "        <td>Python</td>\n",
       "    </tr>\n",
       "    <tr>\n",
       "        <td>Clarisa</td>\n",
       "        <td>Rodgers</td>\n",
       "        <td>Python</td>\n",
       "    </tr>\n",
       "    <tr>\n",
       "        <td>Dinorah</td>\n",
       "        <td>O&#x27;brien</td>\n",
       "        <td>Haskell</td>\n",
       "    </tr>\n",
       "    <tr>\n",
       "        <td>Dorian</td>\n",
       "        <td>Lloyd</td>\n",
       "        <td>Haskell</td>\n",
       "    </tr>\n",
       "</table>"
      ],
      "text/plain": [
       "[('Aaron', 'Alexander', 'Haskell'),\n",
       " ('Andree', 'Douglas', 'Haskell'),\n",
       " ('Arlie', 'Terrell', 'Python'),\n",
       " ('Boyd', 'Blackwell', 'Haskell'),\n",
       " ('Buck', 'Howe', 'Haskell'),\n",
       " ('Carlton', 'Richard', 'Haskell'),\n",
       " ('Carylon', 'Zamora', 'Python'),\n",
       " ('Clarisa', 'Rodgers', 'Python'),\n",
       " ('Dinorah', \"O'brien\", 'Haskell'),\n",
       " ('Dorian', 'Lloyd', 'Haskell')]"
      ]
     },
     "execution_count": 11,
     "metadata": {},
     "output_type": "execute_result"
    }
   ],
   "source": [
    "%%sql\n",
    "\n",
    "SELECt * \n",
    "FROM language_view \n",
    "WHERE language_name IN ('Python', 'Haskell')\n",
    "ORDER BY first\n",
    "LIMIT 10;"
   ]
  },
  {
   "cell_type": "markdown",
   "metadata": {},
   "source": [
    "### Subqueries"
   ]
  },
  {
   "cell_type": "markdown",
   "metadata": {},
   "source": [
    "#### As column expresions"
   ]
  },
  {
   "cell_type": "markdown",
   "metadata": {},
   "source": [
    "```SQL\n",
    "SELECT a, b, \n",
    "(\n",
    "    SELECT MAX(c) \n",
    "    FROM table2\n",
    "    INNER JOIN table1\n",
    "    USING column1\n",
    ") as max_c\n",
    "FROM table1\n",
    "```"
   ]
  },
  {
   "cell_type": "markdown",
   "metadata": {},
   "source": [
    "#### As filters"
   ]
  },
  {
   "cell_type": "markdown",
   "metadata": {},
   "source": [
    "```SQL\n",
    "SELECT a, b, \n",
    "FROM table1\n",
    "WHERE b > \n",
    "(\n",
    "    SELECT AVG(b)\n",
    "    FROM table1\n",
    ")\n",
    "```"
   ]
  },
  {
   "cell_type": "markdown",
   "metadata": {},
   "source": [
    "#### Quantified Subqueires\n",
    "\n",
    "```SQL\n",
    "ALl\n",
    "SOME\n",
    "ANY\n",
    "EXISTS\n",
    "```"
   ]
  },
  {
   "cell_type": "markdown",
   "metadata": {},
   "source": [
    "```SQL\n",
    "SELECT a, b, \n",
    "FROM table1\n",
    "WHERE EXISTS\n",
    "(\n",
    "    SELECT c\n",
    "    FROM table2\n",
    ")\n",
    "```"
   ]
  },
  {
   "cell_type": "code",
   "execution_count": 12,
   "metadata": {},
   "outputs": [
    {
     "name": "stdout",
     "output_type": "stream",
     "text": [
      "Done.\n"
     ]
    },
    {
     "data": {
      "text/html": [
       "<table>\n",
       "    <tr>\n",
       "        <th>first</th>\n",
       "        <th>last</th>\n",
       "        <th>language_name</th>\n",
       "    </tr>\n",
       "    <tr>\n",
       "        <td>Aaron</td>\n",
       "        <td>Alexander</td>\n",
       "        <td>Io</td>\n",
       "    </tr>\n",
       "    <tr>\n",
       "        <td>Aaron</td>\n",
       "        <td>Kirby</td>\n",
       "        <td>Io</td>\n",
       "    </tr>\n",
       "    <tr>\n",
       "        <td>Abram</td>\n",
       "        <td>Allen</td>\n",
       "        <td>Io</td>\n",
       "    </tr>\n",
       "    <tr>\n",
       "        <td>Abram</td>\n",
       "        <td>Boyer</td>\n",
       "        <td>Io</td>\n",
       "    </tr>\n",
       "    <tr>\n",
       "        <td>Adan</td>\n",
       "        <td>Brown</td>\n",
       "        <td>Io</td>\n",
       "    </tr>\n",
       "    <tr>\n",
       "        <td>Adolph</td>\n",
       "        <td>Dalton</td>\n",
       "        <td>Io</td>\n",
       "    </tr>\n",
       "    <tr>\n",
       "        <td>Adrian</td>\n",
       "        <td>Blevins</td>\n",
       "        <td>Io</td>\n",
       "    </tr>\n",
       "    <tr>\n",
       "        <td>Agustin</td>\n",
       "        <td>Fulton</td>\n",
       "        <td>Io</td>\n",
       "    </tr>\n",
       "    <tr>\n",
       "        <td>Agustin</td>\n",
       "        <td>Mcdonald</td>\n",
       "        <td>Io</td>\n",
       "    </tr>\n",
       "    <tr>\n",
       "        <td>Alberto</td>\n",
       "        <td>Dudley</td>\n",
       "        <td>Io</td>\n",
       "    </tr>\n",
       "</table>"
      ],
      "text/plain": [
       "[('Aaron', 'Alexander', 'Io'),\n",
       " ('Aaron', 'Kirby', 'Io'),\n",
       " ('Abram', 'Allen', 'Io'),\n",
       " ('Abram', 'Boyer', 'Io'),\n",
       " ('Adan', 'Brown', 'Io'),\n",
       " ('Adolph', 'Dalton', 'Io'),\n",
       " ('Adrian', 'Blevins', 'Io'),\n",
       " ('Agustin', 'Fulton', 'Io'),\n",
       " ('Agustin', 'Mcdonald', 'Io'),\n",
       " ('Alberto', 'Dudley', 'Io')]"
      ]
     },
     "execution_count": 12,
     "metadata": {},
     "output_type": "execute_result"
    }
   ],
   "source": [
    "%%sql\n",
    "\n",
    "SELECT first, last, language_name\n",
    "FROM person, language\n",
    "WHERE language_name IN (\n",
    "    SELECT language_name \n",
    "    FROM language_view\n",
    "    WHERe first='Abram' AND last='Boyer'\n",
    ")\n",
    "LIMIT 10;"
   ]
  },
  {
   "cell_type": "markdown",
   "metadata": {},
   "source": [
    "### Aggregate functions"
   ]
  },
  {
   "cell_type": "markdown",
   "metadata": {},
   "source": [
    "```SQL\n",
    "COUNT\n",
    "MIN\n",
    "MAX\n",
    "AVG\n",
    "SUM\n",
    "```"
   ]
  },
  {
   "cell_type": "code",
   "execution_count": 13,
   "metadata": {},
   "outputs": [
    {
     "name": "stdout",
     "output_type": "stream",
     "text": [
      "Done.\n"
     ]
    },
    {
     "data": {
      "text/html": [
       "<table>\n",
       "    <tr>\n",
       "        <th>count(language_name)</th>\n",
       "    </tr>\n",
       "    <tr>\n",
       "        <td>2297</td>\n",
       "    </tr>\n",
       "</table>"
      ],
      "text/plain": [
       "[(2297,)]"
      ]
     },
     "execution_count": 13,
     "metadata": {},
     "output_type": "execute_result"
    }
   ],
   "source": [
    "%%sql\n",
    "\n",
    "SELECT count(language_name) \n",
    "FROM language_view;"
   ]
  },
  {
   "cell_type": "markdown",
   "metadata": {},
   "source": [
    "### Grouping"
   ]
  },
  {
   "cell_type": "markdown",
   "metadata": {},
   "source": [
    "```SQL\n",
    "SELECT a, MIN(b) AS min_b, MAX(b) AS max_b, AVG(b) AS mean_b\n",
    "FROM table\n",
    "GROUP BY a\n",
    "HAVING mean_b > 5\n",
    "```"
   ]
  },
  {
   "cell_type": "markdown",
   "metadata": {},
   "source": [
    "The `HAVING` is analagous to the `WHERE` clause, but filters on aggregate conditions. Note that the `WHERE` statement filters rows BEFORE the grouping is done."
   ]
  },
  {
   "cell_type": "markdown",
   "metadata": {},
   "source": [
    "Note: Any variable in the SELECT part that is not an aggregte function needs to be in the GROUP BY part.\n",
    "\n",
    "```SQL\n",
    "SELECT a, b, c, COUNT(d)\n",
    "FROM table\n",
    "GROUP BY a, b, c\n",
    "```"
   ]
  },
  {
   "cell_type": "code",
   "execution_count": 14,
   "metadata": {},
   "outputs": [
    {
     "name": "stdout",
     "output_type": "stream",
     "text": [
      "Done.\n"
     ]
    },
    {
     "data": {
      "text/html": [
       "<table>\n",
       "    <tr>\n",
       "        <th>language_name</th>\n",
       "        <th>n</th>\n",
       "    </tr>\n",
       "    <tr>\n",
       "        <td>AutoIt</td>\n",
       "        <td>61</td>\n",
       "    </tr>\n",
       "    <tr>\n",
       "        <td>Bash</td>\n",
       "        <td>48</td>\n",
       "    </tr>\n",
       "    <tr>\n",
       "        <td>ECMAScript</td>\n",
       "        <td>48</td>\n",
       "    </tr>\n",
       "    <tr>\n",
       "        <td>GNU Octave</td>\n",
       "        <td>49</td>\n",
       "    </tr>\n",
       "    <tr>\n",
       "        <td>JavaScript</td>\n",
       "        <td>48</td>\n",
       "    </tr>\n",
       "    <tr>\n",
       "        <td>Perl</td>\n",
       "        <td>55</td>\n",
       "    </tr>\n",
       "    <tr>\n",
       "        <td>PowerShell</td>\n",
       "        <td>50</td>\n",
       "    </tr>\n",
       "    <tr>\n",
       "        <td>Prolog</td>\n",
       "        <td>50</td>\n",
       "    </tr>\n",
       "</table>"
      ],
      "text/plain": [
       "[('AutoIt', 61),\n",
       " ('Bash', 48),\n",
       " ('ECMAScript', 48),\n",
       " ('GNU Octave', 49),\n",
       " ('JavaScript', 48),\n",
       " ('Perl', 55),\n",
       " ('PowerShell', 50),\n",
       " ('Prolog', 50)]"
      ]
     },
     "execution_count": 14,
     "metadata": {},
     "output_type": "execute_result"
    }
   ],
   "source": [
    "%%sql\n",
    "\n",
    "SELECT language_name, count(*) AS n\n",
    "FROM language_view\n",
    "GROUP BY language_name\n",
    "HAVING n > 45;"
   ]
  },
  {
   "cell_type": "markdown",
   "metadata": {},
   "source": [
    "### The CASE switch"
   ]
  },
  {
   "cell_type": "markdown",
   "metadata": {},
   "source": [
    "#### Simple CASE"
   ]
  },
  {
   "cell_type": "markdown",
   "metadata": {},
   "source": [
    "```SQL\n",
    "SELECT name,\n",
    "(CASE sex \n",
    " WHEN 'M' THEN 1.5*dose\n",
    " WHEN 'F' THEN dose\n",
    " END) as adjusted_dose\n",
    "FROM table\n",
    "```"
   ]
  },
  {
   "cell_type": "markdown",
   "metadata": {},
   "source": [
    "#### Searched CASE"
   ]
  },
  {
   "cell_type": "markdown",
   "metadata": {},
   "source": [
    "```SQL\n",
    "SELECT name,\n",
    "(CASE  \n",
    " WHEN sex = 'M' THEN 1.5*dose\n",
    " WHEN sex = 'F' THEN dose\n",
    " END) as adjusted_dose\n",
    "FROM table\n",
    "```"
   ]
  },
  {
   "cell_type": "code",
   "execution_count": 15,
   "metadata": {},
   "outputs": [
    {
     "name": "stdout",
     "output_type": "stream",
     "text": [
      "Done.\n"
     ]
    },
    {
     "data": {
      "text/html": [
       "<table>\n",
       "    <tr>\n",
       "        <th>first</th>\n",
       "        <th>last</th>\n",
       "        <th>language_name</th>\n",
       "        <th>outcome</th>\n",
       "    </tr>\n",
       "    <tr>\n",
       "        <td>Aaron</td>\n",
       "        <td>Alexander</td>\n",
       "        <td>Haskell</td>\n",
       "        <td>Hire</td>\n",
       "    </tr>\n",
       "    <tr>\n",
       "        <td>Aaron</td>\n",
       "        <td>Kirby</td>\n",
       "        <td>GNU Octave</td>\n",
       "        <td>FIRE</td>\n",
       "    </tr>\n",
       "    <tr>\n",
       "        <td>Aaron</td>\n",
       "        <td>Kirby</td>\n",
       "        <td>haXe</td>\n",
       "        <td>Hire</td>\n",
       "    </tr>\n",
       "    <tr>\n",
       "        <td>Aaron</td>\n",
       "        <td>Kirby</td>\n",
       "        <td>Falcon</td>\n",
       "        <td>FIRE</td>\n",
       "    </tr>\n",
       "    <tr>\n",
       "        <td>Abram</td>\n",
       "        <td>Allen</td>\n",
       "        <td>TypeScript</td>\n",
       "        <td>FIRE</td>\n",
       "    </tr>\n",
       "    <tr>\n",
       "        <td>Abram</td>\n",
       "        <td>Boyer</td>\n",
       "        <td>Io</td>\n",
       "        <td>FIRE</td>\n",
       "    </tr>\n",
       "    <tr>\n",
       "        <td>Abram</td>\n",
       "        <td>Boyer</td>\n",
       "        <td>Lua</td>\n",
       "        <td>FIRE</td>\n",
       "    </tr>\n",
       "    <tr>\n",
       "        <td>Abram</td>\n",
       "        <td>Boyer</td>\n",
       "        <td>Falcon</td>\n",
       "        <td>FIRE</td>\n",
       "    </tr>\n",
       "    <tr>\n",
       "        <td>Adan</td>\n",
       "        <td>Brown</td>\n",
       "        <td>F#</td>\n",
       "        <td>FIRE</td>\n",
       "    </tr>\n",
       "    <tr>\n",
       "        <td>Adolph</td>\n",
       "        <td>Dalton</td>\n",
       "        <td>Dart</td>\n",
       "        <td>FIRE</td>\n",
       "    </tr>\n",
       "</table>"
      ],
      "text/plain": [
       "[('Aaron', 'Alexander', 'Haskell', 'Hire'),\n",
       " ('Aaron', 'Kirby', 'GNU Octave', 'FIRE'),\n",
       " ('Aaron', 'Kirby', 'haXe', 'Hire'),\n",
       " ('Aaron', 'Kirby', 'Falcon', 'FIRE'),\n",
       " ('Abram', 'Allen', 'TypeScript', 'FIRE'),\n",
       " ('Abram', 'Boyer', 'Io', 'FIRE'),\n",
       " ('Abram', 'Boyer', 'Lua', 'FIRE'),\n",
       " ('Abram', 'Boyer', 'Falcon', 'FIRE'),\n",
       " ('Adan', 'Brown', 'F#', 'FIRE'),\n",
       " ('Adolph', 'Dalton', 'Dart', 'FIRE')]"
      ]
     },
     "execution_count": 15,
     "metadata": {},
     "output_type": "execute_result"
    }
   ],
   "source": [
    "%%sql\n",
    "\n",
    "SELECT first, last, language_name,\n",
    "(CASE\n",
    "    WHEN language_name LIKE 'H%' THEN 'Hire'\n",
    "    ELSE 'FIRE'\n",
    "END\n",
    ") AS outcome\n",
    "FROM language_view\n",
    "LIMIT 10;"
   ]
  },
  {
   "cell_type": "markdown",
   "metadata": {},
   "source": [
    "## C.  Window Functions"
   ]
  },
  {
   "cell_type": "markdown",
   "metadata": {},
   "source": [
    "We use the PostgreSQL databsaee because window functions are not supported in SQLite3 [yet](https://www.sqlite.org/draft/releaselog/3_25_0.html)"
   ]
  },
  {
   "cell_type": "code",
   "execution_count": 16,
   "metadata": {},
   "outputs": [
    {
     "data": {
      "text/plain": [
       "'Connected: cliburn@bios-823'"
      ]
     },
     "execution_count": 16,
     "metadata": {},
     "output_type": "execute_result"
    }
   ],
   "source": [
    "%sql postgresql://cliburn@localhost/bios-823"
   ]
  },
  {
   "cell_type": "code",
   "execution_count": 17,
   "metadata": {},
   "outputs": [],
   "source": [
    "import pandas as pd"
   ]
  },
  {
   "cell_type": "code",
   "execution_count": 18,
   "metadata": {},
   "outputs": [],
   "source": [
    "import numpy as np"
   ]
  },
  {
   "cell_type": "code",
   "execution_count": 19,
   "metadata": {},
   "outputs": [],
   "source": [
    "from collections import OrderedDict"
   ]
  },
  {
   "cell_type": "code",
   "execution_count": 20,
   "metadata": {},
   "outputs": [],
   "source": [
    "np.random.seed(23)\n",
    "n = 10\n",
    "df = pd.DataFrame(\n",
    "    OrderedDict(person=np.random.choice(['A', 'B', 'C', 'D'], n,),\n",
    "                time=np.random.randint(0, 10, n), \n",
    "                bsl=np.random.randint(50, 400, n)))"
   ]
  },
  {
   "cell_type": "code",
   "execution_count": 21,
   "metadata": {},
   "outputs": [
    {
     "data": {
      "text/html": [
       "<div>\n",
       "<style scoped>\n",
       "    .dataframe tbody tr th:only-of-type {\n",
       "        vertical-align: middle;\n",
       "    }\n",
       "\n",
       "    .dataframe tbody tr th {\n",
       "        vertical-align: top;\n",
       "    }\n",
       "\n",
       "    .dataframe thead th {\n",
       "        text-align: right;\n",
       "    }\n",
       "</style>\n",
       "<table border=\"1\" class=\"dataframe\">\n",
       "  <thead>\n",
       "    <tr style=\"text-align: right;\">\n",
       "      <th></th>\n",
       "      <th>person</th>\n",
       "      <th>time</th>\n",
       "      <th>bsl</th>\n",
       "    </tr>\n",
       "  </thead>\n",
       "  <tbody>\n",
       "    <tr>\n",
       "      <th>8</th>\n",
       "      <td>A</td>\n",
       "      <td>0</td>\n",
       "      <td>115</td>\n",
       "    </tr>\n",
       "    <tr>\n",
       "      <th>5</th>\n",
       "      <td>A</td>\n",
       "      <td>2</td>\n",
       "      <td>237</td>\n",
       "    </tr>\n",
       "    <tr>\n",
       "      <th>2</th>\n",
       "      <td>A</td>\n",
       "      <td>3</td>\n",
       "      <td>129</td>\n",
       "    </tr>\n",
       "    <tr>\n",
       "      <th>7</th>\n",
       "      <td>B</td>\n",
       "      <td>5</td>\n",
       "      <td>86</td>\n",
       "    </tr>\n",
       "    <tr>\n",
       "      <th>3</th>\n",
       "      <td>B</td>\n",
       "      <td>6</td>\n",
       "      <td>396</td>\n",
       "    </tr>\n",
       "    <tr>\n",
       "      <th>4</th>\n",
       "      <td>C</td>\n",
       "      <td>1</td>\n",
       "      <td>107</td>\n",
       "    </tr>\n",
       "    <tr>\n",
       "      <th>1</th>\n",
       "      <td>C</td>\n",
       "      <td>9</td>\n",
       "      <td>347</td>\n",
       "    </tr>\n",
       "    <tr>\n",
       "      <th>6</th>\n",
       "      <td>D</td>\n",
       "      <td>5</td>\n",
       "      <td>89</td>\n",
       "    </tr>\n",
       "    <tr>\n",
       "      <th>9</th>\n",
       "      <td>D</td>\n",
       "      <td>5</td>\n",
       "      <td>221</td>\n",
       "    </tr>\n",
       "    <tr>\n",
       "      <th>0</th>\n",
       "      <td>D</td>\n",
       "      <td>7</td>\n",
       "      <td>98</td>\n",
       "    </tr>\n",
       "  </tbody>\n",
       "</table>\n",
       "</div>"
      ],
      "text/plain": [
       "  person  time  bsl\n",
       "8      A     0  115\n",
       "5      A     2  237\n",
       "2      A     3  129\n",
       "7      B     5   86\n",
       "3      B     6  396\n",
       "4      C     1  107\n",
       "1      C     9  347\n",
       "6      D     5   89\n",
       "9      D     5  221\n",
       "0      D     7   98"
      ]
     },
     "execution_count": 21,
     "metadata": {},
     "output_type": "execute_result"
    }
   ],
   "source": [
    "df.sort_values(['person', 'time'])"
   ]
  },
  {
   "cell_type": "code",
   "execution_count": 22,
   "metadata": {},
   "outputs": [
    {
     "name": "stdout",
     "output_type": "stream",
     "text": [
      "Done.\n"
     ]
    },
    {
     "data": {
      "text/plain": [
       "[]"
      ]
     },
     "execution_count": 22,
     "metadata": {},
     "output_type": "execute_result"
    }
   ],
   "source": [
    "%sql DROP TABLE IF EXISTS df"
   ]
  },
  {
   "cell_type": "markdown",
   "metadata": {},
   "source": [
    "Magic shortcut to creating a database table from `pandas` DataFrame."
   ]
  },
  {
   "cell_type": "code",
   "execution_count": 23,
   "metadata": {},
   "outputs": [
    {
     "data": {
      "text/plain": [
       "'Persisted df'"
      ]
     },
     "execution_count": 23,
     "metadata": {},
     "output_type": "execute_result"
    }
   ],
   "source": [
    "%sql persist df"
   ]
  },
  {
   "cell_type": "markdown",
   "metadata": {},
   "source": [
    "### Over  creates widows"
   ]
  },
  {
   "cell_type": "code",
   "execution_count": 24,
   "metadata": {},
   "outputs": [
    {
     "name": "stdout",
     "output_type": "stream",
     "text": [
      "10 rows affected.\n"
     ]
    },
    {
     "data": {
      "text/html": [
       "<table>\n",
       "    <tr>\n",
       "        <th>person</th>\n",
       "        <th>time</th>\n",
       "        <th>bsl</th>\n",
       "        <th>row_number</th>\n",
       "    </tr>\n",
       "    <tr>\n",
       "        <td>D</td>\n",
       "        <td>7</td>\n",
       "        <td>98</td>\n",
       "        <td>1</td>\n",
       "    </tr>\n",
       "    <tr>\n",
       "        <td>C</td>\n",
       "        <td>9</td>\n",
       "        <td>347</td>\n",
       "        <td>2</td>\n",
       "    </tr>\n",
       "    <tr>\n",
       "        <td>A</td>\n",
       "        <td>3</td>\n",
       "        <td>129</td>\n",
       "        <td>3</td>\n",
       "    </tr>\n",
       "    <tr>\n",
       "        <td>B</td>\n",
       "        <td>6</td>\n",
       "        <td>396</td>\n",
       "        <td>4</td>\n",
       "    </tr>\n",
       "    <tr>\n",
       "        <td>C</td>\n",
       "        <td>1</td>\n",
       "        <td>107</td>\n",
       "        <td>5</td>\n",
       "    </tr>\n",
       "    <tr>\n",
       "        <td>A</td>\n",
       "        <td>2</td>\n",
       "        <td>237</td>\n",
       "        <td>6</td>\n",
       "    </tr>\n",
       "    <tr>\n",
       "        <td>D</td>\n",
       "        <td>5</td>\n",
       "        <td>89</td>\n",
       "        <td>7</td>\n",
       "    </tr>\n",
       "    <tr>\n",
       "        <td>B</td>\n",
       "        <td>5</td>\n",
       "        <td>86</td>\n",
       "        <td>8</td>\n",
       "    </tr>\n",
       "    <tr>\n",
       "        <td>A</td>\n",
       "        <td>0</td>\n",
       "        <td>115</td>\n",
       "        <td>9</td>\n",
       "    </tr>\n",
       "    <tr>\n",
       "        <td>D</td>\n",
       "        <td>5</td>\n",
       "        <td>221</td>\n",
       "        <td>10</td>\n",
       "    </tr>\n",
       "</table>"
      ],
      "text/plain": [
       "[('D', 7, 98, 1),\n",
       " ('C', 9, 347, 2),\n",
       " ('A', 3, 129, 3),\n",
       " ('B', 6, 396, 4),\n",
       " ('C', 1, 107, 5),\n",
       " ('A', 2, 237, 6),\n",
       " ('D', 5, 89, 7),\n",
       " ('B', 5, 86, 8),\n",
       " ('A', 0, 115, 9),\n",
       " ('D', 5, 221, 10)]"
      ]
     },
     "execution_count": 24,
     "metadata": {},
     "output_type": "execute_result"
    }
   ],
   "source": [
    "%%sql\n",
    "\n",
    "SELECT person, time, bsl, row_number() \n",
    "OVER ()\n",
    "FROM df;"
   ]
  },
  {
   "cell_type": "markdown",
   "metadata": {},
   "source": [
    "### Order by"
   ]
  },
  {
   "cell_type": "code",
   "execution_count": 25,
   "metadata": {},
   "outputs": [
    {
     "name": "stdout",
     "output_type": "stream",
     "text": [
      "10 rows affected.\n"
     ]
    },
    {
     "data": {
      "text/html": [
       "<table>\n",
       "    <tr>\n",
       "        <th>person</th>\n",
       "        <th>time</th>\n",
       "        <th>bsl</th>\n",
       "        <th>row_number</th>\n",
       "    </tr>\n",
       "    <tr>\n",
       "        <td>A</td>\n",
       "        <td>0</td>\n",
       "        <td>115</td>\n",
       "        <td>1</td>\n",
       "    </tr>\n",
       "    <tr>\n",
       "        <td>A</td>\n",
       "        <td>2</td>\n",
       "        <td>237</td>\n",
       "        <td>2</td>\n",
       "    </tr>\n",
       "    <tr>\n",
       "        <td>A</td>\n",
       "        <td>3</td>\n",
       "        <td>129</td>\n",
       "        <td>3</td>\n",
       "    </tr>\n",
       "    <tr>\n",
       "        <td>B</td>\n",
       "        <td>5</td>\n",
       "        <td>86</td>\n",
       "        <td>4</td>\n",
       "    </tr>\n",
       "    <tr>\n",
       "        <td>B</td>\n",
       "        <td>6</td>\n",
       "        <td>396</td>\n",
       "        <td>5</td>\n",
       "    </tr>\n",
       "    <tr>\n",
       "        <td>C</td>\n",
       "        <td>1</td>\n",
       "        <td>107</td>\n",
       "        <td>6</td>\n",
       "    </tr>\n",
       "    <tr>\n",
       "        <td>C</td>\n",
       "        <td>9</td>\n",
       "        <td>347</td>\n",
       "        <td>7</td>\n",
       "    </tr>\n",
       "    <tr>\n",
       "        <td>D</td>\n",
       "        <td>5</td>\n",
       "        <td>221</td>\n",
       "        <td>8</td>\n",
       "    </tr>\n",
       "    <tr>\n",
       "        <td>D</td>\n",
       "        <td>5</td>\n",
       "        <td>89</td>\n",
       "        <td>9</td>\n",
       "    </tr>\n",
       "    <tr>\n",
       "        <td>D</td>\n",
       "        <td>7</td>\n",
       "        <td>98</td>\n",
       "        <td>10</td>\n",
       "    </tr>\n",
       "</table>"
      ],
      "text/plain": [
       "[('A', 0, 115, 1),\n",
       " ('A', 2, 237, 2),\n",
       " ('A', 3, 129, 3),\n",
       " ('B', 5, 86, 4),\n",
       " ('B', 6, 396, 5),\n",
       " ('C', 1, 107, 6),\n",
       " ('C', 9, 347, 7),\n",
       " ('D', 5, 221, 8),\n",
       " ('D', 5, 89, 9),\n",
       " ('D', 7, 98, 10)]"
      ]
     },
     "execution_count": 25,
     "metadata": {},
     "output_type": "execute_result"
    }
   ],
   "source": [
    "%%sql\n",
    "\n",
    "SELECT person, time, bsl, row_number() \n",
    "OVER (ORDER BY person, time)\n",
    "FROM df;"
   ]
  },
  {
   "cell_type": "markdown",
   "metadata": {},
   "source": [
    "### Partition by"
   ]
  },
  {
   "cell_type": "code",
   "execution_count": 26,
   "metadata": {},
   "outputs": [
    {
     "name": "stdout",
     "output_type": "stream",
     "text": [
      "10 rows affected.\n"
     ]
    },
    {
     "data": {
      "text/html": [
       "<table>\n",
       "    <tr>\n",
       "        <th>person</th>\n",
       "        <th>time</th>\n",
       "        <th>bsl</th>\n",
       "        <th>row_number</th>\n",
       "    </tr>\n",
       "    <tr>\n",
       "        <td>A</td>\n",
       "        <td>0</td>\n",
       "        <td>115</td>\n",
       "        <td>1</td>\n",
       "    </tr>\n",
       "    <tr>\n",
       "        <td>A</td>\n",
       "        <td>2</td>\n",
       "        <td>237</td>\n",
       "        <td>2</td>\n",
       "    </tr>\n",
       "    <tr>\n",
       "        <td>A</td>\n",
       "        <td>3</td>\n",
       "        <td>129</td>\n",
       "        <td>3</td>\n",
       "    </tr>\n",
       "    <tr>\n",
       "        <td>B</td>\n",
       "        <td>5</td>\n",
       "        <td>86</td>\n",
       "        <td>1</td>\n",
       "    </tr>\n",
       "    <tr>\n",
       "        <td>B</td>\n",
       "        <td>6</td>\n",
       "        <td>396</td>\n",
       "        <td>2</td>\n",
       "    </tr>\n",
       "    <tr>\n",
       "        <td>C</td>\n",
       "        <td>1</td>\n",
       "        <td>107</td>\n",
       "        <td>1</td>\n",
       "    </tr>\n",
       "    <tr>\n",
       "        <td>C</td>\n",
       "        <td>9</td>\n",
       "        <td>347</td>\n",
       "        <td>2</td>\n",
       "    </tr>\n",
       "    <tr>\n",
       "        <td>D</td>\n",
       "        <td>5</td>\n",
       "        <td>221</td>\n",
       "        <td>1</td>\n",
       "    </tr>\n",
       "    <tr>\n",
       "        <td>D</td>\n",
       "        <td>5</td>\n",
       "        <td>89</td>\n",
       "        <td>2</td>\n",
       "    </tr>\n",
       "    <tr>\n",
       "        <td>D</td>\n",
       "        <td>7</td>\n",
       "        <td>98</td>\n",
       "        <td>3</td>\n",
       "    </tr>\n",
       "</table>"
      ],
      "text/plain": [
       "[('A', 0, 115, 1),\n",
       " ('A', 2, 237, 2),\n",
       " ('A', 3, 129, 3),\n",
       " ('B', 5, 86, 1),\n",
       " ('B', 6, 396, 2),\n",
       " ('C', 1, 107, 1),\n",
       " ('C', 9, 347, 2),\n",
       " ('D', 5, 221, 1),\n",
       " ('D', 5, 89, 2),\n",
       " ('D', 7, 98, 3)]"
      ]
     },
     "execution_count": 26,
     "metadata": {},
     "output_type": "execute_result"
    }
   ],
   "source": [
    "%%sql\n",
    "\n",
    "SELECT person, time, bsl, row_number() \n",
    "OVER (PARTITION BY person ORDER BY time)\n",
    "FROM df;"
   ]
  },
  {
   "cell_type": "code",
   "execution_count": 27,
   "metadata": {},
   "outputs": [
    {
     "name": "stdout",
     "output_type": "stream",
     "text": [
      "10 rows affected.\n"
     ]
    },
    {
     "data": {
      "text/html": [
       "<table>\n",
       "    <tr>\n",
       "        <th>person</th>\n",
       "        <th>time</th>\n",
       "        <th>bsl</th>\n",
       "        <th>string_agg</th>\n",
       "    </tr>\n",
       "    <tr>\n",
       "        <td>A</td>\n",
       "        <td>0</td>\n",
       "        <td>115</td>\n",
       "        <td>115</td>\n",
       "    </tr>\n",
       "    <tr>\n",
       "        <td>A</td>\n",
       "        <td>2</td>\n",
       "        <td>237</td>\n",
       "        <td>115, 237</td>\n",
       "    </tr>\n",
       "    <tr>\n",
       "        <td>A</td>\n",
       "        <td>3</td>\n",
       "        <td>129</td>\n",
       "        <td>115, 237, 129</td>\n",
       "    </tr>\n",
       "    <tr>\n",
       "        <td>B</td>\n",
       "        <td>5</td>\n",
       "        <td>86</td>\n",
       "        <td>86</td>\n",
       "    </tr>\n",
       "    <tr>\n",
       "        <td>B</td>\n",
       "        <td>6</td>\n",
       "        <td>396</td>\n",
       "        <td>86, 396</td>\n",
       "    </tr>\n",
       "    <tr>\n",
       "        <td>C</td>\n",
       "        <td>1</td>\n",
       "        <td>107</td>\n",
       "        <td>107</td>\n",
       "    </tr>\n",
       "    <tr>\n",
       "        <td>C</td>\n",
       "        <td>9</td>\n",
       "        <td>347</td>\n",
       "        <td>107, 347</td>\n",
       "    </tr>\n",
       "    <tr>\n",
       "        <td>D</td>\n",
       "        <td>5</td>\n",
       "        <td>221</td>\n",
       "        <td>221, 89</td>\n",
       "    </tr>\n",
       "    <tr>\n",
       "        <td>D</td>\n",
       "        <td>5</td>\n",
       "        <td>89</td>\n",
       "        <td>221, 89</td>\n",
       "    </tr>\n",
       "    <tr>\n",
       "        <td>D</td>\n",
       "        <td>7</td>\n",
       "        <td>98</td>\n",
       "        <td>221, 89, 98</td>\n",
       "    </tr>\n",
       "</table>"
      ],
      "text/plain": [
       "[('A', 0, 115, '115'),\n",
       " ('A', 2, 237, '115, 237'),\n",
       " ('A', 3, 129, '115, 237, 129'),\n",
       " ('B', 5, 86, '86'),\n",
       " ('B', 6, 396, '86, 396'),\n",
       " ('C', 1, 107, '107'),\n",
       " ('C', 9, 347, '107, 347'),\n",
       " ('D', 5, 221, '221, 89'),\n",
       " ('D', 5, 89, '221, 89'),\n",
       " ('D', 7, 98, '221, 89, 98')]"
      ]
     },
     "execution_count": 27,
     "metadata": {},
     "output_type": "execute_result"
    }
   ],
   "source": [
    "%%sql\n",
    "\n",
    "SELECT person, time, bsl, STRING_AGG(CAST(bsl AS TEXT), ', ')\n",
    "OVER (PARTITION BY person ORDER BY time)\n",
    "FROM df;"
   ]
  },
  {
   "cell_type": "markdown",
   "metadata": {},
   "source": [
    "### Specifying rows in window"
   ]
  },
  {
   "cell_type": "code",
   "execution_count": 28,
   "metadata": {},
   "outputs": [
    {
     "name": "stdout",
     "output_type": "stream",
     "text": [
      "10 rows affected.\n"
     ]
    },
    {
     "data": {
      "text/html": [
       "<table>\n",
       "    <tr>\n",
       "        <th>person</th>\n",
       "        <th>time</th>\n",
       "        <th>bsl</th>\n",
       "        <th>string_agg</th>\n",
       "    </tr>\n",
       "    <tr>\n",
       "        <td>A</td>\n",
       "        <td>0</td>\n",
       "        <td>115</td>\n",
       "        <td>115, 237</td>\n",
       "    </tr>\n",
       "    <tr>\n",
       "        <td>A</td>\n",
       "        <td>2</td>\n",
       "        <td>237</td>\n",
       "        <td>115, 237, 129</td>\n",
       "    </tr>\n",
       "    <tr>\n",
       "        <td>A</td>\n",
       "        <td>3</td>\n",
       "        <td>129</td>\n",
       "        <td>237, 129</td>\n",
       "    </tr>\n",
       "    <tr>\n",
       "        <td>B</td>\n",
       "        <td>5</td>\n",
       "        <td>86</td>\n",
       "        <td>86, 396</td>\n",
       "    </tr>\n",
       "    <tr>\n",
       "        <td>B</td>\n",
       "        <td>6</td>\n",
       "        <td>396</td>\n",
       "        <td>86, 396</td>\n",
       "    </tr>\n",
       "    <tr>\n",
       "        <td>C</td>\n",
       "        <td>1</td>\n",
       "        <td>107</td>\n",
       "        <td>107, 347</td>\n",
       "    </tr>\n",
       "    <tr>\n",
       "        <td>C</td>\n",
       "        <td>9</td>\n",
       "        <td>347</td>\n",
       "        <td>107, 347</td>\n",
       "    </tr>\n",
       "    <tr>\n",
       "        <td>D</td>\n",
       "        <td>5</td>\n",
       "        <td>221</td>\n",
       "        <td>221, 89</td>\n",
       "    </tr>\n",
       "    <tr>\n",
       "        <td>D</td>\n",
       "        <td>5</td>\n",
       "        <td>89</td>\n",
       "        <td>221, 89, 98</td>\n",
       "    </tr>\n",
       "    <tr>\n",
       "        <td>D</td>\n",
       "        <td>7</td>\n",
       "        <td>98</td>\n",
       "        <td>89, 98</td>\n",
       "    </tr>\n",
       "</table>"
      ],
      "text/plain": [
       "[('A', 0, 115, '115, 237'),\n",
       " ('A', 2, 237, '115, 237, 129'),\n",
       " ('A', 3, 129, '237, 129'),\n",
       " ('B', 5, 86, '86, 396'),\n",
       " ('B', 6, 396, '86, 396'),\n",
       " ('C', 1, 107, '107, 347'),\n",
       " ('C', 9, 347, '107, 347'),\n",
       " ('D', 5, 221, '221, 89'),\n",
       " ('D', 5, 89, '221, 89, 98'),\n",
       " ('D', 7, 98, '89, 98')]"
      ]
     },
     "execution_count": 28,
     "metadata": {},
     "output_type": "execute_result"
    }
   ],
   "source": [
    "%%sql\n",
    "\n",
    "SELECT person, time, bsl, STRING_AGG(CAST(bsl AS TEXT), ', ')\n",
    "OVER (\n",
    "    PARTITION BY person\n",
    "    ORDER BY time\n",
    "    ROWS BETWEEN 1 PRECEDING AND 1 FOLLOWING\n",
    "     )\n",
    "FROM df;"
   ]
  },
  {
   "cell_type": "markdown",
   "metadata": {},
   "source": [
    "### Using window functions"
   ]
  },
  {
   "cell_type": "code",
   "execution_count": 29,
   "metadata": {},
   "outputs": [
    {
     "name": "stdout",
     "output_type": "stream",
     "text": [
      "10 rows affected.\n"
     ]
    },
    {
     "data": {
      "text/html": [
       "<table>\n",
       "    <tr>\n",
       "        <th>person</th>\n",
       "        <th>time</th>\n",
       "        <th>bsl</th>\n",
       "        <th>row_number</th>\n",
       "        <th>rank</th>\n",
       "        <th>dense_rank</th>\n",
       "        <th>percent_rank</th>\n",
       "        <th>cume_dist</th>\n",
       "    </tr>\n",
       "    <tr>\n",
       "        <td>A</td>\n",
       "        <td>0</td>\n",
       "        <td>115</td>\n",
       "        <td>1</td>\n",
       "        <td>1</td>\n",
       "        <td>1</td>\n",
       "        <td>0.0</td>\n",
       "        <td>0.3</td>\n",
       "    </tr>\n",
       "    <tr>\n",
       "        <td>A</td>\n",
       "        <td>2</td>\n",
       "        <td>237</td>\n",
       "        <td>2</td>\n",
       "        <td>1</td>\n",
       "        <td>1</td>\n",
       "        <td>0.0</td>\n",
       "        <td>0.3</td>\n",
       "    </tr>\n",
       "    <tr>\n",
       "        <td>A</td>\n",
       "        <td>3</td>\n",
       "        <td>129</td>\n",
       "        <td>3</td>\n",
       "        <td>1</td>\n",
       "        <td>1</td>\n",
       "        <td>0.0</td>\n",
       "        <td>0.3</td>\n",
       "    </tr>\n",
       "    <tr>\n",
       "        <td>B</td>\n",
       "        <td>6</td>\n",
       "        <td>396</td>\n",
       "        <td>4</td>\n",
       "        <td>4</td>\n",
       "        <td>2</td>\n",
       "        <td>0.333333333333333</td>\n",
       "        <td>0.5</td>\n",
       "    </tr>\n",
       "    <tr>\n",
       "        <td>B</td>\n",
       "        <td>5</td>\n",
       "        <td>86</td>\n",
       "        <td>5</td>\n",
       "        <td>4</td>\n",
       "        <td>2</td>\n",
       "        <td>0.333333333333333</td>\n",
       "        <td>0.5</td>\n",
       "    </tr>\n",
       "    <tr>\n",
       "        <td>C</td>\n",
       "        <td>1</td>\n",
       "        <td>107</td>\n",
       "        <td>6</td>\n",
       "        <td>6</td>\n",
       "        <td>3</td>\n",
       "        <td>0.555555555555556</td>\n",
       "        <td>0.7</td>\n",
       "    </tr>\n",
       "    <tr>\n",
       "        <td>C</td>\n",
       "        <td>9</td>\n",
       "        <td>347</td>\n",
       "        <td>7</td>\n",
       "        <td>6</td>\n",
       "        <td>3</td>\n",
       "        <td>0.555555555555556</td>\n",
       "        <td>0.7</td>\n",
       "    </tr>\n",
       "    <tr>\n",
       "        <td>D</td>\n",
       "        <td>5</td>\n",
       "        <td>221</td>\n",
       "        <td>8</td>\n",
       "        <td>8</td>\n",
       "        <td>4</td>\n",
       "        <td>0.777777777777778</td>\n",
       "        <td>1.0</td>\n",
       "    </tr>\n",
       "    <tr>\n",
       "        <td>D</td>\n",
       "        <td>5</td>\n",
       "        <td>89</td>\n",
       "        <td>9</td>\n",
       "        <td>8</td>\n",
       "        <td>4</td>\n",
       "        <td>0.777777777777778</td>\n",
       "        <td>1.0</td>\n",
       "    </tr>\n",
       "    <tr>\n",
       "        <td>D</td>\n",
       "        <td>7</td>\n",
       "        <td>98</td>\n",
       "        <td>10</td>\n",
       "        <td>8</td>\n",
       "        <td>4</td>\n",
       "        <td>0.777777777777778</td>\n",
       "        <td>1.0</td>\n",
       "    </tr>\n",
       "</table>"
      ],
      "text/plain": [
       "[('A', 0, 115, 1, 1, 1, 0.0, 0.3),\n",
       " ('A', 2, 237, 2, 1, 1, 0.0, 0.3),\n",
       " ('A', 3, 129, 3, 1, 1, 0.0, 0.3),\n",
       " ('B', 6, 396, 4, 4, 2, 0.333333333333333, 0.5),\n",
       " ('B', 5, 86, 5, 4, 2, 0.333333333333333, 0.5),\n",
       " ('C', 1, 107, 6, 6, 3, 0.555555555555556, 0.7),\n",
       " ('C', 9, 347, 7, 6, 3, 0.555555555555556, 0.7),\n",
       " ('D', 5, 221, 8, 8, 4, 0.777777777777778, 1.0),\n",
       " ('D', 5, 89, 9, 8, 4, 0.777777777777778, 1.0),\n",
       " ('D', 7, 98, 10, 8, 4, 0.777777777777778, 1.0)]"
      ]
     },
     "execution_count": 29,
     "metadata": {},
     "output_type": "execute_result"
    }
   ],
   "source": [
    "%%sql\n",
    "\n",
    "SELECT person, time, bsl, \n",
    "       row_number() OVER win    AS row_number,\n",
    "       rank() OVER win          AS rank,\n",
    "       dense_rank() OVER win    AS dense_rank,\n",
    "       percent_rank() OVER win  AS percent_rank,\n",
    "       cume_dist() OVER win     AS cume_dist\n",
    "FROM df\n",
    "WINDOW win AS (ORDER BY person);"
   ]
  },
  {
   "cell_type": "markdown",
   "metadata": {},
   "source": [
    "### Using aggregate functions"
   ]
  },
  {
   "cell_type": "code",
   "execution_count": 30,
   "metadata": {},
   "outputs": [
    {
     "name": "stdout",
     "output_type": "stream",
     "text": [
      "10 rows affected.\n"
     ]
    },
    {
     "data": {
      "text/html": [
       "<table>\n",
       "    <tr>\n",
       "        <th>person</th>\n",
       "        <th>time</th>\n",
       "        <th>bsl</th>\n",
       "        <th>bsl_sum</th>\n",
       "        <th>bsl_avg</th>\n",
       "        <th>bsl_min</th>\n",
       "        <th>bsl_max</th>\n",
       "        <th>bsl_start</th>\n",
       "        <th>bsl_end</th>\n",
       "    </tr>\n",
       "    <tr>\n",
       "        <td>A</td>\n",
       "        <td>0</td>\n",
       "        <td>115</td>\n",
       "        <td>115</td>\n",
       "        <td>115.0000000000000000</td>\n",
       "        <td>115</td>\n",
       "        <td>115</td>\n",
       "        <td>115</td>\n",
       "        <td>115</td>\n",
       "    </tr>\n",
       "    <tr>\n",
       "        <td>A</td>\n",
       "        <td>2</td>\n",
       "        <td>237</td>\n",
       "        <td>352</td>\n",
       "        <td>176.0000000000000000</td>\n",
       "        <td>115</td>\n",
       "        <td>237</td>\n",
       "        <td>115</td>\n",
       "        <td>237</td>\n",
       "    </tr>\n",
       "    <tr>\n",
       "        <td>A</td>\n",
       "        <td>3</td>\n",
       "        <td>129</td>\n",
       "        <td>481</td>\n",
       "        <td>160.3333333333333333</td>\n",
       "        <td>115</td>\n",
       "        <td>237</td>\n",
       "        <td>115</td>\n",
       "        <td>129</td>\n",
       "    </tr>\n",
       "    <tr>\n",
       "        <td>B</td>\n",
       "        <td>5</td>\n",
       "        <td>86</td>\n",
       "        <td>86</td>\n",
       "        <td>86.0000000000000000</td>\n",
       "        <td>86</td>\n",
       "        <td>86</td>\n",
       "        <td>86</td>\n",
       "        <td>86</td>\n",
       "    </tr>\n",
       "    <tr>\n",
       "        <td>B</td>\n",
       "        <td>6</td>\n",
       "        <td>396</td>\n",
       "        <td>482</td>\n",
       "        <td>241.0000000000000000</td>\n",
       "        <td>86</td>\n",
       "        <td>396</td>\n",
       "        <td>86</td>\n",
       "        <td>396</td>\n",
       "    </tr>\n",
       "    <tr>\n",
       "        <td>C</td>\n",
       "        <td>1</td>\n",
       "        <td>107</td>\n",
       "        <td>107</td>\n",
       "        <td>107.0000000000000000</td>\n",
       "        <td>107</td>\n",
       "        <td>107</td>\n",
       "        <td>107</td>\n",
       "        <td>107</td>\n",
       "    </tr>\n",
       "    <tr>\n",
       "        <td>C</td>\n",
       "        <td>9</td>\n",
       "        <td>347</td>\n",
       "        <td>454</td>\n",
       "        <td>227.0000000000000000</td>\n",
       "        <td>107</td>\n",
       "        <td>347</td>\n",
       "        <td>107</td>\n",
       "        <td>347</td>\n",
       "    </tr>\n",
       "    <tr>\n",
       "        <td>D</td>\n",
       "        <td>5</td>\n",
       "        <td>221</td>\n",
       "        <td>310</td>\n",
       "        <td>155.0000000000000000</td>\n",
       "        <td>89</td>\n",
       "        <td>221</td>\n",
       "        <td>221</td>\n",
       "        <td>89</td>\n",
       "    </tr>\n",
       "    <tr>\n",
       "        <td>D</td>\n",
       "        <td>5</td>\n",
       "        <td>89</td>\n",
       "        <td>310</td>\n",
       "        <td>155.0000000000000000</td>\n",
       "        <td>89</td>\n",
       "        <td>221</td>\n",
       "        <td>221</td>\n",
       "        <td>89</td>\n",
       "    </tr>\n",
       "    <tr>\n",
       "        <td>D</td>\n",
       "        <td>7</td>\n",
       "        <td>98</td>\n",
       "        <td>408</td>\n",
       "        <td>136.0000000000000000</td>\n",
       "        <td>89</td>\n",
       "        <td>221</td>\n",
       "        <td>221</td>\n",
       "        <td>98</td>\n",
       "    </tr>\n",
       "</table>"
      ],
      "text/plain": [
       "[('A', 0, 115, Decimal('115'), Decimal('115.0000000000000000'), 115, 115, 115, 115),\n",
       " ('A', 2, 237, Decimal('352'), Decimal('176.0000000000000000'), 115, 237, 115, 237),\n",
       " ('A', 3, 129, Decimal('481'), Decimal('160.3333333333333333'), 115, 237, 115, 129),\n",
       " ('B', 5, 86, Decimal('86'), Decimal('86.0000000000000000'), 86, 86, 86, 86),\n",
       " ('B', 6, 396, Decimal('482'), Decimal('241.0000000000000000'), 86, 396, 86, 396),\n",
       " ('C', 1, 107, Decimal('107'), Decimal('107.0000000000000000'), 107, 107, 107, 107),\n",
       " ('C', 9, 347, Decimal('454'), Decimal('227.0000000000000000'), 107, 347, 107, 347),\n",
       " ('D', 5, 221, Decimal('310'), Decimal('155.0000000000000000'), 89, 221, 221, 89),\n",
       " ('D', 5, 89, Decimal('310'), Decimal('155.0000000000000000'), 89, 221, 221, 89),\n",
       " ('D', 7, 98, Decimal('408'), Decimal('136.0000000000000000'), 89, 221, 221, 98)]"
      ]
     },
     "execution_count": 30,
     "metadata": {},
     "output_type": "execute_result"
    }
   ],
   "source": [
    "%%sql\n",
    "\n",
    "SELECT person, time, bsl,\n",
    "       SUM(bsl) OVER win    AS bsl_sum,\n",
    "       AVG(bsl) OVER win    AS bsl_avg,\n",
    "       MIN(bsl) OVER win    AS bsl_min,\n",
    "       MAX(bsl) over win as bsl_max,\n",
    "       FIRST_VALUE(bsl) OVER win as bsl_start,\n",
    "       LAST_VALUE(bsl) OVER win as bsl_end\n",
    "FROM df\n",
    "WINDOW win AS (PARTITION BY person ORDER BY time);"
   ]
  },
  {
   "cell_type": "markdown",
   "metadata": {},
   "source": [
    "### Using rows and range to constrain windows"
   ]
  },
  {
   "cell_type": "code",
   "execution_count": 31,
   "metadata": {},
   "outputs": [
    {
     "name": "stdout",
     "output_type": "stream",
     "text": [
      "10 rows affected.\n"
     ]
    },
    {
     "data": {
      "text/html": [
       "<table>\n",
       "    <tr>\n",
       "        <th>person</th>\n",
       "        <th>time</th>\n",
       "        <th>bsl</th>\n",
       "        <th>vals</th>\n",
       "        <th>bsl_sum</th>\n",
       "        <th>bsl_avg</th>\n",
       "    </tr>\n",
       "    <tr>\n",
       "        <td>A</td>\n",
       "        <td>0</td>\n",
       "        <td>115</td>\n",
       "        <td>115, 237</td>\n",
       "        <td>352</td>\n",
       "        <td>176.0000000000000000</td>\n",
       "    </tr>\n",
       "    <tr>\n",
       "        <td>A</td>\n",
       "        <td>2</td>\n",
       "        <td>237</td>\n",
       "        <td>115, 237, 129</td>\n",
       "        <td>481</td>\n",
       "        <td>160.3333333333333333</td>\n",
       "    </tr>\n",
       "    <tr>\n",
       "        <td>A</td>\n",
       "        <td>3</td>\n",
       "        <td>129</td>\n",
       "        <td>237, 129</td>\n",
       "        <td>366</td>\n",
       "        <td>183.0000000000000000</td>\n",
       "    </tr>\n",
       "    <tr>\n",
       "        <td>B</td>\n",
       "        <td>5</td>\n",
       "        <td>86</td>\n",
       "        <td>86, 396</td>\n",
       "        <td>482</td>\n",
       "        <td>241.0000000000000000</td>\n",
       "    </tr>\n",
       "    <tr>\n",
       "        <td>B</td>\n",
       "        <td>6</td>\n",
       "        <td>396</td>\n",
       "        <td>86, 396</td>\n",
       "        <td>482</td>\n",
       "        <td>241.0000000000000000</td>\n",
       "    </tr>\n",
       "    <tr>\n",
       "        <td>C</td>\n",
       "        <td>1</td>\n",
       "        <td>107</td>\n",
       "        <td>107, 347</td>\n",
       "        <td>454</td>\n",
       "        <td>227.0000000000000000</td>\n",
       "    </tr>\n",
       "    <tr>\n",
       "        <td>C</td>\n",
       "        <td>9</td>\n",
       "        <td>347</td>\n",
       "        <td>107, 347</td>\n",
       "        <td>454</td>\n",
       "        <td>227.0000000000000000</td>\n",
       "    </tr>\n",
       "    <tr>\n",
       "        <td>D</td>\n",
       "        <td>5</td>\n",
       "        <td>221</td>\n",
       "        <td>221, 89</td>\n",
       "        <td>310</td>\n",
       "        <td>155.0000000000000000</td>\n",
       "    </tr>\n",
       "    <tr>\n",
       "        <td>D</td>\n",
       "        <td>5</td>\n",
       "        <td>89</td>\n",
       "        <td>221, 89, 98</td>\n",
       "        <td>408</td>\n",
       "        <td>136.0000000000000000</td>\n",
       "    </tr>\n",
       "    <tr>\n",
       "        <td>D</td>\n",
       "        <td>7</td>\n",
       "        <td>98</td>\n",
       "        <td>89, 98</td>\n",
       "        <td>187</td>\n",
       "        <td>93.5000000000000000</td>\n",
       "    </tr>\n",
       "</table>"
      ],
      "text/plain": [
       "[('A', 0, 115, '115, 237', Decimal('352'), Decimal('176.0000000000000000')),\n",
       " ('A', 2, 237, '115, 237, 129', Decimal('481'), Decimal('160.3333333333333333')),\n",
       " ('A', 3, 129, '237, 129', Decimal('366'), Decimal('183.0000000000000000')),\n",
       " ('B', 5, 86, '86, 396', Decimal('482'), Decimal('241.0000000000000000')),\n",
       " ('B', 6, 396, '86, 396', Decimal('482'), Decimal('241.0000000000000000')),\n",
       " ('C', 1, 107, '107, 347', Decimal('454'), Decimal('227.0000000000000000')),\n",
       " ('C', 9, 347, '107, 347', Decimal('454'), Decimal('227.0000000000000000')),\n",
       " ('D', 5, 221, '221, 89', Decimal('310'), Decimal('155.0000000000000000')),\n",
       " ('D', 5, 89, '221, 89, 98', Decimal('408'), Decimal('136.0000000000000000')),\n",
       " ('D', 7, 98, '89, 98', Decimal('187'), Decimal('93.5000000000000000'))]"
      ]
     },
     "execution_count": 31,
     "metadata": {},
     "output_type": "execute_result"
    }
   ],
   "source": [
    "%%sql\n",
    "\n",
    "SELECT person, time, bsl, \n",
    "       STRING_AGG(CAST(bsl AS TEXT), ', ') OVER win AS vals,\n",
    "       SUM(bsl) OVER win AS bsl_sum,\n",
    "       AVG(bsl) OVER win AS bsl_avg\n",
    "FROM df\n",
    "WINDOW win AS (\n",
    "    PARTITION BY person\n",
    "    ORDER BY time\n",
    "    ROWS BETWEEN 1 PRECEDING AND 1 FOLLOWING\n",
    ")\n",
    "ORDER BY person, time;"
   ]
  },
  {
   "cell_type": "markdown",
   "metadata": {},
   "source": [
    "### Frames using Rows and Range\n",
    "\n",
    "For Range, all rows with the same ORDER BY value are considered peers."
   ]
  },
  {
   "cell_type": "code",
   "execution_count": 32,
   "metadata": {},
   "outputs": [
    {
     "name": "stdout",
     "output_type": "stream",
     "text": [
      "10 rows affected.\n"
     ]
    },
    {
     "data": {
      "text/html": [
       "<table>\n",
       "    <tr>\n",
       "        <th>person</th>\n",
       "        <th>time</th>\n",
       "        <th>bsl</th>\n",
       "        <th>vals</th>\n",
       "        <th>bsl_sum</th>\n",
       "        <th>bsl_avg</th>\n",
       "    </tr>\n",
       "    <tr>\n",
       "        <td>A</td>\n",
       "        <td>0</td>\n",
       "        <td>115</td>\n",
       "        <td>115</td>\n",
       "        <td>115</td>\n",
       "        <td>115.0000000000000000</td>\n",
       "    </tr>\n",
       "    <tr>\n",
       "        <td>A</td>\n",
       "        <td>2</td>\n",
       "        <td>237</td>\n",
       "        <td>115, 237</td>\n",
       "        <td>352</td>\n",
       "        <td>176.0000000000000000</td>\n",
       "    </tr>\n",
       "    <tr>\n",
       "        <td>A</td>\n",
       "        <td>3</td>\n",
       "        <td>129</td>\n",
       "        <td>115, 237, 129</td>\n",
       "        <td>481</td>\n",
       "        <td>160.3333333333333333</td>\n",
       "    </tr>\n",
       "    <tr>\n",
       "        <td>B</td>\n",
       "        <td>5</td>\n",
       "        <td>86</td>\n",
       "        <td>115, 237, 129, 396, 86</td>\n",
       "        <td>963</td>\n",
       "        <td>192.6000000000000000</td>\n",
       "    </tr>\n",
       "    <tr>\n",
       "        <td>B</td>\n",
       "        <td>6</td>\n",
       "        <td>396</td>\n",
       "        <td>115, 237, 129, 396</td>\n",
       "        <td>877</td>\n",
       "        <td>219.2500000000000000</td>\n",
       "    </tr>\n",
       "    <tr>\n",
       "        <td>C</td>\n",
       "        <td>1</td>\n",
       "        <td>107</td>\n",
       "        <td>115, 237, 129, 396, 86, 107</td>\n",
       "        <td>1070</td>\n",
       "        <td>178.3333333333333333</td>\n",
       "    </tr>\n",
       "    <tr>\n",
       "        <td>C</td>\n",
       "        <td>9</td>\n",
       "        <td>347</td>\n",
       "        <td>115, 237, 129, 396, 86, 107, 347</td>\n",
       "        <td>1417</td>\n",
       "        <td>202.4285714285714286</td>\n",
       "    </tr>\n",
       "    <tr>\n",
       "        <td>D</td>\n",
       "        <td>5</td>\n",
       "        <td>221</td>\n",
       "        <td>115, 237, 129, 396, 86, 107, 347, 221</td>\n",
       "        <td>1638</td>\n",
       "        <td>204.7500000000000000</td>\n",
       "    </tr>\n",
       "    <tr>\n",
       "        <td>D</td>\n",
       "        <td>5</td>\n",
       "        <td>89</td>\n",
       "        <td>115, 237, 129, 396, 86, 107, 347, 221, 89</td>\n",
       "        <td>1727</td>\n",
       "        <td>191.8888888888888889</td>\n",
       "    </tr>\n",
       "    <tr>\n",
       "        <td>D</td>\n",
       "        <td>7</td>\n",
       "        <td>98</td>\n",
       "        <td>115, 237, 129, 396, 86, 107, 347, 221, 89, 98</td>\n",
       "        <td>1825</td>\n",
       "        <td>182.5000000000000000</td>\n",
       "    </tr>\n",
       "</table>"
      ],
      "text/plain": [
       "[('A', 0, 115, '115', Decimal('115'), Decimal('115.0000000000000000')),\n",
       " ('A', 2, 237, '115, 237', Decimal('352'), Decimal('176.0000000000000000')),\n",
       " ('A', 3, 129, '115, 237, 129', Decimal('481'), Decimal('160.3333333333333333')),\n",
       " ('B', 5, 86, '115, 237, 129, 396, 86', Decimal('963'), Decimal('192.6000000000000000')),\n",
       " ('B', 6, 396, '115, 237, 129, 396', Decimal('877'), Decimal('219.2500000000000000')),\n",
       " ('C', 1, 107, '115, 237, 129, 396, 86, 107', Decimal('1070'), Decimal('178.3333333333333333')),\n",
       " ('C', 9, 347, '115, 237, 129, 396, 86, 107, 347', Decimal('1417'), Decimal('202.4285714285714286')),\n",
       " ('D', 5, 221, '115, 237, 129, 396, 86, 107, 347, 221', Decimal('1638'), Decimal('204.7500000000000000')),\n",
       " ('D', 5, 89, '115, 237, 129, 396, 86, 107, 347, 221, 89', Decimal('1727'), Decimal('191.8888888888888889')),\n",
       " ('D', 7, 98, '115, 237, 129, 396, 86, 107, 347, 221, 89, 98', Decimal('1825'), Decimal('182.5000000000000000'))]"
      ]
     },
     "execution_count": 32,
     "metadata": {},
     "output_type": "execute_result"
    }
   ],
   "source": [
    "%%sql\n",
    "\n",
    "SELECT person, time, bsl, \n",
    "       STRING_AGG(CAST(bsl AS TEXT), ', ') OVER win AS vals,\n",
    "       SUM(bsl) OVER win AS bsl_sum,\n",
    "       AVG(bsl) OVER win AS bsl_avg\n",
    "FROM df\n",
    "WINDOW win AS (\n",
    "    ORDER BY person\n",
    "    ROWS BETWEEN UNBOUNDED PRECEDING AND CURRENT ROW\n",
    ")\n",
    "ORDER BY person, time;"
   ]
  },
  {
   "cell_type": "code",
   "execution_count": 33,
   "metadata": {},
   "outputs": [
    {
     "name": "stdout",
     "output_type": "stream",
     "text": [
      "10 rows affected.\n"
     ]
    },
    {
     "data": {
      "text/html": [
       "<table>\n",
       "    <tr>\n",
       "        <th>person</th>\n",
       "        <th>time</th>\n",
       "        <th>bsl</th>\n",
       "        <th>vals</th>\n",
       "        <th>bsl_sum</th>\n",
       "        <th>bsl_avg</th>\n",
       "    </tr>\n",
       "    <tr>\n",
       "        <td>A</td>\n",
       "        <td>0</td>\n",
       "        <td>115</td>\n",
       "        <td>115, 237, 129</td>\n",
       "        <td>481</td>\n",
       "        <td>160.3333333333333333</td>\n",
       "    </tr>\n",
       "    <tr>\n",
       "        <td>A</td>\n",
       "        <td>2</td>\n",
       "        <td>237</td>\n",
       "        <td>115, 237, 129</td>\n",
       "        <td>481</td>\n",
       "        <td>160.3333333333333333</td>\n",
       "    </tr>\n",
       "    <tr>\n",
       "        <td>A</td>\n",
       "        <td>3</td>\n",
       "        <td>129</td>\n",
       "        <td>115, 237, 129</td>\n",
       "        <td>481</td>\n",
       "        <td>160.3333333333333333</td>\n",
       "    </tr>\n",
       "    <tr>\n",
       "        <td>B</td>\n",
       "        <td>5</td>\n",
       "        <td>86</td>\n",
       "        <td>115, 237, 129, 396, 86</td>\n",
       "        <td>963</td>\n",
       "        <td>192.6000000000000000</td>\n",
       "    </tr>\n",
       "    <tr>\n",
       "        <td>B</td>\n",
       "        <td>6</td>\n",
       "        <td>396</td>\n",
       "        <td>115, 237, 129, 396, 86</td>\n",
       "        <td>963</td>\n",
       "        <td>192.6000000000000000</td>\n",
       "    </tr>\n",
       "    <tr>\n",
       "        <td>C</td>\n",
       "        <td>1</td>\n",
       "        <td>107</td>\n",
       "        <td>115, 237, 129, 396, 86, 107, 347</td>\n",
       "        <td>1417</td>\n",
       "        <td>202.4285714285714286</td>\n",
       "    </tr>\n",
       "    <tr>\n",
       "        <td>C</td>\n",
       "        <td>9</td>\n",
       "        <td>347</td>\n",
       "        <td>115, 237, 129, 396, 86, 107, 347</td>\n",
       "        <td>1417</td>\n",
       "        <td>202.4285714285714286</td>\n",
       "    </tr>\n",
       "    <tr>\n",
       "        <td>D</td>\n",
       "        <td>5</td>\n",
       "        <td>221</td>\n",
       "        <td>115, 237, 129, 396, 86, 107, 347, 221, 89, 98</td>\n",
       "        <td>1825</td>\n",
       "        <td>182.5000000000000000</td>\n",
       "    </tr>\n",
       "    <tr>\n",
       "        <td>D</td>\n",
       "        <td>5</td>\n",
       "        <td>89</td>\n",
       "        <td>115, 237, 129, 396, 86, 107, 347, 221, 89, 98</td>\n",
       "        <td>1825</td>\n",
       "        <td>182.5000000000000000</td>\n",
       "    </tr>\n",
       "    <tr>\n",
       "        <td>D</td>\n",
       "        <td>7</td>\n",
       "        <td>98</td>\n",
       "        <td>115, 237, 129, 396, 86, 107, 347, 221, 89, 98</td>\n",
       "        <td>1825</td>\n",
       "        <td>182.5000000000000000</td>\n",
       "    </tr>\n",
       "</table>"
      ],
      "text/plain": [
       "[('A', 0, 115, '115, 237, 129', Decimal('481'), Decimal('160.3333333333333333')),\n",
       " ('A', 2, 237, '115, 237, 129', Decimal('481'), Decimal('160.3333333333333333')),\n",
       " ('A', 3, 129, '115, 237, 129', Decimal('481'), Decimal('160.3333333333333333')),\n",
       " ('B', 5, 86, '115, 237, 129, 396, 86', Decimal('963'), Decimal('192.6000000000000000')),\n",
       " ('B', 6, 396, '115, 237, 129, 396, 86', Decimal('963'), Decimal('192.6000000000000000')),\n",
       " ('C', 1, 107, '115, 237, 129, 396, 86, 107, 347', Decimal('1417'), Decimal('202.4285714285714286')),\n",
       " ('C', 9, 347, '115, 237, 129, 396, 86, 107, 347', Decimal('1417'), Decimal('202.4285714285714286')),\n",
       " ('D', 5, 221, '115, 237, 129, 396, 86, 107, 347, 221, 89, 98', Decimal('1825'), Decimal('182.5000000000000000')),\n",
       " ('D', 5, 89, '115, 237, 129, 396, 86, 107, 347, 221, 89, 98', Decimal('1825'), Decimal('182.5000000000000000')),\n",
       " ('D', 7, 98, '115, 237, 129, 396, 86, 107, 347, 221, 89, 98', Decimal('1825'), Decimal('182.5000000000000000'))]"
      ]
     },
     "execution_count": 33,
     "metadata": {},
     "output_type": "execute_result"
    }
   ],
   "source": [
    "%%sql\n",
    "\n",
    "SELECT person, time, bsl, \n",
    "       STRING_AGG(CAST(bsl AS TEXT), ', ') OVER win AS vals,\n",
    "       SUM(bsl) OVER win AS bsl_sum,\n",
    "       AVG(bsl) OVER win AS bsl_avg\n",
    "FROM df\n",
    "WINDOW win AS (\n",
    "    ORDER BY person\n",
    "    RANGE BETWEEN UNBOUNDED PRECEDING AND CURRENT ROW\n",
    ")\n",
    "ORDER BY person, time;"
   ]
  },
  {
   "cell_type": "code",
   "execution_count": null,
   "metadata": {},
   "outputs": [],
   "source": []
  }
 ],
 "metadata": {
  "kernelspec": {
   "display_name": "Python 3",
   "language": "python",
   "name": "python3"
  },
  "language_info": {
   "codemirror_mode": {
    "name": "ipython",
    "version": 3
   },
   "file_extension": ".py",
   "mimetype": "text/x-python",
   "name": "python",
   "nbconvert_exporter": "python",
   "pygments_lexer": "ipython3",
   "version": "3.6.5"
  }
 },
 "nbformat": 4,
 "nbformat_minor": 2
}
