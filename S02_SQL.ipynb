{
 "cells": [
  {
   "cell_type": "markdown",
   "metadata": {},
   "source": [
    "# S02 SQL"
   ]
  },
  {
   "cell_type": "markdown",
   "metadata": {},
   "source": [
    "For more SQL examples in the SQLite3 dialect, seee [SQLite3 tutorial](https://www.techonthenet.com/sqlite/index.php). \n",
    "\n",
    "For a deep dive, see [SQL Queries for Mere Mortals](https://www.amazon.com/SQL-Queries-Mere-Mortals-Hands/dp/0134858336/ref=dp_ob_title_bk)."
   ]
  },
  {
   "cell_type": "markdown",
   "metadata": {},
   "source": [
    "## 1. Select"
   ]
  },
  {
   "cell_type": "markdown",
   "metadata": {},
   "source": [
    "### Basic Structure"
   ]
  },
  {
   "cell_type": "markdown",
   "metadata": {},
   "source": [
    "```SQL\n",
    "SELECT DISTINCT value_expression AS alias\n",
    "FROM tables AS alias\n",
    "WHERE predicate\n",
    "ORDER BY value_expression\n",
    "```"
   ]
  },
  {
   "cell_type": "markdown",
   "metadata": {},
   "source": [
    "### Types"
   ]
  },
  {
   "cell_type": "markdown",
   "metadata": {},
   "source": [
    "- Character (Fixed width, variable width)\n",
    "- National Character (Fixed width, variable width)\n",
    "- Binary\n",
    "- Numeric (Exact, Arpproximate)\n",
    "- Boolean\n",
    "- DateTime\n",
    "- Interval\n",
    "\n",
    "The SQL standard specifies that character strings and datetime literals are enclosed by single quotes. Two single quotes wihtin a string is intepreted as a literal single quote.\n",
    "\n",
    "```sql\n",
    "'Gilligan''s island'\n",
    "```"
   ]
  },
  {
   "cell_type": "markdown",
   "metadata": {},
   "source": [
    "#### The CAST function"
   ]
  },
  {
   "cell_type": "markdown",
   "metadata": {},
   "source": [
    "```sql\n",
    "CAST(X as CHARACTER(10))\n",
    "```"
   ]
  },
  {
   "cell_type": "markdown",
   "metadata": {},
   "source": [
    "### Value expreesion\n",
    "\n",
    "- Literal\n",
    "- Column reference\n",
    "- Function\n",
    "- CASES\n",
    "- (Value expression)\n",
    "- (SELECT expression)\n",
    "\n",
    "which may be prefixed with unary operaors `-` and `+` and combined with binary operators appropriate for the data type."
   ]
  },
  {
   "cell_type": "markdown",
   "metadata": {},
   "source": [
    "### Bineary operators"
   ]
  },
  {
   "cell_type": "markdown",
   "metadata": {},
   "source": [
    "#### Concatenation"
   ]
  },
  {
   "cell_type": "markdown",
   "metadata": {},
   "source": [
    "```SQL\n",
    "A || B\n",
    "```"
   ]
  },
  {
   "cell_type": "markdown",
   "metadata": {},
   "source": [
    "#### Mathematical"
   ]
  },
  {
   "cell_type": "markdown",
   "metadata": {},
   "source": [
    "```SQL\n",
    "A + B\n",
    "A - B\n",
    "A * B\n",
    "A / B\n",
    "```"
   ]
  },
  {
   "cell_type": "markdown",
   "metadata": {},
   "source": [
    "#### Data and time arithmetic"
   ]
  },
  {
   "cell_type": "markdown",
   "metadata": {},
   "source": [
    "```SQL\n",
    "'2018-08-29' + 3\n",
    "'11:59' + '00:01'\n",
    "```"
   ]
  },
  {
   "cell_type": "markdown",
   "metadata": {},
   "source": [
    "## 2. Sorting"
   ]
  },
  {
   "cell_type": "markdown",
   "metadata": {},
   "source": [
    "```SQL\n",
    "SELECT DISTINCT value_expression AS alias\n",
    "FROM tables AS alias\n",
    "ORDER BY value_expression\n",
    "```"
   ]
  },
  {
   "cell_type": "markdown",
   "metadata": {},
   "source": [
    "## 3. Filtering\n",
    "\n",
    "For efficiency, place the most stringent filters first."
   ]
  },
  {
   "cell_type": "markdown",
   "metadata": {},
   "source": [
    "```SQL\n",
    "SELECT DISTINCT value_expression AS alias\n",
    "FROM tables AS alias\n",
    "WHERE predicate\n",
    "ORDER BY value_expression\n",
    "```"
   ]
  },
  {
   "cell_type": "markdown",
   "metadata": {},
   "source": [
    "#### Predicates for filtering rows"
   ]
  },
  {
   "cell_type": "markdown",
   "metadata": {},
   "source": [
    "- Comparison operators (=, <>, <, >, <=, >=)\n",
    "- BETWEEN start AND end\n",
    "- IN(A, B, C)\n",
    "- LIKE\n",
    "- IS NULL\n",
    "- REGEX\n",
    "\n",
    "Use NOT prefix for negation"
   ]
  },
  {
   "cell_type": "markdown",
   "metadata": {},
   "source": [
    "#### Combining predicates\n",
    "\n",
    "```sql\n",
    "AND\n",
    "OR\n",
    "```\n",
    "\n",
    "USe parenthesis to indicate order of evaluation for compound statements."
   ]
  },
  {
   "cell_type": "markdown",
   "metadata": {},
   "source": [
    "## 4. Set operations "
   ]
  },
  {
   "cell_type": "markdown",
   "metadata": {},
   "source": [
    "```SQL\n",
    "SELECT a, b \n",
    "FROM table1\n",
    "SetOp\n",
    "SELECT a, b \n",
    "FROM table2\n",
    "```\n",
    "\n",
    "wehre SetOp is `INTERSECT`, `EXCEPT`, `UNION` or `UNION ALL`."
   ]
  },
  {
   "cell_type": "markdown",
   "metadata": {},
   "source": [
    "### Intersection\n",
    "\n",
    "```sql\n",
    "INTERSECT\n",
    "```\n",
    "\n",
    "Alternative using `INNER JOIN`"
   ]
  },
  {
   "cell_type": "markdown",
   "metadata": {},
   "source": [
    "### Union"
   ]
  },
  {
   "cell_type": "markdown",
   "metadata": {},
   "source": [
    "```SQL\n",
    "UNION\n",
    "UNION ALL\n",
    "```"
   ]
  },
  {
   "cell_type": "markdown",
   "metadata": {},
   "source": [
    "### Difference"
   ]
  },
  {
   "cell_type": "markdown",
   "metadata": {},
   "source": [
    "```SQL\n",
    "EXCEPT\n",
    "```\n",
    "\n",
    "Alternative using `OUTER JOIN` with test for `NULL`"
   ]
  },
  {
   "cell_type": "markdown",
   "metadata": {},
   "source": [
    "## 5. Joins\n",
    "\n",
    "Joins combine data from 1 or more tables to form a new result set."
   ]
  },
  {
   "cell_type": "markdown",
   "metadata": {},
   "source": [
    "### Natural join\n",
    "\n",
    "Uses all common columns in Tables 1 and 2 for JOIN\n",
    "\n",
    "```SQL\n",
    "FROM Table1 \n",
    "NATURAL INNER JOIN Table 2\n",
    "```"
   ]
  },
  {
   "cell_type": "markdown",
   "metadata": {},
   "source": [
    "### Inner join"
   ]
  },
  {
   "cell_type": "markdown",
   "metadata": {},
   "source": [
    "General form of INNER JOIN uisng ON\n",
    "\n",
    "```SQL\n",
    "FROM Table1 \n",
    "INNER JOIN Table2\n",
    "ON Table1.Column = Table2.Column\n",
    "```"
   ]
  },
  {
   "cell_type": "markdown",
   "metadata": {},
   "source": [
    "If there is a common column in both tables\n",
    "\n",
    "```SQL\n",
    "FROM Table1\n",
    "INNER JOIN Table2\n",
    "USING Column\n",
    "```"
   ]
  },
  {
   "cell_type": "markdown",
   "metadata": {},
   "source": [
    "Joining more than two tables\n",
    "\n",
    "```SQL\n",
    "From (Table1 \n",
    "      INNER JOIN Table2\n",
    "      ON Table1.column1 = Table2.Column1)\n",
    "      INNER JOIN Table3 \n",
    "      ON Table3.column2 = Table2.Column2\n",
    "```"
   ]
  },
  {
   "cell_type": "markdown",
   "metadata": {},
   "source": [
    "### Outer join"
   ]
  },
  {
   "cell_type": "markdown",
   "metadata": {},
   "source": [
    "General form of OUTER JOIN uisng ON\n",
    "\n",
    "```SQL\n",
    "FROM Table1 \n",
    "RIGHT OUTER JOIN Table2\n",
    "ON Table1.Column = Table2.Column\n",
    "```\n",
    "\n",
    "```SQL\n",
    "FROM Table1 \n",
    "LEFT OUTER JOIN Table2\n",
    "ON Table1.Column = Table2.Column\n",
    "```\n",
    "\n",
    "```SQL\n",
    "FROM Table1 \n",
    "FULL OUTER JOIN Table2\n",
    "ON Table1.Column = Table2.Column\n",
    "```"
   ]
  },
  {
   "cell_type": "markdown",
   "metadata": {},
   "source": [
    "## 6. Aggregate functions"
   ]
  },
  {
   "cell_type": "markdown",
   "metadata": {},
   "source": [
    "```SQL\n",
    "COUNT\n",
    "MIN\n",
    "MAX\n",
    "AVG\n",
    "SUM\n",
    "```"
   ]
  },
  {
   "cell_type": "markdown",
   "metadata": {},
   "source": [
    "## 7. Subqueries"
   ]
  },
  {
   "cell_type": "markdown",
   "metadata": {},
   "source": [
    "### As column expresions"
   ]
  },
  {
   "cell_type": "markdown",
   "metadata": {},
   "source": [
    "```SQL\n",
    "SELECT a, b, \n",
    "(\n",
    "    SELECT MAX(c) \n",
    "    FROM table2\n",
    "    INNER JOIN table1\n",
    "    USING column1\n",
    ") as max_c\n",
    "FROM table1\n",
    "```"
   ]
  },
  {
   "cell_type": "markdown",
   "metadata": {},
   "source": [
    "### As filters"
   ]
  },
  {
   "cell_type": "markdown",
   "metadata": {},
   "source": [
    "```SQL\n",
    "SELECT a, b, \n",
    "FROM table1\n",
    "WHERE b > \n",
    "(\n",
    "    SELECT AVG(b)\n",
    "    FROM table1\n",
    ")\n",
    "```"
   ]
  },
  {
   "cell_type": "markdown",
   "metadata": {},
   "source": [
    "### Quantified Subqueires\n",
    "\n",
    "```SQL\n",
    "ALl\n",
    "SOME\n",
    "ANY\n",
    "EXISTS\n",
    "```"
   ]
  },
  {
   "cell_type": "markdown",
   "metadata": {},
   "source": [
    "```SQL\n",
    "SELECT a, b, \n",
    "FROM table1\n",
    "WHERE EXISTS\n",
    "(\n",
    "    SELECT c\n",
    "    FROM table2\n",
    ")\n",
    "```"
   ]
  },
  {
   "cell_type": "markdown",
   "metadata": {},
   "source": [
    "## 8. Grouping"
   ]
  },
  {
   "cell_type": "markdown",
   "metadata": {},
   "source": [
    "```SQL\n",
    "SELECT a, MIN(b) AS min_b, MAX(b) AS max_b, AVG(b) AS mean_b\n",
    "FROM table\n",
    "GROUP BY a\n",
    "HAVING mean_b > 5\n",
    "```"
   ]
  },
  {
   "cell_type": "markdown",
   "metadata": {},
   "source": [
    "The `HAVING` is analagous to the `WHERE` clause, but filters on aggregate conditions. Note that the `WHERE` statement filters rows BEFORE the grouping is done."
   ]
  },
  {
   "cell_type": "markdown",
   "metadata": {},
   "source": [
    "Note: Any variable in the SELECT part that is not an aggregte function needs to be in the GROUP BY part.\n",
    "\n",
    "```SQL\n",
    "SELECT a, b, c, COUNT(d)\n",
    "FROM table\n",
    "GROUP BY a, b, c\n",
    "```"
   ]
  },
  {
   "cell_type": "markdown",
   "metadata": {},
   "source": [
    "## 9. The CASE switch"
   ]
  },
  {
   "cell_type": "markdown",
   "metadata": {},
   "source": [
    "### Simple CASE"
   ]
  },
  {
   "cell_type": "markdown",
   "metadata": {},
   "source": [
    "```SQL\n",
    "SELECT name,\n",
    "(CASE sex \n",
    " WHEN 'M' THEN 1.5*dose\n",
    " WHEN 'F' THEN dose\n",
    " END) as adjusted_dose\n",
    "FROM table\n",
    "```"
   ]
  },
  {
   "cell_type": "markdown",
   "metadata": {},
   "source": [
    "### Searched CASE"
   ]
  },
  {
   "cell_type": "markdown",
   "metadata": {},
   "source": [
    "```SQL\n",
    "SELECT name,\n",
    "(CASE  \n",
    " WHEN sex = 'M' THEN 1.5*dose\n",
    " WHEN sex = 'F' THEN dose\n",
    " END) as adjusted_dose\n",
    "FROM table\n",
    "```"
   ]
  },
  {
   "cell_type": "code",
   "execution_count": null,
   "metadata": {},
   "outputs": [],
   "source": []
  }
 ],
 "metadata": {
  "kernelspec": {
   "display_name": "Python 3",
   "language": "python",
   "name": "python3"
  },
  "language_info": {
   "codemirror_mode": {
    "name": "ipython",
    "version": 3
   },
   "file_extension": ".py",
   "mimetype": "text/x-python",
   "name": "python",
   "nbconvert_exporter": "python",
   "pygments_lexer": "ipython3",
   "version": "3.6.5"
  }
 },
 "nbformat": 4,
 "nbformat_minor": 2
}
